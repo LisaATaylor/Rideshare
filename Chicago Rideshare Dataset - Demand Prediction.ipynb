{
 "cells": [
  {
   "cell_type": "markdown",
   "metadata": {},
   "source": [
    "# Development of a Random Forest Model to Predict Rideshare Demand\n",
    "\n",
    "\n",
    "\n",
    "**Background**\n",
    "\n",
    "Since November 2018, rideshare providers (Lyft, Uber, etc) operating in Chicago are required by ordinance to submit periodic data reports with basic rideshare information to the City.  The main [Trips dataset](https://data.cityofchicago.org/Transportation/Transportation-Network-Providers-Trips/m6dm-c72p) includes information about individual rides, including starting and ending times and locations, fares and tips, and whether the rides were pooled.  The Trips data are anonymized, so trip starting and ending locations are generalized to the nearest census tract, and drivers cannot be linked to particular rides they provided.  The currently available dataset goes through June 2019, however the portion used for this exercise goes from November 2018 through March 2019.\n",
    "\n",
    "To prepare for the analyses and visualizations in this notebook, the Trips data was cleaned, aggregated, and enriched with climate and census data.  A preliminary exploration of this dataset is available [here](https://github.com/LisaATaylor/Rideshare/blob/master/Chicago%20Rideshare%20Data%20Story.ipynb).\n",
    "\n",
    "The primary question explored by this notebook is how well can we predict rideshare demand for a given location as a function of day of week and time of day?  We are also interested in knowing whether the additional information that has been added to enrich the base dataset (ie climate, census, and distance data) may improve the predictive power of the models.\n",
    "\n",
    "1.  [Setup and data loading](#setup)\n",
    "2.  [Prediction of rideshare demand by OLS](#ols)\n",
    "3.  [Prediction of rideshare demand by non-parametric model](#np)\n",
    "4.  [Modification of dataset - adding zero demand periods/locations](#zero)\n",
    "5.  [Parameter tuning](#param)\n",
    "6.  [Final results](#final)\n"
   ]
  },
  {
   "cell_type": "markdown",
   "metadata": {},
   "source": [
    "<a id='setup'></a>"
   ]
  },
  {
   "cell_type": "markdown",
   "metadata": {},
   "source": [
    "---\n",
    "\n",
    "## 1. Setup and Data Loading"
   ]
  },
  {
   "cell_type": "code",
   "execution_count": 1,
   "metadata": {},
   "outputs": [],
   "source": [
    "import csv\n",
    "import os\n",
    "import matplotlib.pyplot as plt\n",
    "from datetime import datetime,date,timedelta\n",
    "import numpy as np\n",
    "import pandas as pd\n",
    "import geopandas as gpd\n",
    "import seaborn as sns\n",
    "import contextily as ctx #for basemaps\n",
    "import scipy.stats as stats"
   ]
  },
  {
   "cell_type": "code",
   "execution_count": 2,
   "metadata": {},
   "outputs": [],
   "source": [
    "plt.rcParams['figure.figsize'] = [15, 5]\n",
    "sns.set()\n",
    "import warnings; warnings.simplefilter('ignore')"
   ]
  },
  {
   "cell_type": "code",
   "execution_count": 22,
   "metadata": {},
   "outputs": [],
   "source": [
    "#load pickled/munged data \n",
    "datadir=r'/Users/rtaylor/Desktop/Springboard/DataSets/Rideshare'\n",
    "\n",
    "#data from 5% sample from Trips dataset, aggregated by pickup census tract and hour\n",
    "agg_hourly_all=pd.read_pickle(os.path.join(datadir,'agg_hourly_all_gdf'))\n"
   ]
  },
  {
   "cell_type": "code",
   "execution_count": 4,
   "metadata": {},
   "outputs": [
    {
     "data": {
      "text/plain": [
       "Fare                                                                 5\n",
       "Tip                                                                  0\n",
       "AdditionalCharges                                                  2.5\n",
       "TripTotal                                                          7.5\n",
       "TripMiles                                                          1.9\n",
       "TripSeconds                                                      683.5\n",
       "Year                                                              2018\n",
       "Month                                                               11\n",
       "DOW                                                                  3\n",
       "Hour                                                                16\n",
       "NumRides                                                             2\n",
       "HTemp                                                               48\n",
       "HWind                                                               21\n",
       "HPrecip                                                              0\n",
       "Precip                                                             Dry\n",
       "statefp10                                                           17\n",
       "name10                                                             101\n",
       "commarea_n                                                           1\n",
       "namelsad10                                            Census Tract 101\n",
       "commarea                                                             1\n",
       "notes                                                                 \n",
       "tractce10                                                       010100\n",
       "countyfp10                                                         031\n",
       "geometry             (POLYGON ((-9758676.21866704 5163885.613272211...\n",
       "area_sq_km                                                    0.380787\n",
       "MedIncome                                                        33750\n",
       "Population                                                        4444\n",
       "NAME                           Census Tract 101, Cook County, Illinois\n",
       "PopDensity                                                     11670.6\n",
       "DistToDowntown                                                 15.5667\n",
       "Name: (17031010100, 2018-11-01 16:00:00), dtype: object"
      ]
     },
     "execution_count": 4,
     "metadata": {},
     "output_type": "execute_result"
    }
   ],
   "source": [
    "agg_hourly_all.iloc[0]"
   ]
  },
  {
   "cell_type": "markdown",
   "metadata": {},
   "source": [
    "#### About the data:\n",
    "The hourly aggregated rideshare dataset was generated by grouping the raw rides data by census tract and time rounded to the nearest hour.  The fields derived from the Trips dataset (Fare, Tip, Trip Miles, etc.) are average values for all rides in each time/space grouping.  This data has been enriched with weather data (HTemp = hourly temperature, HPrecip = hourly precipitation accumulation, HWind= hourly average wind speed, Precip = flag whether precipitation occurred), plus limited census-derived and geographic data for each census tract (Med Income, Population Density, Distance to Downtown)."
   ]
  },
  {
   "cell_type": "code",
   "execution_count": 5,
   "metadata": {},
   "outputs": [],
   "source": [
    "agg_hourly_all['MedIncome']=agg_hourly_all.MedIncome.astype('int') #was object"
   ]
  },
  {
   "cell_type": "code",
   "execution_count": 6,
   "metadata": {},
   "outputs": [
    {
     "data": {
      "text/html": [
       "<div>\n",
       "<style scoped>\n",
       "    .dataframe tbody tr th:only-of-type {\n",
       "        vertical-align: middle;\n",
       "    }\n",
       "\n",
       "    .dataframe tbody tr th {\n",
       "        vertical-align: top;\n",
       "    }\n",
       "\n",
       "    .dataframe thead th {\n",
       "        text-align: right;\n",
       "    }\n",
       "</style>\n",
       "<table border=\"1\" class=\"dataframe\">\n",
       "  <thead>\n",
       "    <tr style=\"text-align: right;\">\n",
       "      <th></th>\n",
       "      <th>TripTotal</th>\n",
       "      <th>Fare</th>\n",
       "      <th>TripMiles</th>\n",
       "      <th>TripSeconds</th>\n",
       "      <th>DistToDowntown</th>\n",
       "      <th>PopDensity</th>\n",
       "      <th>MedIncome</th>\n",
       "    </tr>\n",
       "  </thead>\n",
       "  <tbody>\n",
       "    <tr>\n",
       "      <th>TripTotal</th>\n",
       "      <td>1.000000</td>\n",
       "      <td>0.971472</td>\n",
       "      <td>0.820143</td>\n",
       "      <td>0.667418</td>\n",
       "      <td>0.189242</td>\n",
       "      <td>-0.058795</td>\n",
       "      <td>-0.335548</td>\n",
       "    </tr>\n",
       "    <tr>\n",
       "      <th>Fare</th>\n",
       "      <td>0.971472</td>\n",
       "      <td>1.000000</td>\n",
       "      <td>0.833237</td>\n",
       "      <td>0.710880</td>\n",
       "      <td>0.206805</td>\n",
       "      <td>-0.061765</td>\n",
       "      <td>-0.290182</td>\n",
       "    </tr>\n",
       "    <tr>\n",
       "      <th>TripMiles</th>\n",
       "      <td>0.820143</td>\n",
       "      <td>0.833237</td>\n",
       "      <td>1.000000</td>\n",
       "      <td>0.786245</td>\n",
       "      <td>0.283238</td>\n",
       "      <td>-0.104236</td>\n",
       "      <td>-0.303378</td>\n",
       "    </tr>\n",
       "    <tr>\n",
       "      <th>TripSeconds</th>\n",
       "      <td>0.667418</td>\n",
       "      <td>0.710880</td>\n",
       "      <td>0.786245</td>\n",
       "      <td>1.000000</td>\n",
       "      <td>0.234138</td>\n",
       "      <td>-0.081948</td>\n",
       "      <td>-0.183287</td>\n",
       "    </tr>\n",
       "    <tr>\n",
       "      <th>DistToDowntown</th>\n",
       "      <td>0.189242</td>\n",
       "      <td>0.206805</td>\n",
       "      <td>0.283238</td>\n",
       "      <td>0.234138</td>\n",
       "      <td>1.000000</td>\n",
       "      <td>-0.200470</td>\n",
       "      <td>-0.270998</td>\n",
       "    </tr>\n",
       "    <tr>\n",
       "      <th>PopDensity</th>\n",
       "      <td>-0.058795</td>\n",
       "      <td>-0.061765</td>\n",
       "      <td>-0.104236</td>\n",
       "      <td>-0.081948</td>\n",
       "      <td>-0.200470</td>\n",
       "      <td>1.000000</td>\n",
       "      <td>0.147297</td>\n",
       "    </tr>\n",
       "    <tr>\n",
       "      <th>MedIncome</th>\n",
       "      <td>-0.335548</td>\n",
       "      <td>-0.290182</td>\n",
       "      <td>-0.303378</td>\n",
       "      <td>-0.183287</td>\n",
       "      <td>-0.270998</td>\n",
       "      <td>0.147297</td>\n",
       "      <td>1.000000</td>\n",
       "    </tr>\n",
       "  </tbody>\n",
       "</table>\n",
       "</div>"
      ],
      "text/plain": [
       "                TripTotal      Fare  TripMiles  TripSeconds  DistToDowntown  \\\n",
       "TripTotal        1.000000  0.971472   0.820143     0.667418        0.189242   \n",
       "Fare             0.971472  1.000000   0.833237     0.710880        0.206805   \n",
       "TripMiles        0.820143  0.833237   1.000000     0.786245        0.283238   \n",
       "TripSeconds      0.667418  0.710880   0.786245     1.000000        0.234138   \n",
       "DistToDowntown   0.189242  0.206805   0.283238     0.234138        1.000000   \n",
       "PopDensity      -0.058795 -0.061765  -0.104236    -0.081948       -0.200470   \n",
       "MedIncome       -0.335548 -0.290182  -0.303378    -0.183287       -0.270998   \n",
       "\n",
       "                PopDensity  MedIncome  \n",
       "TripTotal        -0.058795  -0.335548  \n",
       "Fare             -0.061765  -0.290182  \n",
       "TripMiles        -0.104236  -0.303378  \n",
       "TripSeconds      -0.081948  -0.183287  \n",
       "DistToDowntown   -0.200470  -0.270998  \n",
       "PopDensity        1.000000   0.147297  \n",
       "MedIncome         0.147297   1.000000  "
      ]
     },
     "execution_count": 6,
     "metadata": {},
     "output_type": "execute_result"
    }
   ],
   "source": [
    "#Some of the variables in this dataset are strongly corellated\n",
    "agg_hourly_all[['TripTotal','Fare','TripMiles','TripSeconds','DistToDowntown','PopDensity','MedIncome']].corr()"
   ]
  },
  {
   "cell_type": "markdown",
   "metadata": {},
   "source": [
    "<a id='demand_predict'></a>"
   ]
  },
  {
   "cell_type": "markdown",
   "metadata": {},
   "source": [
    "<a id='ols'></a>"
   ]
  },
  {
   "cell_type": "markdown",
   "metadata": {},
   "source": [
    "## 2. Prediction of  rideshare demand by simple OLS regression approach\n",
    "\n",
    "First I attempted a basic linear regression approach to see if a simple linear model may be effective at predicting ride counts at specified locations and times. The exploratory data analysis showed strong cyclical effects in rideshare usage at the hourly and daily levels, and a strong relationship between demand and distance to downtown at certain times of day. Given the repeatability of the usage data, I attempt to predict usage by distance from downtown, a general date and time (i.e. weekend or weekday, time of day), and other variables which may influence demand (weather, etc). \n",
    "\n",
    "Some new engineered features were added to the dataset to see if they aid in prediction:\n",
    "* **IsAirportPU:**  The preliminary data analysis indicated that the airports have different patterns than other parts of the city.  This flag identifies rides that originate at an airport.  Since we are interested in pickup demand, not dropoff demand, we only derive this for pickups.\n",
    "* **DayPeriod:**  If hour of day is used as a model parameter, there is no way to inform the model that hour is cyclical (i.e. 0:00 is close to both 23:00 and 1:00), other than performing a sin/cos-type transform.  As a simpler approach, I derived time of day groupings (i.e. morning, afternoon, etc) that can be used as a categorical indicator of the time of day.\n",
    "* **IsWeekday:**  The time series usage data showed very different behavior between weekday and weekend rides.  This field was added to see if a categorical flag for weekend/weekday may produce better results than day of week.\n",
    "\n",
    "Several of the features in the original Trips dataset are strongly correlated (i.e. fare, trip duration, trip distance).  Due to these strong relationships I only incorporated a single one of these features in each attempted regression model to avoid multicolinearity. \n",
    "\n",
    "A potential issue with this simple approach to predicting rideshare usage that it doesn't account for spatial autocorrelation (i.e. similar behavior between neighboring census tracts) or temporal autocorrelation (i.e. similar behavior in adjacent time periods). For this work I have assumed that individual rideshare consumer decisions are independent of those made in adjacent census tracts and at earlier or later times.  Additional work to improve this regression approach would involve validating these assumptions.  \n"
   ]
  },
  {
   "cell_type": "code",
   "execution_count": 23,
   "metadata": {
    "scrolled": true
   },
   "outputs": [],
   "source": [
    "#Derived fields\n",
    "\n",
    "agg_hourly_all=agg_hourly_all.reset_index() \n",
    "\n",
    "#Add in airport flag\n",
    "agg_hourly_all['IsAirportPU']=0\n",
    "agg_hourly_all.loc[agg_hourly_all.PUCensusTract.isin(['17031980000','17031980100']),'IsAirportPU']=1\n",
    "\n",
    "#add flag to indicate period of day\n",
    "agg_hourly_all['DayPeriod'] = pd.cut(agg_hourly_all['Hour'], bins=[-1,6, 10, 14, 17, 20, 24], labels=['night', 'morning', 'midday','afternoon','evening','lateevening'])\n",
    "\n",
    "#Add flag for weekday/weekend\n",
    "agg_hourly_all['IsWeekday'] = 0\n",
    "agg_hourly_all.loc[agg_hourly_all.DOW<5,'IsWeekday']=1\n"
   ]
  },
  {
   "cell_type": "code",
   "execution_count": 8,
   "metadata": {},
   "outputs": [
    {
     "data": {
      "text/plain": [
       "PUCensusTract                17031010100\n",
       "TripStart            2018-11-01 16:00:00\n",
       "Fare                                   5\n",
       "Tip                                    0\n",
       "AdditionalCharges                    2.5\n",
       "TripTotal                            7.5\n",
       "TripMiles                            1.9\n",
       "TripSeconds                        683.5\n",
       "Year                                2018\n",
       "Month                                 11\n",
       "DOW                                    3\n",
       "Hour                                  16\n",
       "NumRides                               2\n",
       "HTemp                                 48\n",
       "HWind                                 21\n",
       "HPrecip                                0\n",
       "Precip                               Dry\n",
       "commarea                               1\n",
       "area_sq_km                      0.380787\n",
       "MedIncome                          33750\n",
       "Population                          4444\n",
       "PopDensity                       11670.6\n",
       "DistToDowntown                   15.5667\n",
       "IsAirportPU                            0\n",
       "DayPeriod                      afternoon\n",
       "IsWeekday                              1\n",
       "Name: 0, dtype: object"
      ]
     },
     "execution_count": 8,
     "metadata": {},
     "output_type": "execute_result"
    }
   ],
   "source": [
    "agg_hourly_all[['PUCensusTract', 'TripStart', 'Fare', 'Tip', 'AdditionalCharges',\n",
    "       'TripTotal', 'TripMiles', 'TripSeconds', 'Year', 'Month', 'DOW', 'Hour',\n",
    "       'NumRides', 'HTemp', 'HWind', 'HPrecip', 'Precip','commarea','area_sq_km', 'MedIncome', 'Population',\n",
    "       'PopDensity', 'DistToDowntown', 'IsAirportPU', 'DayPeriod',\n",
    "       'IsWeekday']].iloc[0]\n"
   ]
  },
  {
   "cell_type": "code",
   "execution_count": 9,
   "metadata": {},
   "outputs": [
    {
     "data": {
      "text/html": [
       "<table class=\"simpletable\">\n",
       "<caption>OLS Regression Results</caption>\n",
       "<tr>\n",
       "  <th>Dep. Variable:</th>        <td>NumRides</td>     <th>  R-squared:         </th>  <td>   0.149</td>  \n",
       "</tr>\n",
       "<tr>\n",
       "  <th>Model:</th>                   <td>OLS</td>       <th>  Adj. R-squared:    </th>  <td>   0.149</td>  \n",
       "</tr>\n",
       "<tr>\n",
       "  <th>Method:</th>             <td>Least Squares</td>  <th>  F-statistic:       </th>  <td>   9429.</td>  \n",
       "</tr>\n",
       "<tr>\n",
       "  <th>Date:</th>             <td>Thu, 17 Oct 2019</td> <th>  Prob (F-statistic):</th>   <td>  0.00</td>   \n",
       "</tr>\n",
       "<tr>\n",
       "  <th>Time:</th>                 <td>13:39:48</td>     <th>  Log-Likelihood:    </th> <td>-1.5281e+06</td>\n",
       "</tr>\n",
       "<tr>\n",
       "  <th>No. Observations:</th>      <td>537380</td>      <th>  AIC:               </th>  <td>3.056e+06</td> \n",
       "</tr>\n",
       "<tr>\n",
       "  <th>Df Residuals:</th>          <td>537369</td>      <th>  BIC:               </th>  <td>3.056e+06</td> \n",
       "</tr>\n",
       "<tr>\n",
       "  <th>Df Model:</th>              <td>    10</td>      <th>                     </th>      <td> </td>     \n",
       "</tr>\n",
       "<tr>\n",
       "  <th>Covariance Type:</th>      <td>nonrobust</td>    <th>                     </th>      <td> </td>     \n",
       "</tr>\n",
       "</table>\n",
       "<table class=\"simpletable\">\n",
       "<tr>\n",
       "               <td></td>                  <th>coef</th>     <th>std err</th>      <th>t</th>      <th>P>|t|</th>  <th>[0.025</th>    <th>0.975]</th>  \n",
       "</tr>\n",
       "<tr>\n",
       "  <th>Intercept</th>                   <td>    4.5931</td> <td>    0.022</td> <td>  210.937</td> <td> 0.000</td> <td>    4.550</td> <td>    4.636</td>\n",
       "</tr>\n",
       "<tr>\n",
       "  <th>C(Precip)[T.Wet]</th>            <td>    0.1839</td> <td>    0.031</td> <td>    6.003</td> <td> 0.000</td> <td>    0.124</td> <td>    0.244</td>\n",
       "</tr>\n",
       "<tr>\n",
       "  <th>C(IsAirportPU)[T.1]</th>         <td>    9.2190</td> <td>    0.060</td> <td>  153.052</td> <td> 0.000</td> <td>    9.101</td> <td>    9.337</td>\n",
       "</tr>\n",
       "<tr>\n",
       "  <th>C(DayPeriod)[T.morning]</th>     <td>    0.3546</td> <td>    0.020</td> <td>   17.369</td> <td> 0.000</td> <td>    0.315</td> <td>    0.395</td>\n",
       "</tr>\n",
       "<tr>\n",
       "  <th>C(DayPeriod)[T.midday]</th>      <td>    0.4401</td> <td>    0.021</td> <td>   21.235</td> <td> 0.000</td> <td>    0.399</td> <td>    0.481</td>\n",
       "</tr>\n",
       "<tr>\n",
       "  <th>C(DayPeriod)[T.afternoon]</th>   <td>    0.7442</td> <td>    0.022</td> <td>   34.596</td> <td> 0.000</td> <td>    0.702</td> <td>    0.786</td>\n",
       "</tr>\n",
       "<tr>\n",
       "  <th>C(DayPeriod)[T.evening]</th>     <td>    1.6513</td> <td>    0.021</td> <td>   79.566</td> <td> 0.000</td> <td>    1.611</td> <td>    1.692</td>\n",
       "</tr>\n",
       "<tr>\n",
       "  <th>C(DayPeriod)[T.lateevening]</th> <td>    0.9898</td> <td>    0.022</td> <td>   44.611</td> <td> 0.000</td> <td>    0.946</td> <td>    1.033</td>\n",
       "</tr>\n",
       "<tr>\n",
       "  <th>C(IsWeekday)[T.1]</th>           <td>   -0.2841</td> <td>    0.012</td> <td>  -22.974</td> <td> 0.000</td> <td>   -0.308</td> <td>   -0.260</td>\n",
       "</tr>\n",
       "<tr>\n",
       "  <th>DistToDowntown</th>              <td>   -0.3834</td> <td>    0.001</td> <td> -280.178</td> <td> 0.000</td> <td>   -0.386</td> <td>   -0.381</td>\n",
       "</tr>\n",
       "<tr>\n",
       "  <th>TripTotal</th>                   <td>    0.0166</td> <td>    0.001</td> <td>   18.116</td> <td> 0.000</td> <td>    0.015</td> <td>    0.018</td>\n",
       "</tr>\n",
       "</table>\n",
       "<table class=\"simpletable\">\n",
       "<tr>\n",
       "  <th>Omnibus:</th>       <td>705369.365</td> <th>  Durbin-Watson:     </th>   <td>   0.658</td>   \n",
       "</tr>\n",
       "<tr>\n",
       "  <th>Prob(Omnibus):</th>   <td> 0.000</td>   <th>  Jarque-Bera (JB):  </th> <td>241496761.855</td>\n",
       "</tr>\n",
       "<tr>\n",
       "  <th>Skew:</th>            <td> 7.246</td>   <th>  Prob(JB):          </th>   <td>    0.00</td>   \n",
       "</tr>\n",
       "<tr>\n",
       "  <th>Kurtosis:</th>        <td>105.837</td>  <th>  Cond. No.          </th>   <td>    167.</td>   \n",
       "</tr>\n",
       "</table><br/><br/>Warnings:<br/>[1] Standard Errors assume that the covariance matrix of the errors is correctly specified."
      ],
      "text/plain": [
       "<class 'statsmodels.iolib.summary.Summary'>\n",
       "\"\"\"\n",
       "                            OLS Regression Results                            \n",
       "==============================================================================\n",
       "Dep. Variable:               NumRides   R-squared:                       0.149\n",
       "Model:                            OLS   Adj. R-squared:                  0.149\n",
       "Method:                 Least Squares   F-statistic:                     9429.\n",
       "Date:                Thu, 17 Oct 2019   Prob (F-statistic):               0.00\n",
       "Time:                        13:39:48   Log-Likelihood:            -1.5281e+06\n",
       "No. Observations:              537380   AIC:                         3.056e+06\n",
       "Df Residuals:                  537369   BIC:                         3.056e+06\n",
       "Df Model:                          10                                         \n",
       "Covariance Type:            nonrobust                                         \n",
       "===============================================================================================\n",
       "                                  coef    std err          t      P>|t|      [0.025      0.975]\n",
       "-----------------------------------------------------------------------------------------------\n",
       "Intercept                       4.5931      0.022    210.937      0.000       4.550       4.636\n",
       "C(Precip)[T.Wet]                0.1839      0.031      6.003      0.000       0.124       0.244\n",
       "C(IsAirportPU)[T.1]             9.2190      0.060    153.052      0.000       9.101       9.337\n",
       "C(DayPeriod)[T.morning]         0.3546      0.020     17.369      0.000       0.315       0.395\n",
       "C(DayPeriod)[T.midday]          0.4401      0.021     21.235      0.000       0.399       0.481\n",
       "C(DayPeriod)[T.afternoon]       0.7442      0.022     34.596      0.000       0.702       0.786\n",
       "C(DayPeriod)[T.evening]         1.6513      0.021     79.566      0.000       1.611       1.692\n",
       "C(DayPeriod)[T.lateevening]     0.9898      0.022     44.611      0.000       0.946       1.033\n",
       "C(IsWeekday)[T.1]              -0.2841      0.012    -22.974      0.000      -0.308      -0.260\n",
       "DistToDowntown                 -0.3834      0.001   -280.178      0.000      -0.386      -0.381\n",
       "TripTotal                       0.0166      0.001     18.116      0.000       0.015       0.018\n",
       "==============================================================================\n",
       "Omnibus:                   705369.365   Durbin-Watson:                   0.658\n",
       "Prob(Omnibus):                  0.000   Jarque-Bera (JB):        241496761.855\n",
       "Skew:                           7.246   Prob(JB):                         0.00\n",
       "Kurtosis:                     105.837   Cond. No.                         167.\n",
       "==============================================================================\n",
       "\n",
       "Warnings:\n",
       "[1] Standard Errors assume that the covariance matrix of the errors is correctly specified.\n",
       "\"\"\""
      ]
     },
     "execution_count": 9,
     "metadata": {},
     "output_type": "execute_result"
    }
   ],
   "source": [
    "# Try OLS regression with statsmodels\n",
    "\n",
    "# At this point we just want to see whether an OLS modelling approach is appropriate and can give us \n",
    "# insight into the data.\n",
    "# Since we are not yet concerned with overfitting the data, the input data has not been scaled and \n",
    "# regularization has not been applied. \n",
    "\n",
    "import statsmodels.formula.api as smf\n",
    "\n",
    "#I tried a variety of linear models, including with interactions bewteen parameters.  Did not achieve a model with R-squared above 0.15\n",
    "#results=smf.ols('NumRides ~ DistToDowntown+TripMiles+C(DOW)+C(IsWeekday)+C(IsAirportPU)',data=agg_hourly_all).fit()\n",
    "#results=smf.ols('NumRides ~ DistToDowntown+TripTotal+HTemp+C(Precip)+C(IsAirportPU)+Hour+C(DOW)',data=agg_hourly_all).fit()\n",
    "\n",
    "results=smf.ols('NumRides ~ DistToDowntown+TripTotal+C(Precip)+C(IsAirportPU)+C(DayPeriod)+C(IsWeekday)',data=agg_hourly_all).fit()\n",
    "results.summary()\n"
   ]
  },
  {
   "cell_type": "code",
   "execution_count": 12,
   "metadata": {},
   "outputs": [
    {
     "name": "stdout",
     "output_type": "stream",
     "text": [
      "(Predicted, Actual) \n",
      "[(-0.791158909108221, 2), (-1.0767949619514487, 2), (-0.791158909108221, 1), (-0.7495993002896064, 1), (0.3237377148277547, 2), (0.1491873577895726, 1), (-0.24960500172145927, 1), (-0.8135049385687978, 1), (-0.6449295127820509, 2), (-0.6033699039634355, 1)]\n"
     ]
    },
    {
     "data": {
      "image/png": "[encoded data removed]",
      "text/plain": [
       "<Figure size 1080x360 with 1 Axes>"
      ]
     },
     "metadata": {},
     "output_type": "display_data"
    }
   ],
   "source": [
    "#Inspect predicted ride counts vs actual. We see another issue with this model:  it predicts negative counts.\n",
    "pred=results.predict()\n",
    "print('(Predicted, Actual) ')\n",
    "print(list(zip(pred[:10],agg_hourly_all['NumRides'].values[:10])))\n",
    "plt.scatter(agg_hourly_all.NumRides[:50000],results.predict()[:50000])#plot first 50,000 results\n",
    "plt.ylabel('Predicted')\n",
    "plt.xlabel('Actual');\n"
   ]
  },
  {
   "cell_type": "markdown",
   "metadata": {},
   "source": [
    "#### Overall regression results:\n",
    "\n",
    "In general, we see significant relationships between the predictors and pickup demand, however the overall predictive power of the regression model is low, and the quality of model predictions are poor. "
   ]
  },
  {
   "cell_type": "markdown",
   "metadata": {},
   "source": [
    "<a id='np'></a>"
   ]
  },
  {
   "cell_type": "markdown",
   "metadata": {},
   "source": [
    "## 3.  A different approach:  non-parametric models\n",
    "\n",
    "Given the poor performance of regression model, I switched directions and attempted to implement a non-parametric modeling approach to predict rideshare usage. Unlike regression, non-parametric models make no assumption about the functional form of the relationship between the parameters and the dependent variable, and have the potential to perform better in this application.   \n",
    "\n",
    "Non-parametric models that may be applied to this problem include k-Nearest Neighbors regression, RBF-kernel SVM regression, and tree-based regression approaches (i.e. decision trees, bagging, boosting, random forest).  Given the large dataset available to train the model, the tree-based aproach was selected.  An advantage of tree-based models is that they require very little data preparation.  I start with an out-of-box Random Forest regressor, and train it on a subset of the parameters.  The results, scored on the test data, are compared with the results from out-of-box gradient boosting and bagging regressors."
   ]
  },
  {
   "cell_type": "code",
   "execution_count": 24,
   "metadata": {},
   "outputs": [],
   "source": [
    "from sklearn.ensemble import RandomForestRegressor, BaggingRegressor, GradientBoostingRegressor\n",
    "from sklearn.model_selection import train_test_split\n",
    "from sklearn.metrics import mean_squared_error\n",
    "\n",
    "agg_hourly_all['Precip']=agg_hourly_all['Precip'].map({'Dry':0,'Wet':1}) #convert categorical to boolean\n",
    "\n",
    "rfrmod=RandomForestRegressor() \n",
    "X=agg_hourly_all[['DistToDowntown','Precip','IsAirportPU','Hour','IsWeekday','TripMiles']]\n",
    "\n",
    "X_train, X_test, y_train, y_test = train_test_split(X, y, test_size=0.33)\n",
    "rfrmod.fit(X_train,y_train)\n",
    "y_pred=rfrmod.predict(X_test)"
   ]
  },
  {
   "cell_type": "code",
   "execution_count": 25,
   "metadata": {},
   "outputs": [
    {
     "name": "stdout",
     "output_type": "stream",
     "text": [
      "R2:  0.7380059722680148   RMSE:  2.2972026093158426 \n"
     ]
    }
   ],
   "source": [
    "#score model \n",
    "rsq=rfrmod.score(X_test,y_test) #rsquared\n",
    "rmse=np.sqrt(mean_squared_error(y_test,y_pred))\n",
    "print('R2:  {}   RMSE:  {} '.format(rsq,rmse))"
   ]
  },
  {
   "cell_type": "markdown",
   "metadata": {},
   "source": [
    "#### Result:  \n",
    "This simple, out-of-box model achieved an R-squared of 0.74 on the test data.  The results demonstrate that rideshare pickup rates for locations within Chicago can be fairly accurately predicted using a random forest model given a few pieces of information (distance to downtown, time of day, whether its the weekday or weekend, whether its raining, average trip distance at that location/time, and whether the pickup is from the airport).  "
   ]
  },
  {
   "cell_type": "code",
   "execution_count": 26,
   "metadata": {},
   "outputs": [
    {
     "data": {
      "image/png": "[encoded data removed]",
      "text/plain": [
       "<Figure size 720x720 with 1 Axes>"
      ]
     },
     "metadata": {},
     "output_type": "display_data"
    }
   ],
   "source": [
    "#Look at data graphically, plot predicted usage vs actual for first 50,000 records\n",
    "fig,ax=plt.subplots(figsize=[10,10])\n",
    "ax.scatter(y_pred[:50000],y_test[:50000],color='red',label='test results',s=3,alpha=0.5)\n",
    "y_train_pred=rfrmod.predict(X_train)\n",
    "ax.scatter(y_train_pred[:50000],y_train[:50000],label='train results',s=2,alpha=0.5)\n",
    "ax.set_xlabel('Predicted Demand')\n",
    "ax.set_ylabel('Actual Demand')\n",
    "ax.set_ylim(0,100)\n",
    "ax.set_xlim(0,100)\n",
    "ax.legend();\n"
   ]
  },
  {
   "cell_type": "code",
   "execution_count": 27,
   "metadata": {},
   "outputs": [],
   "source": [
    "#Try Gradient Boosting\n",
    "gbrmod=GradientBoostingRegressor() \n",
    "\n",
    "gbrmod.fit(X_train,y_train)\n",
    "y_pred_gb=gbrmod.predict(X_test)"
   ]
  },
  {
   "cell_type": "code",
   "execution_count": 29,
   "metadata": {},
   "outputs": [
    {
     "name": "stdout",
     "output_type": "stream",
     "text": [
      "R2:  0.6426976797078731   RMSE:  2.682696381060943 \n"
     ]
    }
   ],
   "source": [
    "rsq=gbrmod.score(X_test,y_test)\n",
    "rmse=np.sqrt(mean_squared_error(y_test,y_pred_gb))\n",
    "print('R2:  {}   RMSE:  {} '.format(rsq,rmse))"
   ]
  },
  {
   "cell_type": "markdown",
   "metadata": {},
   "source": [
    "#### Result: \n",
    "The Out-of-box boosting regressor does not perform as well as random forest."
   ]
  },
  {
   "cell_type": "code",
   "execution_count": 30,
   "metadata": {},
   "outputs": [],
   "source": [
    "#Try Bagging\n",
    "brmod=BaggingRegressor()\n",
    "brmod.fit(X_train,y_train)\n",
    "y_pred_bag=brmod.predict(X_test)\n"
   ]
  },
  {
   "cell_type": "code",
   "execution_count": 31,
   "metadata": {},
   "outputs": [
    {
     "name": "stdout",
     "output_type": "stream",
     "text": [
      "R2:  0.7391030543883788   RMSE:  2.292387874067886 \n"
     ]
    }
   ],
   "source": [
    "rsq=brmod.score(X_test,y_test)\n",
    "rmse=np.sqrt(mean_squared_error(y_test,y_pred_bag))\n",
    "print('R2:  {}   RMSE:  {} '.format(rsq,rmse))"
   ]
  },
  {
   "cell_type": "markdown",
   "metadata": {},
   "source": [
    "#### Result: \n",
    "The bagging regressor produces similar results to random forest.  This may be expected, given the small number of parameters in the model."
   ]
  },
  {
   "cell_type": "code",
   "execution_count": 34,
   "metadata": {},
   "outputs": [],
   "source": [
    "#Try using fare as predictor instead of trip distance\n",
    "\n",
    "rfrmod_0=RandomForestRegressor() \n",
    "X=agg_hourly_all[['DistToDowntown','Precip','IsAirportPU','Hour','IsWeekday','Fare']]\n",
    "\n",
    "X_train, X_test, y_train, y_test = train_test_split(X, y, test_size=0.33)\n",
    "rfrmod_0.fit(X_train,y_train)\n",
    "y_pred=rfrmod_0.predict(X_test)"
   ]
  },
  {
   "cell_type": "code",
   "execution_count": 38,
   "metadata": {},
   "outputs": [
    {
     "name": "stdout",
     "output_type": "stream",
     "text": [
      "R2:  0.7926243386692191   RMSE:  2.052826271837683 \n"
     ]
    }
   ],
   "source": [
    "rsq=rfrmod_0.score(X_test,y_test) #rsquared\n",
    "rmse=np.sqrt(mean_squared_error(y_test,y_pred))\n",
    "print('R2:  {}   RMSE:  {} '.format(rsq,rmse))"
   ]
  },
  {
   "cell_type": "code",
   "execution_count": 39,
   "metadata": {},
   "outputs": [
    {
     "name": "stdout",
     "output_type": "stream",
     "text": [
      "{'DistToDowntown': 0.4698629375307764, 'Precip': 0.0050787441798378725, 'IsAirportPU': 0.01860761256880351, 'Hour': 0.23088426224897338, 'IsWeekday': 0.03596514350648594, 'Fare': 0.23960129996512297}\n"
     ]
    }
   ],
   "source": [
    "print(dict(zip(X.columns,rfrmod_0.feature_importances_)))"
   ]
  },
  {
   "cell_type": "markdown",
   "metadata": {},
   "source": [
    "#### Result: \n",
    "The R-squared for test data has improved to 0.79. Distance to downtown and average fare are the most important parameters."
   ]
  },
  {
   "cell_type": "markdown",
   "metadata": {},
   "source": [
    "<a id='zero'></a>"
   ]
  },
  {
   "cell_type": "markdown",
   "metadata": {},
   "source": [
    "## 4.  Modification of the input dataset\n",
    "A limitation of the hourly-aggregated rideshare dataset is that it only represents data for census tracts that had some rideshare usage at a given hour.  Tracts with very low or no usage are excluded from the aggregated dataset.  To account for these low utilization tracts, a modified version of the dataset was created that includes zero ride counts for census tracts with no rides.  Since no rides occurred, fields describing ride characteristics (fare, distance, duration) were not input to the regression model.  This dataset also includes some new derived fields such as whether the rideshare period is a holiday, and the \"Side\" where the neighborhood is located (i.e. east-side, north-side...), for possible inclusion in the model."
   ]
  },
  {
   "cell_type": "code",
   "execution_count": 42,
   "metadata": {},
   "outputs": [
    {
     "data": {
      "text/plain": [
       "MeanFare              NaN\n",
       "MeanTip               NaN\n",
       "MeanTotal             NaN\n",
       "MeanMiles             NaN\n",
       "MeanSeconds           NaN\n",
       "Year                 2018\n",
       "Month                  11\n",
       "DOW                     3\n",
       "Hour                    0\n",
       "NumRides                0\n",
       "IsWeekend           False\n",
       "IsHoliday           False\n",
       "HTemp                  51\n",
       "HWind                   6\n",
       "HPrecip                 0\n",
       "Precip                Dry\n",
       "IsAirport               0\n",
       "commarea               24\n",
       "area_sq_km         1.0044\n",
       "MedIncome           39219\n",
       "Population           1015\n",
       "PopDensity        1010.55\n",
       "DistToDowntown    5.68685\n",
       "Side                 West\n",
       "Name: (17031240900, 2018-11-01 00:00:00), dtype: object"
      ]
     },
     "execution_count": 42,
     "metadata": {},
     "output_type": "execute_result"
    }
   ],
   "source": [
    "#Load new dataset\n",
    "hourly_df=pd.read_pickle(os.path.join(datadir,'new_hourly_data_census'))\n",
    "hourly_df[['MeanFare', 'MeanTip', 'MeanTotal', 'MeanMiles', 'MeanSeconds', 'Year',\n",
    "       'Month', 'DOW', 'Hour', 'NumRides', 'IsWeekend', 'IsHoliday', 'HTemp',\n",
    "       'HWind', 'HPrecip', 'Precip', 'IsAirport', 'commarea',  'area_sq_km',\n",
    "       'MedIncome', 'Population', 'PopDensity', 'DistToDowntown', 'Side']].iloc[0]"
   ]
  },
  {
   "cell_type": "code",
   "execution_count": 43,
   "metadata": {},
   "outputs": [],
   "source": [
    "rfrmod_1=RandomForestRegressor() \n",
    "X=hourly_df[['DistToDowntown','Precip','IsAirport','Hour','DOW']]#'TripTotal',\n",
    "X['Precip']=X['Precip'].map({'Dry':0,'Wet':1})\n",
    "y=hourly_df['NumRides']\n",
    "\n",
    "X_train, X_test, y_train, y_test = train_test_split(X, y, test_size=0.33)\n",
    "rfrmod_1.fit(X_train,y_train)\n",
    "y_pred=rfrmod_1.predict(X_test)"
   ]
  },
  {
   "cell_type": "code",
   "execution_count": 59,
   "metadata": {},
   "outputs": [
    {
     "name": "stdout",
     "output_type": "stream",
     "text": [
      "R2:  0.8045749562502342   RMSE:  0.9661679466890587 \n"
     ]
    }
   ],
   "source": [
    "rsq=rfrmod_1.score(X_test,y_test)\n",
    "rmse=np.sqrt(mean_squared_error(y_test,y_pred))\n",
    "print('R2:  {}   RMSE:  {} '.format(rsq,rmse))"
   ]
  },
  {
   "cell_type": "code",
   "execution_count": 60,
   "metadata": {},
   "outputs": [
    {
     "data": {
      "image/png": "[encoded data removed]",
      "text/plain": [
       "<Figure size 864x864 with 1 Axes>"
      ]
     },
     "metadata": {},
     "output_type": "display_data"
    }
   ],
   "source": [
    "fig,ax=plt.subplots(figsize=[12,12])\n",
    "ax.scatter(y_pred[:50000],y_test[:50000],color='red',label='test results',s=4,alpha=0.5)\n",
    "y_train_pred=rfrmod_1.predict(X_train)\n",
    "ax.scatter(y_train_pred[:50000],y_train[:50000],label='train results',s=3,alpha=0.5)\n",
    "ax.set_xlabel('Predicted Demand')\n",
    "ax.set_ylabel('Actual Demand')\n",
    "ax.set_ylim(0,100)\n",
    "ax.set_xlim(0,100)\n",
    "ax.legend();\n"
   ]
  },
  {
   "cell_type": "code",
   "execution_count": 57,
   "metadata": {},
   "outputs": [
    {
     "data": {
      "text/plain": [
       "0.0"
      ]
     },
     "execution_count": 57,
     "metadata": {},
     "output_type": "execute_result"
    }
   ],
   "source": [
    "y_pred.min()"
   ]
  },
  {
   "cell_type": "markdown",
   "metadata": {},
   "source": [
    "#### Result:  \n",
    "Incorporating zero usage tracts to the dataset produces a model with similar R-squared, however the model now has the capability to predict zero utilization of rideshare within a census tract at a given time."
   ]
  },
  {
   "cell_type": "markdown",
   "metadata": {},
   "source": [
    "<a id='param'></a>"
   ]
  },
  {
   "cell_type": "markdown",
   "metadata": {},
   "source": [
    "## 5.  Parameter Tuning\n",
    "\n",
    "The Random Forest Regressor is trained by fitting a series of decision trees to bootstrap samples taken from the training dataset.  The out-of-bag (OOB) sample from each iteration is comprised of the portion of the dataset not included in the bootstrap sample, about 37% of the dataset.  The OOB score is the average r-squared calculated on the out-of-bag samples using the decision tree trained on the corresponding bootstrap samples.  By inspecting the OOB score with different parameter combinations, we can optimize the parameter settings for the model.\n"
   ]
  },
  {
   "cell_type": "code",
   "execution_count": 61,
   "metadata": {},
   "outputs": [],
   "source": [
    "#Use OOB score to optimize number of estimators.  Since we are using the OOB error \n",
    "n_est=[10,20,30]#10 is default, try 20 to see how much gain achieved in r-squared\n",
    "oobs=[]\n",
    "for n in n_est:\n",
    "    rfrmod_optn=RandomForestRegressor(n_estimators=n,oob_score=True,n_jobs=-1) \n",
    "    rfrmod_optn.fit(X,y)\n",
    "    oobs.append(rfrmod_optn.oob_score_)"
   ]
  },
  {
   "cell_type": "code",
   "execution_count": 62,
   "metadata": {},
   "outputs": [
    {
     "data": {
      "text/plain": [
       "[0.8011635282249041, 0.8123613692901628, 0.8128865032329508]"
      ]
     },
     "execution_count": 62,
     "metadata": {},
     "output_type": "execute_result"
    }
   ],
   "source": [
    "oobs\n",
    "# We see a small gain in r-squared, not enough score improvement to justify loss in performance\n",
    "# continue with the default 10 trees "
   ]
  },
  {
   "cell_type": "code",
   "execution_count": 63,
   "metadata": {},
   "outputs": [
    {
     "name": "stdout",
     "output_type": "stream",
     "text": [
      "Feature Selection: sqrt    Max Depth: 5   OOB Score: 0.44332105043227055\n",
      "Feature Selection: sqrt    Max Depth: 10   OOB Score: 0.6691308792549293\n",
      "Feature Selection: sqrt    Max Depth: 20   OOB Score: 0.784407194255557\n",
      "Feature Selection: log2    Max Depth: 5   OOB Score: 0.4719594647170616\n",
      "Feature Selection: log2    Max Depth: 10   OOB Score: 0.6668318192232134\n",
      "Feature Selection: log2    Max Depth: 20   OOB Score: 0.7847271618324603\n",
      "Feature Selection: None    Max Depth: 5   OOB Score: 0.5790075128571657\n",
      "Feature Selection: None    Max Depth: 10   OOB Score: 0.7278133565801461\n",
      "Feature Selection: None    Max Depth: 20   OOB Score: 0.7990386148160072\n"
     ]
    }
   ],
   "source": [
    "#use oob scores to optimize other parameters: selection of max_features, split criterion\n",
    "\n",
    "max_features=['sqrt','log2',None]#None equivalent to bagging\n",
    "max_depth=[5,10,20]\n",
    "\n",
    "for f in max_features:\n",
    "    for d in max_depth:\n",
    "        mod=RandomForestRegressor(n_estimators=10,max_features=f,max_depth=d,oob_score=True,n_jobs=-1)\n",
    "        mod.fit(X,y)\n",
    "        print('Feature Selection: {}    Max Depth: {}   OOB Score: {}'.format(f,d,mod.oob_score_))\n",
    "\n",
    "# We see the best results with deeper trees and allowing all parameters to be used for a branch (i.e. bagging).  \n",
    "# Tree depth appears to be more important than the feature selection method.     "
   ]
  },
  {
   "cell_type": "code",
   "execution_count": 67,
   "metadata": {},
   "outputs": [],
   "source": [
    "#Try adding additional features to the base model\n",
    "rfrmod_more=RandomForestRegressor() \n",
    "X=hourly_df[['DistToDowntown','Precip','HTemp','IsAirport','Hour','DOW','IsHoliday','MedIncome','PopDensity']]#[['DistToDowntown','IsAirport','Hour','HTemp']]#'TripTotal',\n",
    "#X['Precip']=X['Precip'].map({'Dry':0,'Wet':1})\n",
    "X_train, X_test, y_train, y_test = train_test_split(X, y, test_size=0.33)\n",
    "\n",
    "rfrmod_more.fit(X_train,y_train)\n",
    "y_pred=rfrmod_more.predict(X_test)"
   ]
  },
  {
   "cell_type": "code",
   "execution_count": 68,
   "metadata": {},
   "outputs": [
    {
     "data": {
      "text/plain": [
       "0.7845970976673367"
      ]
     },
     "execution_count": 68,
     "metadata": {},
     "output_type": "execute_result"
    }
   ],
   "source": [
    "rfrmod_more.score(X_test,y_test)"
   ]
  },
  {
   "cell_type": "code",
   "execution_count": 70,
   "metadata": {},
   "outputs": [
    {
     "name": "stdout",
     "output_type": "stream",
     "text": [
      "{'DistToDowntown': 0.45211433199593803, 'Precip': 0.004297332667291929, 'HTemp': 0.0930831859404416, 'IsAirport': 0.01927285439980779, 'Hour': 0.22445534059537411, 'DOW': 0.07877382885647441, 'IsHoliday': 0.009587704387866092, 'MedIncome': 0.05625845744054431, 'PopDensity': 0.06215696371626177}\n"
     ]
    }
   ],
   "source": [
    "#Feature Importances\n",
    "print(dict(zip(X.columns,rfrmod_more.feature_importances_)))"
   ]
  },
  {
   "cell_type": "markdown",
   "metadata": {},
   "source": [
    "#### Result:  \n",
    "Adding extra features to the model doesn't improve the model score.  Distance to downtown and hour of day remain the most important factors in predicting pickup frequency."
   ]
  },
  {
   "cell_type": "markdown",
   "metadata": {},
   "source": [
    "<a id='final'></a>"
   ]
  },
  {
   "cell_type": "markdown",
   "metadata": {},
   "source": [
    "## 6.  Final Results\n",
    "An Ipywidgets dashboard was created to illustrate the model output.  By selecting a few parameters (distance from downtown, whether its raining or snowing, and whether the pickup took place from an airport) a snapshot of predicted rideshare usage can be generated for a typical week."
   ]
  },
  {
   "cell_type": "code",
   "execution_count": 178,
   "metadata": {},
   "outputs": [
    {
     "data": {
      "application/vnd.jupyter.widget-view+json": {
       "model_id": "4368e12564db4722bde237892ea8b478",
       "version_major": 2,
       "version_minor": 0
      },
      "text/plain": [
       "interactive(children=(IntSlider(value=10, description='Distance: ', layout=Layout(width='500px'), max=30), Che…"
      ]
     },
     "metadata": {},
     "output_type": "display_data"
    }
   ],
   "source": [
    "import ipywidgets as widgets\n",
    "\n",
    "dist_range_slider = widgets.IntSlider(value=10,min=0,max=30,    step=1,    description='Distance: ',\n",
    "    orientation='horizontal',layout={'width': '500px'})\n",
    "precip_checkbox=widgets.Checkbox(value=False,description='Precipitation')\n",
    "airport_checkbox=widgets.Checkbox(value=False,description='Airport')\n",
    "\n",
    "def predict_usage(distance=1,precip=0,isairport=0):#month,temperature,isholiday,side,model):\n",
    "    model=rfrmod_1\n",
    "    data=dict()\n",
    "    data['distance']=distance\n",
    "    data['precip']=precip\n",
    "    data['isairport']=isairport\n",
    "\n",
    "    to_predict=pd.Series(data).to_frame(1).transpose()#one record\n",
    "    to_predict_df=pd.concat([to_predict]*168)#copy for each day of week and hour of day combination\n",
    "    to_predict_df['Hour']=list(range(24))*7\n",
    "    to_predict_df['DOW']=list(range(7))*24\n",
    "\n",
    "    to_predict_df['result']=model.predict(to_predict_df)\n",
    "\n",
    "    heatdf=pd.pivot_table(data=to_predict_df,index='DOW',columns='Hour',values='result',aggfunc='sum')\n",
    "    heatdf.index=['Monday','Tuesday','Wednesday','Thursday','Friday','Saturday','Sunday']\n",
    "    heatdf=heatdf.fillna(0)\n",
    "    fig,axes=plt.subplots(1,1,figsize=(15,4))\n",
    "    sns.heatmap(heatdf,ax=axes,vmin=0,vmax=5)\n",
    "\n",
    "widgets.interact(\n",
    "    predict_usage,\n",
    "    distance=dist_range_slider,\n",
    "    precip=precip_checkbox,\n",
    "    isairport=airport_checkbox\n",
    ");\n"
   ]
  },
  {
   "cell_type": "code",
   "execution_count": null,
   "metadata": {},
   "outputs": [],
   "source": []
  },
  {
   "cell_type": "code",
   "execution_count": null,
   "metadata": {},
   "outputs": [],
   "source": []
  },
  {
   "cell_type": "code",
   "execution_count": null,
   "metadata": {},
   "outputs": [],
   "source": []
  },
  {
   "cell_type": "code",
   "execution_count": null,
   "metadata": {},
   "outputs": [],
   "source": []
  },
  {
   "cell_type": "code",
   "execution_count": null,
   "metadata": {},
   "outputs": [],
   "source": []
  },
  {
   "cell_type": "code",
   "execution_count": null,
   "metadata": {},
   "outputs": [],
   "source": []
  },
  {
   "cell_type": "code",
   "execution_count": null,
   "metadata": {},
   "outputs": [],
   "source": []
  },
  {
   "cell_type": "code",
   "execution_count": null,
   "metadata": {},
   "outputs": [],
   "source": []
  },
  {
   "cell_type": "code",
   "execution_count": null,
   "metadata": {},
   "outputs": [],
   "source": [
    "\n",
    "\n",
    "\n",
    "\n",
    "\n"
   ]
  },
  {
   "cell_type": "markdown",
   "metadata": {},
   "source": [
    "Another experiment below:  adding 'Side' of city to model."
   ]
  },
  {
   "cell_type": "code",
   "execution_count": 74,
   "metadata": {},
   "outputs": [],
   "source": [
    "#Another variation: adding a variable for \"Side\" of the City (i.e. west side, east-side, etc.)"
   ]
  },
  {
   "cell_type": "code",
   "execution_count": 82,
   "metadata": {},
   "outputs": [],
   "source": [
    "hourly_df.loc[hourly_df['Side']==\"O'Hare\",'Side']='OHare'\n",
    "sides=pd.get_dummies(hourly_df['Side'])\n",
    "hourly_df_byside=pd.concat([hourly_df,sides],axis=1)"
   ]
  },
  {
   "cell_type": "code",
   "execution_count": 84,
   "metadata": {},
   "outputs": [],
   "source": [
    "rfrmod_sides=RandomForestRegressor() \n",
    "X=hourly_df_byside[['DistToDowntown','Precip','Hour','Month','HTemp','IsHoliday','DOW','Central', 'Far North', 'Far Southeast', 'Far Southwest', 'Midway',\n",
    "       'North', 'Northwest', 'OHare', 'South', 'Southwest', 'West']]#'IsWeekend']]#'TripTotal',\n",
    "X['Precip']=X['Precip'].map({'Dry':0,'Wet':1})\n",
    "y=hourly_df_byside['NumRides']\n",
    "\n",
    "X_train, X_test, y_train, y_test = train_test_split(X, y, test_size=0.33)\n",
    "rfrmod_sides.fit(X_train,y_train)\n",
    "y_pred=rfrmod_sides.predict(X_test)"
   ]
  },
  {
   "cell_type": "code",
   "execution_count": 85,
   "metadata": {},
   "outputs": [
    {
     "name": "stdout",
     "output_type": "stream",
     "text": [
      "0.8103049261343485\n",
      "{'DistToDowntown': 0.5944892278460754, 'Precip': 0.002620176711120384, 'Hour': 0.20649443501275505, 'Month': 0.020331863659322456, 'HTemp': 0.05728700398695723, 'IsHoliday': 0.006863370963885418, 'DOW': 0.0704094271663059, 'Central': 0.00232122201639903, 'Far North': 0.00451167403406876, 'Far Southeast': 0.0036803164625990566, 'Far Southwest': 0.002855513162104334, 'Midway': 0.0014213743918621725, 'North': 0.005563467753896415, 'Northwest': 0.00477046557167928, 'OHare': 0.00043667371947286117, 'South': 0.004737737542399019, 'Southwest': 0.00540540012455569, 'West': 0.005800649874541609}\n"
     ]
    }
   ],
   "source": [
    "print(rfrmod_sides.score(X_test,y_test))\n",
    "\n",
    "print(dict(zip(X_test.columns,rfrmod_sides.feature_importances_)))\n"
   ]
  },
  {
   "cell_type": "code",
   "execution_count": 86,
   "metadata": {},
   "outputs": [],
   "source": [
    "#For the final model, adding 10 extra trees, and setting max_depth to 20\n",
    "rfrmod_final=RandomForestRegressor(n_estimators=20,max_depth=20) \n",
    "rfrmod_final.fit(X_train,y_train)\n"
   ]
  },
  {
   "cell_type": "code",
   "execution_count": 87,
   "metadata": {},
   "outputs": [
    {
     "name": "stdout",
     "output_type": "stream",
     "text": [
      "0.8248719645132938\n",
      "{'DistToDowntown': 0.6284147614018527, 'Precip': 0.002244107578830522, 'Hour': 0.20785397141854206, 'Month': 0.01507389974305216, 'HTemp': 0.04103477516303104, 'IsHoliday': 0.006850559851823011, 'DOW': 0.06805918726129637, 'Central': 0.0017309697337275155, 'Far North': 0.003137389427292074, 'Far Southeast': 0.0026867562897492066, 'Far Southwest': 0.001814748980129604, 'Midway': 0.0011678658253451019, 'North': 0.004363658960306115, 'Northwest': 0.0038408919899315087, 'OHare': 0.00030397524630907053, 'South': 0.0034022515887944687, 'Southwest': 0.003953786433006723, 'West': 0.004066443106980752}\n"
     ]
    }
   ],
   "source": [
    "y_pred=rfrmod_final.predict(X_test)\n",
    "print(rfrmod_final.score(X_test,y_test))\n",
    "print(dict(zip(X_test.columns,rfrmod_final.feature_importances_)))\n"
   ]
  },
  {
   "cell_type": "code",
   "execution_count": 129,
   "metadata": {},
   "outputs": [
    {
     "data": {
      "text/plain": [
       "<matplotlib.collections.PathCollection at 0x1a2d1196a0>"
      ]
     },
     "execution_count": 129,
     "metadata": {},
     "output_type": "execute_result"
    },
    {
     "data": {
      "image/png": "[encoded data removed]",
      "text/plain": [
       "<Figure size 1080x360 with 1 Axes>"
      ]
     },
     "metadata": {},
     "output_type": "display_data"
    }
   ],
   "source": [
    "plt.scatter(y_test,y_pred)"
   ]
  },
  {
   "cell_type": "code",
   "execution_count": 140,
   "metadata": {},
   "outputs": [],
   "source": [
    "\n"
   ]
  },
  {
   "cell_type": "code",
   "execution_count": 154,
   "metadata": {},
   "outputs": [],
   "source": [
    "def predict_usage(distance,precip,month,temperature,isholiday,side,model):\n",
    "    data=dict()\n",
    "    data['distance']=distance\n",
    "    data['precip']=precip\n",
    "    data['month']=month \n",
    "\n",
    "    #data['isairport']=isairport\n",
    "    \n",
    "    data['temp']=temperature\n",
    "    data['isholiday']=isholiday\n",
    "    #data['side']=side\n",
    "    to_predict=pd.Series(data).to_frame(1).transpose()#one record\n",
    "    to_predict_df=pd.concat([to_predict]*168)#copy for each day of week and hour of day combination\n",
    "\n",
    "   \n",
    "    to_predict_df['DOW']=list(range(7))*24\n",
    "    to_predict_df['Hour']=list(range(24))*7\n",
    "    \n",
    "    sides=['Central', 'Far North', 'Far Southeast', 'Far Southwest','Midway', 'North', 'Northwest', 'OHare', 'South', 'Southwest', 'West']\n",
    "    for s in sides:\n",
    "           if s==side:#matches selection\n",
    "               to_predict_df[s]=1\n",
    "           else:\n",
    "               to_predict_df[s]=0\n",
    "                \n",
    "\n",
    "    #to_predict_df.drop('side',inplace=True,axis=1)\n",
    "    to_predict_df=to_predict_df[['distance', 'precip', 'Hour','month', 'temp', 'isholiday',  'DOW',\n",
    "       'Central', 'Far North', 'Far Southeast', 'Far Southwest', 'Midway',\n",
    "       'North', 'Northwest', 'OHare', 'South', 'Southwest', 'West']]\n",
    "    pred=model.predict(to_predict_df)\n",
    "    return(pred)\n",
    "\n",
    "\n",
    "\n",
    "    #heatdf0=agg_hourly_all.loc[tract][startdate:enddate]\n",
    "    #heatdf=pd.pivot_table(data=heatdf0,index='DOW',columns='Hour',values='NumRides',aggfunc='sum')\n",
    "    #heatdf.index=['Monday','Tuesday','Wednesday','Thursday','Friday','Saturday','Sunday']\n",
    "    #heatdf=heatdf.fillna(0)\n",
    "    #fig,axes=plt.subplots(2,1,figsize=(15,7))\n",
    "    #sns.heatmap(heatdf,ax=axes[0])\n",
    "    #tractdf.loc[tractdf.index==tract,'Match']=1\n",
    "    #tractdf.plot(column='Match',ax=axes[1],cmap='viridis_r')\n",
    "    #ax=sns.heatmap(heatdf)\n",
    "    #ax.set_title(censdf.loc[tract,'NAME'])\n",
    "\n",
    "#widgets.interact(\n",
    " #   plotheatmap,\n",
    "  #  daterange=selection_range_slider,\n",
    "   # tract=tractselector\n",
    "#);\n",
    "z=predict_usage(20,0,10,50,1,'OHare',rfrmod_final)"
   ]
  },
  {
   "cell_type": "code",
   "execution_count": null,
   "metadata": {},
   "outputs": [],
   "source": [
    "\n"
   ]
  },
  {
   "cell_type": "code",
   "execution_count": null,
   "metadata": {},
   "outputs": [],
   "source": []
  }
 ],
 "metadata": {
  "kernelspec": {
   "display_name": "Python 3",
   "language": "python",
   "name": "python3"
  },
  "language_info": {
   "codemirror_mode": {
    "name": "ipython",
    "version": 3
   },
   "file_extension": ".py",
   "mimetype": "text/x-python",
   "name": "python",
   "nbconvert_exporter": "python",
   "pygments_lexer": "ipython3",
   "version": "3.7.1"
  }
 },
 "nbformat": 4,
 "nbformat_minor": 2
}
