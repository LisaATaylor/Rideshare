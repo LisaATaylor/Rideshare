{
 "cells": [
  {
   "cell_type": "markdown",
   "metadata": {},
   "source": [
    "# Development of a Random Forest Model to Predict Rideshare Demand\n",
    "\n",
    "\n",
    "\n",
    "**Background**\n",
    "\n",
    "Since November 2018, rideshare providers (Lyft, Uber, etc) operating in Chicago are required by ordinance to submit periodic data reports with basic rideshare information to the City.  The main [Trips dataset](https://data.cityofchicago.org/Transportation/Transportation-Network-Providers-Trips/m6dm-c72p) includes information about individual rides, including starting and ending times and locations, fares and tips, and whether the rides were pooled.  The Trips data are anonymized, so trip starting and ending locations are generalized to the nearest census tract, and drivers cannot be linked to particular rides they provided.  The currently available dataset goes through June 2019, however the portion used for this exercise goes from November 2018 through March 2019.\n",
    "\n",
    "To prepare for the analyses and visualizations in this notebook, the Trips data was cleaned, aggregated, and enriched with climate and census data.  A preliminary exploration of this dataset is available [here](https://github.com/LisaATaylor/Rideshare/blob/master/Chicago%20Rideshare%20Data%20Story.ipynb).\n",
    "\n",
    "The primary question explored by this notebook is how well can we predict rideshare demand for a given location as a function of day of week and time of day?  We are also interested in knowing whether the additional information that has been added to enrich the base dataset (ie climate, census, and distance data) may improve the predictive power of the models.\n",
    "\n",
    "1.  [Setup and data loading](#setup)\n",
    "2.  [Prediction of rideshare demand by OLS](#ols)\n",
    "3.  [Prediction of rideshare demand by non-parametric model](#np)\n",
    "4.  [Modification of dataset - adding zero demand periods/locations](#zero)\n",
    "5.  [Parameter tuning](#param)\n",
    "6.  [Final results](#final)\n"
   ]
  },
  {
   "cell_type": "markdown",
   "metadata": {},
   "source": [
    "<a id='setup'></a>"
   ]
  },
  {
   "cell_type": "markdown",
   "metadata": {},
   "source": [
    "---\n",
    "\n",
    "## 1. Setup and Data Loading"
   ]
  },
  {
   "cell_type": "code",
   "execution_count": 1,
   "metadata": {},
   "outputs": [],
   "source": [
    "import csv\n",
    "import os\n",
    "import matplotlib.pyplot as plt\n",
    "from datetime import datetime,date,timedelta\n",
    "import numpy as np\n",
    "import pandas as pd\n",
    "import geopandas as gpd\n",
    "import seaborn as sns\n",
    "import contextily as ctx #for basemaps\n",
    "import scipy.stats as stats"
   ]
  },
  {
   "cell_type": "code",
   "execution_count": 2,
   "metadata": {},
   "outputs": [],
   "source": [
    "plt.rcParams['figure.figsize'] = [15, 5]\n",
    "sns.set()\n",
    "import warnings; warnings.simplefilter('ignore')"
   ]
  },
  {
   "cell_type": "code",
   "execution_count": 22,
   "metadata": {},
   "outputs": [],
   "source": [
    "#load pickled/munged data \n",
    "datadir=r'/Users/rtaylor/Desktop/Springboard/DataSets/Rideshare'\n",
    "\n",
    "#data from 5% sample from Trips dataset, aggregated by pickup census tract and hour\n",
    "agg_hourly_all=pd.read_pickle(os.path.join(datadir,'agg_hourly_all_gdf'))\n"
   ]
  },
  {
   "cell_type": "code",
   "execution_count": 4,
   "metadata": {},
   "outputs": [
    {
     "data": {
      "text/plain": [
       "Fare                                                                 5\n",
       "Tip                                                                  0\n",
       "AdditionalCharges                                                  2.5\n",
       "TripTotal                                                          7.5\n",
       "TripMiles                                                          1.9\n",
       "TripSeconds                                                      683.5\n",
       "Year                                                              2018\n",
       "Month                                                               11\n",
       "DOW                                                                  3\n",
       "Hour                                                                16\n",
       "NumRides                                                             2\n",
       "HTemp                                                               48\n",
       "HWind                                                               21\n",
       "HPrecip                                                              0\n",
       "Precip                                                             Dry\n",
       "statefp10                                                           17\n",
       "name10                                                             101\n",
       "commarea_n                                                           1\n",
       "namelsad10                                            Census Tract 101\n",
       "commarea                                                             1\n",
       "notes                                                                 \n",
       "tractce10                                                       010100\n",
       "countyfp10                                                         031\n",
       "geometry             (POLYGON ((-9758676.21866704 5163885.613272211...\n",
       "area_sq_km                                                    0.380787\n",
       "MedIncome                                                        33750\n",
       "Population                                                        4444\n",
       "NAME                           Census Tract 101, Cook County, Illinois\n",
       "PopDensity                                                     11670.6\n",
       "DistToDowntown                                                 15.5667\n",
       "Name: (17031010100, 2018-11-01 16:00:00), dtype: object"
      ]
     },
     "execution_count": 4,
     "metadata": {},
     "output_type": "execute_result"
    }
   ],
   "source": [
    "agg_hourly_all.iloc[0]"
   ]
  },
  {
   "cell_type": "markdown",
   "metadata": {},
   "source": [
    "#### About the data:\n",
    "The hourly aggregated rideshare dataset was generated by grouping the raw rides data by census tract and time rounded to the nearest hour.  The fields derived from the Trips dataset (Fare, Tip, Trip Miles, etc.) are average values for all rides in each time/space grouping.  This data has been enriched with weather data (HTemp = hourly temperature, HPrecip = hourly precipitation accumulation, HWind= hourly average wind speed, Precip = flag whether precipitation occurred), plus limited census-derived and geographic data for each census tract (Med Income, Population Density, Distance to Downtown)."
   ]
  },
  {
   "cell_type": "code",
   "execution_count": 5,
   "metadata": {},
   "outputs": [],
   "source": [
    "agg_hourly_all['MedIncome']=agg_hourly_all.MedIncome.astype('int') #was object"
   ]
  },
  {
   "cell_type": "code",
   "execution_count": 6,
   "metadata": {},
   "outputs": [
    {
     "data": {
      "text/html": [
       "<div>\n",
       "<style scoped>\n",
       "    .dataframe tbody tr th:only-of-type {\n",
       "        vertical-align: middle;\n",
       "    }\n",
       "\n",
       "    .dataframe tbody tr th {\n",
       "        vertical-align: top;\n",
       "    }\n",
       "\n",
       "    .dataframe thead th {\n",
       "        text-align: right;\n",
       "    }\n",
       "</style>\n",
       "<table border=\"1\" class=\"dataframe\">\n",
       "  <thead>\n",
       "    <tr style=\"text-align: right;\">\n",
       "      <th></th>\n",
       "      <th>TripTotal</th>\n",
       "      <th>Fare</th>\n",
       "      <th>TripMiles</th>\n",
       "      <th>TripSeconds</th>\n",
       "      <th>DistToDowntown</th>\n",
       "      <th>PopDensity</th>\n",
       "      <th>MedIncome</th>\n",
       "    </tr>\n",
       "  </thead>\n",
       "  <tbody>\n",
       "    <tr>\n",
       "      <th>TripTotal</th>\n",
       "      <td>1.000000</td>\n",
       "      <td>0.971472</td>\n",
       "      <td>0.820143</td>\n",
       "      <td>0.667418</td>\n",
       "      <td>0.189242</td>\n",
       "      <td>-0.058795</td>\n",
       "      <td>-0.335548</td>\n",
       "    </tr>\n",
       "    <tr>\n",
       "      <th>Fare</th>\n",
       "      <td>0.971472</td>\n",
       "      <td>1.000000</td>\n",
       "      <td>0.833237</td>\n",
       "      <td>0.710880</td>\n",
       "      <td>0.206805</td>\n",
       "      <td>-0.061765</td>\n",
       "      <td>-0.290182</td>\n",
       "    </tr>\n",
       "    <tr>\n",
       "      <th>TripMiles</th>\n",
       "      <td>0.820143</td>\n",
       "      <td>0.833237</td>\n",
       "      <td>1.000000</td>\n",
       "      <td>0.786245</td>\n",
       "      <td>0.283238</td>\n",
       "      <td>-0.104236</td>\n",
       "      <td>-0.303378</td>\n",
       "    </tr>\n",
       "    <tr>\n",
       "      <th>TripSeconds</th>\n",
       "      <td>0.667418</td>\n",
       "      <td>0.710880</td>\n",
       "      <td>0.786245</td>\n",
       "      <td>1.000000</td>\n",
       "      <td>0.234138</td>\n",
       "      <td>-0.081948</td>\n",
       "      <td>-0.183287</td>\n",
       "    </tr>\n",
       "    <tr>\n",
       "      <th>DistToDowntown</th>\n",
       "      <td>0.189242</td>\n",
       "      <td>0.206805</td>\n",
       "      <td>0.283238</td>\n",
       "      <td>0.234138</td>\n",
       "      <td>1.000000</td>\n",
       "      <td>-0.200470</td>\n",
       "      <td>-0.270998</td>\n",
       "    </tr>\n",
       "    <tr>\n",
       "      <th>PopDensity</th>\n",
       "      <td>-0.058795</td>\n",
       "      <td>-0.061765</td>\n",
       "      <td>-0.104236</td>\n",
       "      <td>-0.081948</td>\n",
       "      <td>-0.200470</td>\n",
       "      <td>1.000000</td>\n",
       "      <td>0.147297</td>\n",
       "    </tr>\n",
       "    <tr>\n",
       "      <th>MedIncome</th>\n",
       "      <td>-0.335548</td>\n",
       "      <td>-0.290182</td>\n",
       "      <td>-0.303378</td>\n",
       "      <td>-0.183287</td>\n",
       "      <td>-0.270998</td>\n",
       "      <td>0.147297</td>\n",
       "      <td>1.000000</td>\n",
       "    </tr>\n",
       "  </tbody>\n",
       "</table>\n",
       "</div>"
      ],
      "text/plain": [
       "                TripTotal      Fare  TripMiles  TripSeconds  DistToDowntown  \\\n",
       "TripTotal        1.000000  0.971472   0.820143     0.667418        0.189242   \n",
       "Fare             0.971472  1.000000   0.833237     0.710880        0.206805   \n",
       "TripMiles        0.820143  0.833237   1.000000     0.786245        0.283238   \n",
       "TripSeconds      0.667418  0.710880   0.786245     1.000000        0.234138   \n",
       "DistToDowntown   0.189242  0.206805   0.283238     0.234138        1.000000   \n",
       "PopDensity      -0.058795 -0.061765  -0.104236    -0.081948       -0.200470   \n",
       "MedIncome       -0.335548 -0.290182  -0.303378    -0.183287       -0.270998   \n",
       "\n",
       "                PopDensity  MedIncome  \n",
       "TripTotal        -0.058795  -0.335548  \n",
       "Fare             -0.061765  -0.290182  \n",
       "TripMiles        -0.104236  -0.303378  \n",
       "TripSeconds      -0.081948  -0.183287  \n",
       "DistToDowntown   -0.200470  -0.270998  \n",
       "PopDensity        1.000000   0.147297  \n",
       "MedIncome         0.147297   1.000000  "
      ]
     },
     "execution_count": 6,
     "metadata": {},
     "output_type": "execute_result"
    }
   ],
   "source": [
    "#Some of the variables in this dataset are strongly corellated\n",
    "agg_hourly_all[['TripTotal','Fare','TripMiles','TripSeconds','DistToDowntown','PopDensity','MedIncome']].corr()"
   ]
  },
  {
   "cell_type": "markdown",
   "metadata": {},
   "source": [
    "<a id='demand_predict'></a>"
   ]
  },
  {
   "cell_type": "markdown",
   "metadata": {},
   "source": [
    "<a id='ols'></a>"
   ]
  },
  {
   "cell_type": "markdown",
   "metadata": {},
   "source": [
    "## 2. Prediction of  rideshare demand by simple OLS regression approach\n",
    "\n",
    "First I attempted a basic linear regression approach to see if a simple linear model may be effective at predicting ride counts at specified locations and times. The exploratory data analysis showed strong cyclical effects in rideshare usage at the hourly and daily levels, and a strong relationship between demand and distance to downtown at certain times of day. Given the repeatability of the usage data, I attempt to predict usage by distance from downtown, a general date and time (i.e. weekend or weekday, time of day), and other variables which may influence demand (weather, etc). \n",
    "\n",
    "Some new engineered features were added to the dataset to see if they aid in prediction:\n",
    "* **IsAirportPU:**  The preliminary data analysis indicated that the airports have different patterns than other parts of the city.  This flag identifies rides that originate at an airport.  Since we are interested in pickup demand, not dropoff demand, we only derive this for pickups.\n",
    "* **DayPeriod:**  If hour of day is used as a model parameter, there is no way to inform the model that hour is cyclical (i.e. 0:00 is close to both 23:00 and 1:00), other than performing a sin/cos-type transform.  As a simpler approach, I derived time of day groupings (i.e. morning, afternoon, etc) that can be used as a categorical indicator of the time of day.\n",
    "* **IsWeekday:**  The time series usage data showed very different behavior between weekday and weekend rides.  This field was added to see if a categorical flag for weekend/weekday may produce better results than day of week.\n",
    "\n",
    "Several of the features in the original Trips dataset are strongly correlated (i.e. fare, trip duration, trip distance).  Due to these strong relationships I only incorporated a single one of these features in each attempted regression model to avoid multicolinearity. \n",
    "\n",
    "A potential issue with this simple approach to predicting rideshare usage that it doesn't account for spatial autocorrelation (i.e. similar behavior between neighboring census tracts) or temporal autocorrelation (i.e. similar behavior in adjacent time periods). For this work I have assumed that individual rideshare consumer decisions are independent of those made in adjacent census tracts and at earlier or later times.  Additional work to improve this regression approach would involve validating these assumptions.  \n"
   ]
  },
  {
   "cell_type": "code",
   "execution_count": 23,
   "metadata": {
    "scrolled": true
   },
   "outputs": [],
   "source": [
    "#Derived fields\n",
    "\n",
    "agg_hourly_all=agg_hourly_all.reset_index() \n",
    "\n",
    "#Add in airport flag\n",
    "agg_hourly_all['IsAirportPU']=0\n",
    "agg_hourly_all.loc[agg_hourly_all.PUCensusTract.isin(['17031980000','17031980100']),'IsAirportPU']=1\n",
    "\n",
    "#add flag to indicate period of day\n",
    "agg_hourly_all['DayPeriod'] = pd.cut(agg_hourly_all['Hour'], bins=[-1,6, 10, 14, 17, 20, 24], labels=['night', 'morning', 'midday','afternoon','evening','lateevening'])\n",
    "\n",
    "#Add flag for weekday/weekend\n",
    "agg_hourly_all['IsWeekday'] = 0\n",
    "agg_hourly_all.loc[agg_hourly_all.DOW<5,'IsWeekday']=1\n"
   ]
  },
  {
   "cell_type": "code",
   "execution_count": 8,
   "metadata": {},
   "outputs": [
    {
     "data": {
      "text/plain": [
       "PUCensusTract                17031010100\n",
       "TripStart            2018-11-01 16:00:00\n",
       "Fare                                   5\n",
       "Tip                                    0\n",
       "AdditionalCharges                    2.5\n",
       "TripTotal                            7.5\n",
       "TripMiles                            1.9\n",
       "TripSeconds                        683.5\n",
       "Year                                2018\n",
       "Month                                 11\n",
       "DOW                                    3\n",
       "Hour                                  16\n",
       "NumRides                               2\n",
       "HTemp                                 48\n",
       "HWind                                 21\n",
       "HPrecip                                0\n",
       "Precip                               Dry\n",
       "commarea                               1\n",
       "area_sq_km                      0.380787\n",
       "MedIncome                          33750\n",
       "Population                          4444\n",
       "PopDensity                       11670.6\n",
       "DistToDowntown                   15.5667\n",
       "IsAirportPU                            0\n",
       "DayPeriod                      afternoon\n",
       "IsWeekday                              1\n",
       "Name: 0, dtype: object"
      ]
     },
     "execution_count": 8,
     "metadata": {},
     "output_type": "execute_result"
    }
   ],
   "source": [
    "agg_hourly_all[['PUCensusTract', 'TripStart', 'Fare', 'Tip', 'AdditionalCharges',\n",
    "       'TripTotal', 'TripMiles', 'TripSeconds', 'Year', 'Month', 'DOW', 'Hour',\n",
    "       'NumRides', 'HTemp', 'HWind', 'HPrecip', 'Precip','commarea','area_sq_km', 'MedIncome', 'Population',\n",
    "       'PopDensity', 'DistToDowntown', 'IsAirportPU', 'DayPeriod',\n",
    "       'IsWeekday']].iloc[0]\n"
   ]
  },
  {
   "cell_type": "code",
   "execution_count": 9,
   "metadata": {},
   "outputs": [
    {
     "data": {
      "text/html": [
       "<table class=\"simpletable\">\n",
       "<caption>OLS Regression Results</caption>\n",
       "<tr>\n",
       "  <th>Dep. Variable:</th>        <td>NumRides</td>     <th>  R-squared:         </th>  <td>   0.149</td>  \n",
       "</tr>\n",
       "<tr>\n",
       "  <th>Model:</th>                   <td>OLS</td>       <th>  Adj. R-squared:    </th>  <td>   0.149</td>  \n",
       "</tr>\n",
       "<tr>\n",
       "  <th>Method:</th>             <td>Least Squares</td>  <th>  F-statistic:       </th>  <td>   9429.</td>  \n",
       "</tr>\n",
       "<tr>\n",
       "  <th>Date:</th>             <td>Thu, 17 Oct 2019</td> <th>  Prob (F-statistic):</th>   <td>  0.00</td>   \n",
       "</tr>\n",
       "<tr>\n",
       "  <th>Time:</th>                 <td>13:39:48</td>     <th>  Log-Likelihood:    </th> <td>-1.5281e+06</td>\n",
       "</tr>\n",
       "<tr>\n",
       "  <th>No. Observations:</th>      <td>537380</td>      <th>  AIC:               </th>  <td>3.056e+06</td> \n",
       "</tr>\n",
       "<tr>\n",
       "  <th>Df Residuals:</th>          <td>537369</td>      <th>  BIC:               </th>  <td>3.056e+06</td> \n",
       "</tr>\n",
       "<tr>\n",
       "  <th>Df Model:</th>              <td>    10</td>      <th>                     </th>      <td> </td>     \n",
       "</tr>\n",
       "<tr>\n",
       "  <th>Covariance Type:</th>      <td>nonrobust</td>    <th>                     </th>      <td> </td>     \n",
       "</tr>\n",
       "</table>\n",
       "<table class=\"simpletable\">\n",
       "<tr>\n",
       "               <td></td>                  <th>coef</th>     <th>std err</th>      <th>t</th>      <th>P>|t|</th>  <th>[0.025</th>    <th>0.975]</th>  \n",
       "</tr>\n",
       "<tr>\n",
       "  <th>Intercept</th>                   <td>    4.5931</td> <td>    0.022</td> <td>  210.937</td> <td> 0.000</td> <td>    4.550</td> <td>    4.636</td>\n",
       "</tr>\n",
       "<tr>\n",
       "  <th>C(Precip)[T.Wet]</th>            <td>    0.1839</td> <td>    0.031</td> <td>    6.003</td> <td> 0.000</td> <td>    0.124</td> <td>    0.244</td>\n",
       "</tr>\n",
       "<tr>\n",
       "  <th>C(IsAirportPU)[T.1]</th>         <td>    9.2190</td> <td>    0.060</td> <td>  153.052</td> <td> 0.000</td> <td>    9.101</td> <td>    9.337</td>\n",
       "</tr>\n",
       "<tr>\n",
       "  <th>C(DayPeriod)[T.morning]</th>     <td>    0.3546</td> <td>    0.020</td> <td>   17.369</td> <td> 0.000</td> <td>    0.315</td> <td>    0.395</td>\n",
       "</tr>\n",
       "<tr>\n",
       "  <th>C(DayPeriod)[T.midday]</th>      <td>    0.4401</td> <td>    0.021</td> <td>   21.235</td> <td> 0.000</td> <td>    0.399</td> <td>    0.481</td>\n",
       "</tr>\n",
       "<tr>\n",
       "  <th>C(DayPeriod)[T.afternoon]</th>   <td>    0.7442</td> <td>    0.022</td> <td>   34.596</td> <td> 0.000</td> <td>    0.702</td> <td>    0.786</td>\n",
       "</tr>\n",
       "<tr>\n",
       "  <th>C(DayPeriod)[T.evening]</th>     <td>    1.6513</td> <td>    0.021</td> <td>   79.566</td> <td> 0.000</td> <td>    1.611</td> <td>    1.692</td>\n",
       "</tr>\n",
       "<tr>\n",
       "  <th>C(DayPeriod)[T.lateevening]</th> <td>    0.9898</td> <td>    0.022</td> <td>   44.611</td> <td> 0.000</td> <td>    0.946</td> <td>    1.033</td>\n",
       "</tr>\n",
       "<tr>\n",
       "  <th>C(IsWeekday)[T.1]</th>           <td>   -0.2841</td> <td>    0.012</td> <td>  -22.974</td> <td> 0.000</td> <td>   -0.308</td> <td>   -0.260</td>\n",
       "</tr>\n",
       "<tr>\n",
       "  <th>DistToDowntown</th>              <td>   -0.3834</td> <td>    0.001</td> <td> -280.178</td> <td> 0.000</td> <td>   -0.386</td> <td>   -0.381</td>\n",
       "</tr>\n",
       "<tr>\n",
       "  <th>TripTotal</th>                   <td>    0.0166</td> <td>    0.001</td> <td>   18.116</td> <td> 0.000</td> <td>    0.015</td> <td>    0.018</td>\n",
       "</tr>\n",
       "</table>\n",
       "<table class=\"simpletable\">\n",
       "<tr>\n",
       "  <th>Omnibus:</th>       <td>705369.365</td> <th>  Durbin-Watson:     </th>   <td>   0.658</td>   \n",
       "</tr>\n",
       "<tr>\n",
       "  <th>Prob(Omnibus):</th>   <td> 0.000</td>   <th>  Jarque-Bera (JB):  </th> <td>241496761.855</td>\n",
       "</tr>\n",
       "<tr>\n",
       "  <th>Skew:</th>            <td> 7.246</td>   <th>  Prob(JB):          </th>   <td>    0.00</td>   \n",
       "</tr>\n",
       "<tr>\n",
       "  <th>Kurtosis:</th>        <td>105.837</td>  <th>  Cond. No.          </th>   <td>    167.</td>   \n",
       "</tr>\n",
       "</table><br/><br/>Warnings:<br/>[1] Standard Errors assume that the covariance matrix of the errors is correctly specified."
      ],
      "text/plain": [
       "<class 'statsmodels.iolib.summary.Summary'>\n",
       "\"\"\"\n",
       "                            OLS Regression Results                            \n",
       "==============================================================================\n",
       "Dep. Variable:               NumRides   R-squared:                       0.149\n",
       "Model:                            OLS   Adj. R-squared:                  0.149\n",
       "Method:                 Least Squares   F-statistic:                     9429.\n",
       "Date:                Thu, 17 Oct 2019   Prob (F-statistic):               0.00\n",
       "Time:                        13:39:48   Log-Likelihood:            -1.5281e+06\n",
       "No. Observations:              537380   AIC:                         3.056e+06\n",
       "Df Residuals:                  537369   BIC:                         3.056e+06\n",
       "Df Model:                          10                                         \n",
       "Covariance Type:            nonrobust                                         \n",
       "===============================================================================================\n",
       "                                  coef    std err          t      P>|t|      [0.025      0.975]\n",
       "-----------------------------------------------------------------------------------------------\n",
       "Intercept                       4.5931      0.022    210.937      0.000       4.550       4.636\n",
       "C(Precip)[T.Wet]                0.1839      0.031      6.003      0.000       0.124       0.244\n",
       "C(IsAirportPU)[T.1]             9.2190      0.060    153.052      0.000       9.101       9.337\n",
       "C(DayPeriod)[T.morning]         0.3546      0.020     17.369      0.000       0.315       0.395\n",
       "C(DayPeriod)[T.midday]          0.4401      0.021     21.235      0.000       0.399       0.481\n",
       "C(DayPeriod)[T.afternoon]       0.7442      0.022     34.596      0.000       0.702       0.786\n",
       "C(DayPeriod)[T.evening]         1.6513      0.021     79.566      0.000       1.611       1.692\n",
       "C(DayPeriod)[T.lateevening]     0.9898      0.022     44.611      0.000       0.946       1.033\n",
       "C(IsWeekday)[T.1]              -0.2841      0.012    -22.974      0.000      -0.308      -0.260\n",
       "DistToDowntown                 -0.3834      0.001   -280.178      0.000      -0.386      -0.381\n",
       "TripTotal                       0.0166      0.001     18.116      0.000       0.015       0.018\n",
       "==============================================================================\n",
       "Omnibus:                   705369.365   Durbin-Watson:                   0.658\n",
       "Prob(Omnibus):                  0.000   Jarque-Bera (JB):        241496761.855\n",
       "Skew:                           7.246   Prob(JB):                         0.00\n",
       "Kurtosis:                     105.837   Cond. No.                         167.\n",
       "==============================================================================\n",
       "\n",
       "Warnings:\n",
       "[1] Standard Errors assume that the covariance matrix of the errors is correctly specified.\n",
       "\"\"\""
      ]
     },
     "execution_count": 9,
     "metadata": {},
     "output_type": "execute_result"
    }
   ],
   "source": [
    "# Try OLS regression with statsmodels\n",
    "\n",
    "# At this point we just want to see whether an OLS modelling approach is appropriate and can give us \n",
    "# insight into the data.\n",
    "# Since we are not yet concerned with overfitting the data, the input data has not been scaled and \n",
    "# regularization has not been applied. \n",
    "\n",
    "import statsmodels.formula.api as smf\n",
    "\n",
    "#I tried a variety of linear models, including with interactions bewteen parameters.  Did not achieve a model with R-squared above 0.15\n",
    "#results=smf.ols('NumRides ~ DistToDowntown+TripMiles+C(DOW)+C(IsWeekday)+C(IsAirportPU)',data=agg_hourly_all).fit()\n",
    "#results=smf.ols('NumRides ~ DistToDowntown+TripTotal+HTemp+C(Precip)+C(IsAirportPU)+Hour+C(DOW)',data=agg_hourly_all).fit()\n",
    "\n",
    "results=smf.ols('NumRides ~ DistToDowntown+TripTotal+C(Precip)+C(IsAirportPU)+C(DayPeriod)+C(IsWeekday)',data=agg_hourly_all).fit()\n",
    "results.summary()\n"
   ]
  },
  {
   "cell_type": "code",
   "execution_count": 12,
   "metadata": {},
   "outputs": [
    {
     "name": "stdout",
     "output_type": "stream",
     "text": [
      "(Predicted, Actual) \n",
      "[(-0.791158909108221, 2), (-1.0767949619514487, 2), (-0.791158909108221, 1), (-0.7495993002896064, 1), (0.3237377148277547, 2), (0.1491873577895726, 1), (-0.24960500172145927, 1), (-0.8135049385687978, 1), (-0.6449295127820509, 2), (-0.6033699039634355, 1)]\n"
     ]
    },
    {
     "data": {
      "image/png": "[encoded data removed]",
      "text/plain": [
       "<Figure size 1080x360 with 1 Axes>"
      ]
     },
     "metadata": {},
     "output_type": "display_data"
    }
   ],
   "source": [
    "#Inspect predicted ride counts vs actual. We see another issue with this model:  it predicts negative counts.\n",
    "pred=results.predict()\n",
    "print('(Predicted, Actual) ')\n",
    "print(list(zip(pred[:10],agg_hourly_all['NumRides'].values[:10])))\n",
    "plt.scatter(agg_hourly_all.NumRides[:50000],results.predict()[:50000])#plot first 50,000 results\n",
    "plt.ylabel('Predicted')\n",
    "plt.xlabel('Actual');\n"
   ]
  },
  {
   "cell_type": "markdown",
   "metadata": {},
   "source": [
    "#### Overall regression results:\n",
    "\n",
    "In general, we see significant relationships between the predictors and pickup demand, however the overall predictive power of the regression model is low, and the quality of model predictions are poor. "
   ]
  },
  {
   "cell_type": "markdown",
   "metadata": {},
   "source": [
    "<a id='np'></a>"
   ]
  },
  {
   "cell_type": "markdown",
   "metadata": {},
   "source": [
    "## 3.  A different approach:  non-parametric models\n",
    "\n",
    "Given the poor performance of regression model, I switched directions and attempted to implement a non-parametric modeling approach to predict rideshare usage. Unlike regression, non-parametric models make no assumption about the functional form of the relationship between the parameters and the dependent variable, and have the potential to perform better in this application.   \n",
    "\n",
    "Non-parametric models that may be applied to this problem include k-Nearest Neighbors regression, RBF-kernel SVM regression, and tree-based regression approaches (i.e. decision trees, bagging, boosting, random forest).  Given the large dataset available to train the model, the tree-based aproach was selected.  An advantage of tree-based models is that they require very little data preparation.  I start with an out-of-box Random Forest regressor, and train it on a subset of the parameters.  The results, scored on the test data, are compared with the results from out-of-box gradient boosting and bagging regressors."
   ]
  },
  {
   "cell_type": "code",
   "execution_count": 24,
   "metadata": {},
   "outputs": [],
   "source": [
    "from sklearn.ensemble import RandomForestRegressor, BaggingRegressor, GradientBoostingRegressor\n",
    "from sklearn.model_selection import train_test_split\n",
    "from sklearn.metrics import mean_squared_error\n",
    "\n",
    "agg_hourly_all['Precip']=agg_hourly_all['Precip'].map({'Dry':0,'Wet':1}) #convert categorical to boolean\n",
    "\n",
    "rfrmod=RandomForestRegressor() \n",
    "X=agg_hourly_all[['DistToDowntown','Precip','IsAirportPU','Hour','IsWeekday','TripMiles']]\n",
    "\n",
    "X_train, X_test, y_train, y_test = train_test_split(X, y, test_size=0.33)\n",
    "rfrmod.fit(X_train,y_train)\n",
    "y_pred=rfrmod.predict(X_test)"
   ]
  },
  {
   "cell_type": "code",
   "execution_count": 25,
   "metadata": {},
   "outputs": [
    {
     "name": "stdout",
     "output_type": "stream",
     "text": [
      "R2:  0.7380059722680148   RMSE:  2.2972026093158426 \n"
     ]
    }
   ],
   "source": [
    "#score model \n",
    "rsq=rfrmod.score(X_test,y_test) #rsquared\n",
    "rmse=np.sqrt(mean_squared_error(y_test,y_pred))\n",
    "print('R2:  {}   RMSE:  {} '.format(rsq,rmse))"
   ]
  },
  {
   "cell_type": "markdown",
   "metadata": {},
   "source": [
    "#### Result:  \n",
    "This simple, out-of-box model achieved an R-squared of 0.74 on the test data.  The results demonstrate that rideshare pickup rates for locations within Chicago can be fairly accurately predicted using a random forest model given a few pieces of information (distance to downtown, time of day, whether its the weekday or weekend, whether its raining, average trip distance at that location/time, and whether the pickup is from the airport).  "
   ]
  },
  {
   "cell_type": "code",
   "execution_count": 26,
   "metadata": {},
   "outputs": [
    {
     "data": {
      "image/png": "[encoded data removed]",
      "text/plain": [
       "<Figure size 720x720 with 1 Axes>"
      ]
     },
     "metadata": {},
     "output_type": "display_data"
    }
   ],
   "source": [
    "#Look at data graphically, plot predicted usage vs actual for first 50,000 records\n",
    "fig,ax=plt.subplots(figsize=[10,10])\n",
    "ax.scatter(y_pred[:50000],y_test[:50000],color='red',label='test results',s=3,alpha=0.5)\n",
    "y_train_pred=rfrmod.predict(X_train)\n",
    "ax.scatter(y_train_pred[:50000],y_train[:50000],label='train results',s=2,alpha=0.5)\n",
    "ax.set_xlabel('Predicted Demand')\n",
    "ax.set_ylabel('Actual Demand')\n",
    "ax.set_ylim(0,100)\n",
    "ax.set_xlim(0,100)\n",
    "ax.legend();\n"
   ]
  },
  {
   "cell_type": "code",
   "execution_count": 27,
   "metadata": {},
   "outputs": [],
   "source": [
    "#Try Gradient Boosting\n",
    "gbrmod=GradientBoostingRegressor() \n",
    "\n",
    "gbrmod.fit(X_train,y_train)\n",
    "y_pred_gb=gbrmod.predict(X_test)"
   ]
  },
  {
   "cell_type": "code",
   "execution_count": 29,
   "metadata": {},
   "outputs": [
    {
     "name": "stdout",
     "output_type": "stream",
     "text": [
      "R2:  0.6426976797078731   RMSE:  2.682696381060943 \n"
     ]
    }
   ],
   "source": [
    "rsq=gbrmod.score(X_test,y_test)\n",
    "rmse=np.sqrt(mean_squared_error(y_test,y_pred_gb))\n",
    "print('R2:  {}   RMSE:  {} '.format(rsq,rmse))"
   ]
  },
  {
   "cell_type": "markdown",
   "metadata": {},
   "source": [
    "#### Result: \n",
    "The Out-of-box boosting regressor does not perform as well as random forest."
   ]
  },
  {
   "cell_type": "code",
   "execution_count": 30,
   "metadata": {},
   "outputs": [],
   "source": [
    "#Try Bagging\n",
    "brmod=BaggingRegressor()\n",
    "brmod.fit(X_train,y_train)\n",
    "y_pred_bag=brmod.predict(X_test)\n"
   ]
  },
  {
   "cell_type": "code",
   "execution_count": 31,
   "metadata": {},
   "outputs": [
    {
     "name": "stdout",
     "output_type": "stream",
     "text": [
      "R2:  0.7391030543883788   RMSE:  2.292387874067886 \n"
     ]
    }
   ],
   "source": [
    "rsq=brmod.score(X_test,y_test)\n",
    "rmse=np.sqrt(mean_squared_error(y_test,y_pred_bag))\n",
    "print('R2:  {}   RMSE:  {} '.format(rsq,rmse))"
   ]
  },
  {
   "cell_type": "markdown",
   "metadata": {},
   "source": [
    "#### Result: \n",
    "The bagging regressor produces similar results to random forest.  This may be expected, given the small number of parameters in the model."
   ]
  },
  {
   "cell_type": "code",
   "execution_count": 34,
   "metadata": {},
   "outputs": [],
   "source": [
    "#Try using fare as predictor instead of trip distance\n",
    "\n",
    "rfrmod_0=RandomForestRegressor() \n",
    "X=agg_hourly_all[['DistToDowntown','Precip','IsAirportPU','Hour','IsWeekday','Fare']]\n",
    "\n",
    "X_train, X_test, y_train, y_test = train_test_split(X, y, test_size=0.33)\n",
    "rfrmod_0.fit(X_train,y_train)\n",
    "y_pred=rfrmod_0.predict(X_test)"
   ]
  },
  {
   "cell_type": "code",
   "execution_count": 38,
   "metadata": {},
   "outputs": [
    {
     "name": "stdout",
     "output_type": "stream",
     "text": [
      "R2:  0.7926243386692191   RMSE:  2.052826271837683 \n"
     ]
    }
   ],
   "source": [
    "rsq=rfrmod_0.score(X_test,y_test) #rsquared\n",
    "rmse=np.sqrt(mean_squared_error(y_test,y_pred))\n",
    "print('R2:  {}   RMSE:  {} '.format(rsq,rmse))"
   ]
  },
  {
   "cell_type": "code",
   "execution_count": 39,
   "metadata": {},
   "outputs": [
    {
     "name": "stdout",
     "output_type": "stream",
     "text": [
      "{'DistToDowntown': 0.4698629375307764, 'Precip': 0.0050787441798378725, 'IsAirportPU': 0.01860761256880351, 'Hour': 0.23088426224897338, 'IsWeekday': 0.03596514350648594, 'Fare': 0.23960129996512297}\n"
     ]
    }
   ],
   "source": [
    "print(dict(zip(X.columns,rfrmod_0.feature_importances_)))"
   ]
  },
  {
   "cell_type": "markdown",
   "metadata": {},
   "source": [
    "#### Result: \n",
    "The R-squared for test data has improved to 0.79. Distance to downtown and average fare are the most important parameters."
   ]
  },
  {
   "cell_type": "markdown",
   "metadata": {},
   "source": [
    "<a id='zero'></a>"
   ]
  },
  {
   "cell_type": "markdown",
   "metadata": {},
   "source": [
    "## 4.  Modification of the input dataset\n",
    "A limitation of the hourly-aggregated rideshare dataset is that it only represents data for census tracts that had some rideshare usage at a given hour.  Tracts with very low or no usage are excluded from the aggregated dataset.  To account for these low utilization tracts, a modified version of the dataset was created that includes zero ride counts for census tracts with no rides.  Since no rides occurred, fields describing ride characteristics (fare, distance, duration) were not input to the regression model.  This dataset also includes some new derived fields such as whether the rideshare period is a holiday, and the \"Side\" where the neighborhood is located (i.e. east-side, north-side...), for possible inclusion in the model."
   ]
  },
  {
   "cell_type": "code",
   "execution_count": 42,
   "metadata": {},
   "outputs": [
    {
     "data": {
      "text/plain": [
       "MeanFare              NaN\n",
       "MeanTip               NaN\n",
       "MeanTotal             NaN\n",
       "MeanMiles             NaN\n",
       "MeanSeconds           NaN\n",
       "Year                 2018\n",
       "Month                  11\n",
       "DOW                     3\n",
       "Hour                    0\n",
       "NumRides                0\n",
       "IsWeekend           False\n",
       "IsHoliday           False\n",
       "HTemp                  51\n",
       "HWind                   6\n",
       "HPrecip                 0\n",
       "Precip                Dry\n",
       "IsAirport               0\n",
       "commarea               24\n",
       "area_sq_km         1.0044\n",
       "MedIncome           39219\n",
       "Population           1015\n",
       "PopDensity        1010.55\n",
       "DistToDowntown    5.68685\n",
       "Side                 West\n",
       "Name: (17031240900, 2018-11-01 00:00:00), dtype: object"
      ]
     },
     "execution_count": 42,
     "metadata": {},
     "output_type": "execute_result"
    }
   ],
   "source": [
    "#Load new dataset\n",
    "hourly_df=pd.read_pickle(os.path.join(datadir,'new_hourly_data_census'))\n",
    "hourly_df[['MeanFare', 'MeanTip', 'MeanTotal', 'MeanMiles', 'MeanSeconds', 'Year',\n",
    "       'Month', 'DOW', 'Hour', 'NumRides', 'IsWeekend', 'IsHoliday', 'HTemp',\n",
    "       'HWind', 'HPrecip', 'Precip', 'IsAirport', 'commarea',  'area_sq_km',\n",
    "       'MedIncome', 'Population', 'PopDensity', 'DistToDowntown', 'Side']].iloc[0]"
   ]
  },
  {
   "cell_type": "code",
   "execution_count": 43,
   "metadata": {},
   "outputs": [],
   "source": [
    "rfrmod_1=RandomForestRegressor() \n",
    "X=hourly_df[['DistToDowntown','Precip','IsAirport','Hour','DOW']]#'TripTotal',\n",
    "X['Precip']=X['Precip'].map({'Dry':0,'Wet':1})\n",
    "y=hourly_df['NumRides']\n",
    "\n",
    "X_train, X_test, y_train, y_test = train_test_split(X, y, test_size=0.33)\n",
    "rfrmod_1.fit(X_train,y_train)\n",
    "y_pred=rfrmod_1.predict(X_test)"
   ]
  },
  {
   "cell_type": "code",
   "execution_count": 59,
   "metadata": {},
   "outputs": [
    {
     "name": "stdout",
     "output_type": "stream",
     "text": [
      "R2:  0.8045749562502342   RMSE:  0.9661679466890587 \n"
     ]
    }
   ],
   "source": [
    "rsq=rfrmod_1.score(X_test,y_test)\n",
    "rmse=np.sqrt(mean_squared_error(y_test,y_pred))\n",
    "print('R2:  {}   RMSE:  {} '.format(rsq,rmse))"
   ]
  },
  {
   "cell_type": "code",
   "execution_count": 60,
   "metadata": {},
   "outputs": [
    {
     "data": {
      "image/png": "[encoded data removed]",
      "text/plain": [
       "<Figure size 864x864 with 1 Axes>"
      ]
     },
     "metadata": {},
     "output_type": "display_data"
    }
   ],
   "source": [
    "fig,ax=plt.subplots(figsize=[12,12])\n",
    "ax.scatter(y_pred[:50000],y_test[:50000],color='red',label='test results',s=4,alpha=0.5)\n",
    "y_train_pred=rfrmod_1.predict(X_train)\n",
    "ax.scatter(y_train_pred[:50000],y_train[:50000],label='train results',s=3,alpha=0.5)\n",
    "ax.set_xlabel('Predicted Demand')\n",
    "ax.set_ylabel('Actual Demand')\n",
    "ax.set_ylim(0,100)\n",
    "ax.set_xlim(0,100)\n",
    "ax.legend();\n"
   ]
  },
  {
   "cell_type": "code",
   "execution_count": 57,
   "metadata": {},
   "outputs": [
    {
     "data": {
      "text/plain": [
       "0.0"
      ]
     },
     "execution_count": 57,
     "metadata": {},
     "output_type": "execute_result"
    }
   ],
   "source": [
    "y_pred.min()"
   ]
  },
  {
   "cell_type": "markdown",
   "metadata": {},
   "source": [
    "#### Result:  \n",
    "Incorporating zero usage tracts to the dataset produces a model with similar R-squared, however the model now has the capability to predict zero utilization of rideshare within a census tract at a given time."
   ]
  },
  {
   "cell_type": "markdown",
   "metadata": {},
   "source": [
    "<a id='param'></a>"
   ]
  },
  {
   "cell_type": "markdown",
   "metadata": {},
   "source": [
    "## 5.  Parameter Tuning\n",
    "\n",
    "The Random Forest Regressor is trained by fitting a series of decision trees to bootstrap samples taken from the training dataset.  The out-of-bag (OOB) sample from each iteration is comprised of the portion of the dataset not included in the bootstrap sample, about 37% of the dataset.  The OOB score is the average r-squared calculated on the out-of-bag samples using the decision tree trained on the corresponding bootstrap samples.  By inspecting the OOB score with different parameter combinations, we can optimize the parameter settings for the model.\n"
   ]
  },
  {
   "cell_type": "code",
   "execution_count": 61,
   "metadata": {},
   "outputs": [],
   "source": [
    "#Use OOB score to optimize number of estimators.  Since we are using the OOB error \n",
    "n_est=[10,20,30]#10 is default, try 20 to see how much gain achieved in r-squared\n",
    "oobs=[]\n",
    "for n in n_est:\n",
    "    rfrmod_optn=RandomForestRegressor(n_estimators=n,oob_score=True,n_jobs=-1) \n",
    "    rfrmod_optn.fit(X,y)\n",
    "    oobs.append(rfrmod_optn.oob_score_)"
   ]
  },
  {
   "cell_type": "code",
   "execution_count": 62,
   "metadata": {},
   "outputs": [
    {
     "data": {
      "text/plain": [
       "[0.8011635282249041, 0.8123613692901628, 0.8128865032329508]"
      ]
     },
     "execution_count": 62,
     "metadata": {},
     "output_type": "execute_result"
    }
   ],
   "source": [
    "oobs\n",
    "# We see a small gain in r-squared, not enough score improvement to justify loss in performance\n",
    "# continue with the default 10 trees "
   ]
  },
  {
   "cell_type": "code",
   "execution_count": 63,
   "metadata": {},
   "outputs": [
    {
     "name": "stdout",
     "output_type": "stream",
     "text": [
      "Feature Selection: sqrt    Max Depth: 5   OOB Score: 0.44332105043227055\n",
      "Feature Selection: sqrt    Max Depth: 10   OOB Score: 0.6691308792549293\n",
      "Feature Selection: sqrt    Max Depth: 20   OOB Score: 0.784407194255557\n",
      "Feature Selection: log2    Max Depth: 5   OOB Score: 0.4719594647170616\n",
      "Feature Selection: log2    Max Depth: 10   OOB Score: 0.6668318192232134\n",
      "Feature Selection: log2    Max Depth: 20   OOB Score: 0.7847271618324603\n",
      "Feature Selection: None    Max Depth: 5   OOB Score: 0.5790075128571657\n",
      "Feature Selection: None    Max Depth: 10   OOB Score: 0.7278133565801461\n",
      "Feature Selection: None    Max Depth: 20   OOB Score: 0.7990386148160072\n"
     ]
    }
   ],
   "source": [
    "#use oob scores to optimize other parameters: selection of max_features, split criterion\n",
    "\n",
    "max_features=['sqrt','log2',None]#None equivalent to bagging\n",
    "max_depth=[5,10,20]\n",
    "\n",
    "for f in max_features:\n",
    "    for d in max_depth:\n",
    "        mod=RandomForestRegressor(n_estimators=10,max_features=f,max_depth=d,oob_score=True,n_jobs=-1)\n",
    "        mod.fit(X,y)\n",
    "        print('Feature Selection: {}    Max Depth: {}   OOB Score: {}'.format(f,d,mod.oob_score_))\n",
    "\n",
    "# We see the best results with deeper trees and allowing all parameters to be used for a branch (i.e. bagging).  \n",
    "# Tree depth appears to be more important than the feature selection method.     "
   ]
  },
  {
   "cell_type": "code",
   "execution_count": 67,
   "metadata": {},
   "outputs": [],
   "source": [
    "#Try adding additional features to the base model\n",
    "rfrmod_more=RandomForestRegressor() \n",
    "X=hourly_df[['DistToDowntown','Precip','HTemp','IsAirport','Hour','DOW','IsHoliday','MedIncome','PopDensity']]#[['DistToDowntown','IsAirport','Hour','HTemp']]#'TripTotal',\n",
    "#X['Precip']=X['Precip'].map({'Dry':0,'Wet':1})\n",
    "X_train, X_test, y_train, y_test = train_test_split(X, y, test_size=0.33)\n",
    "\n",
    "rfrmod_more.fit(X_train,y_train)\n",
    "y_pred=rfrmod_more.predict(X_test)"
   ]
  },
  {
   "cell_type": "code",
   "execution_count": 68,
   "metadata": {},
   "outputs": [
    {
     "data": {
      "text/plain": [
       "0.7845970976673367"
      ]
     },
     "execution_count": 68,
     "metadata": {},
     "output_type": "execute_result"
    }
   ],
   "source": [
    "rfrmod_more.score(X_test,y_test)"
   ]
  },
  {
   "cell_type": "code",
   "execution_count": 70,
   "metadata": {},
   "outputs": [
    {
     "name": "stdout",
     "output_type": "stream",
     "text": [
      "{'DistToDowntown': 0.45211433199593803, 'Precip': 0.004297332667291929, 'HTemp': 0.0930831859404416, 'IsAirport': 0.01927285439980779, 'Hour': 0.22445534059537411, 'DOW': 0.07877382885647441, 'IsHoliday': 0.009587704387866092, 'MedIncome': 0.05625845744054431, 'PopDensity': 0.06215696371626177}\n"
     ]
    }
   ],
   "source": [
    "#Feature Importances\n",
    "print(dict(zip(X.columns,rfrmod_more.feature_importances_)))"
   ]
  },
  {
   "cell_type": "markdown",
   "metadata": {},
   "source": [
    "#### Result:  \n",
    "Adding extra features to the model doesn't improve the model score.  Distance to downtown and hour of day remain the most important factors in predicting pickup frequency."
   ]
  },
  {
   "cell_type": "markdown",
   "metadata": {},
   "source": [
    "<a id='final'></a>"
   ]
  },
  {
   "cell_type": "markdown",
   "metadata": {},
   "source": [
    "## 6.  Final Results\n",
    "An Ipywidgets dashboard was created to illustrate the model output.  By selecting a few parameters (distance from downtown, whether its raining or snowing, and whether the pickup took place from an airport) a snapshot of predicted rideshare usage can be generated for a typical week."
   ]
  },
  {
   "cell_type": "code",
   "execution_count": 178,
   "metadata": {},
   "outputs": [
    {
     "data": {
      "application/vnd.jupyter.widget-view+json": {
       "model_id": "4368e12564db4722bde237892ea8b478",
       "version_major": 2,
       "version_minor": 0
      },
      "text/plain": [
       "interactive(children=(IntSlider(value=10, description='Distance: ', layout=Layout(width='500px'), max=30), Che…"
      ]
     },
     "metadata": {},
     "output_type": "display_data"
    }
   ],
   "source": [
    "import ipywidgets as widgets\n",
    "\n",
    "dist_range_slider = widgets.IntSlider(value=10,min=0,max=30,    step=1,    description='Distance: ',\n",
    "    orientation='horizontal',layout={'width': '500px'})\n",
    "precip_checkbox=widgets.Checkbox(value=False,description='Precipitation')\n",
    "airport_checkbox=widgets.Checkbox(value=False,description='Airport')\n",
    "\n",
    "def predict_usage(distance=1,precip=0,isairport=0):#month,temperature,isholiday,side,model):\n",
    "    model=rfrmod_1\n",
    "    data=dict()\n",
    "    data['distance']=distance\n",
    "    data['precip']=precip\n",
    "    data['isairport']=isairport\n",
    "\n",
    "    to_predict=pd.Series(data).to_frame(1).transpose()#one record\n",
    "    to_predict_df=pd.concat([to_predict]*168)#copy for each day of week and hour of day combination\n",
    "    to_predict_df['Hour']=list(range(24))*7\n",
    "    to_predict_df['DOW']=list(range(7))*24\n",
    "\n",
    "    to_predict_df['result']=model.predict(to_predict_df)\n",
    "\n",
    "    heatdf=pd.pivot_table(data=to_predict_df,index='DOW',columns='Hour',values='result',aggfunc='sum')\n",
    "    heatdf.index=['Monday','Tuesday','Wednesday','Thursday','Friday','Saturday','Sunday']\n",
    "    heatdf=heatdf.fillna(0)\n",
    "    fig,axes=plt.subplots(1,1,figsize=(15,4))\n",
    "    sns.heatmap(heatdf,ax=axes,vmin=0,vmax=5)\n",
    "\n",
    "widgets.interact(\n",
    "    predict_usage,\n",
    "    distance=dist_range_slider,\n",
    "    precip=precip_checkbox,\n",
    "    isairport=airport_checkbox\n",
    ");\n"
   ]
  },
  {
   "cell_type": "code",
   "execution_count": null,
   "metadata": {},
   "outputs": [],
   "source": []
  },
  {
   "cell_type": "code",
   "execution_count": null,
   "metadata": {},
   "outputs": [],
   "source": []
  },
  {
   "cell_type": "code",
   "execution_count": null,
   "metadata": {},
   "outputs": [],
   "source": []
  },
  {
   "cell_type": "code",
   "execution_count": null,
   "metadata": {},
   "outputs": [],
   "source": []
  },
  {
   "cell_type": "code",
   "execution_count": null,
   "metadata": {},
   "outputs": [],
   "source": []
  },
  {
   "cell_type": "code",
   "execution_count": null,
   "metadata": {},
   "outputs": [],
   "source": []
  },
  {
   "cell_type": "code",
   "execution_count": null,
   "metadata": {},
   "outputs": [],
   "source": []
  },
  {
   "cell_type": "code",
   "execution_count": null,
   "metadata": {},
   "outputs": [],
   "source": []
  },
  {
   "cell_type": "code",
   "execution_count": null,
   "metadata": {},
   "outputs": [],
   "source": [
    "\n",
    "\n",
    "\n",
    "\n",
    "\n"
   ]
  },
  {
   "cell_type": "markdown",
   "metadata": {},
   "source": [
    "Another experiment below:  adding 'Side' of city to model."
   ]
  },
  {
   "cell_type": "code",
   "execution_count": 74,
   "metadata": {},
   "outputs": [],
   "source": [
    "#Another variation: adding a variable for \"Side\" of the City (i.e. west side, east-side, etc.)"
   ]
  },
  {
   "cell_type": "code",
   "execution_count": 82,
   "metadata": {},
   "outputs": [],
   "source": [
    "hourly_df.loc[hourly_df['Side']==\"O'Hare\",'Side']='OHare'\n",
    "sides=pd.get_dummies(hourly_df['Side'])\n",
    "hourly_df_byside=pd.concat([hourly_df,sides],axis=1)"
   ]
  },
  {
   "cell_type": "code",
   "execution_count": 84,
   "metadata": {},
   "outputs": [],
   "source": [
    "rfrmod_sides=RandomForestRegressor() \n",
    "X=hourly_df_byside[['DistToDowntown','Precip','Hour','Month','HTemp','IsHoliday','DOW','Central', 'Far North', 'Far Southeast', 'Far Southwest', 'Midway',\n",
    "       'North', 'Northwest', 'OHare', 'South', 'Southwest', 'West']]#'IsWeekend']]#'TripTotal',\n",
    "X['Precip']=X['Precip'].map({'Dry':0,'Wet':1})\n",
    "y=hourly_df_byside['NumRides']\n",
    "\n",
    "X_train, X_test, y_train, y_test = train_test_split(X, y, test_size=0.33)\n",
    "rfrmod_sides.fit(X_train,y_train)\n",
    "y_pred=rfrmod_sides.predict(X_test)"
   ]
  },
  {
   "cell_type": "code",
   "execution_count": 85,
   "metadata": {},
   "outputs": [
    {
     "name": "stdout",
     "output_type": "stream",
     "text": [
      "0.8103049261343485\n",
      "{'DistToDowntown': 0.5944892278460754, 'Precip': 0.002620176711120384, 'Hour': 0.20649443501275505, 'Month': 0.020331863659322456, 'HTemp': 0.05728700398695723, 'IsHoliday': 0.006863370963885418, 'DOW': 0.0704094271663059, 'Central': 0.00232122201639903, 'Far North': 0.00451167403406876, 'Far Southeast': 0.0036803164625990566, 'Far Southwest': 0.002855513162104334, 'Midway': 0.0014213743918621725, 'North': 0.005563467753896415, 'Northwest': 0.00477046557167928, 'OHare': 0.00043667371947286117, 'South': 0.004737737542399019, 'Southwest': 0.00540540012455569, 'West': 0.005800649874541609}\n"
     ]
    }
   ],
   "source": [
    "print(rfrmod_sides.score(X_test,y_test))\n",
    "\n",
    "print(dict(zip(X_test.columns,rfrmod_sides.feature_importances_)))\n"
   ]
  },
  {
   "cell_type": "code",
   "execution_count": 86,
   "metadata": {},
   "outputs": [],
   "source": [
    "#For the final model, adding 10 extra trees, and setting max_depth to 20\n",
    "rfrmod_final=RandomForestRegressor(n_estimators=20,max_depth=20) \n",
    "rfrmod_final.fit(X_train,y_train)\n"
   ]
  },
  {
   "cell_type": "code",
   "execution_count": 87,
   "metadata": {},
   "outputs": [
    {
     "name": "stdout",
     "output_type": "stream",
     "text": [
      "0.8248719645132938\n",
      "{'DistToDowntown': 0.6284147614018527, 'Precip': 0.002244107578830522, 'Hour': 0.20785397141854206, 'Month': 0.01507389974305216, 'HTemp': 0.04103477516303104, 'IsHoliday': 0.006850559851823011, 'DOW': 0.06805918726129637, 'Central': 0.0017309697337275155, 'Far North': 0.003137389427292074, 'Far Southeast': 0.0026867562897492066, 'Far Southwest': 0.001814748980129604, 'Midway': 0.0011678658253451019, 'North': 0.004363658960306115, 'Northwest': 0.0038408919899315087, 'OHare': 0.00030397524630907053, 'South': 0.0034022515887944687, 'Southwest': 0.003953786433006723, 'West': 0.004066443106980752}\n"
     ]
    }
   ],
   "source": [
    "y_pred=rfrmod_final.predict(X_test)\n",
    "print(rfrmod_final.score(X_test,y_test))\n",
    "print(dict(zip(X_test.columns,rfrmod_final.feature_importances_)))\n"
   ]
  },
  {
   "cell_type": "code",
   "execution_count": 129,
   "metadata": {},
   "outputs": [
    {
     "data": {
      "text/plain": [
       "<matplotlib.collections.PathCollection at 0x1a2d1196a0>"
      ]
     },
     "execution_count": 129,
     "metadata": {},
     "output_type": "execute_result"
    },
    {
     "data": {
      "image/png": "[encoded data removed]",
      "text/plain": [
       "<Figure size 1080x360 with 1 Axes>"
      ]
     },
     "metadata": {},
     "output_type": "display_data"
    }
   ],
   "source": [
    "plt.scatter(y_test,y_pred)"
   ]
  },
  {
   "cell_type": "code",
   "execution_count": 140,
   "metadata": {},
   "outputs": [],
   "source": [
    "\n"
   ]
  },
  {
   "cell_type": "code",
   "execution_count": 154,
   "metadata": {},
   "outputs": [],
   "source": [
    "def predict_usage(distance,precip,month,temperature,isholiday,side,model):\n",
    "    data=dict()\n",
    "    data['distance']=distance\n",
    "    data['precip']=precip\n",
    "    data['month']=month \n",
    "\n",
    "    #data['isairport']=isairport\n",
    "    \n",
    "    data['temp']=temperature\n",
    "    data['isholiday']=isholiday\n",
    "    #data['side']=side\n",
    "    to_predict=pd.Series(data).to_frame(1).transpose()#one record\n",
    "    to_predict_df=pd.concat([to_predict]*168)#copy for each day of week and hour of day combination\n",
    "\n",
    "   \n",
    "    to_predict_df['DOW']=list(range(7))*24\n",
    "    to_predict_df['Hour']=list(range(24))*7\n",
    "    \n",
    "    sides=['Central', 'Far North', 'Far Southeast', 'Far Southwest','Midway', 'North', 'Northwest', 'OHare', 'South', 'Southwest', 'West']\n",
    "    for s in sides:\n",
    "           if s==side:#matches selection\n",
    "               to_predict_df[s]=1\n",
    "           else:\n",
    "               to_predict_df[s]=0\n",
    "                \n",
    "\n",
    "    #to_predict_df.drop('side',inplace=True,axis=1)\n",
    "    to_predict_df=to_predict_df[['distance', 'precip', 'Hour','month', 'temp', 'isholiday',  'DOW',\n",
    "       'Central', 'Far North', 'Far Southeast', 'Far Southwest', 'Midway',\n",
    "       'North', 'Northwest', 'OHare', 'South', 'Southwest', 'West']]\n",
    "    pred=model.predict(to_predict_df)\n",
    "    return(pred)\n",
    "\n",
    "\n",
    "\n",
    "    #heatdf0=agg_hourly_all.loc[tract][startdate:enddate]\n",
    "    #heatdf=pd.pivot_table(data=heatdf0,index='DOW',columns='Hour',values='NumRides',aggfunc='sum')\n",
    "    #heatdf.index=['Monday','Tuesday','Wednesday','Thursday','Friday','Saturday','Sunday']\n",
    "    #heatdf=heatdf.fillna(0)\n",
    "    #fig,axes=plt.subplots(2,1,figsize=(15,7))\n",
    "    #sns.heatmap(heatdf,ax=axes[0])\n",
    "    #tractdf.loc[tractdf.index==tract,'Match']=1\n",
    "    #tractdf.plot(column='Match',ax=axes[1],cmap='viridis_r')\n",
    "    #ax=sns.heatmap(heatdf)\n",
    "    #ax.set_title(censdf.loc[tract,'NAME'])\n",
    "\n",
    "#widgets.interact(\n",
    " #   plotheatmap,\n",
    "  #  daterange=selection_range_slider,\n",
    "   # tract=tractselector\n",
    "#);\n",
    "z=predict_usage(20,0,10,50,1,'OHare',rfrmod_final)"
   ]
  },
  {
   "cell_type": "code",
   "execution_count": null,
   "metadata": {},
   "outputs": [],
   "source": [
    "\n"
   ]
  },
  {
   "cell_type": "code",
   "execution_count": null,
   "metadata": {},
   "outputs": [],
   "source": []
  }
 ],
 "metadata": {
  "kernelspec": {
   "display_name": "Python 3",
   "language": "python",
   "name": "python3"
  },
  "language_info": {
   "codemirror_mode": {
    "name": "ipython",
    "version": 3
   },
   "file_extension": ".py",
   "mimetype": "text/x-python",
   "name": "python",
   "nbconvert_exporter": "python",
   "pygments_lexer": "ipython3",
   "version": "3.7.1"
  },
  "widgets": {
   "application/vnd.jupyter.widget-state+json": {
    "state": {
     "00ddc7b206134eeda70c92f38a132652": {
      "model_module": "@jupyter-widgets/controls",
      "model_module_version": "1.5.0",
      "model_name": "IntSliderModel",
      "state": {
       "description": "precip",
       "layout": "IPY_MODEL_0a331a99bdde41a580bea408b9e1651f",
       "max": 1,
       "style": "IPY_MODEL_35928de9e309416ead44a51daff55c0e"
      }
     },
     "00e0ed0acd1740919305bd00a5937466": {
      "model_module": "@jupyter-widgets/controls",
      "model_module_version": "1.5.0",
      "model_name": "SliderStyleModel",
      "state": {
       "description_width": ""
      }
     },
     "02d247ab86ef450d925d23e406405496": {
      "model_module": "@jupyter-widgets/controls",
      "model_module_version": "1.5.0",
      "model_name": "DescriptionStyleModel",
      "state": {
       "description_width": ""
      }
     },
     "04265e56ae274b42b390d6919639ac5e": {
      "model_module": "@jupyter-widgets/controls",
      "model_module_version": "1.5.0",
      "model_name": "IntSliderModel",
      "state": {
       "description": "isairport",
       "layout": "IPY_MODEL_4cef65d87eaa4f7cb68ee6e722a0bdd1",
       "max": 1,
       "style": "IPY_MODEL_4a8829dd35f64ad49eafb019371181e0"
      }
     },
     "051f3fc7428a4ea4a69ada4c22f90d59": {
      "model_module": "@jupyter-widgets/controls",
      "model_module_version": "1.5.0",
      "model_name": "IntSliderModel",
      "state": {
       "description": "Distance: ",
       "layout": "IPY_MODEL_864dc782689848eca4fb755367baab80",
       "max": 30,
       "style": "IPY_MODEL_a32fe42f62184175af0b58b2fadcd9d5",
       "value": 2
      }
     },
     "0617fb4197004a69abc99d3712a410b0": {
      "model_module": "@jupyter-widgets/controls",
      "model_module_version": "1.5.0",
      "model_name": "SliderStyleModel",
      "state": {
       "description_width": ""
      }
     },
     "080f374254854aa788722a6ef4c276f9": {
      "model_module": "@jupyter-widgets/controls",
      "model_module_version": "1.5.0",
      "model_name": "DescriptionStyleModel",
      "state": {
       "description_width": ""
      }
     },
     "0825167b36c246399707fcdb28bfefd0": {
      "model_module": "@jupyter-widgets/output",
      "model_module_version": "1.0.0",
      "model_name": "OutputModel",
      "state": {
       "layout": "IPY_MODEL_de017d2d53d54190817b0a264bce20eb",
       "outputs": [
        {
         "data": {
          "image/png": "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\n",
          "text/plain": "<Figure size 1080x504 with 2 Axes>"
         },
         "metadata": {},
         "output_type": "display_data"
        }
       ]
      }
     },
     "086be8a06319409a86cb939b01f2db83": {
      "model_module": "@jupyter-widgets/base",
      "model_module_version": "1.2.0",
      "model_name": "LayoutModel",
      "state": {}
     },
     "0943e34ea38141059709af2df926f598": {
      "model_module": "@jupyter-widgets/controls",
      "model_module_version": "1.5.0",
      "model_name": "DropdownModel",
      "state": {
       "_options_labels": [
        "DecisionTreeRegressor(criterion='mse', max_depth=None, max_features='auto',\n           max_leaf_nodes=None, min_impurity_decrease=0.0,\n           min_impurity_split=None, min_samples_leaf=1,\n           min_samples_split=2, min_weight_fraction_leaf=0.0,\n           presort=False, random_state=691922462, splitter='best')",
        "DecisionTreeRegressor(criterion='mse', max_depth=None, max_features='auto',\n           max_leaf_nodes=None, min_impurity_decrease=0.0,\n           min_impurity_split=None, min_samples_leaf=1,\n           min_samples_split=2, min_weight_fraction_leaf=0.0,\n           presort=False, random_state=734187594, splitter='best')",
        "DecisionTreeRegressor(criterion='mse', max_depth=None, max_features='auto',\n           max_leaf_nodes=None, min_impurity_decrease=0.0,\n           min_impurity_split=None, min_samples_leaf=1,\n           min_samples_split=2, min_weight_fraction_leaf=0.0,\n           presort=False, random_state=1908590134, splitter='best')",
        "DecisionTreeRegressor(criterion='mse', max_depth=None, max_features='auto',\n           max_leaf_nodes=None, min_impurity_decrease=0.0,\n           min_impurity_split=None, min_samples_leaf=1,\n           min_samples_split=2, min_weight_fraction_leaf=0.0,\n           presort=False, random_state=1924821618, splitter='best')",
        "DecisionTreeRegressor(criterion='mse', max_depth=None, max_features='auto',\n           max_leaf_nodes=None, min_impurity_decrease=0.0,\n           min_impurity_split=None, min_samples_leaf=1,\n           min_samples_split=2, min_weight_fraction_leaf=0.0,\n           presort=False, random_state=1295901455, splitter='best')",
        "DecisionTreeRegressor(criterion='mse', max_depth=None, max_features='auto',\n           max_leaf_nodes=None, min_impurity_decrease=0.0,\n           min_impurity_split=None, min_samples_leaf=1,\n           min_samples_split=2, min_weight_fraction_leaf=0.0,\n           presort=False, random_state=1690189291, splitter='best')",
        "DecisionTreeRegressor(criterion='mse', max_depth=None, max_features='auto',\n           max_leaf_nodes=None, min_impurity_decrease=0.0,\n           min_impurity_split=None, min_samples_leaf=1,\n           min_samples_split=2, min_weight_fraction_leaf=0.0,\n           presort=False, random_state=463474780, splitter='best')",
        "DecisionTreeRegressor(criterion='mse', max_depth=None, max_features='auto',\n           max_leaf_nodes=None, min_impurity_decrease=0.0,\n           min_impurity_split=None, min_samples_leaf=1,\n           min_samples_split=2, min_weight_fraction_leaf=0.0,\n           presort=False, random_state=2118682105, splitter='best')",
        "DecisionTreeRegressor(criterion='mse', max_depth=None, max_features='auto',\n           max_leaf_nodes=None, min_impurity_decrease=0.0,\n           min_impurity_split=None, min_samples_leaf=1,\n           min_samples_split=2, min_weight_fraction_leaf=0.0,\n           presort=False, random_state=214207692, splitter='best')",
        "DecisionTreeRegressor(criterion='mse', max_depth=None, max_features='auto',\n           max_leaf_nodes=None, min_impurity_decrease=0.0,\n           min_impurity_split=None, min_samples_leaf=1,\n           min_samples_split=2, min_weight_fraction_leaf=0.0,\n           presort=False, random_state=1672789934, splitter='best')"
       ],
       "description": "model",
       "index": 0,
       "layout": "IPY_MODEL_b3e5d065d4bd407f8d5a7a7dee7f4b54",
       "style": "IPY_MODEL_cef7181d0481490586a28e7cb27df3c1"
      }
     },
     "09db5ae813704178bbb15d5adca48034": {
      "model_module": "@jupyter-widgets/base",
      "model_module_version": "1.2.0",
      "model_name": "LayoutModel",
      "state": {
       "width": "500px"
      }
     },
     "09eb06ec1dbb458c875089cfe852fadc": {
      "model_module": "@jupyter-widgets/controls",
      "model_module_version": "1.5.0",
      "model_name": "DescriptionStyleModel",
      "state": {
       "description_width": ""
      }
     },
     "09ec3e1992e847898d9ceef741f919ce": {
      "model_module": "@jupyter-widgets/controls",
      "model_module_version": "1.5.0",
      "model_name": "VBoxModel",
      "state": {
       "_dom_classes": [
        "widget-interact"
       ],
       "children": [
        "IPY_MODEL_b712f2b9f20d4546a6d2c79e609a37f8",
        "IPY_MODEL_10e4bf4b93334d3784f551f331dd181e",
        "IPY_MODEL_6e9c5af063ff458c924c567ee6c0aeae",
        "IPY_MODEL_86015012dc7d461db2ce8fea1516327c",
        "IPY_MODEL_701b99b919714f6594e82a6eaad9811e"
       ],
       "layout": "IPY_MODEL_233d51805360492eaaf1ff6532082071"
      }
     },
     "0a331a99bdde41a580bea408b9e1651f": {
      "model_module": "@jupyter-widgets/base",
      "model_module_version": "1.2.0",
      "model_name": "LayoutModel",
      "state": {}
     },
     "0aa75067768d4ce19cc0934adda5d7cc": {
      "model_module": "@jupyter-widgets/controls",
      "model_module_version": "1.5.0",
      "model_name": "DescriptionStyleModel",
      "state": {
       "description_width": ""
      }
     },
     "0c34a40bf4e248a59e91e7d4dc5ca72f": {
      "model_module": "@jupyter-widgets/base",
      "model_module_version": "1.2.0",
      "model_name": "LayoutModel",
      "state": {}
     },
     "0f052559609d4b06b4516ef2a964f638": {
      "model_module": "@jupyter-widgets/base",
      "model_module_version": "1.2.0",
      "model_name": "LayoutModel",
      "state": {}
     },
     "10e4bf4b93334d3784f551f331dd181e": {
      "model_module": "@jupyter-widgets/controls",
      "model_module_version": "1.5.0",
      "model_name": "CheckboxModel",
      "state": {
       "description": "Precipitation: ",
       "disabled": false,
       "layout": "IPY_MODEL_2b56c88c9eba457d86753f67d2da34f6",
       "style": "IPY_MODEL_b804fe97eaad44caab8dd8d4876ce8ef",
       "value": false
      }
     },
     "1242584193d0405a874e2cae7d92bb51": {
      "model_module": "@jupyter-widgets/controls",
      "model_module_version": "1.5.0",
      "model_name": "DescriptionStyleModel",
      "state": {
       "description_width": ""
      }
     },
     "137e5e0834134402ae5eafdea29dc740": {
      "model_module": "@jupyter-widgets/controls",
      "model_module_version": "1.5.0",
      "model_name": "CheckboxModel",
      "state": {
       "description": "Precipitation",
       "disabled": false,
       "layout": "IPY_MODEL_42a6a9552f204bbb8f0e1ab1a57808da",
       "style": "IPY_MODEL_1242584193d0405a874e2cae7d92bb51",
       "value": false
      }
     },
     "157fb58ccdcf40d38a3f23679324ae88": {
      "model_module": "@jupyter-widgets/base",
      "model_module_version": "1.2.0",
      "model_name": "LayoutModel",
      "state": {}
     },
     "159a498ed9594b9a8c656748f6093567": {
      "model_module": "@jupyter-widgets/controls",
      "model_module_version": "1.5.0",
      "model_name": "VBoxModel",
      "state": {
       "_dom_classes": [
        "widget-interact"
       ],
       "children": [
        "IPY_MODEL_807ece8137e8466fa2e7913d4fa832d7",
        "IPY_MODEL_00ddc7b206134eeda70c92f38a132652",
        "IPY_MODEL_abffbf31c6a34b12bc8ac00d16709b6f",
        "IPY_MODEL_d5d7fe91c7a246b495e9662d1183a632",
        "IPY_MODEL_d9ce8ce119594ffd85bcba1ca430611d"
       ],
       "layout": "IPY_MODEL_8e46922e47964938b5c3ea358779d3c8"
      }
     },
     "15c9156b8bb0458ab33b60655a1d6bbc": {
      "model_module": "@jupyter-widgets/base",
      "model_module_version": "1.2.0",
      "model_name": "LayoutModel",
      "state": {
       "width": "500px"
      }
     },
     "1824484a402b4662b926ee52150fa2cb": {
      "model_module": "@jupyter-widgets/controls",
      "model_module_version": "1.5.0",
      "model_name": "DescriptionStyleModel",
      "state": {
       "description_width": ""
      }
     },
     "18b03f6efa4c49bd872b3bd650e1e3f0": {
      "model_module": "@jupyter-widgets/base",
      "model_module_version": "1.2.0",
      "model_name": "LayoutModel",
      "state": {
       "width": "500px"
      }
     },
     "1910f9e579d948c5839ae98efa80cfa8": {
      "model_module": "@jupyter-widgets/controls",
      "model_module_version": "1.5.0",
      "model_name": "SliderStyleModel",
      "state": {
       "description_width": ""
      }
     },
     "1a7a77f2ebc443749f6e59f760b55071": {
      "model_module": "@jupyter-widgets/controls",
      "model_module_version": "1.5.0",
      "model_name": "SliderStyleModel",
      "state": {
       "description_width": ""
      }
     },
     "1ae3a07ce9ad496f927d96208053b240": {
      "model_module": "@jupyter-widgets/controls",
      "model_module_version": "1.5.0",
      "model_name": "DescriptionStyleModel",
      "state": {
       "description_width": ""
      }
     },
     "1f7ad6979fc84c83bf8ea20283066062": {
      "model_module": "@jupyter-widgets/base",
      "model_module_version": "1.2.0",
      "model_name": "LayoutModel",
      "state": {}
     },
     "1fb6d6e4663e4c6e849b7d1b57fe1de3": {
      "model_module": "@jupyter-widgets/controls",
      "model_module_version": "1.5.0",
      "model_name": "DescriptionStyleModel",
      "state": {
       "description_width": ""
      }
     },
     "1fb9f820296b4d53ad915a5410f1269d": {
      "model_module": "@jupyter-widgets/base",
      "model_module_version": "1.2.0",
      "model_name": "LayoutModel",
      "state": {}
     },
     "233d51805360492eaaf1ff6532082071": {
      "model_module": "@jupyter-widgets/base",
      "model_module_version": "1.2.0",
      "model_name": "LayoutModel",
      "state": {}
     },
     "243032f1f3424c569a238850d600f8b5": {
      "model_module": "@jupyter-widgets/base",
      "model_module_version": "1.2.0",
      "model_name": "LayoutModel",
      "state": {}
     },
     "28663aad218c4d9fb8b5bc12d10fce20": {
      "model_module": "@jupyter-widgets/base",
      "model_module_version": "1.2.0",
      "model_name": "LayoutModel",
      "state": {}
     },
     "29306a752fea4fc3a7453945b33e1701": {
      "model_module": "@jupyter-widgets/controls",
      "model_module_version": "1.5.0",
      "model_name": "CheckboxModel",
      "state": {
       "description": "Airport",
       "disabled": false,
       "layout": "IPY_MODEL_f7f132c7789340b18c533bd17b429b66",
       "style": "IPY_MODEL_c4245d3a82664d85be46a5bcf68ad57f",
       "value": false
      }
     },
     "293dd162934c4f06a0924157d24651f5": {
      "model_module": "@jupyter-widgets/output",
      "model_module_version": "1.0.0",
      "model_name": "OutputModel",
      "state": {
       "layout": "IPY_MODEL_7377cef2dcd14e1a87c51364741dafe3",
       "outputs": [
        {
         "ename": "TypeError",
         "evalue": "'AxesSubplot' object does not support indexing",
         "output_type": "error",
         "traceback": [
          "\u001b[0;31m---------------------------------------------------------------------------\u001b[0m",
          "\u001b[0;31mTypeError\u001b[0m                                 Traceback (most recent call last)",
          "\u001b[0;32m~/anaconda3/lib/python3.7/site-packages/ipywidgets/widgets/interaction.py\u001b[0m in \u001b[0;36mupdate\u001b[0;34m(self, *args)\u001b[0m\n\u001b[1;32m    254\u001b[0m                     \u001b[0mvalue\u001b[0m \u001b[0;34m=\u001b[0m \u001b[0mwidget\u001b[0m\u001b[0;34m.\u001b[0m\u001b[0mget_interact_value\u001b[0m\u001b[0;34m(\u001b[0m\u001b[0;34m)\u001b[0m\u001b[0;34m\u001b[0m\u001b[0;34m\u001b[0m\u001b[0m\n\u001b[1;32m    255\u001b[0m                     \u001b[0mself\u001b[0m\u001b[0;34m.\u001b[0m\u001b[0mkwargs\u001b[0m\u001b[0;34m[\u001b[0m\u001b[0mwidget\u001b[0m\u001b[0;34m.\u001b[0m\u001b[0m_kwarg\u001b[0m\u001b[0;34m]\u001b[0m \u001b[0;34m=\u001b[0m \u001b[0mvalue\u001b[0m\u001b[0;34m\u001b[0m\u001b[0;34m\u001b[0m\u001b[0m\n\u001b[0;32m--> 256\u001b[0;31m                 \u001b[0mself\u001b[0m\u001b[0;34m.\u001b[0m\u001b[0mresult\u001b[0m \u001b[0;34m=\u001b[0m \u001b[0mself\u001b[0m\u001b[0;34m.\u001b[0m\u001b[0mf\u001b[0m\u001b[0;34m(\u001b[0m\u001b[0;34m**\u001b[0m\u001b[0mself\u001b[0m\u001b[0;34m.\u001b[0m\u001b[0mkwargs\u001b[0m\u001b[0;34m)\u001b[0m\u001b[0;34m\u001b[0m\u001b[0;34m\u001b[0m\u001b[0m\n\u001b[0m\u001b[1;32m    257\u001b[0m                 \u001b[0mshow_inline_matplotlib_plots\u001b[0m\u001b[0;34m(\u001b[0m\u001b[0;34m)\u001b[0m\u001b[0;34m\u001b[0m\u001b[0;34m\u001b[0m\u001b[0m\n\u001b[1;32m    258\u001b[0m                 \u001b[0;32mif\u001b[0m \u001b[0mself\u001b[0m\u001b[0;34m.\u001b[0m\u001b[0mauto_display\u001b[0m \u001b[0;32mand\u001b[0m \u001b[0mself\u001b[0m\u001b[0;34m.\u001b[0m\u001b[0mresult\u001b[0m \u001b[0;32mis\u001b[0m \u001b[0;32mnot\u001b[0m \u001b[0;32mNone\u001b[0m\u001b[0;34m:\u001b[0m\u001b[0;34m\u001b[0m\u001b[0;34m\u001b[0m\u001b[0m\n",
          "\u001b[0;32m<ipython-input-169-d1303493bd00>\u001b[0m in \u001b[0;36mpredict_usage\u001b[0;34m(distance, precip, isairport, model)\u001b[0m\n\u001b[1;32m     36\u001b[0m     \u001b[0mheatdf\u001b[0m\u001b[0;34m=\u001b[0m\u001b[0mheatdf\u001b[0m\u001b[0;34m.\u001b[0m\u001b[0mfillna\u001b[0m\u001b[0;34m(\u001b[0m\u001b[0;36m0\u001b[0m\u001b[0;34m)\u001b[0m\u001b[0;34m\u001b[0m\u001b[0;34m\u001b[0m\u001b[0m\n\u001b[1;32m     37\u001b[0m     \u001b[0mfig\u001b[0m\u001b[0;34m,\u001b[0m\u001b[0maxes\u001b[0m\u001b[0;34m=\u001b[0m\u001b[0mplt\u001b[0m\u001b[0;34m.\u001b[0m\u001b[0msubplots\u001b[0m\u001b[0;34m(\u001b[0m\u001b[0;36m1\u001b[0m\u001b[0;34m,\u001b[0m\u001b[0;36m1\u001b[0m\u001b[0;34m,\u001b[0m\u001b[0mfigsize\u001b[0m\u001b[0;34m=\u001b[0m\u001b[0;34m(\u001b[0m\u001b[0;36m15\u001b[0m\u001b[0;34m,\u001b[0m\u001b[0;36m7\u001b[0m\u001b[0;34m)\u001b[0m\u001b[0;34m)\u001b[0m\u001b[0;34m\u001b[0m\u001b[0;34m\u001b[0m\u001b[0m\n\u001b[0;32m---> 38\u001b[0;31m     \u001b[0msns\u001b[0m\u001b[0;34m.\u001b[0m\u001b[0mheatmap\u001b[0m\u001b[0;34m(\u001b[0m\u001b[0mheatdf\u001b[0m\u001b[0;34m,\u001b[0m\u001b[0max\u001b[0m\u001b[0;34m=\u001b[0m\u001b[0maxes\u001b[0m\u001b[0;34m[\u001b[0m\u001b[0;36m0\u001b[0m\u001b[0;34m]\u001b[0m\u001b[0;34m)\u001b[0m\u001b[0;34m\u001b[0m\u001b[0;34m\u001b[0m\u001b[0m\n\u001b[0m\u001b[1;32m     39\u001b[0m     \u001b[0;31m#tractdf.loc[tractdf.index==tract,'Match']=1\u001b[0m\u001b[0;34m\u001b[0m\u001b[0;34m\u001b[0m\u001b[0;34m\u001b[0m\u001b[0m\n\u001b[1;32m     40\u001b[0m     \u001b[0;31m#tractdf.plot(column='Match',ax=axes[1],cmap='viridis_r')\u001b[0m\u001b[0;34m\u001b[0m\u001b[0;34m\u001b[0m\u001b[0;34m\u001b[0m\u001b[0m\n",
          "\u001b[0;31mTypeError\u001b[0m: 'AxesSubplot' object does not support indexing"
         ]
        }
       ]
      }
     },
     "29747ef6088a4279abf145b8e8c97882": {
      "model_module": "@jupyter-widgets/controls",
      "model_module_version": "1.5.0",
      "model_name": "SliderStyleModel",
      "state": {
       "description_width": ""
      }
     },
     "2a6735487d8f441c9d6bd78c91f931d2": {
      "model_module": "@jupyter-widgets/controls",
      "model_module_version": "1.5.0",
      "model_name": "DescriptionStyleModel",
      "state": {
       "description_width": ""
      }
     },
     "2b56c88c9eba457d86753f67d2da34f6": {
      "model_module": "@jupyter-widgets/base",
      "model_module_version": "1.2.0",
      "model_name": "LayoutModel",
      "state": {}
     },
     "2bc1829186f74f4b8373df00bfd84ea5": {
      "model_module": "@jupyter-widgets/output",
      "model_module_version": "1.0.0",
      "model_name": "OutputModel",
      "state": {
       "layout": "IPY_MODEL_5614c222da574b00ac17d50219648fdf",
       "outputs": [
        {
         "data": {
          "image/png": "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\n",
          "text/plain": "<Figure size 1080x216 with 2 Axes>"
         },
         "metadata": {},
         "output_type": "display_data"
        }
       ]
      }
     },
     "2c75054723b7432aa97a53831503c385": {
      "model_module": "@jupyter-widgets/base",
      "model_module_version": "1.2.0",
      "model_name": "LayoutModel",
      "state": {}
     },
     "2c79d6f59e394097a2562e2685c1d017": {
      "model_module": "@jupyter-widgets/output",
      "model_module_version": "1.0.0",
      "model_name": "OutputModel",
      "state": {
       "layout": "IPY_MODEL_e3b99ef073224be8881e2709d83d0159",
       "outputs": [
        {
         "data": {
          "image/png": "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\n",
          "text/plain": "<Figure size 1080x360 with 2 Axes>"
         },
         "metadata": {},
         "output_type": "display_data"
        }
       ]
      }
     },
     "2da0bf9934804b6eae5960c5af9f2cc7": {
      "model_module": "@jupyter-widgets/controls",
      "model_module_version": "1.5.0",
      "model_name": "SliderStyleModel",
      "state": {
       "description_width": ""
      }
     },
     "2dcf1e3b5140414fbfe9797f3af0510a": {
      "model_module": "@jupyter-widgets/controls",
      "model_module_version": "1.5.0",
      "model_name": "IntSliderModel",
      "state": {
       "description": "precip",
       "layout": "IPY_MODEL_2c75054723b7432aa97a53831503c385",
       "max": 1,
       "style": "IPY_MODEL_3e007bb3e73f4c90a37f8d98d6cd5491"
      }
     },
     "2eefe3509c1b4265984fb72008ffc946": {
      "model_module": "@jupyter-widgets/controls",
      "model_module_version": "1.5.0",
      "model_name": "IntSliderModel",
      "state": {
       "description": "isairport",
       "layout": "IPY_MODEL_767c09d9b1654a1da832e1b8ef2f7452",
       "max": 1,
       "style": "IPY_MODEL_afed5c68769c4571aa523be6c631042c"
      }
     },
     "3250035d62424cabac9ba543a83f912a": {
      "model_module": "@jupyter-widgets/base",
      "model_module_version": "1.2.0",
      "model_name": "LayoutModel",
      "state": {}
     },
     "32bbe8c45f454558a8840a8490c7df63": {
      "model_module": "@jupyter-widgets/base",
      "model_module_version": "1.2.0",
      "model_name": "LayoutModel",
      "state": {}
     },
     "32f3252f949445928939e6ba224127b5": {
      "model_module": "@jupyter-widgets/controls",
      "model_module_version": "1.5.0",
      "model_name": "DescriptionStyleModel",
      "state": {
       "description_width": ""
      }
     },
     "349cddeebe734d368ff706a21455f1d5": {
      "model_module": "@jupyter-widgets/controls",
      "model_module_version": "1.5.0",
      "model_name": "IntSliderModel",
      "state": {
       "description": "Distance: ",
       "layout": "IPY_MODEL_df8b9042eb9c412a83af37692158a01e",
       "max": 30,
       "style": "IPY_MODEL_8659bee8c49b4985873396afbc50cc2f",
       "value": 2
      }
     },
     "35928de9e309416ead44a51daff55c0e": {
      "model_module": "@jupyter-widgets/controls",
      "model_module_version": "1.5.0",
      "model_name": "SliderStyleModel",
      "state": {
       "description_width": ""
      }
     },
     "38feea61dcc146668e7125dfab6bbb5b": {
      "model_module": "@jupyter-widgets/base",
      "model_module_version": "1.2.0",
      "model_name": "LayoutModel",
      "state": {
       "width": "500px"
      }
     },
     "39a2eb16837047b1b55a6a73af575eaa": {
      "model_module": "@jupyter-widgets/controls",
      "model_module_version": "1.5.0",
      "model_name": "DescriptionStyleModel",
      "state": {
       "description_width": ""
      }
     },
     "39b71259de9e48e8b685b028f3415d57": {
      "model_module": "@jupyter-widgets/controls",
      "model_module_version": "1.5.0",
      "model_name": "DescriptionStyleModel",
      "state": {
       "description_width": ""
      }
     },
     "3a31e0e65f984f6d8077f9bfbda3614f": {
      "model_module": "@jupyter-widgets/base",
      "model_module_version": "1.2.0",
      "model_name": "LayoutModel",
      "state": {}
     },
     "3aeb0db17ceb46e3970c3cbeec3b932e": {
      "model_module": "@jupyter-widgets/base",
      "model_module_version": "1.2.0",
      "model_name": "LayoutModel",
      "state": {
       "width": "500px"
      }
     },
     "3e007bb3e73f4c90a37f8d98d6cd5491": {
      "model_module": "@jupyter-widgets/controls",
      "model_module_version": "1.5.0",
      "model_name": "SliderStyleModel",
      "state": {
       "description_width": ""
      }
     },
     "406fd36c8990434683546ebec9b92138": {
      "model_module": "@jupyter-widgets/base",
      "model_module_version": "1.2.0",
      "model_name": "LayoutModel",
      "state": {
       "width": "500px"
      }
     },
     "4145e051005e43fbbfe914db7ab8512e": {
      "model_module": "@jupyter-widgets/base",
      "model_module_version": "1.2.0",
      "model_name": "LayoutModel",
      "state": {}
     },
     "4240b5dab31a4c7682350af5d0aaf788": {
      "model_module": "@jupyter-widgets/controls",
      "model_module_version": "1.5.0",
      "model_name": "SliderStyleModel",
      "state": {
       "description_width": ""
      }
     },
     "42a6a9552f204bbb8f0e1ab1a57808da": {
      "model_module": "@jupyter-widgets/base",
      "model_module_version": "1.2.0",
      "model_name": "LayoutModel",
      "state": {}
     },
     "4368e12564db4722bde237892ea8b478": {
      "model_module": "@jupyter-widgets/controls",
      "model_module_version": "1.5.0",
      "model_name": "VBoxModel",
      "state": {
       "_dom_classes": [
        "widget-interact"
       ],
       "children": [
        "IPY_MODEL_4694b8a59b2e41d4b2baedf99018c939",
        "IPY_MODEL_137e5e0834134402ae5eafdea29dc740",
        "IPY_MODEL_ba41bfc5968547699ba4aba07d0e710c",
        "IPY_MODEL_9bbb6d1629024e54bb550d1df2d19b33"
       ],
       "layout": "IPY_MODEL_0c34a40bf4e248a59e91e7d4dc5ca72f"
      }
     },
     "4577f6a83163437ebdfbbc5abcd24dd7": {
      "model_module": "@jupyter-widgets/base",
      "model_module_version": "1.2.0",
      "model_name": "LayoutModel",
      "state": {}
     },
     "460bd85085854ae7b4670eba233fb8c2": {
      "model_module": "@jupyter-widgets/output",
      "model_module_version": "1.0.0",
      "model_name": "OutputModel",
      "state": {
       "layout": "IPY_MODEL_4577f6a83163437ebdfbbc5abcd24dd7",
       "outputs": [
        {
         "data": {
          "image/png": "iVBORw0KGgoAAAANSUhEUgAAA54AAAGeCAYAAAD8EN7OAAAABHNCSVQICAgIfAhkiAAAAAlwSFlzAAALEgAACxIB0t1+/AAAADh0RVh0U29mdHdhcmUAbWF0cGxvdGxpYiB2ZXJzaW9uMy4xLjAsIGh0dHA6Ly9tYXRwbG90bGliLm9yZy+17YcXAAAgAElEQVR4nOzdeXQUVd7G8aezQsBIkABKUNFRYJBFHWTfAgaSECAJI4uyqCAoEGFkUzLggqwiovCqKCIqIhESNtlBVHbBURxBRBQhAyRAgJC9013vHww9IMGksatCwvdzTh3S1dX93Ardt/uXW1XXZhiGIQAAAAAATOJV3A0AAAAAAJRuFJ4AAAAAAFNReAIAAAAATEXhCQAAAAAwFYUnAAAAAMBUFJ4AAAAAAFP5FHcDShL/MtUty3I4nZZlwfNqBVn3WpGkqn43WprnJZtlWXND8izLkqSk5FsszVttO21p3vYzByzNu7VcZUvzynr5WZr3W3aqpXk1ylaxNM/P5m1pXqzNutfLKS9rZ5PbowxL87KNfEvzvjy1z9K8LHuupXneXtaO1eTmHLE072rZT/5S6Da+le6woCUoCSg8AQAAALjP6SjuFqAEofAEAAAA4D6HtSPrKNkoPAEAAAC4zTA4NQxFR+EJAAAAwH2MeMINFJ4AAAAA3Mc5nnADhScAAAAA9zHiCTdQeAIAAABwG+d4wh0UngAAAADcx4gn3GDpbLjJycmqWbOmxo4de8n6ffv2qWbNmkpMTPzTzx8aGvqnngMAAABAETgdhS/Af1k+4lmhQgV99dVXcjgc8vb2liStXLlSFStWtLopAAAAAK4WI55wg6UjnpJUrlw51a5dW19//bVr3ZYtW9S0aVNJ0ueff67OnTsrKipKTz31lE6ePClJCg0N1WuvvaauXbsqMjJS//73vyVJe/fuVXR0tKKjozVr1izXc/7000/q1auXYmNj1aZNGy1YsEBOp1OhoaH69ddfJUlZWVlq1aqVcnNzrdp9AAAAoHQwnIUvwH9ZXnhKUnh4uNasWSNJ2rNnj2rWrClfX1+dOnVKY8eO1axZs7R8+XLdd999evHFF12Pq1ChghYtWqTu3bvr7bffliSNGjVKw4cPV1JSkkJCQlzbfvrpp3rqqae0ePFiffDBB5oyZYq8vLzUpUsXLVu2TJK0du1atW7dWv7+/hbuPQAAAFDyGQ57oQtwQbEUnqGhofryyy/ldDq1atUqhYeHS5LKli2revXquQrIbt26afv27a7HtWjRQpJ011136cyZM0pLS1NqaqqaNWsmSYqJiXFtO3r0aOXm5urtt9/Wa6+9pqysLNc2K1askCQlJSVd8hgAAAAARcSIJ9xQLIVnuXLlVKtWLe3evVvbt293HWbrdF764jQMQ/n5/zt2/MLIpM1mc/1rGIbr/gvnjErS0KFDtW7dOt15550aOnSoa31ISIhuueUWrV27VqdOnVL9+vU9v4MAAABAaefIL3wB/qtYCk/p/OG206ZN0z333CMfn/PXOMrJydF3332n5ORkSdLChQvVqFGjKz5HUFCQbrnlFm3atEmSXCOZ0vnzRuPi4tSuXTt9+eWXkiSH4/yVtWJjYzV+/Hh16tTJjF0DAAAASj+uags3FFvh2aZNG+3bt08RERGudZUqVdKLL76owYMHKzIyUjt37tQLL7zwh88zdepUzZw5U126dNHhw4dd64cMGaKePXsqIiJCu3fvVrVq1VwFbVhYmM6ePavOnTubs3MAAABAaWfCiOfkyZM1evToy9YfPXpUDz/8sDp06KAnn3xSmZmZntgDWMhmXHys6nXAMAx9+eWXWrBggd566y23HutfprpJrbqcw8kx8SVZrSDrXiuSVNXvRkvzvGSzLGtuSJ5lWZKUlHyLpXmrbactzdt+5oClebeWq2xpXlkvP0vzfstOtTSvRtkqlub52bwL38iDYm3WvV5OeVn79WePMizNyzasPcTxy1P7LM3Lsls7I4G3l7VjNbk5RyzNu1o52xYUuk2ZJj2K/Hzbtm3TsGHD1Lp1a02aNOmS+wYMGKBOnTopMjJSs2bNUlZWlkaMGOF2m1F8im3Es7hMmDBBL730kkaNGlXcTQEAAABKLqez8KWIzpw5o+nTp2vgwIGX3We32/X111+rffv2ks5fLHT16tUe2w1Yw6e4G2C1MWPGaMyYMcXdDAAAAKBEK8p0Kenp6UpPT79sfWBgoAIDA123x44dq2HDhunYsWOXbXv69GmVL1/edV2Y4OBgpaSk/ImWozhcd4UnAAAAAA8owojmvHnzNHPmzMvWDx48WEOGDJEkffrpp7r55pvVpEkTJSYmXratYRiuWS0u+P1tXPsoPAEAAAC4rwgXD+rTp4+io6MvW3/xaOfKlSt14sQJde7cWWfPnlVWVpYmTJig5557TpJUsWJFnTt3Tg6HQ97e3jpx4oQqV7b2GgL48yg8AQAAALjPKHzE8/eH1BZk7ty5rp8TExO1c+dOV9EpSb6+vvrb3/6mlStXKioqSkuWLFHLli2vvt0oFtfdxYUAAAAAeIAJ06lcbMyYMdqwYYMkady4cUpISFBERIR27dqloUOHemIPYKHrbjqVP8PHr5plWVXLB1mWJUnHM6yd0qFCmXKW5p3JsXaup5pBIZbmVfW1djqV2RWsO6/ilhH3WpYlSaff3mFp3trfrOtXJOktI9nSvOoWvzZ3Zx4ufCMPquhb3tK8uv7WHlp2h1HG0rxYnzOWZaVmBFiWJUn/9vO3NO+Qt8PSvKWZP1mal5xx0tK8OwKrWpr3Q4q1n0VXK3vV64VuUzY8zoKWoCTgUFsAAAAA7vuTI5q4vlB4AgAAAHCfG/N0AhSeAAAAANzHiCfcQOEJAAAAwH1FuKotcAGFJwAAAAD35TPiiaKj8AQAAADgPibHgBsoPAEAAAC4jxFPuIHCEwAAAID7OMcTbjC18HzhhRf0zTffyG636/Dhw7rzzjslSb1791ZsbKxHs3bs2KGZM2fqww8/9OjzAgAAACiAw1HcLUAJYmrhOW7cOElScnKyevfuraVLl5oZBwAAAMAqzOMJN3gVR+gbb7yhN954w3U7NDRUycnJcjgcmjhxoqKjo9WpUye9//77kqTjx4/rkUceUUxMjLp27apvv/1WkrR582ZFRkYqJiZGCQkJrufbuXOnevTooejoaLVt21br169XRkaGGjVqpIyMDEnni+GIiAjrdhoAAAAoTRz5hS/AfxVL4XklF4rHpKQkLVq0SBs2bNCuXbu0aNEitW7dWomJiYqLi9Pu3buVl5en0aNH6/XXX1diYqLKlCnjep6PPvpI48ePV1JSksaPH68ZM2aofPnyat26tVavXi1JWrJkibp06VIs+wkAAACUdIbTKHQBLrimCs9t27Zp48aN6ty5s/7+97/r+PHj2r9/v5o0aaL33ntPzzzzjM6cOaNHHnlE+/fvV+XKlV3njUZHR7ueZ+rUqTpw4IBmzZqluXPnKjMzU5IUGxvrOtx3xYoV6ty5s/U7CQAAAJQGjHjCDcVyVVubzSbnRceE2+12SZLD4dCIESMUFhYmSUpLS1O5cuXk7++vzz77TJs2bdLKlSuVlJSkZ555RsZFcwd5e3u7fu7Zs6caNWqkRo0aqUmTJho+fLgkqWHDhkpNTdXatWsVEhKiKlWqWLG7AAAAQOnDiCbcUCwjnkFBQfr5558lSXv27NGJEyckSY0bN1ZCQoLsdrsyMzPVs2dPffvtt5oyZYqWLVum6OhojR07Vnv37lXNmjV18uRJ/fjjj5Kkzz77TJJ05swZHTp0SE8//bRatmypDRs2yPHfK27ZbDZ16dJF48ePV0xMTDHsOQAAAFBK5OcXvgD/VSwjnhEREVqzZo0iIiJUp04d/fWvf5Ukde/eXb/99puio6OVn5+vmJgYNWrUSLfeequeeeYZJSYmytvbW5MnT5avr69effVVjRgxQj4+Pq7nqFChgrp27arIyEj5+PiocePGysnJUVZWlgICAhQZGan33ntP7dq1K45dBwAAAEoHgxFPFJ3NMK6fV4zT6dSCBQv066+/Kj4+3u3H+/hVM6FVBataPsiyLEk6nnHa0rwKZcpZmncmJ9PSvJpBIZbmVfW90dK82RVslmXdMuJey7Ik6fTbOyzNW/ubdf2KJL1lJFuaV93i1+buzMOW5lX0LW9pXl3/ypbm3WGUKXwjD4r1OWNZVmpGgGVZkvRvP39L8w55Wzu/4tLMnyzNS844aWneHYFVLc37IcXaz6KrlfVKv0K3CRj+rgUtQUlQLCOexWXw4ME6duyY5syZU9xNAQAAAEo2g3k8UXTXVeH5f//3f8XdBAAAAKB04OJCcMN1VXgCAAAA8Awj39pDulGyUXgCAAAAcB+H2sINFJ4AAAAA3MeIJ9xA4QkAAADAfR4+x3PGjBlas2aNbDabunbtqkcfffSS+9evX6833nhDhmEoJCREEydO1I03Wnv1dFw9r+JuAAAAAIASyOEofCminTt3avv27Vq2bJkWL16sDz/8UL/88ovr/oyMDD3//POaPXu2li1bppo1a+qNN94wY69gEkY83eDv42tZltXzalrN6nk1fb2tfanf5GPt3H4Vvctamjczw7q8ns/ttyxLkr7wtnZezR0+5yzNO5Nt7Xsvy5lraZ7VTtut/X1m+OVbmmf1QXQfOqwbufCyttvUSVn7XsiTtefe+XlZ+zlr9bya+09bOwdySWE4C3+dpaenKz09/bL1gYGBCgwMdN1+4IEH9MEHH8jHx0cpKSlyOBwKCPjffLt2u13jxo1TlSpVJEk1a9bU8uXLPbAXsAqFJwAAAAD35RdeeM6bN08zZ868bP3gwYM1ZMiQS9b5+vrq9ddf13vvvacOHTq4ikxJCgoK0oMPPihJysnJ0ezZs9WrV68/uQOwEoUnAAAAAPcV4aq2ffr0UXR09GXrLx7tvFhcXJz69++vgQMHKiEhQd26dbvk/nPnzmnQoEGqVatWgc+LaxeFJwAAAAC3GUUY8fz9IbVXcvDgQeXl5al27doqW7aswsLCtH//pafbpKam6vHHH1fjxo313HPPXXW7UTy4uBAAAAAA9zmNwpciSk5OVnx8vPLy8pSXl6cNGzbo/vvvd93vcDg0cOBAhYeHa8yYMbLZbGbsEUzEiCcAAAAA93lwHs9WrVppz5496tKli7y9vRUWFqbIyEj1799fcXFxOn78uPbu3SuHw6E1a9ZIku655x69/PLLHmsDzEXhCQAAAMB9Hp7Hc8iQIZddcOidd96RJNWtW1c//vijR/NgLQpPAAAAAG4zHNZO24OSjcITAAAAgPs8POKJ0u0PLy706KOPav369a7bkydP1r333qu8vDzXuubNmys5ufBJdZOTkxUaGvonmvrHEhMTNXr0aNOeHwAAAMD/GPnOQhfggj8sPBs3bqzdu3e7bm/dulUNGjRwrfvtt98UEBCgkJAQc1sJAAAA4NriLMIC/NcfHmrbpEkTTZgwQZKUkpIiPz8/tW/fXps3b1aTJk20a9cuNWvWTHv27NHEiROVk5OjoKAgvfDCC6pevbr27t2rMWPGSJJq1arlet7Ro0erfPny+uGHH5SSkqJBgwYpNjZWmZmZevHFF3XgwAE5HA71799fHTt21I8//qixY8cqPz9f/v7+mjhxom6//XYtWbJEb775psqXL69q1aopICBAkrRq1SrNnTtXOTk5ysvL04QJE3TTTTepT58+2rhxo7y8vLRjxw698847evfdd8363QIAAAClFiOacMcfjnjWqVNHhw8fVm5urjZv3qxmzZqpWbNm2rx5syRp165datiwoeLj4zVt2jQlJSXp0Ucf1T//+U9J0qhRozR8+HAlJSVdNip6/Phxffzxx3rzzTc1ZcoUSdKbb76pOnXqKDExUfPnz9dbb72lI0eOaN68eXr00UeVmJiohx56SN9++61SUlL0yiuvaP78+Vq4cKEyMzMlSU6nU5988oneeustLVu2TP369dPs2bN12223KSQkRDt27JAkLVmyRDExMZ79bQIAAADXC0Y84YY/HPH09vZW/fr19f3332vz5s16+OGHVb16deXk5Ojs2bP617/+pT59+ujIkSN68sknXY/LyMhQWlqaUlNT1axZM0lSTEyMFi9e7NqmWbNmstlsuvvuu3XmzBlJ5w/lzcnJcW2XlZWlAwcOqFWrVnrxxRf11VdfKTQ0VG3atNG6det07733qlKlSpKkqKgobd++XV5eXpo1a5Y2btyoX3/9VTt37pSX1/n6OjY2VsuWLVODBg20fft2Pf/88577TQIAAADXESOfiwuh6Aq9qm3jxo31zTffaM+ePZo6daqk84fgbtiwQUFBQZKkkJAQLV26VJLkcDh08uRJ2Ww2Gcb/Xoze3t6XPK+/v78kyWazudY5nU5NnTpVderUkSSdPHlSN954o3x9fXXvvffq888/1/vvv69NmzapRYsWlzy/j8/5XcnMzFTXrl3VqVMnNWzYUDVr1tT8+fMlSR06dND06dO1Zs0atWzZ0tUGAAAAAO4xuKot3PCHh9pK54vMpUuX6u6773YVd82aNdPcuXPVrFkz3XHHHTp79qx27dolSVq8eLGGDx+uoKAg3XLLLdq0aZMkacWKFYU2pnHjxlqwYIEkKTU1VZ06ddKxY8c0dOhQff/99+revbuefvpp7d27V/fff7/rkFun06mVK1dKkg4dOiSbzaaBAweqUaNGWrdunRwOhySpbNmyatmypV599VUOswUAAAD+BCO/8AW4oNARzwuHwvbs2dO1rnHjxho6dKiaNm0qPz8/zZgxQy+//LJyc3NVvnx5TZ48WZI0depUPfvss3rttdfUoEGDQhszePBgPf/88+rYsaMcDodGjBihW2+9VQMHDtSYMWM0a9Ys+fr66vnnn1elSpUUHx+vvn37qmzZsvrLX/4i6fxFjGrXrq3w8HDZbDY1b978kivzRkZG6ptvvlH9+vXd/mUBAAAA+C/O4YQbbMbFx6uWcg6HQ9OnT9dNN92kRx991O3Hlwu43fONuoLcfLtlWdcDX+9C/8biUQ0r/sXSvCo+5S3NC7GVtSyrpz3XsixJ+sK7nKV5O2znLM37PvuopXl+Xta+9zLycyzNs8lW+EYedF+56pbm1ZG1fUuuzbqvJIUe8uVhJ2Xt53qexRXBzuzC53Qvyfaftnb/8vP+Y2ne1TrZvlWh21Ra84UFLUFJYO03gmIWGxuroKAgvfnmm8XdFAAAAKBEMxjxhBuuq8JzyZIlxd0EAAAAoFSg8IQ7rqvCEwAAAIBnGA5rTzdAyUbhCQAAAMBtjHjCHRSeAAAAANzmzGfEE0VH4QkAAADAbYZB4Ymio/B0g7fN6ouvw1PsDmtnMD6YddzSvPI33GZpnrctwLKs1PwylmVJUgsjy9K8JIunUzmbl2lpXqcKdSzNSzPyLM07mHfK0ryzTmunFyrjdYOleS2zrZtypFLZbMuyJCkrz9fSvDf9rC0IWpa19nNo9bn9luZVCgi0NK+kYMQT7qDwBAAAAOA2w7qpd1EKUHgCAAAAcJszn6MBUXQUngAAAADcxogn3MGfKQAAAAC4zenwKnRxx8yZMxUZGanIyEhNmTLlittt2rRJoaGhf7b5sBiFJwAAAAC3Gc7Cl6LaunWrNm/erKSkJC1ZskQ//PCD1q1bd9l2J0+e1OTJkz24F7AKhScAAAAAtzmcXoUuRRUcHKzRo0fLz89Pvr6+uvPOO3X06NHLtouPj9fgwYM9uRuwCOd4AgAAAHCb4Sx8OpX09HSlp6dftj4wMFCBgf+bpuauu+5y/Xzo0CGtWrVKCxYsuOQxH3zwgf7617+qfv36f6LVKC4UngAAAADc5nQUXnjOmzdPM2fOvGz94MGDNWTIkMvWHzhwQAMGDNDIkSN1++23u9b/9NNPWrt2rd5//30dP27tfOnwDApPAAAAAG5zGoUXnn369FF0dPRl6y8e7bxg9+7diouL03PPPafIyMhL7lu9erVOnDih2NhY2e12paamqmfPnvr444+vfgdgKY8Xni+88IK++eYb2e12HT58WHfeeaek88PsMTExBf5lw1PeeOMNSTI1AwAAAIDkLMKhtr8/pPZKjh07pkGDBmn69Olq0qTJZffHxcUpLi5OkpScnKzevXtTdJYwHi88x40bJ+l/L4ilS5dK+l9RCAAAAKDkK8qIZ1HNmTNHubm5mjRpkmtd9+7dtXHjRsXFxalu3boey0LxsPRQ2z179qh79+5KSUlxjX4mJiZq586drhdZr169XFeqmjp1qpxOp+666y516dJFU6dOlSTdeOONmjZtmipWrKh3331XCQkJCgoKUmBgoOrVqydJ+uijj7R06VJlZ2fL19dX06ZNU0pKimbMmKFPPvlEkpSYmKjvvvtOL7zwgpW/BgAAAKDEK8qIZ1HFx8crPj7+svU9evS4bF1ISIg2btzosWxYw9LpVE6dOqUPPvhAixcv1pw5c5SRkfGH2x86dEjz5s3T5MmT9X//9396/vnnlZiYqKZNm2rv3r36/vvvtXjxYiUlJWnu3LmuE40zMjK0fv16ffjhh1qxYoVat26t+fPnq3Hjxjpx4oQOHz4sSVqyZIliYmJM328AAACgtHEatkIX4AJLRzxbtGghPz8/VaxYUUFBQTp79uwfbl+jRg3dcMMNkqS2bdtq8ODBateundq2batmzZppzpw5atWqlcqVKydJ6tChg5xOp8qXL69p06bps88+06FDh/TVV1+pdu3astlsio6O1rJlyxQTE6NTp05xOWYAAADgKrgzTydgaeHp4/O/OJvNJsMwXP9eYLfbXT+XKVPG9XPfvn3Vpk0bff7555o6dar27Nkjf3//Sx7r4+OjvLw8HTt2TL169dIjjzyili1bqlKlStq3b58kKTo6Wv369ZOfn586d+5s5u4CAAAApZZR+CaAS7H/mSIoKEgHDx6UYRg6cuSI9u/fX+B2f//735WZmam+ffuqb9++2rt3r5o0aaLPP/9c586dU25urtatWydJ+v7773Xbbbepb9++qlu3rtavXy+HwyFJqlatmqpWrapPPvmEwhMAAAC4Sg6nV6ELcEGxz+PZtGlTLV68WB06dFCNGjV0//33F7jdP/7xD40ePVo+Pj4KCAjQ+PHjdfvtt6tPnz7q2rWrAgMDdcstt0iSmjVrpgULFigiIkKGYahhw4Y6cOCA67kiIiK0du1aValSxZJ9BAAAAEobZ3E3ACWKzbj4WNXrQH5+vkaOHKkOHTooLCzMrccGlrvDpFZdLsuea1kWPK9KuQqW5tW/4TZL8/7qdaNlWW2yLYuSJFXytva99w/bGUvzfsk8bmlepwp1LM1LM/IszTuYd8rSvEo+5S3NC/WqZGneAznW/f9VKmtt55KV52tp3pt+1l7UJUDeluatPlfwEXJmyXZY27ccP7PP0ryrtanK3wvdpnXKpxa0BCXBdTX+bRiGWrRoIZvNpnbt2hV3cwAAAIASyylboQtwQbEfamslm82mbdu2FXczAAAAgBLPoLCEG66rwhMAAACAZzgoPOEGCk8AAAAAbuPiQnAHhScAAAAAtzHiCXdQeAIAAABwm5O6E26g8HRDrsNe3E3AVbo1sLKleVn5OZbmrT3+naV5r95e37KsO3fNtCxLkhLqjbU0b5ZPvqV5/QOsnR5j2ZkfLM1re2MtS/Nq+QVbmldbAZbmWX3p+zurpVmWNfeUtXN5j5r2F0vz7hz9s6V5LS2cCkeSHitj3RR3kjTbl6/MBWHEE+7gXQQAAADAbZzjCXdQeAIAAABwm8PGiCeKjsITAAAAgNsY8YQ7KDwBAAAAuC2fEU+4gcITAAAAgNuM4m4AShQKTwAAAABuy2fAE26g8AQAAADgNkY84Q4KTwAAAABuY8QT7rB6bug/lJycrHvuuUedO3e+ZDl27Ngl2/Xv318pKSmXPb5Xr17asWOHVc0FAAAArlvOIizABdfciGflypW1dOnSP9zmnXfesag1AAAAAAri8PCIZ0ZGhrp376633npLISEhl9z3yy+/aNy4cTp79qyCg4P16quv6sYbb/RsA2Cqa2rE80pGjx6tgQMHKjw8XBs3blRoaKiSk5OVl5enESNGKDw8XP369dPp06clSfn5+YqPj1e3bt3Utm1bPfXUU8rJydFrr72m6dOnX/K8K1euLK7dAgAAAEosT454fvfdd+rRo4cOHTp02X2GYejJJ59U//79tWzZMtWuXVuzZ8/+0+2Hta65wjM1NfWSw2zfffddSVKFChW0atUqhYaGurb98MMPJUmrVq1SfHy8Dh8+LEn617/+JV9fXy1cuFDr1q3TuXPn9MUXXyg2NlbLly+XYRjKzs7W9u3b1bZtW+t3EgAAACjhHLbCl6JKSEjQuHHjVLly5cvu++GHHxQQEKCWLVtKkgYOHKiHH37YU7sBi5SIQ21Hjx6tevXqXbbtzp071a1bN0nS7bffrnvvvVeS1LBhQ1WoUEHz58/XL7/8okOHDikrK0vVq1dXtWrV9PXXX+vo0aNq1aqV/P39zd8pAAAAoJQpyohmenq60tPTL1sfGBiowMBA1+2XX375is9x+PBhVapUSc8995z27dunO+64Q//85z+vpskoRtfciOeVlClT5rJ1NptNhvG/Czn7+Jyvozds2KDhw4erTJkyiomJUcOGDV3bxcbGasWKFVqxYoViYmKsaTwAAABQyjiKsMybN09t27a9bJk3b16Rc/Lz87Vz50716NFDSUlJql69uiZNmuT5HYKprrkRT3c0adJEy5cvV5s2bXTs2DF98803kqRt27YpPDxcsbGxOnLkiHbs2KEmTZpIkjp06KBZs2apXLlyql+/fnE2HwAAACixnEU4lLZPnz6Kjo6+bP3Fo52FCQ4O1m233aa6detKkjp27Ki4uLgiPx7XhhJdePbs2VMHDhxQeHi4qlWrprvvvluS9Pe//13Dhw/XZ599Jl9fX913331KTk6WdH7ktEGDBq5tAQAAALjPUYRtfn9I7dW49957lZaWph9//FG1atXSxo0bVadOnT/1nLDeNVV4hoSEaOPGjZet//1Q+sXbjHBj4OwAACAASURBVB8/vsDnWr58+WXrDMNQZmam9u7dq5EjR/7J1gIAAADXL6eMwjf6E/r376+4uDjVrVtXs2bNUnx8vLKzs1W1alVNmTLF1Gx43jVVeJrt+++/V79+/TRo0CAFBwcXd3MAAACAEqsoI57uuniA6Z133nH9XL9+fS1atMiERFjluio869Wrp507dxZ3MwAAAIASz515OoHrqvAEAAAA4BlFubgQcAGFJwAAAAC3OUw+xxOlC4UnAAAAALdxqC3cQeEJAAAAwG2MeMIdFJ4AAAAA3MaIJ9xhMwyDP1UUUVj1DpZl7Tn3m2VZknQmJ9PSPH8fX0vzMvNyLM3z9vKyNM/LZm1eOV9/y7Jy8u2WZUlSeHA9S/OCbdb9LiWpRZ61770tfvmW5t3jsHb/fvO29mtXmqx9Pzxb4YyleY586/qyk2nlLMuSpLJ+1v7fHckub2me3WbtVWaO+1r7uXdHnrV9WVjKJ5bmXa1ht3cvdJvph0rGvsB8jHgCAAAAcBsjnnAHhScAAAAAt3GOJ9xB4QkAAADAbU4KT7iBwhMAAACA2xjxhDsoPAEAAAC4jXM84Q4KTwAAAABuY8QT7qDwBAAAAOA2g8ITbqDwBAAAAOC2fIPCE0Vn2uy7q1evVkxMjDp16qSoqCi9++67f7h9QkKCVqxYcdV5ycnJCg0NverHAwAAACg6owgLcIEpI54pKSmaPHmyEhMTFRQUpMzMTPXq1Us1atRQ27ZtC3zMN998owceeMCM5gAAAADwMAeXF4IbTCk8T58+LbvdrpycHElSuXLlNGnSJPn7+2vVqlWaO3eucnJylJeXpwkTJignJ0cbN27U9u3bFRwcrM8++0wPPPCAYmJiJEk1a9bU/v379cYbb+jbb7/VsWPH9Mgjj6hBgwYaM2aMJKlWrVqu/J9++kkvvfSSsrKylJaWpieeeELdunVTu3btNGfOHNWoUUNZWVkKDw/X2rVr5e/vb8avAQAAACi1KDvhDlMOta1Vq5batm2rdu3aqWvXrpo6daqcTqeqV6+uTz75RG+99ZaWLVumfv36afbs2WratKlCQ0MVFxenFi1a/OFz5+XlaeXKlerZs6dGjRql4cOHKykpSSEhIa5tPv30Uz311FNavHixPvjgA02ZMkVeXl7q0qWLli1bJklau3atWrduTdEJAAAAXAWHnIUuwAWmneP5wgsvaOPGjerRo4eOHj2qhx56SOvXr9esWbO0efNmzZgxQ0lJScrMzHTreevVqydJSktLU2pqqpo1ayZJrtFRSRo9erRyc3P19ttv67XXXlNWVpZrmwvnkSYlJV3yGAAAAABF5yzCAlxgSuG5adMmrVy5UlWqVFFsbKymT5+u+Ph4zZ8/X127dlVycrIaNmyoXr16Ffh4m80m479XybLb7ZfcV6ZMmcu2kSRvb2/Xz0OHDtW6det05513aujQoa71ISEhuuWWW7R27VqdOnVK9evX99g+AwAAANcTh+EsdAEuMKXwLFOmjKZNm6bk5GRJkmEY2rdvn/z8/GSz2TRw4EA1atRI69atk8PhkHS+cLzwc4UKFfTzzz9LktavX19gRlBQkG655RZt2rRJki65Iu6WLVsUFxendu3a6csvv5Qk13PHxsZq/Pjx6tSpk+d3HAAAALhOMOIJd5hSeDZu3FiDBw/WwIED1b59e3Xo0EHe3t6aNWuWateurfDwcEVGRiooKEhHjx6VJDVt2lRvvfWWVq9erR49emjHjh2KiorSN998o+Dg4AJzpk6dqpkzZ6pLly46fPiwa/2QIUPUs2dPRUREaPfu3apWrZqrCA4LC9PZs2fVuXNnM3YdAAAAuC54+hzP5cuXKyIiQmFhYZo/f/5l9//www+KjY1Vp06dNGDAAKWnp3tqV2ABm2FcPzO/GoahL7/8UgsWLNBbb73l9uPDqncwoVUF23PuN8uyJOlMjnvn2v5Z/j6+luZl5uVYmuftZdrp0wXyslmbV87Xuoty5eTbC9/Ig8KD61maF2yz9gJnLfKsfe9t8cu3NO8eh7X795u3tX/PT5O174dnK5yxNM+Rb11fdjKtnGVZklTWz9r/uyPZ5S3Ns9tsluYd97X2c++OPGv7srCUTyzNu1rh1cML3WbVkVVFeq6UlBT16NFDiYmJ8vPzU/fu3fXqq6/qL3/5i2ubnj17asCAAWrVqpVrxoxhw4ZddfthLVOmU7lWTZgwQZ9//rneeeed4m4KAAAAUKI5VPj4VXp6eoEjk4GBgQoMDHTd3rp1qxo3bqwKFSpIktq3b6/Vq1dr8ODBrm2cTqfrwqTZ2dm68cYb/+wuwELXVeE5ZswY17yfAAAAAK6eswiF57x58zRz5szL1g8ePFhDhgxx3U5NTb3k9LrKlStrz549lzxm9OjReuyxxzRhwgSVLVtWCQkJf6L1sNp1VXgCAAAA8IyinLHXp08fRUdHX7b+4tFO6fxopu2iQ7YNw7jkdk5OjsaMGaP3339f9erV09y5czVq1CjNnj37T+wBrEThCQAAAMBtRbl40O8Pqb2SqlWrateuXa7bJ06cUOXKlV23f/rpJ/n7+6tevfPXYujWrZtmzJhxFa1GcbH2zGwAAAAApYLTMApdiqpp06batm2b0tLSlJ2drbVr16ply5au+2+77TYdP35cv/zyiyRpw4YNqlu3rsf3CeZhxBMAAACA24pycaGiqlKlioYNG6bevXvLbrera9euqlevnvr376+4uDjVrVtXEydO1NChQ2UYhm666SZNmDDBY/kwH4UnAAAAALcV5eJC7oiKilJUVNQl6y6ejaJVq1Zq1aqVRzNhHQpPN0wwyliWNb9CfcuyJGlpxn5L8zLt2Zbm5XlbO/+W3WFtXjl/616bkrXzvtYMCrEsS5KO2M9amlfHt5q1eX7WTrb9ap61v0+7XxVL84Jl7byh5eRtad7DJxyW5t3tW/h5YJ7yvZFqWZYk1TKCC9/Ig5J9T1ia94qsnTd0pqz9HrH93E+W5mVYmnb1HIa1cxmjZKPwBAAAAOA2w8MjnijdKDwBAAAAuI0RT7iDwhMAAACA24oyjydwAYUnAAAAALcVZR5P4AIKTwAAAABuc2eeToDCEwAAAIDbOMcT7qDwBAAAAOA2rmoLd1B4AgAAAHAbI55wR7EUnqtXr9bs2bOVn58vwzDUuXNn9evX708/b82aNbV//34PtBAAAADAH+EcT7jD8sIzJSVFkydPVmJiooKCgpSZmalevXqpRo0aatu2rdXNAQAAAHAVnIajuJuAEsTL6sDTp0/LbrcrJydHklSuXDlNmjRJf/nLXxQaGqrk5GRJ0o4dO9SrVy9JUq9evTRlyhR169ZNDz74oL744gtJUnJysnr06KHOnTtr7NixroyUlBQ9/vjjeuihh9S6dWvNmDFDktSzZ09t2bJF0vl5h8LCwpSSkmLZvgMAAAClhVNGoQtwgeWFZ61atdS2bVu1a9dOXbt21dSpU+V0OnXbbbf94ePsdrsWLlyoZ5991lVIvvTSS4qJidHSpUt13333ubZdsWKFOnbsqISEBC1fvlzz5s1TWlqaYmNjtXTpUknSrl27dOutt6pKlSrm7SwAAABQSjkMZ6ELcIHlhackvfDCC9q4caN69Oiho0eP6qGHHtLatWv/8DEtWrSQJN111106c+aMJGnnzp0KDw+XJHXq1Em+vr6SpMcff1w333yz5syZo5dffll2u13Z2dkKDw/X1q1blZWVpaSkJMXExJi4lwAAAEDpZRhGoQtwgeXneG7atElZWVmKiIhQbGysYmNjlZCQoEWLFkmS6wWan59/yeP8/f0lSTab7ZL1F7a32Wzy8jpfR0+aNElHjhxRx44d1a5dO23dulWGYSggIEAtW7bUmjVrtH37do0bN87UfQUAAABKK0Y04Q7LRzzLlCmjadOmuc7lNAxD+/btU+3atRUUFKSff/5ZkrRhw4ZCn6tp06ZatmyZJGnt2rXKzc2VJG3ZskWPP/64wsPD9euvvyolJUVO5/k3RmxsrKZPn64WLVq4ilkAAAAA7mHEE+6wfMSzcePGGjx4sAYOHCi73S7p/GG0gwYN0n333aeXXnpJM2fOVPPmzQt9rrFjx2rEiBFauHCh7rnnHpUrV06SNGDAAI0cOVJlypRR1apVdc899yg5OVm33nqr7r//ftlsNsXGxpq6nwAAAEBpxogn3GEzrqM/RRiGoZ9++kmjRo3SkiVL3H78rpAuJrSqYPN9yliWJUlLM6yd/zTTnm1pXnqetXl2R37hG3lQoH+ApXnpuVmWZdUMCrEsS5Ju8C5raV4H32qW5sXY0i3NezzvrKV59/lZe8G4YPlampcla7/k7bCnWpp3t2+QZVnf51q7b7X8gi3NS3ZY+15/ReUtzRtts/ZzffupnyzNy8j61dK8q1XxhrsK3Sbt3AELWoKSwPIRz+I0b948vfvuu66r4gIAAAC4Oox4wh3XVeHZt29f9e3bt7ibAQAAAJR419GBk/CA66rwBAAAAOAZTgpPuKFY5vEEAAAAULI5DGehizuWL1+uiIgIhYWFaf78+Zfdv2/fPsXExKh9+/YaM2bMZdMv4tpG4QkAAADAbZ6cTiUlJUXTp0/Xxx9/rCVLlmjhwoWuaRYvGDFihMaOHas1a9bIMAwlJCR4epdgIgpPAAAAAG5zGs5Cl6LaunWrGjdurAoVKiggIEDt27fX6tWrXff/5z//UU5Ojho0aCBJiomJueR+XPs4xxMAAACA24oyopmenq709Mun9wkMDFRgYKDrdmpqqoKD/zftUOXKlbVnz54r3h8cHKyUlJSrbTqKAYWnG/6W7P7cn1edZVnSedMtzgNwffi6uBsAoFRaX9wNgCTJnvefQrd54403NHPmzMvWDx48WEOGDHHddjqdstlsrtuGYVxyu7D7ce2j8AQAAABgij59+ig6Ovqy9RePdkpS1apVtWvXLtftEydOqHLlypfcf+LECdftkydPXnI/rn2c4wkAAADAFIGBgQoJCbls+X3h2bRpU23btk1paWnKzs7W2rVr1bJlS9f91apVk7+/v3bv3i1JWrp06SX349pnM5j5FQAAAEAxW758ud5++23Z7XZ17dpV/fv3V//+/RUXF6e6devqxx9/VHx8vDIyMlSnTh1NnDhRfn5+xd1sFBGFJwAAAADAVBxqCwAAAAAwFYUnAAAAAMBUFJ4AAAAAAFNReAIAAAAATEXhCQAAAAAwFYWniZYvX66IiAiFhYVp/vz5lmRmZGSoY8eOSk5ONj1r5syZioyMVGRkpKZMmWJ63owZMxQREaHIyEjNnTvX9DxJmjx5skaPHm1JVq9evRQZGanOnTurc+fO+u6770zL2rhxo2JiYhQeHq7x48ebliNJn376qWufOnfurPvvv18vvviiqZlLly51vTYnT55sapYkzZ49W+3bt1dUVJTefPNN03J+//7eunWroqKiFBYWpunTp5ueJ0l2u119+vTRjh07TM9buHChOnbsqKioKD377LPKy8szLevjjz9WZGSkIiIiNHnyZHn6gu9X6ps/+ugj9erVy6NZBeU9++yzCgsLc70P161bZ2rev/71Lz300EOKjIzUP/7xD4/+3/0+74svvrikj2ncuLEGDBhgWp4kbd68WZ06dVLHjh01cuRIU/dPkhITExUREaGoqCiNHz9e+fn5Hssq6LPczL7lSt8dzOpbCsozs28pKM/s/gUoMQyY4vjx40abNm2M06dPG5mZmUZUVJRx4MABUzO//fZbo2PHjkadOnWMI0eOmJq1ZcsWo1u3bkZubq6Rl5dn9O7d21i7dq1peTt27DC6d+9u2O12Izs722jTpo1x8OBB0/IMwzC2bt1qNGrUyBg1apSpOYZhGE6n02jevLlht9tNzzp8+LDRvHlz49ixY0ZeXp7Ro0cPY9OmTabnGoZh/PTTT8aDDz5onDp1yrSMrKwso2HDhsapU6cMu91udO3a1diyZYtpeVu2bDE6duxonDt3zsjPzzcGDBhgrFmzxuM5v39/Z2dnG61atTIOHz5s2O1247HHHvPo/2NB/cnBgweNbt26GXXr1jW2b9/usayC8n755RfjwQcfNM6dO2c4nU5j5MiRxty5c03JOnz4sPHggw8amZmZRn5+vtGtWzfjq6++8khWQXkXHDhwwGjRooXxyCOPeCzrSnkdO3Y0UlJSPJpzpbxz584ZzZo1M/bt22cYhmEMGzbMmD9/vml5F0tNTTXatm1r/Prrr6bmtWzZ0vj5558NwzCMIUOGGAkJCablHTx40GjRooXr/2/cuHHGe++955Gsgj7Lly9fblrfcqXvDmb1LQXlvf3226b1LQXlzZ0719T+BShJGPE0ydatW9W4cWNVqFBBAQEBat++vVavXm1qZkJCgsaNG6fKlSubmiNJwcHBGj16tPz8/OTr66s777xTR48eNS3vgQce0AcffCAfHx+dOnVKDodDAQEBpuWdOXNG06dP18CBA03LuNgvv/wiSXrsscfUqVMnffTRR6ZlrVu3ThEREapatap8fX01ffp01a9f37S8iz3//PMaNmyYKlasaFqGw+GQ0+lUdna28vPzlZ+fL39/f9Py9u7dq+bNm6t8+fLy9vZWixYttH79eo/n/P79vWfPHt12222qXr26fHx8FBUV5dE+pqD+ZNGiRerXr58pr5ff5/n5+WncuHEqX768bDab7r77bo/1Mb/Pql69uj777DMFBAQoPT1dGRkZCgwM9EhWQXmSlJeXp7FjxyouLs5jOVfKy87O1tGjR/Xcc88pKipKr7/+upxOp2l5W7ZsUYMGDVSrVi1JUnx8vB588EHT8i42ZcoUde/eXbfffrupeQ6HQxkZGXI4HMrNzfVoH/P7vP3796tBgwau223atPFYH1PQZ/mhQ4dM61uu9N3BrL6loLy8vDzT+paC8mw2m6n9C1CS+BR3A0qr1NRUBQcHu25XrlxZe/bsMTXz5ZdfNvX5L3bXXXe5fj506JBWrVqlBQsWmJrp6+ur119/Xe+99546dOigKlWqmJY1duxYDRs2TMeOHTMt42Lp6elq0qSJ/vnPf8put6t3796qUaOGmjVr5vGs3377Tb6+vho4cKCOHTum1q1ba+jQoR7P+b2tW7cqJydH4eHhpuaUL19eTz/9tMLDw1W2bFk1bNhQ9913n2l5derU0YQJEzRgwACVLVtWGzduNOUwqt+/vwvqY1JSUkzLk6SRI0dKkubNm+exnCvlVatWTdWqVZMkpaWlaf78+Zo4caIpWdL5/iUhIUGTJ09WvXr1XEWTWXnTpk1TbGysQkJCPJZzpbyTJ0+qcePGGjdunG644QYNGDBAixYt0kMPPWRK3m+//aaAgAANGzZMv/zyi+677z6PnrJwpc+6Q4cOaefOnR7/LCzo+Z5//nn16tVL5cuXV0hIiDp06GBaXq1atTRp0iQdO3ZMlStX1urVq3Xy5EmPZBX0Wf7II4+Y1rdc6bvDhT8UeLpvKSzP033LlfLM7F+AkoQRT5M4nU7ZbDbXbcMwLrldWhw4cECPPfaYRo4c6dG/MF9JXFyctm3bpmPHjikhIcGUjE8//VQ333yzmjRpYsrzF+Tee+/VlClTdMMNN6hixYrq2rWrvvjiC1OyHA6Htm3bpgkTJmjhwoXas2ePkpKSTMm62CeffKJHH33U9Jwff/xRixcv1ueff66vvvpKXl5emjNnjml5TZo0UUxMjHr16qV+/frp/vvvl6+vr2l5F1wvfUxKSor69Omj2NhYNWrUyNSshx56SDt27FClSpU0c+ZM03K2bNmiY8eOKTY21rSMi1WvXl2zZs1S5cqVVbZsWfXq1cu0/kU638ds3rxZ//jHP5SYmKjs7GzNnj3btLwLFi5cqJ49e8rPz8/UnBMnTuiVV17RihUrtHnzZtWvX99jhUtBatSooWeeeUZPPvmkHn74YdWsWdPjfczFn+XVq1c3vW+x+rtDQXlm9i0F5VnVvwDXMgpPk1StWlUnTpxw3T5x4oQlh8Baaffu3erbt6+eeeYZRUdHm5p18OBB7du3T5JUtmxZhYWFaf/+/aZkrVy5Ulu2bFHnzp31+uuva+PGjZowYYIpWRfs2rVL27Ztc902DEM+PuYckFCpUiU1adJEFStWVJkyZdSuXTvTR+Pz8vL09ddfKzQ01NQc6fxFP5o0aaKbbrpJfn5+iomJ0c6dO03Ly8jIUFhYmJYvX64PP/xQfn5+ql69uml5F1wPfczBgwfVvXt3RUdHa9CgQablHDt2TLt375Yk+fj4KDIy0rT+RZJWrFihAwcOqHPnzoqPj9e///1vU4862L9/v9asWeO6bWb/Ip3vY+rXr6/q1avL29tb4eHhpvcxkrRhwwZFRESYnrNr1y7dfffduvXWW+Xl5aWHHnrI1D4mNzdX9erV05IlS/TJJ5+oSpUqHu1jfv9ZbnbfYuV3hyvlmdm3/D7P6v4FuJZReJqkadOm2rZtm9LS0pSdna21a9eqZcuWxd0sjzl27JgGDRqkV155RZGRkabnJScnKz4+Xnl5ecrLy9OGDRt0//33m5I1d+5crVixQkuXLlVcXJxCQ0P13HPPmZJ1wblz5zRlyhTl5uYqIyNDSUlJHj0n6mJt2rTR5s2blZ6eLofDoa+++kp16tQxJeuC/fv36/bbbzf1vNwLatWqpa1btyorK0uGYWjjxo2qW7euaXnJycl66qmnlJ+fr3PnzmnRokWmH04sSfXr19evv/6q3377TQ6HQytWrChVfUxGRoYef/xxPf3003rsscdMzTp37pxGjBih9PR0GYahNWvWmNa/SNLEiRO1atUqLV26VOPHj9c999yj1157zbQ8wzA0YcIEnT17Vna7XQsXLjStf5Gk5s2b64cffnCdqvD555+b3sekpaUpJyfHkj/63H333dqzZ4/rcNcNGzaY2sdkZWWpb9++ysjIUF5enj766COPFdgFfZab2bdY/d2hoDwz+5aC8qzuX4BrGed4mqRKlSoaNmyYevfuLbvdrq5du6pevXrF3SyPmTNnjnJzczVp0iTXuu7du6tHjx6m5LVq1Up79uxRly5d5O3trbCwMEs+tKzSpk0bfffdd+rSpYucTqd69uype++915Ss+vXrq1+/furZs6fsdruaNWtm+iF/R44cUdWqVU3NuKB58+bau3evYmJi5Ovrq7p16+qJJ54wLa9WrVoKCwtTp06d5HA41LdvX0u+VPj7+2vSpEkaMmSIcnNz1apVK4+eZ1bcFi1apJMnT2ru3Lmu6ZNCQ0P19NNPezzr7rvv1hNPPKHu3bvL29tbf/vb3yw5LNwqtWrV0hNPPKEePXooPz9fYWFh6tixo2l5N998s1588UUNHDhQubm5ql27tkaNGmVannT+D0BW9TF33nmnnn76afXu3Vve3t667bbbTJ0iKigoSIMGDVK3bt2Un5/vmgbEE670WW5W32L1d4eC8iIiIkzrW660f6W5fwHcYTPMuAoGAAAAAAD/xaG2AAAAAABTUXgCAAAAAExF4QkAAAAAMBWFJwAAAADAVBSeAAAAAABTUXgCANxSs2ZNpaWlXbIuMTFRAwYMKKYWAQCAax2FJwAAAADAVBSeAACPOnfunIYPH+6a6H7KlCnKz8+XdPlo6YXbO3bsUKdOndS9e3dFRUUpLy+vuJoPAABM4FPcDQAAlDx9+vSRl9f//nZ59uxZ1axZU5I0fvx4VahQQcuXL5fdbteTTz6p9957T0888cQfPueBAwe0fv16VatWzdS2AwAA61F4AgDcNm/ePFWsWNF1OzExUWvWrJEkffnll1qwYIFsNpv8/PzUvXt3zZs3r9DC8+abb6boBACglOJQWwCARzmdTtlstktuXzjU9mK/P5w2ICDA9LYBAIDiQeEJAPCo5s2b66OPPpJhGMrLy1NCQoKaNm0qSapYsaK+//57SdKKFSuKs5kAAMBCpa7wzMjIUMeOHZWcnHzZffv27VNMTIzat2+vMWPGFPgXeADAnxMfH6+0tDRFRUUpKipKNWrU0MCBA133vfjii4qOjtbBgwcVHBxczK0FAABWsBmGYRR3Izzlu+++U3x8vH799VetXr1aISEhl9zfsWNHjR8/Xg0aNNBzzz2ne+65Rz179iym1gIAAADA9aFUjXgmJCRo3Lhxqly58mX3/ec//1FOTo4aNGggSYqJidHq1autbiIAAAAAXHdK1VVtX3755Svel5qaeskhXcHBwUpJSbGiWQAAAABwXStVhecf+f1VFg3DuOR2UZ0+nSmns9QcnYxS4qabyuvUqYzibgZQIF6fuFbx2sS1itcmrlVeXjYFBZW7qsdeN4Vn1apVdeLECdftkydPFnhIbmGcToPCE9ckXpe4lvH6xLWK1yauVbw2UdqUqnM8/0i1atXk7++v3bt3S5KWLl2qli1bFnOrAAAAAKD0K/WFZ//+/V1zxr3yyiuaOHGiOnTooKysLPXu3buYWwcAAAAApV+pmk7FCqdOZXDoA645wcE36MSJc8XdDKBAvD5xreK1iWsVr01cq7y8bLrppvJX91gPtwUAAAAAgEtQeAIAAAAATEXhCQAAAAAwFYUnAAAAAMBUFJ4AAAAAAFNReAIAAAAATEXhCQAAAAAwFYUnAAAAAMBUFJ4AAAAAAFNReAIAAAAATEXhCQAAAAAwFYUnAAAAAMBUFJ4AAAAAAFNReAIAAAAATEXhCQAAAAAwFYUnAAAAAMBUFJ4AAAAAAFNReAIAAAAATEXhCQAAAAAwFYUnAAAAAMBUFJ4AAAAAAFNReAIAAAAATEXhCQAAAAAwFYUnAAAAAMBUFJ4AAAAAAFOVqsJz+fLlioiIUFhYmObPn3/Z/T/88INiY2PVqVMnDRgwQOnp6cXQSgAAAAC4vpSawjMlJUXTp0/Xxx9/rCVLlmjhwoX6+eefL9nm8I6XZQAAENtJREFU5ZdfVlxcnJYtW6YaNWpozpw5xdRaAAAAALh+lJrCc+vWrWrcuLEqVKiggIAAtW/fXqtXr75kG6fTqczMTElSdna2ypQpUxxNBQAAAIDrSqkpPFNTUxUcHOy6XblyZaWkpFyyzejRoxUfH6/mzZtr69at/9++/YVWfd//A39FSh35VlDScxIow5uBXW3SFgYL2Qi0tMnqnJ1/oNbS3EiccxKai9HNhGUwrM6N2W30YrmZlEWwF5s2NzG0xcFIQCwbDltx4kW30iRHM5wpCUTP53fxY+dL/EP8k3fO+Z7zeNy9eR85z4snB55+Pont27cvd0wAAICa81C5AyyVYrEYdXV1pXOWZQvOc3Nz0dfXF0eOHImWlpb4/e9/H2+88UYMDg7e0/c0NDyyZJlhKeVyq8odAe5IP6lUukml0k2qTdUMz6ampjhz5kzpXCgUIp/Pl84XLlyIlStXRktLS0REvPzyy/HrX//6nr/nypWZKBazBw8MSyiXWxWFwrVyx4Db0k8qlW5SqXSTSrViRd19P4irmldt29raYnx8PKanp2N2djZGR0ejvb29dL927dqYmJiIS5cuRUTEBx98EM3NzeWKCwAAUDOq5olnY2Nj9Pb2RldXV8zPz8e2bduipaUluru7o6enJ5qbm+PAgQPx+uuvR5Zl0dDQEG+++Wa5YwMAAFS9uizLvDd6D7xqSyXySg6VTD+pVLpJpdJNKpVXbQEAAKhYhicAAABJGZ4AAAAkZXgCAACQlOEJAABAUoYnAAAASRmeAAAAJGV4AgAAkJThCQAAQFKGJwAAAEkZngAAACRleAIAAJCU4QkAAEBShicAAABJGZ4AAAAkZXgCAACQlOEJAABAUoYnAAAASRmeAAAAJGV4AgAAkJThCQAAQFKGJwAAAEkZngAAACRleAIAAJCU4QkAAEBShicAAABJVdXwHB4ejg0bNkRHR0cMDQ3dcn/p0qV47bXXYtOmTbFz5864evVqGVICAADUlqoZnpOTk3H48OE4evRoHD9+PI4dOxYXL14s3WdZFt///veju7s73nvvvfjqV78ag4ODZUwMAABQG6pmeI6NjUVra2usXr066uvro7OzM0ZGRkr3586di/r6+mhvb4+IiN27d8err75arrgAAAA1o2qG59TUVORyudI5n8/H5ORk6fzpp5/Go48+Gvv27YvNmzfHwMBA1NfXlyMqAABATXmo3AGWSrFYjLq6utI5y7IF5+vXr8fp06fjD3/4QzQ3N8dbb70VBw8ejIMHD97T9zQ0PLJkmWEp5XKryh0B7kg/qVS6SaXSTapN1QzPpqamOHPmTOlcKBQin8+XzrlcLtauXRvNzc0REbFx48bo6em55++5cmUmisXswQPDEsrlVkWhcK3cMeC29JNKpZtUKt2kUq1YUXffD+Kq5lXbtra2GB8fj+np6ZidnY3R0dHS33NGRDzzzDMxPT0d58+fj4iIDz/8MNavX1+uuAAAADWjap54NjY2Rm9vb3R1dcX8/Hxs27YtWlpaoru7O3p6eqK5uTnefvvt6O/vj9nZ2WhqaopDhw6VOzYAAEDVq8uyzHuj98CrtlQir+RQyfSTSqWbVCrdpFJ51RYAAICKZXgCAACQlOEJAABAUoYnAAAASRmeAAAAJGV4AgAAkJThCQAAQFKGJwAAAEkZngAAACRleAIAAJCU4QkAAEBShicAAABJGZ4AAAAkZXgCAACQlOEJAABAUoYnAAAASRmeAAAAJGV4AgAAkJThCQAAQFKGJwAAAEkZngAAACRleAIAAJCU4QkAAEBShicAAABJGZ4AAAAkZXgCAACQVFUNz+Hh4diwYUN0dHTE0NDQHT936tSpeO6555YxGQAAQO16qNwBlsrk5GQcPnw4/vjHP8bDDz8c27dvj69//evxla98ZcHnLl++HD//+c/LlBIAAKD2VM0Tz7GxsWhtbY3Vq1dHfX19dHZ2xsjIyC2f6+/vj71795YhIQAAQG2qmieeU1NTkcvlSud8Ph9nz55d8Jl33nknnnjiiXjqqafu+3saGh65738LKeVyq8odAe5IP6lUukml0k2qTdUMz2KxGHV1daVzlmULzhcuXIjR0dE4cuRITExM3Pf3XLkyE8Vi9kBZYanlcquiULhW7hhwW/pJpdJNKpVuUqlWrKi77wdxVfOqbVNTUxQKhdK5UChEPp8vnUdGRqJQKMTWrVtj165dMTU1FTt27ChHVAAAgJpSNcOzra0txsfHY3p6OmZnZ2N0dDTa29tL9z09PXHy5Mk4ceJEDA4ORj6fj6NHj5YxMQAAQG2omuHZ2NgYvb290dXVFd/97ndj48aN0dLSEt3d3fH3v/+93PEAAABqVl2WZf5g8R74G08qkb8FoZLpJ5VKN6lUukml8jeeAAAAVCzDEwAAgKQMTwAAAJIyPAEAAEjK8AQAACApwxMAAICkDE8AAACSMjwBAABIyvAEAAAgKcMTAACApAxPAAAAkjI8AQAASMrwBAAAICnDEwAAgKQMTwAAAJIyPAEAAEjK8AQAACApwxMAAICkDE8AAACSMjwBAABIyvAEAAAgKcMTAACApAxPAAAAkjI8AQAASMrwBAAAIKmqGp7Dw8OxYcOG6OjoiKGhoVvu33///XjppZdi06ZNsWfPnrh69WoZUgIAANSWqhmek5OTcfjw4Th69GgcP348jh07FhcvXizdz8zMxE9/+tMYHByM9957L9atWxe//e1vy5gYAACgNlTN8BwbG4vW1tZYvXp11NfXR2dnZ4yMjJTu5+fnY2BgIBobGyMiYt26dfH555+XKy4AAEDNqJrhOTU1FblcrnTO5/MxOTlZOq9ZsyZeeOGFiIiYm5uLwcHBeP7555c9JwAAQK15qNwBlkqxWIy6urrSOcuyBef/unbtWvzgBz+Ixx9/PDZv3nzP39PQ8MgD5YRUcrlV5Y4Ad6SfVCrdpFLpJtWmaoZnU1NTnDlzpnQuFAqRz+cXfGZqaip27twZra2tsW/fvvv6nitXZqJYzB4oKyy1XG5VFArXyh0Dbks/qVS6SaXSTSrVihV19/0grmpetW1ra4vx8fGYnp6O2dnZGB0djfb29tL9jRs3Yvfu3fHiiy9GX1/fbZ+GAgAAsPSq5olnY2Nj9Pb2RldXV8zPz8e2bduipaUluru7o6enJyYmJuLjjz+OGzduxMmTJyMi4sknn4z9+/eXOTkAAEB1q8uyzHuj98CrtlQir+RQyfSTSqWbVCrdpFJ51RYAAICKZXgCAACQlOEJAABAUoYnAAAASRmeAAAAJGV4AgAAkJThCQAAQFKGJwAAAEkZngAAACRleAIAAJCU4QkAAEBShicAAABJGZ4AAAAkZXgCAACQlOEJAABAUoYnAAAASRmeAAAAJGV4AgAAkJThCQAAQFKGJwAAAEkZngAAACRleAIAAJCU4QkAAEBShicAAABJGZ4AAAAkZXgCAACQVFUNz+Hh4diwYUN0dHTE0NDQLfeffPJJbNmyJTo7O6Ovry+uX79ehpQAAAC1pWqG5+TkZBw+fDiOHj0ax48fj2PHjsXFixcXfOaHP/xh/OQnP4mTJ09GlmXx7rvvliktAABA7Xio3AGWytjYWLS2tsbq1asjIqKzszNGRkZi7969ERHx2WefxdzcXDz99NMREbFly5b4zW9+Ezt27Lin71mxom5pg8MS0U0qmX5SqXSTSqWbVKIH6WXVDM+pqanI5XKlcz6fj7Nnz97xPpfLxeTk5D1/z5o1//NgQSGRhoZHyh0B7kg/qVS6SaXSTapN1bxqWywWo67ufxd4lmULzovdAwAAkEbVDM+mpqYoFAqlc6FQiHw+f8f7y5cvL7gHAAAgjaoZnm1tbTE+Ph7T09MxOzsbo6Oj0d7eXrp/7LHHYuXKlfHRRx9FRMSJEycW3AMAAJBGXZZlWblDLJXh4eH43e9+F/Pz87Ft27bo7u6O7u7u6Onpiebm5jh//nz09/fHzMxMrF+/Pg4cOBAPP/xwuWMDAABUtaoangAAAFSeqnnVFgAAgMpkeAIAAJCU4QkAAEBShicAAABJGZ63MTw8HBs2bIiOjo4YGhq65f6TTz6JLVu2RGdnZ/T19cX169fLkJJatFg333///XjppZdi06ZNsWfPnrh69WoZUlKLFuvmf506dSqee+65ZUwGi/fz0qVL8dprr8WmTZti586dfjtZNot189y5c7F169bYtGlTfO9734v//Oc/ZUhJrZqZmYmNGzfGv/71r1vu7msPZSwwMTGRPfvss9m///3v7Isvvsi+853vZP/4xz8WfObb3/529te//jXLsiz78Y9/nA0NDZUjKjVmsW5eu3Yt+8Y3vpFNTExkWZZlb731Vvazn/2sXHGpIXfzu5llWVYoFLJvfetb2bPPPluGlNSqxfpZLBazjo6O7M9//nOWZVn2i1/8Ijt06FC54lJD7ua385VXXslOnTqVZVmWHThwIPvVr35VjqjUoL/97W/Zxo0bs/Xr12f//Oc/b7m/nz3kiedNxsbGorW1NVavXh319fXR2dkZIyMjpfvPPvss5ubm4umnn46IiC1btiy4h1QW6+b8/HwMDAxEY2NjRESsW7cuPv/883LFpYYs1s3/6u/vj71795YhIbVssX6eO3cu6uvro729PSIidu/eHa+++mq54lJD7ua3s1gsxhdffBEREbOzs/GlL32pHFGpQe+++24MDAxEPp+/5e5+95DheZOpqanI5XKlcz6fj8nJyTve53K5BfeQymLdXLNmTbzwwgsRETE3NxeDg4Px/PPPL3tOas9i3YyIeOedd+KJJ56Ip556arnjUeMW6+enn34ajz76aOzbty82b94cAwMDUV9fX46o1Ji7+e380Y9+FP39/fHNb34zxsbGYvv27csdkxq1f//++NrXvnbbu/vdQ4bnTYrFYtTV1ZXOWZYtOC92D6ncbfeuXbsWu3btiscffzw2b968nBGpUYt188KFCzE6Ohp79uwpRzxq3GL9vH79epw+fTpeeeWV+NOf/hRf/vKX4+DBg+WISo1ZrJtzc3PR19cXR44cib/85S+xY8eOeOONN8oRFRa43z1keN6kqakpCoVC6VwoFBY8Yr75/vLly7d9BA1LbbFuRvz//4HasWNHrFu3Lvbv37/cEalRi3VzZGQkCoVCbN26NXbt2lXqKSyHxfqZy+Vi7dq10dzcHBERGzdujLNnzy57TmrPYt28cOFCrFy5MlpaWiIi4uWXX47Tp08ve0642f3uIcPzJm1tbTE+Ph7T09MxOzsbo6Ojpb/7iIh47LHHYuXKlfHRRx9FRMSJEycW3EMqi3Xzxo0bsXv37njxxRejr6/Pk3iWzWLd7OnpiZMnT8aJEydicHAw8vl8HD16tIyJqSWL9fOZZ56J6enpOH/+fEREfPjhh7F+/fpyxaWGLNbNtWvXxsTERFy6dCkiIj744IPSf5BAOd3vHnoodbD/axobG6O3tze6urpifn4+tm3bFi0tLdHd3R09PT3R3Nwcv/zlL6O/vz9mZmZi/fr10dXVVe7Y1IDFujkxMREff/xx3LhxI06ePBkREU8++aQnnyR3N7+bUC5308+33347+vv7Y3Z2NpqamuLQoUPljk0NuJtuHjhwIF5//fXIsiwaGhrizTffLHdsatiD7qG6LMuyZcgJAABAjfKqLQAAAEkZngAAACRleAIAAJCU4QkAAEBShicAAABJGZ4AAAAkZXgCAACQlOEJAABAUv8P0vuxFjI1N8sAAAAASUVORK5CYII=\n",
          "text/plain": "<Figure size 1080x504 with 3 Axes>"
         },
         "metadata": {},
         "output_type": "display_data"
        }
       ]
      }
     },
     "4694b8a59b2e41d4b2baedf99018c939": {
      "model_module": "@jupyter-widgets/controls",
      "model_module_version": "1.5.0",
      "model_name": "IntSliderModel",
      "state": {
       "description": "Distance: ",
       "layout": "IPY_MODEL_15c9156b8bb0458ab33b60655a1d6bbc",
       "max": 30,
       "style": "IPY_MODEL_29747ef6088a4279abf145b8e8c97882",
       "value": 2
      }
     },
     "47441da596f54fdfa9ea2ce4c6d2fcc5": {
      "model_module": "@jupyter-widgets/controls",
      "model_module_version": "1.5.0",
      "model_name": "IntSliderModel",
      "state": {
       "description": "Distance: ",
       "layout": "IPY_MODEL_d3223d29b7f946b0b7b84a7b516fed14",
       "max": 30,
       "style": "IPY_MODEL_5b4175e0bb6e42439d38ce3c56ce9c34",
       "value": 10
      }
     },
     "4a8829dd35f64ad49eafb019371181e0": {
      "model_module": "@jupyter-widgets/controls",
      "model_module_version": "1.5.0",
      "model_name": "SliderStyleModel",
      "state": {
       "description_width": ""
      }
     },
     "4c2e6ba4f71348bfaec014dc86f29fc9": {
      "model_module": "@jupyter-widgets/base",
      "model_module_version": "1.2.0",
      "model_name": "LayoutModel",
      "state": {}
     },
     "4cef65d87eaa4f7cb68ee6e722a0bdd1": {
      "model_module": "@jupyter-widgets/base",
      "model_module_version": "1.2.0",
      "model_name": "LayoutModel",
      "state": {}
     },
     "4cf85e0aef0c4f20b34fcf948ee197e0": {
      "model_module": "@jupyter-widgets/controls",
      "model_module_version": "1.5.0",
      "model_name": "VBoxModel",
      "state": {
       "_dom_classes": [
        "widget-interact"
       ],
       "children": [
        "IPY_MODEL_ab6ce74d07f34d83b8b57c81e4d92aa3",
        "IPY_MODEL_9d49e641401a4229b28def1c4112cb2b",
        "IPY_MODEL_04265e56ae274b42b390d6919639ac5e",
        "IPY_MODEL_873b96ee75844eae87c51a28a7c0bf12",
        "IPY_MODEL_2c79d6f59e394097a2562e2685c1d017"
       ],
       "layout": "IPY_MODEL_ddce0702b78b45a6a809ae6c42a5814b"
      }
     },
     "4ea411eb61474f3ea8cd93ab46214599": {
      "model_module": "@jupyter-widgets/base",
      "model_module_version": "1.2.0",
      "model_name": "LayoutModel",
      "state": {}
     },
     "4ff9baee87884f639b7ab25571331153": {
      "model_module": "@jupyter-widgets/controls",
      "model_module_version": "1.5.0",
      "model_name": "CheckboxModel",
      "state": {
       "description": "Precipitation",
       "disabled": false,
       "layout": "IPY_MODEL_c6c4ed8e691a4fa693df970ce6db5f1a",
       "style": "IPY_MODEL_02d247ab86ef450d925d23e406405496",
       "value": false
      }
     },
     "53775d9949f94592a7c5bfbcfb24e58b": {
      "model_module": "@jupyter-widgets/controls",
      "model_module_version": "1.5.0",
      "model_name": "VBoxModel",
      "state": {
       "_dom_classes": [
        "widget-interact"
       ],
       "children": [
        "IPY_MODEL_ae270e535e3b4fe2a387f0ca9fda29bb",
        "IPY_MODEL_2dcf1e3b5140414fbfe9797f3af0510a",
        "IPY_MODEL_6d9fbef78d5d4fb4a3de8763fe74b7ea",
        "IPY_MODEL_8c14dd828d4f4d09b7ece3744bcb0d52",
        "IPY_MODEL_e12cb9e324204842b984f643b26bc6b9"
       ],
       "layout": "IPY_MODEL_fd73f14f9c35473ba0a7943881bfd33a"
      }
     },
     "558e49d0db1641f89f65caca7bacbdaf": {
      "model_module": "@jupyter-widgets/controls",
      "model_module_version": "1.5.0",
      "model_name": "SliderStyleModel",
      "state": {
       "description_width": ""
      }
     },
     "5614c222da574b00ac17d50219648fdf": {
      "model_module": "@jupyter-widgets/base",
      "model_module_version": "1.2.0",
      "model_name": "LayoutModel",
      "state": {}
     },
     "56b28aacf14c4d2290c336af132c7d00": {
      "model_module": "@jupyter-widgets/controls",
      "model_module_version": "1.5.0",
      "model_name": "DescriptionStyleModel",
      "state": {
       "description_width": ""
      }
     },
     "56f518080cac45c392eaddd2b2635876": {
      "model_module": "@jupyter-widgets/output",
      "model_module_version": "1.0.0",
      "model_name": "OutputModel",
      "state": {
       "layout": "IPY_MODEL_815214c7cb514e4fa02da796dd11cfe8",
       "outputs": [
        {
         "data": {
          "image/png": "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\n",
          "text/plain": "<Figure size 1080x288 with 2 Axes>"
         },
         "metadata": {},
         "output_type": "display_data"
        }
       ]
      }
     },
     "5991c6ea404e4b4680e39e446d4971d9": {
      "model_module": "@jupyter-widgets/base",
      "model_module_version": "1.2.0",
      "model_name": "LayoutModel",
      "state": {
       "width": "500px"
      }
     },
     "5b4175e0bb6e42439d38ce3c56ce9c34": {
      "model_module": "@jupyter-widgets/controls",
      "model_module_version": "1.5.0",
      "model_name": "SliderStyleModel",
      "state": {
       "description_width": ""
      }
     },
     "5bfbcba0a4234751b37e52c8b9976121": {
      "model_module": "@jupyter-widgets/controls",
      "model_module_version": "1.5.0",
      "model_name": "IntSliderModel",
      "state": {
       "description": "isairport",
       "layout": "IPY_MODEL_1fb9f820296b4d53ad915a5410f1269d",
       "max": 1,
       "style": "IPY_MODEL_2da0bf9934804b6eae5960c5af9f2cc7"
      }
     },
     "5d052c32da9c470eb9c96f223c876cc5": {
      "model_module": "@jupyter-widgets/controls",
      "model_module_version": "1.5.0",
      "model_name": "IntSliderModel",
      "state": {
       "description": "Distance: ",
       "layout": "IPY_MODEL_3aeb0db17ceb46e3970c3cbeec3b932e",
       "max": 30,
       "style": "IPY_MODEL_e50a3c2042e04f72b15fd953d1c7e4f4",
       "value": 10
      }
     },
     "5fa5cfd89e92414da8e2f571a27e8fc4": {
      "model_module": "@jupyter-widgets/controls",
      "model_module_version": "1.5.0",
      "model_name": "IntSliderModel",
      "state": {
       "description": "isairport",
       "layout": "IPY_MODEL_930947a8ea6848dbabc24723ee28a667",
       "max": 1,
       "style": "IPY_MODEL_897aeac49ee9461aacd552933b711101"
      }
     },
     "618e428301604661b91edc72688b9f46": {
      "model_module": "@jupyter-widgets/base",
      "model_module_version": "1.2.0",
      "model_name": "LayoutModel",
      "state": {
       "width": "500px"
      }
     },
     "63edc60f02904f64ad8bfb9491a6f9b1": {
      "model_module": "@jupyter-widgets/base",
      "model_module_version": "1.2.0",
      "model_name": "LayoutModel",
      "state": {
       "width": "500px"
      }
     },
     "67373db6723746a8bbf64d87c8d6731b": {
      "model_module": "@jupyter-widgets/controls",
      "model_module_version": "1.5.0",
      "model_name": "SliderStyleModel",
      "state": {
       "description_width": ""
      }
     },
     "685be4ff06a448fbae22de2483e3d142": {
      "model_module": "@jupyter-widgets/base",
      "model_module_version": "1.2.0",
      "model_name": "LayoutModel",
      "state": {}
     },
     "69bcfe04973e442ea833702afa2319b9": {
      "model_module": "@jupyter-widgets/base",
      "model_module_version": "1.2.0",
      "model_name": "LayoutModel",
      "state": {}
     },
     "6a050e083eeb4e1db03742b8472621c3": {
      "model_module": "@jupyter-widgets/controls",
      "model_module_version": "1.5.0",
      "model_name": "SelectionRangeSliderModel",
      "state": {
       "_model_name": "SelectionRangeSliderModel",
       "_options_labels": [
        "0",
        "1",
        "2",
        "3",
        "4",
        "5",
        "6",
        "7",
        "8",
        "9",
        "10",
        "11",
        "12",
        "13",
        "14",
        "15",
        "16",
        "17",
        "18",
        "19",
        "20",
        "21",
        "22",
        "23",
        "24",
        "25",
        "26",
        "27",
        "28",
        "29"
       ],
       "_view_name": "SelectionRangeSliderView",
       "description": "Distance: ",
       "index": [
        0,
        29
       ],
       "layout": "IPY_MODEL_cbaa998c78014062b1836446e665efde",
       "style": "IPY_MODEL_8fe6a7abfa79471b8eeb83f1d5c4f908"
      }
     },
     "6a6c94b798484d8ba0981d2ddca9734d": {
      "model_module": "@jupyter-widgets/controls",
      "model_module_version": "1.5.0",
      "model_name": "SliderStyleModel",
      "state": {
       "description_width": ""
      }
     },
     "6d9c13e914b14a4db2d405eda3f4233b": {
      "model_module": "@jupyter-widgets/base",
      "model_module_version": "1.2.0",
      "model_name": "LayoutModel",
      "state": {}
     },
     "6d9fbef78d5d4fb4a3de8763fe74b7ea": {
      "model_module": "@jupyter-widgets/controls",
      "model_module_version": "1.5.0",
      "model_name": "IntSliderModel",
      "state": {
       "description": "isairport",
       "layout": "IPY_MODEL_4ea411eb61474f3ea8cd93ab46214599",
       "max": 1,
       "style": "IPY_MODEL_00e0ed0acd1740919305bd00a5937466"
      }
     },
     "6e9c5af063ff458c924c567ee6c0aeae": {
      "model_module": "@jupyter-widgets/controls",
      "model_module_version": "1.5.0",
      "model_name": "IntSliderModel",
      "state": {
       "description": "isairport",
       "layout": "IPY_MODEL_9324f6d8c55a42ecb9683a225149a953",
       "max": 1,
       "style": "IPY_MODEL_6a6c94b798484d8ba0981d2ddca9734d"
      }
     },
     "700ec2cbb8ea4d5192ba3db71597f755": {
      "model_module": "@jupyter-widgets/base",
      "model_module_version": "1.2.0",
      "model_name": "LayoutModel",
      "state": {}
     },
     "701b99b919714f6594e82a6eaad9811e": {
      "model_module": "@jupyter-widgets/output",
      "model_module_version": "1.0.0",
      "model_name": "OutputModel",
      "state": {
       "layout": "IPY_MODEL_8077eeee2b4f4550b88fe99e4c0c4424",
       "outputs": [
        {
         "data": {
          "image/png": "iVBORw0KGgoAAAANSUhEUgAAAz0AAAEJCAYAAAC+HEnnAAAABHNCSVQICAgIfAhkiAAAAAlwSFlzAAALEgAACxIB0t1+/AAAADh0RVh0U29mdHdhcmUAbWF0cGxvdGxpYiB2ZXJzaW9uMy4xLjAsIGh0dHA6Ly9tYXRwbG90bGliLm9yZy+17YcXAAAgAElEQVR4nO3deVwW5f7/8fctq2gkJmqJpcfcvuaWx+OC+4ICIgIet3IrTSs1PaVRcjTNzKWyRUsr81iRaQpu5b6Uu0c9pR7NbDFFDRdSBGS95/eHP+8jisJdzCC3r2ePecTMPfe8r0EY+HBdc43NMAxDAAAAAOCiShR1AwAAAADATBQ9AAAAAFwaRQ8AAAAAl0bRAwAAAMClUfQAAAAAcGkUPQAAAABcmntRN6A4cfesVNRNAPLk4+FlaV5aVoZlWaPva21ZliR9dumgpXllPe6yNO9CVoqleRO861qat9Y9zdK8h+RjaZ5fjqVxiqp7wtK8OYcCLMsKyrb2a2WfrZSlebOzf7E0r7Sbt6V5CennLM07ccnavOzMk5bm/VFZ534u8L4e5f5iYkvyR9EDAAAAwHl2i/8S8ydQ9AAAAABwnmEv6hYUGEUPAAAAAOfZKXoAAAAAuDCDnh4AAAAALi0nu6hbUGAUPQAAAACcx0QGAAAAAFyaScPbZs6cqVWrVkmSWrdurTFjxtzw+pIlS+Tr6ytJ6tGjhx555JFbHpOiBwAAAIDzTJjIYPv27dq6davi4+Nls9k0aNAgrVu3Th07dnTsc/DgQb3xxhtq2LBhgY9L0QMAAADAac5MZJCcnKzk5OQbtvv6+jp6bCTJ399f0dHR8vT0lCRVq1ZNp06dyvWegwcPas6cOTp58qQaN26s559/Xl5et35Qe4kCtxQAAAAArrLbC7zMnz9f7du3v2GZP39+rkNWr15dDRo0kCQdO3ZMq1atUuvWrR2vp6amqnbt2ho9erTi4+OVnJysd999N9+m0tMDAAAAwHk5WQXetX///oqIiLhh+7W9PNc6evSohgwZojFjxqhKlSqO7aVKldIHH3zgWH/sscf04osvatSoUbfMt7SnJyEhQTVr1tS4ceNybT98+LBq1qypuLi4P338du3a/aljAAAAACgAw17gxdfXVwEBATcseRU9e/fu1YABA/Tss8/eUCidOnVKixcv/l8TDEPu7vn341g+vK1MmTLasmWLcnL+N8XdV199pbJly1rdFAAAAAB/lBPD2wrq9OnTevrpp/Xaa68pNDT0hte9vb01ffp0nThxQoZhKDY2NtckBzdjedFTqlQp1a5dW//+978d27Zt26bmzZtLkjZt2qTw8HCFhYXpqaee0rlz5yRJ7dq105tvvqnu3bsrNDRUBw8elCQdOnRIERERioiI0KxZsxzH/OGHH9S3b19FRUWpbdu2WrBggex2u9q1a6dffvlFkpSWlqbWrVsrIyPDqtMHAAAAXIMTPT0FNXfuXGVkZGjKlCkKDw9XeHi4FixYoMGDB+vAgQMqW7asJk6cqCeffFKdO3eWYRgaOHBgvsctknt6goODtWbNGjVt2lT79+9XzZo1ZRiGzp8/rxkzZmjBggUKCAjQhx9+qIkTJ+rtt9+WdKWXaPHixfrkk080Z84cvfPOO3r++ecVHR2twMBAzZo1S7t27ZIkffHFF3rqqafUrFkznThxQl27dlXv3r3VrVs3LV++XM8884zWrl2rNm3a5DvbAwAAAIDrmDBldUxMjGJiYm7Y3rt3b8fHnTp1UqdOnZw6bpHM3tauXTt98803stvtWrVqlYKDgyVJJUuWVL169RQQECBJ6tmzp3bu3Ol4X8uWLSVdmdXhwoULSkpK0pkzZxQYGChJioyMdOwbHR2tjIwMzZkzR2+++abS0tIc+6xcuVKSFB8fn+s9AAAAAArGsGcVeClqRVL0lCpVSrVq1dLevXu1c+dOx9A2+3XVomEYys7Odqxf7ZGx2WyO/xuG4Xjdzc3N8fHIkSO1bt06VatWTSNHjnRsDwgI0H333ae1a9fq/Pnzql+/fuGfIAAAAODqTLinxyxF9pye4OBgvf7663rooYccMy6kp6fru+++U0JCgiRp4cKFatKkyU2P4efnp/vuu0+bN2+WJEcPjnTlPqERI0aoQ4cO+uabbyTJMXlCVFSUJk2apK5du5pxagAAAIDrM+GeHrMUWdHTtm1bHT58WCEhIY5t5cqV08SJEzVs2DCFhoZq9+7dmjBhwi2PM336dM2cOVPdunXT8ePHHduHDx+uPn36KCQkRHv37lWlSpUcxVRQUJAuXryo8PBwc04OAAAAcHX2nIIvRcxmXDs+7A5gGIa++eYbLViwQLNnz3bqve6elUxqFfDn+HhYOxlHWpZ1Mx6Ovq91/jsVos8uHbQ0r6zHXZbmXchKsTRvgnddS/PWuqdZmveQfCzN87P494aouicszZtzKMCyrKBsa79W9tlKWZo3O/sXS/NKu3lbmpeQfs7SvBOXrM3Lzjxpad4flb77iwLv6/23v5vYkvwVyextRWny5MnatGlTrie5AgAAAHDSbXCvTkHdcUXP2LFjNXbs2KJuBgAAAFC85WTnv89t4o4regAAAAAUAnp6AAAAALgywyj6CQoKiqIHAAAAgPPo6QEAAADg0m6D5+8UFEUPAAAAAOfR0wMAAADApTF7GwAAAACXxvA2AFaq4ONnad6lLOueZB6bfMCyLEmq6F3W0rxDF45bmhfqX9/SvB22TEvzNlz43tK8nLtrWJpX3b2UpXmbvw2wNK93ubOWZb15ydrrZrNMw9K839J/tzSvso+/tXne5SzNw00wvA0AAACAS6PoAQAAAODSGN4GAAAAwKUxkQEAAAAAl8bwNgAAAAAujeFtAAAAAFwaPT0AAAAAXBpFDwAAAACXZlj7/Kk/g6IHAAAAgPOymb0NAAAAgCtjIgMAAAAALo17egAAAAC4NO7puWLChAnat2+fsrKydPz4cVWrVk2S1K9fP0VFRRVq1q5duzRz5kx98sknhXpcAAAAAHmgp+eK8ePHS5ISEhLUr18/LVu2zMw4AAAAAFYpRkVPiaIIfeedd/TOO+841tu1a6eEhATl5OTo1VdfVUREhLp27ap//etfkqTffvtNjz76qCIjI9W9e3d9++23kqStW7cqNDRUkZGRWrRokeN4u3fvVu/evRUREaH27dtr/fr1SklJUZMmTZSSkiLpSiEWEhJi3UkDAAAALsTIySnwUtSKpOi5mauFS3x8vBYvXqwNGzZoz549Wrx4sdq0aaO4uDiNGDFCe/fuVWZmpqKjo/X2228rLi5O3t7ejuN8+umnmjRpkuLj4zVp0iS99dZbKl26tNq0aaPVq1dLkpYuXapu3boVyXkCAAAAxZ7dXvCliN1WRc+OHTu0ceNGhYeH6+9//7t+++03HTlyRM2aNdNHH32kZ599VhcuXNCjjz6qI0eOqHz58o77hCIiIhzHmT59uo4ePapZs2Zp3rx5Sk1NlSRFRUU5htitXLlS4eHh1p8kAAAA4AoMe8GXIlYks7fZbDbZr6n4srKyJEk5OTkaPXq0goKCJElJSUkqVaqUvLy89OWXX2rz5s366quvFB8fr2effVbGNTNGuLm5OT7u06ePmjRpoiZNmqhZs2Z67rnnJEmNGzfWmTNntHbtWgUEBKhChQpWnC4AAADgeuzmzN42c+ZMrVq1SpLUunVrjRkzJtfrhw8f1tixY5Wamqq//vWvmjBhgtzdb13WFElPj5+fn3788UdJ0v79+3X27FlJUtOmTbVo0SJlZWUpNTVVffr00bfffqtp06Zp+fLlioiI0Lhx43To0CHVrFlT586d0/fffy9J+vLLLyVJFy5c0LFjx/TMM8+oVatW2rBhg3L+/zhCm82mbt26adKkSYqMjCyCMwcAAABchAnD27Zv366tW7cqPj5eS5cu1X//+1+tW7cu1z6jR4/WuHHjtGbNGhmGkeve/pspkp6ekJAQrVmzRiEhIapTp47+7//+T5LUq1cv/frrr4qIiFB2drYiIyPVpEkT3X///Xr22WcVFxcnNzc3TZ06VR4eHnrjjTc0evRoubu7O45RpkwZde/eXaGhoXJ3d1fTpk2Vnp6utLQ0+fj4KDQ0VB999JE6dOhQFKcOAAAAuAYTJijw9/dXdHS0PD09JUnVqlXTqVOnHK+fPHlS6enpatCggSQpMjJSb7/9tvr06XPL41pS9AQEBGjjxo2OdT8/P3388cd57hsTE3PDtnvvvVefffbZDdsbN26sFStW3LD9hRde0AsvvOBYf+mllyRJdrtdW7ZsUXh4uOMTCQAAAOAPcKIHJzk5WcnJyTds9/X1la+vr2O9evXqjo+PHTumVatWacGCBY5tZ86ckb+/v2Pd399fiYmJ+eYXSU9PURk2bJhOnz6tuXPnFnVTAAAAgOLNiXt65s+fr5kzZ96wfdiwYRo+fPgN248ePaohQ4ZozJgxqlKlyv8i7XbZbDbHumEYudZv5o4qet59992ibgIAAADgGpyYla1///65Zlu+6tpenqv27t2rESNG6MUXX1RoaGiu1ypWrOiYD0CSzp07p/Lly+ebf0cVPQAAAAAKiRM9PdcPY7uZ06dP6+mnn9aMGTPUrFmzG16vVKmSvLy8tHfvXjVq1EjLli1Tq1at8j0uRQ8AAAAApxkmPHR07ty5ysjI0JQpUxzbevXqpY0bN2rEiBGqW7euXnvtNcXExCglJUV16tRRv3798j0uRQ8AAAAA55kwe1tMTEyeE5v17t3b8XGtWrW0ePFip45L0QMAAADAeSY9nNQMFD0AAAAAnGfC8DazUPQAAAAAcB49PQAAAABcmhNTVhc1ih4neLl7WJaVkZ1lWRaKv18u/mZp3v+Vvd/SvItZqZZlJWb8rpOXzluW92CZ+yzLkqQ6KmVpnqeR/wPjClNomf+zNC8k3dPSvBxrP50KnV7F0rykWacty3q+9Fn5x07Jf8dCdPaRaMuyqh+/17IsSco0Cv+G9lvxcytpaV6CrYSlecUGPT0AUDisLHgkWVrwACg6rlzwAFYxsq0tdv8Mih4AAAAAzqOnBwAAAIBL454eAAAAAC6Nnh4AAAAArsyg6AEAAADg0pjIAAAAAIBLo6cHAAAAgEuj6AEAAADgygyDogcAAACAK6OnBwAAAIBLo+gBAAAA4MqM7OLzcNISt3px4MCBWr9+vWN96tSpatiwoTIzMx3bWrRooYSEhHyDEhIS1K5duz/R1FuLi4tTdHS0accHAAAAcA27E0sRu2XR07RpU+3du9exvn37djVo0MCx7ddff5WPj48CAgLMbSUAAACA24phNwq8FLVbDm9r1qyZJk+eLElKTEyUp6enOnXqpK1bt6pZs2bas2ePAgMDtX//fr366qtKT0+Xn5+fJkyYoMqVK+vQoUMaO3asJKlWrVqO40ZHR6t06dL673//q8TERD399NOKiopSamqqJk6cqKNHjyonJ0eDBw9Wly5d9P3332vcuHHKzs6Wl5eXXn31VVWpUkVLly7Ve++9p9KlS6tSpUry8fGRJK1atUrz5s1Tenq6MjMzNXnyZN1zzz3q37+/Nm7cqBIlSmjXrl364IMP9OGHH5r1uQUAAABc121QzBTULXt66tSpo+PHjysjI0Nbt25VYGCgAgMDtXXrVknSnj171LhxY8XExOj1119XfHy8Bg4cqH/+85+SpOeff17PPfec4uPjb+gN+u233/TZZ5/pvffe07Rp0yRJ7733nurUqaO4uDjFxsZq9uzZOnHihObPn6+BAwcqLi5OPXr00LfffqvExES99tprio2N1cKFC5WamipJstvt+vzzzzV79mwtX75cgwYN0vvvv68HHnhAAQEB2rVrlyRp6dKlioyMLNzPJgAAAHCnKEbD227Z0+Pm5qb69evrwIED2rp1qx555BFVrlxZ6enpunjxov7zn/+of//+OnHihJ588knH+1JSUpSUlKQzZ84oMDBQkhQZGaklS5Y49gkMDJTNZlONGjV04cIFSVeGz6Wnpzv2S0tL09GjR9W6dWtNnDhRW7ZsUbt27dS2bVutW7dODRs2VLly5SRJYWFh2rlzp0qUKKFZs2Zp48aN+uWXX7R7926VKHGltouKitLy5cvVoEED7dy5Uy+99FLhfSYBAACAO8jtMGytoPKdva1p06bat2+f9u/fr+nTp0u6Muxtw4YN8vPzkyQFBARo2bJlkqScnBydO3dONpst1wOL3Nzcch3Xy8tLkmSz2Rzb7Ha7pk+frjp16kiSzp07p7vvvlseHh5q2LChNm3apH/961/avHmzWrZsmev47u5XTiU1NVXdu3dX165d1bhxY9WsWVOxsbGSpM6dO2vGjBlas2aNWrVq5WgDAAAAAOcY2cWn6Lnl8DbpSoGzbNky1ahRw1FYBAYGat68eQoMDNRf/vIXXbx4UXv27JEkLVmyRM8995z8/Px03333afPmzZKklStX5tuYpk2basGCBZKkM2fOqGvXrjp9+rRGjhypAwcOqFevXnrmmWd06NAhNWrUyDHMzW6366uvvpIkHTt2TDabTUOHDlWTJk20bt065eTkSJJKliypVq1a6Y033mBoGwAAAPBnuMrwNkmO4Wd9+vRxbGvatKlGjhyp5s2by9PTU2+99ZZeeeUVZWRkqHTp0po6daokafr06XrhhRf05ptvqkGDBvk2ZtiwYXrppZfUpUsX5eTkaPTo0br//vs1dOhQjR07VrNmzZKHh4deeukllStXTjExMRowYIBKliypBx98UNKVCRNq166t4OBg2Ww2tWjRItcMdKGhodq3b5/q16/v9CcLAAAAwBXGbVDMFJTNuHaMmIvLycnRjBkzdM8992jgwIFOv7+UT5XCb9RNZGRnWZYFOOv/yt5vWdbFrFTLsiTp5KXzluY9WOY+S/P6lKxhaZ6nbPnvVIh+tKVbmheS7mlpXo7N2s9nl+lVLM1LmrXDsiz/2CmWZUnS2UesfZZg7+PWfq1kGjmW5lVwL21p3oG0k5bm/XzuP5bm/VHnQ1sXeN97vvzaxJbkL9+eHlcSFRUlPz8/vffee0XdFAAAAKBYK049PXdU0bN06dKibgIAAADgEozsom5Bwd1RRQ8AAACAwkFPDwAAAACXRtEDAAAAwLUZ1k6Y8WdQ9AAAAABwWnHq6cn34aQAAAAAcD3Dbivw4qyUlBR16dJFCQkJN7w2c+ZMtW3bVuHh4QoPD1dsbGy+x6OnBwAAAIDT7DnmDG/77rvvFBMTo2PHjuX5+sGDB/XGG2+oYcOGBT4mPT0AAAAAnGbYC744Y9GiRRo/frzKly+f5+sHDx7UnDlzFBYWpokTJyojIyPfY9LTAwAAAMBpzgxbS05OVnJy8g3bfX195evrm2vbK6+8ctPjpKamqnbt2ho9erQeeOABRUdH691339WoUaNumU/R4wT3Em6WZWUoy7IsFH+V7ypnad6hpOOWZVUvU8myLEmqW7aKpXkJl89ZmrfDK8nSvDpuZSzN65jhZWnev70NS/OqZFs7U9KF2dstzSsbE25Z1vEu/7QsS5Jy7NZ+bd7jZu2veBE5d1uad8riScMqly5lbWAxYThxCZw/f75mzpx5w/Zhw4Zp+PDhBT5OqVKl9MEHHzjWH3vsMb344osUPQAAAAAKnzM9Pf3791dERMQN26/v5cnPqVOntH37dnXv3v1KGwxD7u75lzQUPQAAAACc5sxEBnkNY/sjvL29NX36dDVp0kQBAQGKjY1Vx44d830fExkAAAAAcJqZU1Zfb/DgwTpw4IDKli2riRMn6sknn1Tnzp1lGIYGDhyY7/vp6QEAAADgNMMw9+aqjRs3Oj6+9j6eTp06qVOnTk4di6IHAAAAgNOcnYq6KFH0AAAAAHCa3eSensJE0QMAAADAaWYPbytMFD0AAAAAnObM7G1FjaIHAAAAgNMKY1Y2q1D0AAAAAHAa9/QAAAAAcGl39D09EyZM0L59+5SVlaXjx4+rWrVqkqTk5GRFRkZq+PDhhR3p8M4770iSqRkAAAAAJMMo6hYUXKEXPePHj5ckJSQkqF+/flq2bJmk/xUkAAAAAIo/hrfdxP79+9WrVy8lJiY6en3i4uK0e/duTZkyRZLUt29fDRs2TJI0ffp02e12Va9eXd26ddP06dMlSXfffbdef/11lS1bVh9++KEWLVokPz8/+fr6ql69epKkTz/9VMuWLdPly5fl4eGh119/XYmJiXrrrbf0+eefS5Li4uL03XffacKECVZ+GgAAAIBiz16MJjIoYWXY+fPn9fHHH2vJkiWaO3euUlJSbrn/sWPHNH/+fE2dOlXvvvuuXnrpJcXFxal58+Y6dOiQDhw4oCVLlig+Pl7z5s3Tb7/9JklKSUnR+vXr9cknn2jlypVq06aNYmNj1bRpU509e1bHjx+XJC1dulSRkZGmnzcAAADgauyGrcBLUbO0p6dly5by9PRU2bJl5efnp4sXL95y/6pVq+quu+6SJLVv317Dhg1Thw4d1L59ewUGBmru3Llq3bq1SpUqJUnq3Lmz7Ha7Spcurddff11ffvmljh07pi1btqh27dqy2WyKiIjQ8uXLFRkZqfPnz6t+/fqmnzcAAADgau7oiQxuGeb+vzibzSbDMBz/vyorK8vxsbe3t+PjAQMGqG3bttq0aZOmT5+u/fv3y8vLK9d73d3dlZmZqdOnT6tv37569NFH1apVK5UrV06HDx+WJEVERGjQoEHy9PRUeHi4macLAAAAuKzboQenoCwd3pYXPz8//fTTTzIMQydOnNCRI0fy3O/vf/+7UlNTNWDAAA0YMECHDh1Ss2bNtGnTJl26dEkZGRlat26dJOnAgQN64IEHNGDAANWtW1fr169XTk6OJKlSpUqqWLGiPv/8c4oeAAAA4A8ynFiKWpE/p6d58+ZasmSJOnfurKpVq6pRo0Z57vePf/xD0dHRcnd3l4+PjyZNmqQqVaqof//+6t69u3x9fXXfffdJkgIDA7VgwQKFhITIMAw1btxYR48edRwrJCREa9euVYUKFSw5RwAAAMDV5NiLvP+kwGyGUZxm2P7zsrOzNWbMGHXu3FlBQUFOvffu0tVMatWNUjPTLctC8Vf5rnKW5p24dM6yrOplKlmWJUneJTwszUu4bN3nUpL+6vsXS/PquJWxNK9xhrU/gL/1svZHaJVsa8+va5WTluaVecG6ERgnR6+yLEuy/pfD6DRr/64dkXO3pXmnLP6zfYItK/+dCtHMYwstzfujtlTsXuB9W/622MSW5K/4lGeFwDAMtWzZUjabTR06dCjq5gAAAADFliFbgZeiVuTD26xks9m0Y8eOom4GAAAAUOzZi9F4sTuq6AEAAABQOOy3QQ9OQVH0AAAAAHDa7TBsraAoegAAAAA4LYeiBwAAAIArsxd1A5xA0QMAAADAaRQ9AAAAAFwa9/QAAAAAcGn24lPzUPQAAAAAcB5TVruo1Mz0om4CkKcTl85Zmufr5WNZ1rmMi5ZlSVKI30OW5lX08LU0b06FTEvzXjmXbWleRgkvS/PuNqz9gf+F7ayleY80tfbr071JV8uyKi/9q2VZkvRGx9mW5r1V/rSleX/Zv8/SvMVlW1uat9r9vKV5xUVOUTfACRQ9AAAAAJxmt9HTAwAAAMCFGUXdACdQ9AAAAABwGlNWAwAAAHBpzN4GAAAAwKXlMHsbAAAAAFdWnHp6ShR1AwAAAAAUP3YnFmelpKSoS5cuSkhIuOG1w4cPKzIyUp06ddLYsWOVnZ3/4xEoegAAAAA4zXBiccZ3332n3r1769ixY3m+Pnr0aI0bN05r1qyRYRhatGhRvsek6AEAAADgNLut4EtycrISEhJuWJKTk2847qJFizR+/HiVL1/+htdOnjyp9PR0NWjQQJIUGRmp1atX59tW7ukBAAAA4DRnhq3Nnz9fM2fOvGH7sGHDNHz48FzbXnnllZse58yZM/L393es+/v7KzExMd98ih4AAAAATstxYiKD/v37KyIi4obtvr6+TmXa7XbZbP8LNgwj1/rN3FZFT0JCgjp37qxq1arl2j579mzde++9jvXBgwdr0qRJqlChQq79+vbtq2HDhqlJkyaWtBcAAAC4UznT0+Pr6+t0gZOXihUr6uzZs471c+fO5TkM7nq3VdEjSeXLl9eyZctuuc8HH3xgUWsAAAAA5OWPzMr2Z1WqVEleXl7au3evGjVqpGXLlqlVq1b5vq9YTGQQHR2toUOHKjg4WBs3blS7du2UkJCgzMxMjR49WsHBwRo0aJB+//13SVJ2drZiYmLUs2dPtW/fXk899ZTS09P15ptvasaMGbmO+9VXXxXVaQEAAADFllmzt+Vl8ODBOnDggCTptdde06uvvqrOnTsrLS1N/fr1y/f9t11Pz5kzZxQeHu5YDwsLkySVKVNGs2fPliRNmjRJkvTJJ59IklatWqVjx46pa9eukqT//Oc/8vDw0MKFC2W329W/f399/fXXioqKUv/+/TVy5Eilp6dr586dmjBhgpWnBwAAALgEsx9OunHjRsfH1470qlWrlhYvXuzUsW67oiev4W3R0dGqV6/eDfvu3r1bPXv2lCRVqVJFDRs2lCQ1btxYZcqUUWxsrH7++WcdO3ZMaWlpqly5sipVqqR///vfOnXqlFq3bi0vLy/zTwoAAABwMUUxvO2PKhbD2yTJ29v7hm02m02G8b8OM3f3KzXchg0b9Nxzz8nb21uRkZFq3LixY7+oqCitXLlSK1euVGRkpDWNBwAAAFxMjhNLUSs2RU9emjVrphUrVshut+vkyZPat2+fJGnHjh0KDg5WVFSUfH19tWvXLuXkXPl0d+7cWTt27NC5c+dUv379omw+AAAAUGw583DSonbbDW9zRp8+fXT06FEFBwerUqVKqlGjhiTp73//u5577jl9+eWX8vDw0MMPP6yEhARJV3qMGjRo4NgXAAAAgPOK0/C226roCQgIyHXD0lVTpkzJtX7tPlcnNbjeihUrbthmGIZSU1N16NAhjRkz5k+2FgAAALhzFcasbFYp1sPbnHXgwAG1a9dOPXr0kL+/f1E3BwAAACi27DIKvBS126qnx5V0sA0AABxySURBVGz16tXT7t27i7oZAAAAQLF3O0xQUFB3VNEDAAAAoHBwTw8AAAAAl3Y7zMpWUBQ9AAAAAJx2O9yrU1AUPQAAAACcVnxKHooeAAAAAH8A9/QAAAAAcGk5xaivh6IHAAAAgNPo6QEAAADg0pjIwEX5lSxtWdbvl1Msy5KsPTfJ+vND4Srt4W1ZVlK6tV8rS899a2leE7/qlub9J6GCpXklvLMtzWvsk2Rp3thMa3+MTsy29lr94IeHLM2L/eQFy7LWl3SzLEuSLtqs/V74/oS/pXkdK3hamve6PdHSvP0XjlmaV1wUn5KHogcAAADAH8DwNgAAAAAujYkMAAAAALg07ukBAAAA4NKKT8lD0QMAAADgD6CnBwAAAIBLYyIDAAAAAC7NoKcHAAAAgCtj9jYAAAAALo3hbQAAAABcmt2gpwcAAACACys+JY9UwqwDr169WpGRkeratavCwsL04Ycf3nL/RYsWaeXKlX84LyEhQe3atfvD7wcAAABQcHYZBV6Kmik9PYmJiZo6dari4uLk5+en1NRU9e3bV1WrVlX79u3zfM++ffv0t7/9zYzmAAAAAChkd/zsbb///ruysrKUnp4uSSpVqpSmTJkiLy8vrVq1SvPmzVN6eroyMzM1efJkpaena+PGjdq5c6f8/f315Zdf6m9/+5siIyMlSTVr1tSRI0f0zjvv6Ntvv9Xp06f16KOPqkGDBho7dqwkqVatWo78H374QS+//LLS0tKUlJSkJ554Qj179lSHDh00d+5cVa1aVWlpaQoODtbatWvl5eVlxqcBAAAAcFnZxajoMWV4W61atdS+fXt16NBB3bt31/Tp02W321W5cmV9/vnnmj17tpYvX65Bgwbp/fffV/PmzdWuXTuNGDFCLVu2vOWxMzMz9dVXX6lPnz56/vnn9dxzzyk+Pl4BAQGOfb744gs99dRTWrJkiT7++GNNmzZNJUqUULdu3bR8+XJJ0tq1a9WmTRsKHgAAAOAPMJz4r6iZdk/PhAkTtHHjRvXu3VunTp1Sjx49tH79es2aNUtbt27VW2+9pfj4eKWmpjp13Hr16kmSkpKSdObMGQUGBkqSo1dIkqKjo5WRkaE5c+bozTffVFpammOfq/cNxcfH53oPAAAAgIKzO7EUNVOKns2bN+urr75ShQoVFBUVpRkzZigmJkaxsbHq3r27EhIS1LhxY/Xt2zfP99tsNhn/fwq8rKysXK95e3vfsI8kubm5OT4eOXKk1q1bp2rVqmnkyJGO7QEBAbrvvvu0du1anT9/XvXr1y+0cwYAAADuJIZhFHhxxooVKxQSEqKgoCDFxsbe8PrMmTPVtm1bhYeHKzw8PM99rmfKPT3e3t56+eWXVa9ePQUEBMgwDB0+fFienp6y2WwaOnSoDMPQmDFjlJOTI+lK0XL14zJlyujHH3+UJK1fvz7PDD8/P913333avHmz2rRpk2vmt23btmnVqlWqUKGC45OQk5MjNzc3RUVFadKkSXr00UfNOHUAAADgjmDGrGyJiYmaMWOG4uLi5OnpqV69eqlJkyZ68MEHHfscPHhQb7zxhho2bFjg45rS09O0aVMNGzZMQ4cOVadOndS5c2e5ublp1qxZql27toKDgxUaGio/Pz+dOnVKktS8eXPNnj1bq1evVu/evbVr1y6FhYVp37598vf3zzNn+vTpmjlzprp166bjx487tg8fPlx9+vRRSEiI9u7dq0qVKikhIUGSFBQUpIsXLyo8PNyMUwcAAADuCDkyCrwU1Pbt29W0aVOVKVNGPj4+6tSpk1avXp1rn4MHD2rOnDkKCwvTxIkTlZGRke9xTXs4aUREhCIiIm7Y/sYbb+Raj4mJkSSFhoYqNDTUsT0uLs7x8dUZ2oYPH57rvdWrV9fixYtvyBg4cKAGDhx4w3bDMLRr1y41a9ZMFSpUcOJsAAAAAFzLmZ6e5ORkJScn37Dd19dXvr6+jvUzZ87k6vAoX7689u/f71hPTU1V7dq1NXr0aD3wwAOKjo7Wu+++q1GjRt0y37Si53Y0efJkbdq0SR988EFRNwUAAAAo1py5V2f+/PmaOXPmDduHDRuWq2PDbrfLZrPlyrh2vVSpUrl+l3/sscf04osvUvRca+zYsY5eIwAAAAB/nDOzsvXv3z/PUWDX9vJIUsWKFbVnzx7H+tmzZ1W+fHnH+qlTp7R9+3Z1795d0pWiyN09/5LGtCmrAQAAALguZ57T4+vrq4CAgBuW64ue5s2ba8eOHUpKStLly5e1du1atWrVyvG6t7e3pk+frhMnTsgwDMXGxqpjx475tvWO6ukBAAAAUDjMmL2tQoUKGjVqlPr166esrCx1795d9erV0+DBgzVixAjVrVtXEydO1JNPPqmsrCw9/PDDed7Lfz2KHgAAAABOyzHMeexoWFiYwsLCcm279j6eTp06qVOnTk4dk6IHAAAAgNMME3p6zELRAwAAAMBpdidmbytqFD0AAAAAnFZ8Sh6KHgAAAAB/gBkTGZiFogcAAACA0yh6XNTlrEzLstxLuFmWJUm/X06xNA/F26mUpKJugml8vXwszduZ9IOleWfvutfSvKrGPZbmRV48Z2neb2nWfi/8UrqCpXl3eVj7/TDKdtyyrAcNf8uyJOsfjPhfL9/8dypEtUrcbWneO4lbLM1D3syavc0MFD0AAAAAnMbsbQAAAABcmsHsbQAAAABcGff0AAAAAHBp9PQAAAAAcGk5YiIDAAAAAC7MTk8PAAAAAFfG7G0AAAAAXBo9PQAAAABcGj09AAAAAFwaPT0AAAAAXFqOwextt7R69Wq9//77ys7OlmEYCg8P16BBg/70cWvWrKkjR44UQgsBAAAA3ArD224hMTFRU6dOVVxcnPz8/JSamqq+ffuqatWqat++vdXNAQAAAPAHGMWop6eE1YG///67srKylJ6eLkkqVaqUpkyZogcffFDt2rVTQkKCJGnXrl3q27evJKlv376aNm2aevbsqY4dO+rrr7+WJCUkJKh3794KDw/XuHHjHBmJiYl6/PHH1aNHD7Vp00ZvvfWWJKlPnz7atm2bpCtPkA0KClJiYqJl5w4AAAC4CruMAi9FzfKip1atWmrfvr06dOig7t27a/r06bLb7XrggQdu+b6srCwtXLhQL7zwgqOIefnllxUZGally5bp4Ycfduy7cuVKdenSRYsWLdKKFSs0f/58JSUlKSoqSsuWLZMk7dmzR/fff78qVKhg3skCAAAALsowjAIvRc3yokeSJkyYoI0bN6p37946deqUevToobVr197yPS1btpQkVa9eXRcuXJAk7d69W8HBwZKkrl27ysPDQ5L0+OOP695779XcuXP1yiuvKCsrS5cvX1ZwcLC2b9+utLQ0xcfHKzIy0sSzBAAAAFxXcerpsfyens2bNystLU0hISGKiopSVFSUFi1apMWLF0uSoxLMzs7O9T4vLy9Jks1my7X96v42m00lSlyp4aZMmaITJ06oS5cu6tChg7Zv3y7DMOTj46NWrVppzZo12rlzp8aPH2/quQIAAACuKsfOPT035e3trddff91x745hGDp8+LBq164tPz8//fjjj5KkDRs25Hus5s2ba/ny5ZKktWvXKiMjQ5K0bds2Pf744woODtYvv/yixMRE2f//P0pUVJRmzJihli1bOgopAAAAAM4xnPivqFne09O0aVMNGzZMQ4cOVVZWlqQrQ9eefvppPfzww3r55Zc1c+ZMtWjRIt9jjRs3TqNHj9bChQv10EMPqVSpUpKkIUOGaMyYMfL29lbFihX10EMPKSEhQffff78aNWokm82mqKgoU88TAAAAcGW3w706BWUzilNr/yTDMPTDDz/o+eef19KlS51+f2mfqia0Km/Z9hzLsooiD7hd+Xr5WJpn9fdetbvutTSvqtc9luYdvvybpXm/pSVZmleltLWT76TkpFuaV9LN07KsB738LcuSrB9aE2j4Wpp3vER2/jsVondObbE0z2rZmSeLugkF4n93zQLve/Zi0T5Ls0geTlpU5s+frw8//NAx+xsAAACAP6Y49Z3cUUXPgAEDNGDAgKJuBgAAAFDsFaeJDO6oogcAAABA4bgdpqIuKIoeAAAAAE5jeBsAAAAAl2an6AEAAADgym6H5+8UFEUPAAAAAKcVp54eq6eNBwAAAOAC7Ia9wIszVqxYoZCQEAUFBSk2NvaG1w8fPqzIyEh16tRJY8eOVXZ2/s+JougBAAAA4DTDMAq8FFRiYqJmzJihzz77TEuXLtXChQv1448/5tpn9OjRGjdunNasWSPDMLRo0aJ8j0vRAwAAAMBpzhQ9ycnJSkhIuGFJTk7Odczt27eradOmKlOmjHx8fNSpUyetXr3a8frJkyeVnp6uBg0aSJIiIyNzvX4z3NPjhJS0X4q6CQAAAHe8GUXdAEiSsjJPFnjfd955RzNnzrxh+7BhwzR8+HDH+pkzZ+Tv7+9YL1++vPbv33/T1/39/ZWYmJhvPkUPAAAAAFP1799fERERN2z39fXNtW6322Wz2RzrhmHkWs/v9Zuh6AEAAABgKl9f3xsKnLxUrFhRe/bscayfPXtW5cuXz/X62bNnHevnzp3L9frNcE8PAAAAgNtC8+bNtWPHDiUlJeny5ctau3atWrVq5Xi9UqVK8vLy0t69eyVJy5Yty/X6zdgMZ6ZTAAAAAAATrVixQnPmzFFWVpa6d++uwYMHa/DgwRoxYoTq1q2r77//XjExMUpJSVGdOnX06quvytPT85bHpOgBAAAA4NIY3gYAAADApVH0AAAAAHBpFD0AAAAAXBpFDwAAAACXRtFjohUrVigkJERBQUGKjY21JDMlJUVdunRRQkKC6VkzZ85UaGioQkNDNW3aNNPz3nrrLYWEhCg0NFTz5s0zPU+Spk6dqujoaEuy+vbtq9DQUIWHhys8PFzfffedaVkbN25UZGSkgoODNWnSJNNyJOmLL75wnFN4eLgaNWqkiRMnmpq5bNkyx9fm1KlTTc2SpPfff1+dOnVSWFiY3nvvPdNyrv/+3r59u8LCwhQUFKQZMwr/+eR5XU+ysrLUv39/7dq1y/S8hQsXqkuXLgoLC9MLL7ygzMxM07I+++wzhYaGKiQkRFOnTlVhz/Fzs2vzp59+qr59+xZqVl55L7zwgoKCghzfh+vWrTM17z//+Y969Oih0NBQ/eMf/yjUf7vr877++utc15imTZtqyJAhpuVJ0tatW9W1a1d16dJFY8aMMfX8JCkuLk4hISEKCwvTpEmTlJ2dXWhZef0sN/PacrPfHcy6tuSVZ+a1Ja88s68vKCADpvjtt9+Mtm3bGr///ruRmppqhIWFGUePHjU189tvvzW6dOli1KlTxzhx4oSpWdu2bTN69uxpZGRkGJmZmUa/fv2MtWvXmpa3a9cuo1evXkZWVpZx+fJlo23btsZPP/1kWp5hGMb27duNJk2aGM8//7ypOYZhGHa73WjRooWRlZVletbx48eNFi1aGKdPnzYyMzON3r17G5s3bzY91zAM44cffjA6duxonD9/3rSMtLQ0o3Hjxsb58+eNrKwso3v37sa2bdtMy9u2bZvRpUsX49KlS0Z2drYxZMgQY82aNYWec/339+XLl43WrVsbx48fN7KysozHHnusUP8d87qe/PTTT0bPnj2NunXrGjt37iy0rLzyfv75Z6Njx47GpUuXDLvdbowZM8aYN2+eKVnHjx83OnbsaKSmphrZ2dlGz549jS1bthRKVl55Vx09etRo2bKl8eijjxZa1s3yunTpYiQmJhZqzs3yLl26ZAQGBhqHDx82DMMwRo0aZcTGxpqWd60zZ84Y7du3N3755RdT81q1amX8+OOPhmEYxvDhw41FixaZlvfTTz8ZLVu2dPz7jR8/3vjoo48KJSuvn+UrVqww7dpys98dzLq25JU3Z84c064teeXNmzfP1OsLCo6eHpNs375dTZs2VZkyZeTj46NOnTpp9erVpmYuWrRI48ePL9BTaf8sf39/RUdHy9PTUx4eHqpWrZpOnTplWt7f/vY3ffzxx3J3d9f58+eVk5MjHx8f0/IuXLigGTNmaOjQoaZlXOvnn3+WJD322GPq2rWrPv30U9Oy1q1bp5CQEFWsWFEeHh6aMWOG6tevb1retV566SWNGjVKZcuWNS0jJydHdrtdly9fVnZ2trKzs+Xl5WVa3qFDh9SiRQuVLl1abm5uatmypdavX1/oOdd/f+/fv18PPPCAKleuLHd3d4WFhRXqNSav68nixYs1aNAgU75ers/z9PTU+PHjVbp0adlsNtWoUaPQrjHXZ1WuXFlffvmlfHx8lJycrJSUlAI9NfyP5klSZmamxo0bpxEjRhRazs3yLl++rFOnTunFF19UWFiY3n77bdntdtPytm3bpgYNGqhWrVqSpJiYGHXs2NG0vGtNmzZNvXr1UpUqVUzNy8nJUUpKinJycpSRkVGo15jr844cOaIGDRo41tu2bVto15i8fpYfO3bMtGvLzX53MOvakldeZmamadeWvPJsNpup1xcUnHtRN8BVnTlzRv7+/o718uXLa//+/aZmvvLKK6Ye/1rVq1d3fHzs2DGtWrVKCxYsMDXTw8NDb7/9tj766CN17txZFSpUMC1r3LhxGjVqlE6fPm1axrWSk5PVrFkz/fOf/1RWVpb69eunqlWrKjAwsNCzfv31V3l4eGjo0KE6ffq02rRpo5EjRxZ6zvW2b9+u9PR0BQcHm5pTunRpPfPMMwoODlbJkiXVuHFjPfzww6bl1alTR5MnT9aQIUNUsmRJbdy40ZShC9d/f+d1jUlMTDQtT5LGjBkjSZo/f36h5dwsr1KlSqpUqZIkKSkpSbGxsXr11VdNyZKuXF8WLVqkqVOnql69eo5f2M3Ke/311xUVFaWAgIBCy7lZ3rlz59S0aVONHz9ed911l4YMGaLFixerR48epuT9+uuv8vHx0ahRo/Tzzz/r4YcfLtRhwjf7WXfs2DHt3r270H8W5nW8l156SX379lXp0qUVEBCgzp07m5ZXq1YtTZkyRadPn1b58uW1evVqnTt3rlCy8vpZ/uijj5p2bbnZ7w5Xi9TCvrbkl1fY15ab5Zl5fUHB0dNjErvdLpvN5lg3DCPXuqs4evSoHnvsMY0ZM6ZQ/7J2MyNGjNCOHTt0+vRpLVq0yJSML774Qvfee6+aNWtmyvHz0rBhQ02bNk133XWXypYtq+7du+vrr782JSsnJ0c7duzQ5MmTtXDhQu3fv1/x8fGmZF3r888/18CBA03P+f7777VkyRJt2rRJW7ZsUYkSJTR37lzT8po1a6bIyEj17dtXgwYNUqNGjeTh4WFa3lV3yjUmMTFR/fv3V1RUlJo0aWJqVo8ePbRr1y6VK1dOM2fONC1n27ZtOn36tKKiokzLuFblypU1a9YslS9fXiVLllTfvn1Nu75IV64xW7du1T/+8Q/FxcXp8uXLev/9903Lu2rhwoXq06dPvk9l/7POnj2r1157TStXrtTWrVtVv379QvulOS9Vq1bVs88+qyeffFKPPPKIatasWejXmGt/lleuXNn0a4vVvzvklWfmtSWvPKuuL7g5ih6TVKxYUWfPnnWsnz171pJhZ1bau3evBgwYoGeffVYRERGmZv300086fPiwJKlkyZIKCgrSkSNHTMn66quvtG3bNoWHh+vtt9/Wxo0bNXnyZFOyrtqzZ4927NjhWDcMQ+7u5nTElitXTs2aNVPZsmXl7e2tDh06mN4LmZmZqX//+99q166dqTnSlRuMmzVrpnvuuUeenp6KjIzU7t27TctLSUlRUFCQVqxYoU8++USenp6qXLmyaXlX3QnXmJ9++km9evVSRESEnn76adNyTp8+rb1790qS3N3dFRoaatr1RZJWrlypo0ePKjw8XDExMTp48KCpva1HjhzRmjVrHOtmXl+kK9eY+vXrq3LlynJzc1NwcLDp1xhJ2rBhg0JCQkzP2bNnj2rUqKH7779fJUqUUI8ePUy9xmRkZKhevXpaunSpPv/8c1WoUKFQrzHX/yw3+9pi5e8ON8sz89pyfZ7V1xfcHEWPSZo3b64dO3YoKSlJly9f1tq1a9WqVauiblahOX36tJ5++mm99tprCg0NNT0vISFBMTExyszMVGZmpjZs2KBGjRqZkjVv3jytXLlSy5Yt04gRI9SuXTu9+OKLpmRddenSJU2bNk0ZGRlKSUlRfHx8oY6Bv1bbtm21detWJScnKycnR1u2bFGdOnVMybrqyJEjqlKliqn3YV1Vq1Ytbd++XWlpaTIMQxs3blTdunVNy0tISNBTTz2l7OxsXbp0SYsXLzZ9CJ8k1a9fX7/88ot+/fVX5eTkaOXKlS51jUlJSdHjjz+uZ555Ro899pipWZcuXdLo0aOVnJwswzC0Zs0a064vkvTqq69q1apVWrZsmSZNmqSHHnpIb775pml5hmFo8uTJunjxorKysrRw4ULTri+S1KJFC/33v/91DA/etGmT6deYpKQkpaenW/IHhxo1amj//v2OIWYbNmww9RqTlpamAQMGKCUlRZmZmfr0008LrbjL62e5mdcWq393yCvPzGtLXnlWX19wc9zTY5IKFSpo1KhR6tevn7KystS9e3fVq1evqJtVaObOnauMjAxNmTLFsa1Xr17q3bu3KXmtW7fW/v371a1bN7m5uSkoKMiSC6ZV2rZtq++++07dunWT3W5Xnz591LBhQ1Oy6tevr0GDBqlPnz7KyspSYGCg6cNsTpw4oYoVK5qacVWLFi106NAhRUZGysPDQ3Xr1tUTTzxhWl6tWrUUFBSkrl27KicnRwMGDLDkB5qXl5emTJmi4cOHKyMjQ61bty7U+wqK2uLFi3Xu3DnNmzfPMUV9u3bt9MwzzxR6Vo0aNfTEE0+oV69ecnNz01//+ldLhmJapVatWnriiSfUu3dvZWdnKygoSF26dDEt795779XEiRM1dOhQZWRkqHbt2nr++edNy5Ou/PHBqmtMtWrV9Mwzz6hfv35yc3PTAw88YOo0/H5+fnr66afVs2dPZWdnO6ZaLgw3+1lu1rXF6t8d8soLCQkx7dpys/Nz5etLcWIzzLjjFgAAAABuEwxvAwAAAODSKHoAAAAAuDSKHgAAAAAujaIHAAAAgEuj6AEAAADg0ih6AABOqVmzppKSknJti4uL05AhQ4qoRQAA3BpFDwAAAACXRtEDAChUly5d0nPPPed4iOK0adOUnZ0t6cZeoqvru3btUteuXdWrVy+FhYUpMzOzqJoPAHBB7kXdAABA8dO/f3+VKPG/v5tdvHhRNWvWlCRNmjRJZcqU0YoVK5SVlaUnn3xSH330kZ544olbHvPo0aNav369KlWqZGrbAQB3HooeAIDT5s+fr7JlyzrW4+LitGbNGknSN998owULFshms8nT01O9evXS/Pnz8y167r33XgoeAIApGN4GAChUdrtdNpst1/rV4W3Xun4Im4+Pj+ltAwDcmSh6AACFqkWLFvr0009lGIYyMzO1aNEiNW/eXJJUtmxZHThwQJK0cuXKomwmAOAOQtEDAChUMTExSkpKUlhYmMLCwlS1alUNHTrU8drEiRMVERGhn376Sf7+/kXcWgDAncBmGIZR1I0AAAAAALPQ0wMAAADApVH0AAAAAHBpFD0AAAAAXBpFDwAAAACXRtEDAAAAwKVR9AAAAABwaRQ9AAAAAFwaRQ8AAAAAl/b/ANEfgIe2RoCMAAAAAElFTkSuQmCC\n",
          "text/plain": "<Figure size 1080x288 with 2 Axes>"
         },
         "metadata": {},
         "output_type": "display_data"
        }
       ]
      }
     },
     "707a5bcffd2c453087d3be0e7f73f98b": {
      "model_module": "@jupyter-widgets/controls",
      "model_module_version": "1.5.0",
      "model_name": "IntSliderModel",
      "state": {
       "description": "isairport",
       "layout": "IPY_MODEL_a38f56a0650c4aebb130b5c332f2b7ca",
       "max": 1,
       "style": "IPY_MODEL_558e49d0db1641f89f65caca7bacbdaf"
      }
     },
     "7250370e81c742028af75df894e9fcd0": {
      "model_module": "@jupyter-widgets/controls",
      "model_module_version": "1.5.0",
      "model_name": "SliderStyleModel",
      "state": {
       "description_width": ""
      }
     },
     "7377cef2dcd14e1a87c51364741dafe3": {
      "model_module": "@jupyter-widgets/base",
      "model_module_version": "1.2.0",
      "model_name": "LayoutModel",
      "state": {}
     },
     "76319ae8b04640eca46d821bb4fea042": {
      "model_module": "@jupyter-widgets/controls",
      "model_module_version": "1.5.0",
      "model_name": "VBoxModel",
      "state": {
       "_dom_classes": [
        "widget-interact"
       ],
       "children": [
        "IPY_MODEL_051f3fc7428a4ea4a69ada4c22f90d59",
        "IPY_MODEL_4ff9baee87884f639b7ab25571331153",
        "IPY_MODEL_29306a752fea4fc3a7453945b33e1701",
        "IPY_MODEL_e9a95d74ed344822834b100e36b89c7e"
       ],
       "layout": "IPY_MODEL_94a71f1282d449fdbb68a69727508446"
      }
     },
     "767c09d9b1654a1da832e1b8ef2f7452": {
      "model_module": "@jupyter-widgets/base",
      "model_module_version": "1.2.0",
      "model_name": "LayoutModel",
      "state": {}
     },
     "7806404d9b2e4037ac3cbe484d77bca0": {
      "model_module": "@jupyter-widgets/controls",
      "model_module_version": "1.5.0",
      "model_name": "CheckboxModel",
      "state": {
       "description": "Airport",
       "disabled": false,
       "layout": "IPY_MODEL_086be8a06319409a86cb939b01f2db83",
       "style": "IPY_MODEL_a44032ebd5074391b57b16c510f1a9ab",
       "value": false
      }
     },
     "79c10cc9447543d693b95de8b2b8ae9d": {
      "model_module": "@jupyter-widgets/controls",
      "model_module_version": "1.5.0",
      "model_name": "VBoxModel",
      "state": {
       "_dom_classes": [
        "widget-interact"
       ],
       "children": [
        "IPY_MODEL_47441da596f54fdfa9ea2ce4c6d2fcc5",
        "IPY_MODEL_f1b45effd2384b3aa233367ac1b6c791",
        "IPY_MODEL_5bfbcba0a4234751b37e52c8b9976121",
        "IPY_MODEL_fd85f43b278d485b9fabbc11c4826b4d",
        "IPY_MODEL_293dd162934c4f06a0924157d24651f5"
       ],
       "layout": "IPY_MODEL_abd09d225ec34ba9940e3c779e4802e7"
      }
     },
     "8077eeee2b4f4550b88fe99e4c0c4424": {
      "model_module": "@jupyter-widgets/base",
      "model_module_version": "1.2.0",
      "model_name": "LayoutModel",
      "state": {}
     },
     "807ece8137e8466fa2e7913d4fa832d7": {
      "model_module": "@jupyter-widgets/controls",
      "model_module_version": "1.5.0",
      "model_name": "IntSliderModel",
      "state": {
       "description": "Distance: ",
       "layout": "IPY_MODEL_63edc60f02904f64ad8bfb9491a6f9b1",
       "style": "IPY_MODEL_beade5eba73248d7a125ca8f418872c5"
      }
     },
     "815214c7cb514e4fa02da796dd11cfe8": {
      "model_module": "@jupyter-widgets/base",
      "model_module_version": "1.2.0",
      "model_name": "LayoutModel",
      "state": {}
     },
     "85e3a3033bea4d83ada609384079a277": {
      "model_module": "@jupyter-widgets/base",
      "model_module_version": "1.2.0",
      "model_name": "LayoutModel",
      "state": {}
     },
     "86015012dc7d461db2ce8fea1516327c": {
      "model_module": "@jupyter-widgets/controls",
      "model_module_version": "1.5.0",
      "model_name": "DropdownModel",
      "state": {
       "_options_labels": [
        "DecisionTreeRegressor(criterion='mse', max_depth=None, max_features='auto',\n           max_leaf_nodes=None, min_impurity_decrease=0.0,\n           min_impurity_split=None, min_samples_leaf=1,\n           min_samples_split=2, min_weight_fraction_leaf=0.0,\n           presort=False, random_state=691922462, splitter='best')",
        "DecisionTreeRegressor(criterion='mse', max_depth=None, max_features='auto',\n           max_leaf_nodes=None, min_impurity_decrease=0.0,\n           min_impurity_split=None, min_samples_leaf=1,\n           min_samples_split=2, min_weight_fraction_leaf=0.0,\n           presort=False, random_state=734187594, splitter='best')",
        "DecisionTreeRegressor(criterion='mse', max_depth=None, max_features='auto',\n           max_leaf_nodes=None, min_impurity_decrease=0.0,\n           min_impurity_split=None, min_samples_leaf=1,\n           min_samples_split=2, min_weight_fraction_leaf=0.0,\n           presort=False, random_state=1908590134, splitter='best')",
        "DecisionTreeRegressor(criterion='mse', max_depth=None, max_features='auto',\n           max_leaf_nodes=None, min_impurity_decrease=0.0,\n           min_impurity_split=None, min_samples_leaf=1,\n           min_samples_split=2, min_weight_fraction_leaf=0.0,\n           presort=False, random_state=1924821618, splitter='best')",
        "DecisionTreeRegressor(criterion='mse', max_depth=None, max_features='auto',\n           max_leaf_nodes=None, min_impurity_decrease=0.0,\n           min_impurity_split=None, min_samples_leaf=1,\n           min_samples_split=2, min_weight_fraction_leaf=0.0,\n           presort=False, random_state=1295901455, splitter='best')",
        "DecisionTreeRegressor(criterion='mse', max_depth=None, max_features='auto',\n           max_leaf_nodes=None, min_impurity_decrease=0.0,\n           min_impurity_split=None, min_samples_leaf=1,\n           min_samples_split=2, min_weight_fraction_leaf=0.0,\n           presort=False, random_state=1690189291, splitter='best')",
        "DecisionTreeRegressor(criterion='mse', max_depth=None, max_features='auto',\n           max_leaf_nodes=None, min_impurity_decrease=0.0,\n           min_impurity_split=None, min_samples_leaf=1,\n           min_samples_split=2, min_weight_fraction_leaf=0.0,\n           presort=False, random_state=463474780, splitter='best')",
        "DecisionTreeRegressor(criterion='mse', max_depth=None, max_features='auto',\n           max_leaf_nodes=None, min_impurity_decrease=0.0,\n           min_impurity_split=None, min_samples_leaf=1,\n           min_samples_split=2, min_weight_fraction_leaf=0.0,\n           presort=False, random_state=2118682105, splitter='best')",
        "DecisionTreeRegressor(criterion='mse', max_depth=None, max_features='auto',\n           max_leaf_nodes=None, min_impurity_decrease=0.0,\n           min_impurity_split=None, min_samples_leaf=1,\n           min_samples_split=2, min_weight_fraction_leaf=0.0,\n           presort=False, random_state=214207692, splitter='best')",
        "DecisionTreeRegressor(criterion='mse', max_depth=None, max_features='auto',\n           max_leaf_nodes=None, min_impurity_decrease=0.0,\n           min_impurity_split=None, min_samples_leaf=1,\n           min_samples_split=2, min_weight_fraction_leaf=0.0,\n           presort=False, random_state=1672789934, splitter='best')"
       ],
       "description": "model",
       "index": 0,
       "layout": "IPY_MODEL_4145e051005e43fbbfe914db7ab8512e",
       "style": "IPY_MODEL_1fb6d6e4663e4c6e849b7d1b57fe1de3"
      }
     },
     "864dc782689848eca4fb755367baab80": {
      "model_module": "@jupyter-widgets/base",
      "model_module_version": "1.2.0",
      "model_name": "LayoutModel",
      "state": {
       "width": "500px"
      }
     },
     "865204467daf4b029a062259fdd896f0": {
      "model_module": "@jupyter-widgets/controls",
      "model_module_version": "1.5.0",
      "model_name": "VBoxModel",
      "state": {
       "_dom_classes": [
        "widget-interact"
       ],
       "children": [
        "IPY_MODEL_b5f4e9d50fd94653b6f6084a905bb2c1",
        "IPY_MODEL_c374de294d2f47e5b4b1f1f4876e35a6",
        "IPY_MODEL_a1d3d447eacc47248d75c3f571f6a76c",
        "IPY_MODEL_fe650f55dbd54f0da161ba46b049547a"
       ],
       "layout": "IPY_MODEL_700ec2cbb8ea4d5192ba3db71597f755"
      }
     },
     "8659bee8c49b4985873396afbc50cc2f": {
      "model_module": "@jupyter-widgets/controls",
      "model_module_version": "1.5.0",
      "model_name": "SliderStyleModel",
      "state": {
       "description_width": ""
      }
     },
     "86ca2017f24749488a482e4f690d4642": {
      "model_module": "@jupyter-widgets/controls",
      "model_module_version": "1.5.0",
      "model_name": "IntSliderModel",
      "state": {
       "description": "precip",
       "layout": "IPY_MODEL_efd5291d17f54493a8b3d9458c4c95c6",
       "max": 1,
       "style": "IPY_MODEL_8c3bbadbaa76460fa05aba43f439b47f"
      }
     },
     "873b96ee75844eae87c51a28a7c0bf12": {
      "model_module": "@jupyter-widgets/controls",
      "model_module_version": "1.5.0",
      "model_name": "DropdownModel",
      "state": {
       "_options_labels": [
        "DecisionTreeRegressor(criterion='mse', max_depth=None, max_features='auto',\n           max_leaf_nodes=None, min_impurity_decrease=0.0,\n           min_impurity_split=None, min_samples_leaf=1,\n           min_samples_split=2, min_weight_fraction_leaf=0.0,\n           presort=False, random_state=691922462, splitter='best')",
        "DecisionTreeRegressor(criterion='mse', max_depth=None, max_features='auto',\n           max_leaf_nodes=None, min_impurity_decrease=0.0,\n           min_impurity_split=None, min_samples_leaf=1,\n           min_samples_split=2, min_weight_fraction_leaf=0.0,\n           presort=False, random_state=734187594, splitter='best')",
        "DecisionTreeRegressor(criterion='mse', max_depth=None, max_features='auto',\n           max_leaf_nodes=None, min_impurity_decrease=0.0,\n           min_impurity_split=None, min_samples_leaf=1,\n           min_samples_split=2, min_weight_fraction_leaf=0.0,\n           presort=False, random_state=1908590134, splitter='best')",
        "DecisionTreeRegressor(criterion='mse', max_depth=None, max_features='auto',\n           max_leaf_nodes=None, min_impurity_decrease=0.0,\n           min_impurity_split=None, min_samples_leaf=1,\n           min_samples_split=2, min_weight_fraction_leaf=0.0,\n           presort=False, random_state=1924821618, splitter='best')",
        "DecisionTreeRegressor(criterion='mse', max_depth=None, max_features='auto',\n           max_leaf_nodes=None, min_impurity_decrease=0.0,\n           min_impurity_split=None, min_samples_leaf=1,\n           min_samples_split=2, min_weight_fraction_leaf=0.0,\n           presort=False, random_state=1295901455, splitter='best')",
        "DecisionTreeRegressor(criterion='mse', max_depth=None, max_features='auto',\n           max_leaf_nodes=None, min_impurity_decrease=0.0,\n           min_impurity_split=None, min_samples_leaf=1,\n           min_samples_split=2, min_weight_fraction_leaf=0.0,\n           presort=False, random_state=1690189291, splitter='best')",
        "DecisionTreeRegressor(criterion='mse', max_depth=None, max_features='auto',\n           max_leaf_nodes=None, min_impurity_decrease=0.0,\n           min_impurity_split=None, min_samples_leaf=1,\n           min_samples_split=2, min_weight_fraction_leaf=0.0,\n           presort=False, random_state=463474780, splitter='best')",
        "DecisionTreeRegressor(criterion='mse', max_depth=None, max_features='auto',\n           max_leaf_nodes=None, min_impurity_decrease=0.0,\n           min_impurity_split=None, min_samples_leaf=1,\n           min_samples_split=2, min_weight_fraction_leaf=0.0,\n           presort=False, random_state=2118682105, splitter='best')",
        "DecisionTreeRegressor(criterion='mse', max_depth=None, max_features='auto',\n           max_leaf_nodes=None, min_impurity_decrease=0.0,\n           min_impurity_split=None, min_samples_leaf=1,\n           min_samples_split=2, min_weight_fraction_leaf=0.0,\n           presort=False, random_state=214207692, splitter='best')",
        "DecisionTreeRegressor(criterion='mse', max_depth=None, max_features='auto',\n           max_leaf_nodes=None, min_impurity_decrease=0.0,\n           min_impurity_split=None, min_samples_leaf=1,\n           min_samples_split=2, min_weight_fraction_leaf=0.0,\n           presort=False, random_state=1672789934, splitter='best')"
       ],
       "description": "model",
       "index": 0,
       "layout": "IPY_MODEL_b913ab49d81d418698ff3a6ec0c446d9",
       "style": "IPY_MODEL_39b71259de9e48e8b685b028f3415d57"
      }
     },
     "897aeac49ee9461aacd552933b711101": {
      "model_module": "@jupyter-widgets/controls",
      "model_module_version": "1.5.0",
      "model_name": "SliderStyleModel",
      "state": {
       "description_width": ""
      }
     },
     "8a340eed50bb412fb5b83db8f38339af": {
      "model_module": "@jupyter-widgets/controls",
      "model_module_version": "1.5.0",
      "model_name": "VBoxModel",
      "state": {
       "_dom_classes": [
        "widget-interact"
       ],
       "children": [
        "IPY_MODEL_349cddeebe734d368ff706a21455f1d5",
        "IPY_MODEL_86ca2017f24749488a482e4f690d4642",
        "IPY_MODEL_2eefe3509c1b4265984fb72008ffc946",
        "IPY_MODEL_0943e34ea38141059709af2df926f598",
        "IPY_MODEL_460bd85085854ae7b4670eba233fb8c2"
       ],
       "layout": "IPY_MODEL_fb10ff12f1f9441fa54c5b903273acee"
      }
     },
     "8b344310a21b4e12a14fbb92ea8e4f84": {
      "model_module": "@jupyter-widgets/controls",
      "model_module_version": "1.5.0",
      "model_name": "SelectionRangeSliderModel",
      "state": {
       "_model_name": "SelectionRangeSliderModel",
       "_options_labels": [
        "0",
        "1",
        "2",
        "3",
        "4",
        "5",
        "6",
        "7",
        "8",
        "9",
        "10",
        "11",
        "12",
        "13",
        "14",
        "15",
        "16",
        "17",
        "18",
        "19",
        "20",
        "21",
        "22",
        "23",
        "24",
        "25",
        "26",
        "27",
        "28",
        "29"
       ],
       "_view_name": "SelectionRangeSliderView",
       "description": "Distance: ",
       "index": [
        0,
        29
       ],
       "layout": "IPY_MODEL_18b03f6efa4c49bd872b3bd650e1e3f0",
       "style": "IPY_MODEL_39a2eb16837047b1b55a6a73af575eaa"
      }
     },
     "8c14dd828d4f4d09b7ece3744bcb0d52": {
      "model_module": "@jupyter-widgets/controls",
      "model_module_version": "1.5.0",
      "model_name": "DropdownModel",
      "state": {
       "_options_labels": [
        "DecisionTreeRegressor(criterion='mse', max_depth=None, max_features='auto',\n           max_leaf_nodes=None, min_impurity_decrease=0.0,\n           min_impurity_split=None, min_samples_leaf=1,\n           min_samples_split=2, min_weight_fraction_leaf=0.0,\n           presort=False, random_state=691922462, splitter='best')",
        "DecisionTreeRegressor(criterion='mse', max_depth=None, max_features='auto',\n           max_leaf_nodes=None, min_impurity_decrease=0.0,\n           min_impurity_split=None, min_samples_leaf=1,\n           min_samples_split=2, min_weight_fraction_leaf=0.0,\n           presort=False, random_state=734187594, splitter='best')",
        "DecisionTreeRegressor(criterion='mse', max_depth=None, max_features='auto',\n           max_leaf_nodes=None, min_impurity_decrease=0.0,\n           min_impurity_split=None, min_samples_leaf=1,\n           min_samples_split=2, min_weight_fraction_leaf=0.0,\n           presort=False, random_state=1908590134, splitter='best')",
        "DecisionTreeRegressor(criterion='mse', max_depth=None, max_features='auto',\n           max_leaf_nodes=None, min_impurity_decrease=0.0,\n           min_impurity_split=None, min_samples_leaf=1,\n           min_samples_split=2, min_weight_fraction_leaf=0.0,\n           presort=False, random_state=1924821618, splitter='best')",
        "DecisionTreeRegressor(criterion='mse', max_depth=None, max_features='auto',\n           max_leaf_nodes=None, min_impurity_decrease=0.0,\n           min_impurity_split=None, min_samples_leaf=1,\n           min_samples_split=2, min_weight_fraction_leaf=0.0,\n           presort=False, random_state=1295901455, splitter='best')",
        "DecisionTreeRegressor(criterion='mse', max_depth=None, max_features='auto',\n           max_leaf_nodes=None, min_impurity_decrease=0.0,\n           min_impurity_split=None, min_samples_leaf=1,\n           min_samples_split=2, min_weight_fraction_leaf=0.0,\n           presort=False, random_state=1690189291, splitter='best')",
        "DecisionTreeRegressor(criterion='mse', max_depth=None, max_features='auto',\n           max_leaf_nodes=None, min_impurity_decrease=0.0,\n           min_impurity_split=None, min_samples_leaf=1,\n           min_samples_split=2, min_weight_fraction_leaf=0.0,\n           presort=False, random_state=463474780, splitter='best')",
        "DecisionTreeRegressor(criterion='mse', max_depth=None, max_features='auto',\n           max_leaf_nodes=None, min_impurity_decrease=0.0,\n           min_impurity_split=None, min_samples_leaf=1,\n           min_samples_split=2, min_weight_fraction_leaf=0.0,\n           presort=False, random_state=2118682105, splitter='best')",
        "DecisionTreeRegressor(criterion='mse', max_depth=None, max_features='auto',\n           max_leaf_nodes=None, min_impurity_decrease=0.0,\n           min_impurity_split=None, min_samples_leaf=1,\n           min_samples_split=2, min_weight_fraction_leaf=0.0,\n           presort=False, random_state=214207692, splitter='best')",
        "DecisionTreeRegressor(criterion='mse', max_depth=None, max_features='auto',\n           max_leaf_nodes=None, min_impurity_decrease=0.0,\n           min_impurity_split=None, min_samples_leaf=1,\n           min_samples_split=2, min_weight_fraction_leaf=0.0,\n           presort=False, random_state=1672789934, splitter='best')"
       ],
       "description": "model",
       "index": 0,
       "layout": "IPY_MODEL_32bbe8c45f454558a8840a8490c7df63",
       "style": "IPY_MODEL_9609e9ef3c2440f688312bf827385b66"
      }
     },
     "8c3bbadbaa76460fa05aba43f439b47f": {
      "model_module": "@jupyter-widgets/controls",
      "model_module_version": "1.5.0",
      "model_name": "SliderStyleModel",
      "state": {
       "description_width": ""
      }
     },
     "8dbba72bebc54f9d88eec180a07e0d4b": {
      "model_module": "@jupyter-widgets/controls",
      "model_module_version": "1.5.0",
      "model_name": "DescriptionStyleModel",
      "state": {
       "description_width": ""
      }
     },
     "8e46922e47964938b5c3ea358779d3c8": {
      "model_module": "@jupyter-widgets/base",
      "model_module_version": "1.2.0",
      "model_name": "LayoutModel",
      "state": {}
     },
     "8fe6a7abfa79471b8eeb83f1d5c4f908": {
      "model_module": "@jupyter-widgets/controls",
      "model_module_version": "1.5.0",
      "model_name": "DescriptionStyleModel",
      "state": {
       "description_width": ""
      }
     },
     "930947a8ea6848dbabc24723ee28a667": {
      "model_module": "@jupyter-widgets/base",
      "model_module_version": "1.2.0",
      "model_name": "LayoutModel",
      "state": {}
     },
     "9324f6d8c55a42ecb9683a225149a953": {
      "model_module": "@jupyter-widgets/base",
      "model_module_version": "1.2.0",
      "model_name": "LayoutModel",
      "state": {}
     },
     "9380dbb3f8394acdac8a00e55ea29bfa": {
      "model_module": "@jupyter-widgets/controls",
      "model_module_version": "1.5.0",
      "model_name": "VBoxModel",
      "state": {
       "_dom_classes": [
        "widget-interact"
       ],
       "children": [
        "IPY_MODEL_f8b7a32bbddc4070a1e733e2aff3f0ad",
        "IPY_MODEL_957dd9db4b9b47a1bff3ffc25b6ad96f",
        "IPY_MODEL_707a5bcffd2c453087d3be0e7f73f98b",
        "IPY_MODEL_ae5e658de9d842a6a3551ced87f7b311",
        "IPY_MODEL_2bc1829186f74f4b8373df00bfd84ea5"
       ],
       "layout": "IPY_MODEL_28663aad218c4d9fb8b5bc12d10fce20"
      }
     },
     "94a71f1282d449fdbb68a69727508446": {
      "model_module": "@jupyter-widgets/base",
      "model_module_version": "1.2.0",
      "model_name": "LayoutModel",
      "state": {}
     },
     "94c84871711e4b18b55f57a40d8c711a": {
      "model_module": "@jupyter-widgets/controls",
      "model_module_version": "1.5.0",
      "model_name": "CheckboxModel",
      "state": {
       "description": "Precipitation",
       "disabled": false,
       "layout": "IPY_MODEL_9ed6708b1e91477292fe4c6e5abf5b76",
       "style": "IPY_MODEL_56b28aacf14c4d2290c336af132c7d00",
       "value": false
      }
     },
     "957dd9db4b9b47a1bff3ffc25b6ad96f": {
      "model_module": "@jupyter-widgets/controls",
      "model_module_version": "1.5.0",
      "model_name": "CheckboxModel",
      "state": {
       "description": "Precipitation: ",
       "disabled": false,
       "layout": "IPY_MODEL_e3afe31fd9e24821950172f6da6e0e86",
       "style": "IPY_MODEL_2a6735487d8f441c9d6bd78c91f931d2",
       "value": false
      }
     },
     "9609e9ef3c2440f688312bf827385b66": {
      "model_module": "@jupyter-widgets/controls",
      "model_module_version": "1.5.0",
      "model_name": "DescriptionStyleModel",
      "state": {
       "description_width": ""
      }
     },
     "96be9b4360d64189b6b85fd83d6778ea": {
      "model_module": "@jupyter-widgets/controls",
      "model_module_version": "1.5.0",
      "model_name": "DescriptionStyleModel",
      "state": {
       "description_width": ""
      }
     },
     "9b92e431a8e947708c0354945a1d9b88": {
      "model_module": "@jupyter-widgets/base",
      "model_module_version": "1.2.0",
      "model_name": "LayoutModel",
      "state": {}
     },
     "9bbb6d1629024e54bb550d1df2d19b33": {
      "model_module": "@jupyter-widgets/output",
      "model_module_version": "1.0.0",
      "model_name": "OutputModel",
      "state": {
       "layout": "IPY_MODEL_e38d6e62f0794ea98246e2ecc163219b",
       "outputs": [
        {
         "data": {
          "image/png": "iVBORw0KGgoAAAANSUhEUgAAAzMAAAENCAYAAAA7RDtCAAAABHNCSVQICAgIfAhkiAAAAAlwSFlzAAALEgAACxIB0t1+/AAAADh0RVh0U29mdHdhcmUAbWF0cGxvdGxpYiB2ZXJzaW9uMy4xLjAsIGh0dHA6Ly9tYXRwbG90bGliLm9yZy+17YcXAAAgAElEQVR4nO3deXxU1f3/8fdkZzElyKIsCqWyVGXRH0IIa8AICSEkoWw1gEqVKiBURBTKJiJLLS5QcUEKQlmUhE2QHZVdoIoKRUQRIzEsEUISkkxm7u8Pvk5BAmRo7kkGXk8f8zBzOXPfdyaZM/nknHuuw7IsSwAAAADgY/xK+gAAAAAA4FpQzAAAAADwSRQzAAAAAHwSxQwAAAAAn0QxAwAAAMAnUcwAAAAA8EkBJX0AAAAAAPCLpKQkZWRkKCDgfKkyfvx4NWrUqNC2FDMAAAAASgXLsnTkyBFt2rTJU8xcCdPMAAAAAJQK3377rSTp4YcfVpcuXTRv3rwrtmdkBgAAAICtMjMzlZmZecn20NBQhYaGXtQuPDxcf/3rX+V0OtWnTx/Vrl1bERERhe7XYVmWZdtRX2eCQ2oay3K53caySoK/n9lBQdOvZ5NKdYzmhTgCjeb9PrCisayhQdnGsiTp3fwKRvOWnfvWaN7ZghyjebeFVDaal+k6ZzTvZN4Zo3kVgsobzWsUUs1oXqDD3GdDNQUby5KkTfnHjOadNfxeyCowm5eWlWE0r0yg2Z+XM1mHjeZdK+fJon+GzVzwgaZPn37J9oEDB2rQoEGXfdw///lPHTt2TM8991yh/87IDAAAAADvuV1Fbtq3b1/Fx8dfsv3CURlJ2r17t5xOp8LDwyWdP4fmSufOUMwAAAAA8J5V9Jkvv55Odjlnz57Vq6++qoULF8rpdColJUXjxo27bHuKGQAAAADes2Eaf7t27fT555+ra9eucrvd6t27t5o0aXLZ9hQzAAAAALxmeTEy440hQ4ZoyJAhRWpLMQMAAADAe66Ckj4CihkAAAAA18CLBQDsQjEDAAAAwHs2TTPzBsUMAAAAAO+VgusiUswAAAAA8JpdCwB4g2IGAAAAgPcYmQEAAADgk1zOkj4C+ZkMS01NVb169TR69OiLth84cED16tVTcnLy/7z/yMjI/2kfAAAAAIrAchf9ZhPjIzMVKlTQJ598IpfLJX9/f0nSqlWrVLFiRdOHAgAAAOBalYJpZkZHZiSpXLlyatCggT799FPPtq1bt6pFixaSpE2bNikuLk6xsbF6/PHHdfLkSUlSZGSkXn75ZXXr1k0xMTH68ssvJUn79+9XfHy84uPjNWPGDM8+v/76ayUlJSkxMVHt2rXTggUL5Ha7FRkZqe+++06SlJOTozZt2igvL8/U0wcAAACuD6VgZMZ4MSNJnTp10po1ayRJ+/btU7169RQYGKhTp05p9OjRmjFjhlasWKF77rlH48eP9zyuQoUKev/999WzZ0+98cYbkqRnnnlGw4YNU0pKimrUqOFp+9577+nxxx/XkiVLNHfuXE2ZMkV+fn7q2rWrli9fLklau3at2rZtq+DgYIPPHgAAALgOuN1Fv9mkRIqZyMhIffzxx3K73Vq9erU6deokSSpTpowaNmzoKUp69OihHTt2eB7XqlUrSdIdd9yh06dPKyMjQ8ePH1dERIQkKSEhwdN2xIgRysvL0xtvvKGXX35ZOTk5njYrV66UJKWkpFz0GAAAAABFY7mdRb7ZpUSKmXLlyql+/fras2ePduzY4Zli5v5V1WZZlgoKCjz3fxlBcTgcnv9bluX591/OwZGkIUOGaN26dapTp46GDBni2V6jRg1Vq1ZNa9eu1alTp9SoUaPif4IAAADA9e5GHZmRzk81e+mll3TXXXcpIOD8OgS5ubn6/PPPlZqaKklatGiRmjVrdtl9hIWFqVq1atq8ebMkeUZcpPPn4QwePFgdOnTQxx9/LElyuVySpMTERE2YMEFdunSx46kBAAAA178b9ZwZSWrXrp0OHDig6Ohoz7ZKlSpp/PjxGjhwoGJiYrRr1y6NGzfuivuZOnWqpk+frq5du+ro0aOe7YMGDVLv3r0VHR2tPXv2qHr16p4iKSoqSmfOnFFcXJw9Tw4AAAC43rldRb/ZxGFdOE/rBmBZlj7++GMtWLBAM2fO9OqxwSE1bTqqS7lKwVJ3dvL3M1tHm349m1SqYzQvxBFoNO/3geaWUh8alG0sS5Leza9gNG/ZuW+N5p0tyDGad1tIZaN5ma5zRvNO5p0xmlchqLzRvEYh1YzmBTrMfTZUk9nFfzblHzOad9bweyGrwGxeWlaG0bwygWZ/Xs5kHTaad61yd71X5LYh9/3BlmMwfp2ZkjZx4kRt2rRJb731VkkfCgAAAOC7SsEf32+4YmbkyJEaOXJkSR8GAAAA4NtcBVdvY7MbrpgBAAAAUAwYmQEAAADgiyzLvhP7i4piBgAAAID3GJkBAAAA4JNsvH5MUVHMAAAAAPAeIzMAAAAAfBKrmQEAAADwSUwz8y0mryLv72fuKsiS2ecmSSEBQUbzLMsympee+7PRvLIBIUbzEgvMXdW95p8qGcuSpFtnmn0vNC1T3WjejpwfjOZV9C9jNO9o7gmjeVWCKxjNqxVU0WieU2bfD+GucsayvvU3+xflqCCz7/XvrHNG877KP24075T/WaN5FYLN/Wz6FKaZAQAAAPBJFDMAAAAAfBLTzAAAAAD4JBYAAAAAAOCTmGYGAAAAwCcxzQwAAACAT2JkBgAAAIBPopgBAAAA4JMMX8evMBQzAAAAALxXUPKrmZm9zDwAAACA64PlLvrtGkyePFkjRoy4YhuKGQAAAADec7uLfvPS9u3blZKSctV2TDMDAAAA4D0vzpnJzMxUZmbmJdtDQ0MVGhp60bbTp09r2rRpGjBggP7zn/9ccb+2FjPjxo3T3r175XQ6dfToUdWpU0eS1KdPHyUmJhZr1s6dOzV9+nS9++67xbpfAAAAAIXwYsRlzpw5mj59+iXbBw4cqEGDBl20bfTo0Ro6dKjS0tKuul9bi5kxY8ZIklJTU9WnTx8tW7bMzjgAAAAApnhRzPTt21fx8fGXbP/1qMx7772nW2+9VeHh4UpOTr7qfktkmtlrr70mSZ4qLDIyUnPnztWtt96qKVOmaNeuXXK5XEpISFC/fv30008/adiwYcrJyZGfn59GjRqlxo0ba8uWLXrxxRcVHBys2rVre/a/a9cuTZs2Tbm5ucrMzNSzzz6r5s2bq3379tqwYYPKly+v1NRUPfroo1q1alVJvAQAAACAT7NcriK3LWw6WWFWrVqlEydOKC4uTmfOnFFOTo4mTpyo5557rtD2peqcmcWLF0uSUlJSlJ+fr0ceeUR33XWXduzYobZt26p///76+OOPtWfPHv3+97/XiBEjNGfOHNWpU0cjR4707GfevHmaMGGC6tSpo+3bt2vixInq0KGD2rZtqw8//FDdunXT0qVL1bVr15J6qgAAAIBvs+GimbNnz/Z8nZycrF27dl22kJFK2Wpm27dv18aNGxUXF6c//OEP+umnn3Tw4EGFh4frnXfe0VNPPaXTp0/rwQcf1MGDB1WlShXPeTgXDltNnTpVhw4d0owZMzR79mxlZ2dLkhITEz1T3VauXKm4uDjzTxIAAAC4Hti8NHNRlMjIjMPhkPuCSs7pdEqSXC6Xnn76aUVFRUmSMjIyVK5cOQUHB+uDDz7Q5s2btWrVKqWkpOipp56SdcEKCv7+/p6ve/furWbNmqlZs2YKDw/XsGHDJElNmzbV8ePHtXbtWtWoUUNVq1Y18XQBAACA64+76KuZXYuEhAQlJCRcsU2JjMyEhYXpm2++kSTt27dPJ06ckCQ1b95cixcvltPpVHZ2tnr37q3PPvtMU6ZM0fLlyxUfH6/Ro0dr//79qlevnk6ePOlZru2DDz6QdH4ptyNHjujJJ59U69attWHDBrn+bz6fw+FQ165dNWHChKu+MAAAAACuwMbrzBRViYzMREdHa82aNYqOjtadd96p3//+95Kknj176vvvv1d8fLwKCgqUkJCgZs2a6bbbbtNTTz2l5ORk+fv7a/LkyQoMDNTf//53Pf300woICPDso0KFCurWrZtiYmIUEBCg5s2bKzc3Vzk5OSpbtqxiYmL0zjvvqEOHDiXx1AEAAIDrgxcLANjFYVleXO3Gx7ndbi1YsEDfffedRo0a5fXjA4Kq23BUhfP3Mzto5rKxYi5MuaAQo3mmf8wrBJczmlc2wOzr+aqjjrGsiMFBxrIkafZMs++FPf7njObtyPnBaF7dkCpG8z7LPmo0r2LgTUbzagVVNJoX4DD7WdTabe71/Na/wFiWJN0k/6s3KkbfWWb7lq/yjxvN+/rMj0bzbi5j9r3+/al9RvOuVc7f/1TktmX/8pYtx1CqVjOz28CBA5WWlqZZs2aV9KEAAAAAvs3mc2aK4oYqZv7xj3+U9CEAAAAA1wcbVykrqhuqmAEAAABQTBiZAQAAAOCLLMPnXBeGYgYAAACA90rBamYUMwAAAAC8xzQzAAAAAD6JaWYAAAAAfBIjMwAAAAB8Eksz+5YAP3NX7y1wl/wJVXbKzs81mhfob/ZHvUJQeaN5AQ6zV5b+NMhc3qdvuhQfcNpYXmSQtPdcmLG8Ew6z7wV/w1d0/ybvhNG8YL8go3nZrjyjecdd2Ubz6gVWNJr3pb/Z17OqzP68pCvfWNZpy1yWJLkM/1J7c5mbjOb9ePaU0TyfwcgMAFyZyUJGMlvIACg513MhA5hiFZT8H98pZgAAAAB4j5EZAAAAAD6Jc2YAAAAA+CRGZgAAAAD4IotiBgAAAIBPYgEAAAAAAD6JkRkAAAAAPoliBgAAAIAvsiyKGQAAAAC+iJEZAAAAAD6JYgYAAACAL7IKSv6imX5X+seHHnpI69ev99yfPHmymjRpovz8fM+2li1bKjU19apBqampioyM/B8O9cqSk5M1YsQI2/YPAAAA4AJuL242uWIx07x5c+3Zs8dzf9u2bWrcuLFn2/fff6+yZcuqRo0a9h0hAAAAgFLHcltFvtnlitPMwsPDNXHiRElSenq6goKC9MADD2jLli0KDw/X7t27FRERoX379unFF19Ubm6uwsLCNG7cONWsWVP79+/XyJEjJUn169f37HfEiBEqX768vvrqK6Wnp+uJJ55QYmKisrOzNX78eB06dEgul0t/+tOf1LlzZ/3nP//R6NGjVVBQoODgYL344ouqVauWli5dqtdff13ly5dX9erVVbZsWUnS6tWrNXv2bOXm5io/P18TJ07UzTffrL59+2rjxo3y8/PTzp079dZbb+ntt9+267UFAAAArl+l4JyZK47M3HnnnTp69Kjy8vK0ZcsWRUREKCIiQlu2bJEk7d69W02bNtWoUaP00ksvKSUlRQ899JD++te/SpKeeeYZDRs2TCkpKZeM3vz000/617/+pddff11TpkyRJL3++uu68847lZycrPnz52vmzJn64YcfNGfOHD300ENKTk5W9+7d9dlnnyk9PV1/+9vfNH/+fC1atEjZ2dmSJLfbrYULF2rmzJlavny5+vfvrzfffFO33367atSooZ07d0qSli5dqoSEhOJ9NQEAAIAbRSmYZnbFkRl/f381atRIX3zxhbZs2aI//vGPqlmzpnJzc3XmzBn9+9//Vt++ffXDDz/oz3/+s+dxWVlZysjI0PHjxxURESFJSkhI0JIlSzxtIiIi5HA4VLduXZ0+fVrS+Wlsubm5nnY5OTk6dOiQ2rRpo/Hjx+uTTz5RZGSk2rVrp3Xr1qlJkyaqVKmSJCk2NlY7duyQn5+fZsyYoY0bN+q7777Trl275Od3vmZLTEzU8uXL1bhxY+3YsUNjx44tvlcSAAAAuIHYOX2sqK66mlnz5s21d+9e7du3T1OnTpV0fvrZhg0bFBYWJkmqUaOGli1bJklyuVw6efKkHA7HRRfS8ff3v2i/wcHBkiSHw+HZ5na7NXXqVN15552SpJMnT+o3v/mNAgMD1aRJE23atEn//Oc/tXnzZrVq1eqi/QcEnH8q2dnZ6tatm7p06aKmTZuqXr16mj9/viSpY8eOmjZtmtasWaPWrVt7jgEAAACAd6yCki9mrjjNTDpfuCxbtkx169b1FAwRERGaPXu2IiIi9Nvf/lZnzpzR7t27JUlLlizRsGHDFBYWpmrVqmnz5s2SpJUrV171YJo3b64FCxZIko4fP64uXbooLS1NQ4YM0RdffKGePXvqySef1P79+3Xvvfd6ppu53W6tWrVKknTkyBE5HA4NGDBAzZo107p16+RyuSRJZcqUUevWrfX3v/+dKWYAAADA/6K0TzOT5JkG1rt3b8+25s2ba8iQIWrRooWCgoL0yiuv6IUXXlBeXp7Kly+vyZMnS5KmTp2qZ599Vi+//LIaN2581YMZOHCgxo4dq86dO8vlcunpp5/WbbfdpgEDBmjkyJGaMWOGAgMDNXbsWFWqVEmjRo1Sv379VKZMGf3ud7+TdH6hgQYNGqhTp05yOBxq2bLlRSuyxcTEaO/evWrUqJHXLxYAAACA86ySv8yMHNaFc7Wucy6XS9OmTdPNN9+shx56yOvHh4TcZsNRFa7A7TKWdSMI9Dd7fdg7flPNaF6Aw//qjYpRYtDtxrLiA04by5KkvefCjOYtDPjZaN6RvFNG8yyZ/YhxXud9Z+WgUKN59QIrGs0LlOPqjYpJVQUZy5KkdOVfvVExOuY+ZzTvaH6G0bzTziyjeT+eNdt3FuT/aDTvWp2KaVPktjd/8JEtx2D2N7wSlpiYqLCwML3++uslfSgAAACAT7NrZOaVV17RmjVr5HA41K1btysOQtxQxczSpUtL+hAAAACA64JVUPz73LVrl3bs2KHly5eroKBA0dHRatOmjX77298W2v6GKmYAAAAAFA87Rmbuu+8+zZ07VwEBAUpPT5fL5VLZsmUv255iBgAAAIDXvClmMjMzlZmZecn20NBQhYZefD5gYGCgXn31Vb3zzjvq2LGjqlatetn9XnVpZgAAAAC4hOUo8m3OnDlq3779Jbc5c+YUuuvBgwdr+/btSktL0+LFiy97CIzMAAAAAPCaNyMzffv2VXx8/CXbfz0qc/jwYeXn56tBgwYqU6aMoqKidPDgwcvul2IGAAAAgNcsd9GXUy9sOllhUlNT9eqrr2rBggWSpA0bNigxMfGy7SlmAAAAAHjN7Sr+a0O1adNG+/btU9euXeXv76+oqCjFxMRctj3FDAAAAACv2XWdmUGDBmnQoEFFaksxAwAAAMBr3kwzswvFjBccjpL/huHaOF02XNXpCtLP/Ww0r3rZSkbzTjlcxrKq1M0yliVJJ74KM5p3siDbaN6P2SeN5nWt1MhoXoFlGc1LdZ01mpftzjeaF50XbDSvvNtc3/JTgNnP9KYus79yTQ8091pKUtXAq58LUZzy3E6jebeHXn5p4BuZ4S63UBQzAAAAALzGyAwAAAAAn2THAgDeopgBAAAA4DVGZgAAAAD4JMuimAEAAADgg+xamtkbFDMAAAAAvOZmZAYAAACAL2KaGQAAAACfxGpmAAAAAHwSq5kBAAAA8EmcMwMAAADAJ12X58yMGzdOe/fuldPp1NGjR1WnTh1JUmZmphISEjRo0KDijvR47bXXJMnWDAAAAACSZZX0EdhQzIwZM0aSlJqaqj59+mjZsmWS/ltoAAAAAPB9N9w0s3379qlnz55KT0/3jNIkJydr165dmjRpkiQpKSlJAwcOlCRNnTpVbrdbd9xxh7p27aqpU6dKkn7zm9/opZdeUsWKFfX2229r8eLFCgsLU2hoqBo2bChJmjdvnpYtW6Zz584pMDBQL730ktLT0/XKK69o4cKFkqTk5GR9/vnnGjdunMmXAQAAAPB57lKwAICfybBTp05p7ty5WrJkiWbNmqWsrKwrtj9y5IjmzJmjyZMn6x//+IfGjh2r5ORktWjRQvv379cXX3yhJUuWKCUlRbNnz9ZPP/0kScrKytL69ev17rvvauXKlWrbtq3mz5+v5s2b68SJEzp69KgkaenSpUpISLD9eQMAAADXG7flKPLNLkZHZlq1aqWgoCBVrFhRYWFhOnPmzBXb165dWzfddJMkqX379ho4cKA6dOig9u3bKyIiQrNmzVKbNm1Urlw5SVLHjh3ldrtVvnx5vfTSS/rggw905MgRffLJJ2rQoIEcDofi4+O1fPlyJSQk6NSpU2rUqJHtzxsAAAC43lyXCwBcMSzgv3EOh0OWZXn+/wun0+n5OiQkxPN1v3791K5dO23atElTp07Vvn37FBwcfNFjAwIClJ+fr7S0NCUlJenBBx9U69atValSJR04cECSFB8fr/79+ysoKEhxcXF2Pl0AAADgulUazpkxOs2sMGFhYTp8+LAsy9IPP/yggwcPFtruD3/4g7Kzs9WvXz/169dP+/fvV3h4uDZt2qSzZ88qLy9P69atkyR98cUXuv3229WvXz/dfffdWr9+vVwulySpevXquuWWW7Rw4UKKGQAAAOAaWV7c7FLi15lp0aKFlixZoo4dO6p27dq69957C233l7/8RSNGjFBAQIDKli2rCRMmqFatWurbt6+6deum0NBQVatWTZIUERGhBQsWKDo6WpZlqWnTpjp06JBnX9HR0Vq7dq2qVq1q5DkCAAAA1xuXu8THReSwrNKwQrQ5BQUFGj58uDp27KioqCivHlumzO02HdWlnK4CY1kofjeXucloXvWylYzmtQ2uYSzruQZpxrIk6d2vahrNW1SQajTvYKbZvK6VzJ6XWGD4Iy3VddZoXrY732jecMvce12SyrtdxrJ+CjD799ybXeaemyRNDzxtNM+y9W/vlzqad8pontPgz6YkHT6512jetfrklm5Fbtvqp/dtOYaSL6cMsixLrVq1ksPhUIcOHUr6cAAAAACfZclR5JtdSnyamUkOh0Pbt28v6cMAAAAAfJ67FMzvuqGKGQAAAADFw23jiEtRUcwAAAAA8Jqd08eKimIGAAAAgNdcFDMAAAAAfJG7pA9AFDMAAAAArgHFDAAAAACfxDkzAAAAAHySu+RrGYoZAAAAAN5jaWYf47ZKw8xAe/g5zP4wui2zV1m6ucxNRvOcbpfRvGPnThnNa+xXy1hWuaE9jGVJUthD24zmDVINo3lvVTDb7X+c9Z3RvBblahnNC3GYfT1rBYUazfvWMvvZ0CTX3GfD0QCzn0NxLdKM5n2902zfku5n9nOvQdkKRvOqW/zKXBiz3/XC8Z0BAAAA4DW34T+GF4ZiBgAAAIDXzI5vFo5iBgAAAIDX7DoBY/r06Vq9erUkqU2bNho+fPhl2/rZdAwAAAAArmNuR9FvRbVt2zZt2bJFKSkpWrp0qb766iutW7fusu0ZmQEAAADgNZcXq5llZmYqMzPzku2hoaEKDf3v4iaVK1fWiBEjFBQUJEmqU6eOjh07dtn9UswAAAAA8Jo3Iy5z5szR9OnTL9k+cOBADRo0yHP/jjvu8Hx95MgRrV69WgsWLLjsfilmAAAAAHjNm3Nm+vbtq/j4+Eu2Xzgqc6FDhw7pscce0/Dhw1WrVq3L7pdiBgAAAIDXvFnN7NfTya5kz549Gjx4sJ577jnFxMRcsS3FDAAAAACveTPNrKjS0tL0xBNPaNq0aQoPD79qe4oZAAAAAF6zY2nmWbNmKS8vT5MmTfJs69mzp3r16lVoe4oZAAAAAF5z2TAyM2rUKI0aNarI7UvVdWZSU1N11113KS4u7qJbWlraRe3+9Kc/KT09/ZLHJyUlaefOnaYOFwAAALhhub242aXUjcxUqVJFy5Ytu2Kbt956y9DRAAAAACiMnUVKUZW6YqYwI0aM0OnTp/X999/r6aef1oQJEzR37lxVqVJFI0eO1Jdffqnq1avr559/liQVFBRo7NixOnTokE6ePKl69erp73//u2bOnCnLsjR06FDPflu3bq3o6OiSfHoAAACAz/FmNTO7lKppZpJ0/Pjxi6aYvf3225KkChUqaPXq1YqMjPS0fffddyVJq1ev1qhRo3T06FFJ0r///W8FBgZq0aJFWrdunc6ePauPPvpIiYmJWrFihSzL0rlz57Rjxw61b9/e/JMEAAAAfJzbUfSbXUrdyExh08xGjBihhg0bXtJ2165d6tGjhySpVq1aatKkiSSpadOmqlChgubPn69vv/1WR44cUU5OjmrWrKnq1avr008/1bFjx9SmTRsFBwfb/6QAAACA60xpmGZW6kZmLickJOSSbQ6HQ5b13wGugIDztdmGDRs0bNgwhYSEKCEhQU2bNvW0S0xM1MqVK7Vy5UolJCSYOXgAAADgOuPy4mYXnylmChMeHq4VK1bI7Xbrxx9/1N69eyVJ27dvV6dOnZSYmKjQ0FDt3LlTLtf5l7Fjx47avn27Tp48qUaNGpXk4QMAAAA+i2lm/6PevXvr0KFD6tSpk6pXr666detKkv7whz9o2LBh+uCDDxQYGKh77rlHqampks6P8DRu3NjTFgAAAID3SsM0s1JVzNSoUUMbN268ZPuFVwCVdFGbCRMmFLqvFStWXLLNsixlZ2dr//79Gj58+P94tAAAAMCNi9XMDPviiy8UGRmp7t27q3LlyiV9OAAAAIDPcssq8s0upWpkxm4NGzbUrl27SvowAAAAAJ9n54n9RXVDFTMAAAAAigfnzAAAAADwSXauUlZUFDMAAAAAvGbnuTBFRTEDAAAAwGslX8pQzAAAAAC4BpwzAwAAAMAnuUrB2AzFDAAAAACvMTIDAAAAwCexAICPue/musayvs760ViWJGU784zmWYZ/+J1us5d1yjH8eua7CozmPWV9aixrUMJ2Y1mSFHtzI6N5oQ6z3XBH6xajeRnlKxvNyzPct1h+RuN02p1vNK+yq4zRPJMv5+/NvpTa8smtRvN+Z/hv5meDzb4Zfmt4TeCQ0jAEUQqVfClDMQMAAADgGpSGGo9iBgAAAIDXWAAAAAAAgE/inBkAAAAAPqnkSxmKGQAAAADXgJEZAAAAAD6JBQAAAAAA+CTTl9ooDMUMAAAAAK+xmhkAAAAAn8Q0MwAAAAA+yW0xMgMAAADAB5V8KSP52bXjDz/8UDq2O6EAABn2SURBVAkJCerSpYtiY2P19ttvX7H94sWLtXLlymvOS01NVWRk5DU/HgAAAEDRuWUV+WYXW0Zm0tPTNXnyZCUnJyssLEzZ2dlKSkpS7dq11b59+0Ifs3fvXt133312HA4AAACAYnbdrmb2888/y+l0Kjc3V5JUrlw5TZo0ScHBwVq9erVmz56t3Nxc5efna+LEicrNzdXGjRu1Y8cOVa5cWR988IHuu+8+JSQkSJLq1aungwcP6rXXXtNnn32mtLQ0Pfjgg2rcuLFGjhwpSapfv74n/+uvv9bzzz+vnJwcZWRk6NFHH1WPHj3UoUMHzZo1S7Vr11ZOTo46deqktWvXKjg42I6XAQAAALhuFZSCYsaWaWb169dX+/bt1aFDB3Xr1k1Tp06V2+1WzZo1tXDhQs2cOVPLly9X//799eabb6pFixaKjIzU4MGD1apVqyvuOz8/X6tWrVLv3r31zDPPaNiwYUpJSVGNGjU8bd577z09/vjjWrJkiebOnaspU6bIz89PXbt21fLlyyVJa9euVdu2bSlkAAAAgGtgefGft7KystS5c2elpqZesZ1t58yMGzdOGzduVK9evXTs2DF1795d69ev14wZM7Rlyxa98sorSklJUXZ2tlf7bdiwoSQpIyNDx48fV0REhCR5RnEkacSIEcrLy9Mbb7yhl19+WTk5OZ42v5yXk5KSctFjAAAAABSd24ubNz7//HP16tVLR44cuWpbW4qZzZs3a9WqVapataoSExM1bdo0jRo1SvPnz1e3bt2Umpqqpk2bKikpqdDHOxwOWf+31JvT6bzo30JCQi5pI0n+/v6er4cMGaJ169apTp06GjJkiGd7jRo1VK1aNa1du1anTp1So0aNiu05AwAAADcSy7KKfPPG4sWLNWbMGFWpUuWqbW05ZyYkJETPP/+8GjZsqBo1asiyLB04cEBBQUFyOBwaMGCALMvS8OHD5XK5JJ0vRn75ukKFCvrmm28kSevXry80IywsTNWqVdPmzZvVtm3bi1ZC27p1q1avXq2qVatq/vz5kiSXyyV/f38lJiZqwoQJevDBB+146gAAAMANwZtVyjIzM5WZmXnJ9tDQUIWGhl607YUXXijyfm0ZmWnevLkGDhyoAQMG6IEHHlDHjh3l7++vGTNmqEGDBurUqZNiYmIUFhamY8eOSZJatGihmTNn6sMPP1SvXr20c+dOxcbGau/evapcuXKhOVOnTtX06dPVtWtXHT161LN90KBB6t27t6Kjo7Vnzx5Vr17dM98uKipKZ86cUVxcnB1PHQAAALghuGQV+TZnzhy1b9/+ktucOXP+p2NwWN6O+/gwy7L08ccfa8GCBZo5c6bXj29VvfBlpe3wddaPxrIkKduZZzTP9FJ+wf6BRvNyDL+eAX7+V29UjMoEBhnLyncVGMuSpNibzU4/DXWYvXbxbZa5750kZThcRvPyDPctp6x8o3nZlvPqjYpRF9dvjObdVmDu+f3sZ/a9F2x5e9bA/8Yth9G8fwebzbvFbTYvxOy3T/1+nGc28BpF3xZd5LYLv1xY5JGZX0RGRmru3LkXLfT1a2bfySVs4sSJ2rRpk956662SPhQAAADAp3kzJnKlouV/YdtqZqXRyJEjtX79etWuXbukDwUAAADwaXatZuaNG2pkBgAAAEDxsPu0gY0bN161DcUMAAAAAK95s5qZXShmAAAAAHjNZXhhi8JQzAAAAADwmunVaQtDMQMAAADAa+5ScIUXihkAAAAAXiv5UoZiBgAAAMA1YAEAAAAAAD6JYsbH/Em3GsvaEFbBWJYkrT19wGie6RPGzuTlGM0z/fzKBQYbzTudl20sq1KZ4r9a8JUcdJ40mtc4qKrRvNr5Zn82Pw48YzSvql8Zo3mm3exn9r2+0WG273QFmPv5POY6ZSxLkir6lzWa93l2qtG8mJA7jOZ94Eozmvd15o9G8/oZTbt2rGYGAAAAwCexmhkAAAAAn2SxmhkAAAAAX8Q5MwAAAAB8EiMzAAAAAHySSywAAAAAAMAHuRmZAQAAAOCLWM0MAAAAgE9iZAYAAACAT2JkBgAAAIBPYmQGAAAAgE9yWTfoamYffvih3nzzTRUUFMiyLMXFxal///7/837r1aungwcPFsMRAgAAALiSG3KaWXp6uiZPnqzk5GSFhYUpOztbSUlJql27ttq3b2/6cAAAAABcA6sUjMz4mQ78+eef5XQ6lZubK0kqV66cJk2apN/97neKjIxUamqqJGnnzp1KSkqSJCUlJWnKlCnq0aOH7r//fn300UeSpNTUVPXq1UtxcXEaPXq0JyM9PV2PPPKIunfvrrZt2+qVV16RJPXu3Vtbt26VdP6KpVFRUUpPTzf23AEAAIDrhVtWkW92MV7M1K9fX+3bt1eHDh3UrVs3TZ06VW63W7fffvsVH+d0OrVo0SI9++yznuLk+eefV0JCgpYtW6Z77rnH03blypXq3LmzFi9erBUrVmjOnDnKyMhQYmKili1bJknavXu3brvtNlWtWtW+JwsAAABcpyzLKvLNLsaLGUkaN26cNm7cqF69eunYsWPq3r271q5de8XHtGrVSpJ0xx136PTp05KkXbt2qVOnTpKkLl26KDAwUJL0yCOP6NZbb9WsWbP0wgsvyOl06ty5c+rUqZO2bdumnJwcpaSkKCEhwcZnCQAAAFy/SsPIjPFzZjZv3qycnBxFR0crMTFRiYmJWrx4sd5//31J8lRuBQUFFz0uODhYkuRwOC7a/kt7h8MhP7/ztdmkSZP0ww8/qHPnzurQoYO2bdsmy7JUtmxZtW7dWmvWrNGOHTs0ZswYW58rAAAAcL1yuW/Ac2ZCQkL00ksvec6NsSxLBw4cUIMGDRQWFqZvvvlGkrRhw4ar7qtFixZavny5JGnt2rXKy8uTJG3dulWPPPKIOnXqpO+++07p6ely/9+LnZiYqGnTpqlVq1aeAgkAAACAdywv/rOL8ZGZ5s2ba+DAgRowYICcTqek81PInnjiCd1zzz16/vnnNX36dLVs2fKq+xo9erSefvppLVq0SHfddZfKlSsnSXrsscc0fPhwhYSE6JZbbtFdd92l1NRU3Xbbbbr33nvlcDiUmJho6/MEAAAArmd2ngtTVA6rNByFIZZl6euvv9YzzzyjpUuXev34udUftOGoCrch8JyxLElae/qA0TzT65Kfycsxmuc2vFRhheByRvNO52Uby6pUJtRYliRVK3Oz0bzGQWYXIemQF2Q0b07gz0bzqvqVMZrnNPwRGuIwO6Eiz3Bf5jL42XDMddZYliRV9C9rNO/z7FSjeTHl7zCatz0/zWje15k/Gs07k3XYaN61qvybekVue+KMPdeCLJGLZpaUOXPm6O233/ashgYAAADg2pSGMZEbqpjp16+f+vXrV9KHAQAAAPi80rAAwA1VzAAAAAAoHnYuuVxUFDMAAAAAvMY0MwAAAAA+yU0xAwAAAMAXmV6dtjAUMwAAAAC8VhpGZswuWA8AAADguuC23EW+eWPFihWKjo5WVFSU5s+ff8W2jMwAAAAA8JodCwCkp6dr2rRpSk5OVlBQkHr27KlmzZrpd7/7XaHtKWYAAAAAeM2bYiYzM1OZmZmXbA8NDVVoaKjn/rZt29S8eXNVqFBBkvTAAw/oww8/1MCBAwvdL8WMF/r8OM9clrEkALBPj5I+AACAbZz5Pxa57Wuvvabp06dfsn3gwIEaNGiQ5/7x48dVuXJlz/0qVapo3759l90vxQwAAAAAW/Xt21fx8fGXbL9wVEaS3G63HA6H575lWRfd/zWKGQAAAAC2+vV0ssu55ZZbtHv3bs/9EydOqEqVKpdtz2pmAAAAAEqFFi1aaPv27crIyNC5c+e0du1atW7d+rLtGZkBAAAAUCpUrVpVQ4cOVZ8+feR0OtWtWzc1bNjwsu0dlh1rqgEAAACAzZhmBgAAAMAnUcwAAAAA8EkUMwAAAAB8EsUMAAAAAJ9EMWOjFStWKDo6WlFRUZo/f76RzKysLHXu3Fmpqam2Z02fPl0xMTGKiYnRlClTbM975ZVXFB0drZiYGM2ePdv2PEmaPHmyRowYYSQrKSlJMTExiouLU1xcnD7//HPbsjZu3KiEhAR16tRJEyZMsC1Hkt577z3Pc4qLi9O9996r8ePH25q5bNkyz8/m5MmTbc2SpDfffFMPPPCAYmNj9frrr9uW8+v397Zt2xQbG6uoqChNmzbN9jxJcjqd6tu3r3bu3Gl73qJFi9S5c2fFxsbq2WefVX5+vm1Z//rXvxQTE6Po6GhNnjxZxb02zuX65nnz5ikpKalYswrLe/bZZxUVFeV5H65bt87WvH//+9/q3r27YmJi9Je//KVYv3e/zvvoo48u6mOaN2+uxx57zLY8SdqyZYu6dOmizp07a/jw4bY+P0lKTk5WdHS0YmNjNWHCBBUUFBRbVmGf5Xb2LZf73cGuvqWwPDv7lsLy7O5fbngWbPHTTz9Z7dq1s37++WcrOzvbio2NtQ4dOmRr5meffWZ17tzZuvPOO60ffvjB1qytW7daPXr0sPLy8qz8/HyrT58+1tq1a23L27lzp9WzZ0/L6XRa586ds9q1a2cdPnzYtjzLsqxt27ZZzZo1s5555hlbcyzLstxut9WyZUvL6XTannX06FGrZcuWVlpampWfn2/16tXL2rx5s+25lmVZX3/9tXX//fdbp06dsi0jJyfHatq0qXXq1CnL6XRa3bp1s7Zu3Wpb3tatW63OnTtbZ8+etQoKCqzHHnvMWrNmTbHn/Pr9fe7cOatNmzbW0aNHLafTaT388MPF+n0srD85fPiw1aNHD+vuu++2duzYUWxZheV9++231v3332+dPXvWcrvd1vDhw63Zs2fbknX06FHr/vvvt7Kzs62CggKrR48e1ieffFIsWYXl/eLQoUNWq1atrAcffLDYsi6X17lzZys9Pb1Ycy6Xd/bsWSsiIsI6cOCAZVmWNXToUGv+/Pm25V3o+PHjVvv27a3vvvvO1rzWrVtb33zzjWVZljVo0CBr8eLFtuUdPnzYatWqlef7N2bMGOudd94plqzCPstXrFhhW99yud8d7OpbCst74403bOtbCsubPXu2rf0LLIuRGZts27ZNzZs3V4UKFVS2bFk98MAD+vDDD23NXLx4scaMGXPFq6QWl8qVK2vEiBEKCgpSYGCg6tSpo2PHjtmWd99992nu3LkKCAjQqVOn5HK5VLZsWdvyTp8+rWnTpmnAgAG2ZVzo22+/lSQ9/PDD6tKli+bNm2db1rp16xQdHa1bbrlFgYGBmjZtmho1amRb3oXGjh2roUOHqmLFirZluFwuud1unTt3TgUFBSooKFBwcLBtefv371fLli1Vvnx5+fv7q1WrVlq/fn2x5/z6/b1v3z7dfvvtqlmzpgICAhQbG1usfUxh/cn777+v/v372/Lz8uu8oKAgjRkzRuXLl5fD4VDdunWLrY/5dVbNmjX1wQcfqGzZssrMzFRWVlaRrlJ9rXmSlJ+fr9GjR2vw4MHFlnO5vHPnzunYsWN67rnnFBsbq1dffVVut9u2vK1bt6px48aqX7++JGnUqFG6//77bcu70JQpU9SzZ0/VqlXL1jyXy6WsrCy5XC7l5eUVax/z67yDBw+qcePGnvvt2rUrtj6msM/yI0eO2Na3XO53B7v6lsLy8vPzbetbCstzOBy29i/gopm2OX78uCpXruy5X6VKFe3bt8/WzBdeeMHW/V/ojjvu8Hx95MgRrV69WgsWLLA1MzAwUK+++qreeecddezYUVWrVrUta/To0Ro6dKjS0tJsy7hQZmamwsPD9de//lVOp1N9+vRR7dq1FRERUexZ33//vQIDAzVgwAClpaWpbdu2GjJkSLHn/Nq2bduUm5urTp062ZpTvnx5Pfnkk+rUqZPKlCmjpk2b6p577rEt784779TEiRP12GOPqUyZMtq4caMtUwh+/f4urI9JT0+3LU+Shg8fLkmaM2dOseVcLq969eqqXr26JCkjI0Pz58/Xiy++aEuWdL5/Wbx4sSZPnqyGDRt6fhG3K++ll15SYmKiatSoUWw5l8s7efKkmjdvrjFjxuimm27SY489pvfff1/du3e3Je/7779X2bJlNXToUH377be65557inW67uU+644cOaJdu3YV+2dhYfsbO3askpKSVL58edWoUUMdO3a0La9+/fqaNGmS0tLSVKVKFX344Yc6efJksWQV9ln+4IMP2ta3XO53h1+Kz+LuW66WV9x9y+Xy7OxfwDkztnG73XI4HJ77lmVddP96cejQIT388MMaPnx4sf4l7HIGDx6s7du3Ky0tTYsXL7Yl47333tOtt96q8PBwW/ZfmCZNmmjKlCm66aabVLFiRXXr1k0fffSRLVkul0vbt2/XxIkTtWjRIu3bt08pKSm2ZF1o4cKFeuihh2zP+c9//qMlS5Zo06ZN+uSTT+Tn56dZs2bZlhceHq6EhAQlJSWpf//+uvfeexUYGGhb3i9ulD4mPT1dffv2VWJiopo1a2ZrVvfu3bVz505VqlRJ06dPty1n69atSktLU2Jiom0ZF6pZs6ZmzJihKlWqqEyZMkpKSrKtf5HO9zFbtmzRX/7yFyUnJ+vcuXN68803bcv7xaJFi9S7d28FBQXZmnPixAn97W9/08qVK7VlyxY1atSo2H4ZLkzt2rX11FNP6c9//rP++Mc/ql69esXex1z4WV6zZk3b+xbTvzsUlmdn31JYnqn+5UZEMWOTW265RSdOnPDcP3HihJHpXybt2bNH/fr101NPPaX4+Hhbsw4fPqwDBw5IksqUKaOoqCgdPHjQlqxVq1Zp69atiouL06uvvqqNGzdq4sSJtmT9Yvfu3dq+fbvnvmVZCgiwZ+C0UqVKCg8PV8WKFRUSEqIOHTrYPmqYn5+vTz/9VJGRkbbmSOdPzA0PD9fNN9+soKAgJSQkaNeuXbblZWVlKSoqSitWrNC7776roKAg1axZ07a8X9wIfczhw4fVs2dPxcfH64knnrAtJy0tTXv27JEkBQQEKCYmxrb+RZJWrlypQ4cOKS4uTqNGjdKXX35p6+jowYMHtWbNGs99O/sX6Xwf06hRI9WsWVP+/v7q1KmT7X2MJG3YsEHR0dG25+zevVt169bVbbfdJj8/P3Xv3t3WPiYvL08NGzbU0qVLtXDhQlWtWrVY+5hff5bb3beY/N3hcnl29i2/zjPdv9yIKGZs0qJFC23fvl0ZGRk6d+6c1q5dq9atW5f0YRWbtLQ0PfHEE/rb3/6mmJgY2/NSU1M1atQo5efnKz8/Xxs2bNC9995rS9bs2bO1cuVKLVu2TIMHD1ZkZKSee+45W7J+cfbsWU2ZMkV5eXnKyspSSkpKsc4xv1C7du20ZcsWZWZmyuVy6ZNPPtGdd95pS9YvDh48qFq1atl6ntMv6tevr23btiknJ0eWZWnjxo26++67bctLTU3V448/roKCAp09e1bvv/++7VPpJKlRo0b67rvv9P3338vlcmnlypXXVR+TlZWlRx55RE8++aQefvhhW7POnj2rp59+WpmZmbIsS2vWrLGtf5GkF198UatXr9ayZcs0YcIE3XXXXXr55Zdty7MsSxMnTtSZM2fkdDq1aNEi2/oXSWrZsqW++uorzzTdTZs22d7HZGRkKDc318gfEurWrat9+/Z5pnpt2LDB1j4mJydH/fr1U1ZWlvLz8zVv3rxiK9oK+yy3s28x/btDYXl29i2F5ZnuX25EnDNjk6pVq2ro0KHq06ePnE6nunXrpoYNG5b0YRWbWbNmKS8vT5MmTfJs69mzp3r16mVLXps2bbRv3z517dpV/v7+ioqKMtIRmtKuXTt9/vnn6tq1q9xut3r37q0mTZrYktWoUSP1799fvXv3ltPpVEREhO3TXX744Qfdcssttmb8omXLltq/f78SEhIUGBiou+++W48++qhtefXr11dUVJS6dOkil8ulfv36GfmgCg4O1qRJkzRo0CDl5eWpTZs2xTpvv6S9//77OnnypGbPnu1Zij0yMlJPPvlksWfVrVtXjz76qHr27Cl/f3/9v//3/4xMiTSlfv36evTRR9WrVy8VFBQoKipKnTt3ti3v1ltv1fjx4zVgwADl5eWpQYMGeuaZZ2zLk87/UcFUH1OnTh09+eST6tOnj/z9/XX77bfbutx8WFiYnnjiCfXo0UMFBQWeJYWLw+U+y+3qW0z/7lBYXnR0tG19y+We3/Xcv5QGDsuOM1UBAAAAwGZMMwMAAADgkyhmAAAAAPgkihkAAAAAPoliBgAAAIBPopgBAAAA4JMoZgAAXqlXr54yMjIu2pacnKzHHnushI4IAHCjopgBAAAA4JMoZgAAxers2bMaNmyY5+J+U6ZMUUFBgaRLR3V+ub9z50516dJFPXv2VGxsrPLz80vq8AEAPiSgpA8AAOB7+vbtKz+///497MyZM6pXr54kacKECapQoYJWrFghp9OpP//5z3rnnXf06KOPXnGfhw4d0vr161W9enVbjx0AcP2gmAEAeG3OnDmqWLGi535ycrLWrFkjSfr444+1YMECORwOBQUFqWfPnpozZ85Vi5lbb72VQgYA4BWmmQEAipXb7ZbD4bjo/i/TzC7066lkZcuWtf3YAADXF4oZAECxatmypebNmyfLspSfn6/FixerRYsWkqSKFSvqiy++kCStXLmyJA8TAHAdoJgBABSrUaNGKSMjQ7GxsYqNjVXt2rU1YMAAz7+NHz9e8fHxOnz4sCpXrlzCRwsA8GUOy7Kskj4IAAAAAPAWIzMAAAAAfBLFDAAAAACfRDEDAAAAwCdRzAAAAADwSRQzAAAAAHwSxQwAAAAAn0QxAwAAAMAnUcwAAAAA8En/H7sPyeViveo2AAAAAElFTkSuQmCC\n",
          "text/plain": "<Figure size 1080x288 with 2 Axes>"
         },
         "metadata": {},
         "output_type": "display_data"
        }
       ]
      }
     },
     "9cdae50e4e8e4b55a5e9438d5ac29986": {
      "model_module": "@jupyter-widgets/controls",
      "model_module_version": "1.5.0",
      "model_name": "VBoxModel",
      "state": {
       "_dom_classes": [
        "widget-interact"
       ],
       "children": [
        "IPY_MODEL_fe41988d701d436f905d2f55b355a8fa",
        "IPY_MODEL_94c84871711e4b18b55f57a40d8c711a",
        "IPY_MODEL_d4f4bd85cd434ba8ab83b183e623dc13",
        "IPY_MODEL_56f518080cac45c392eaddd2b2635876"
       ],
       "layout": "IPY_MODEL_1f7ad6979fc84c83bf8ea20283066062"
      }
     },
     "9d49e641401a4229b28def1c4112cb2b": {
      "model_module": "@jupyter-widgets/controls",
      "model_module_version": "1.5.0",
      "model_name": "CheckboxModel",
      "state": {
       "description": "Precipitation: ",
       "disabled": false,
       "layout": "IPY_MODEL_6d9c13e914b14a4db2d405eda3f4233b",
       "style": "IPY_MODEL_f9e9085b307047aab96f56d5c4fdc4a5",
       "value": false
      }
     },
     "9ed6708b1e91477292fe4c6e5abf5b76": {
      "model_module": "@jupyter-widgets/base",
      "model_module_version": "1.2.0",
      "model_name": "LayoutModel",
      "state": {}
     },
     "a1d3d447eacc47248d75c3f571f6a76c": {
      "model_module": "@jupyter-widgets/controls",
      "model_module_version": "1.5.0",
      "model_name": "CheckboxModel",
      "state": {
       "description": "Airport",
       "disabled": false,
       "layout": "IPY_MODEL_3250035d62424cabac9ba543a83f912a",
       "style": "IPY_MODEL_0aa75067768d4ce19cc0934adda5d7cc",
       "value": false
      }
     },
     "a2d644690e85478e85535ef49a276a12": {
      "model_module": "@jupyter-widgets/controls",
      "model_module_version": "1.5.0",
      "model_name": "CheckboxModel",
      "state": {
       "description": "Precipitation: ",
       "disabled": false,
       "layout": "IPY_MODEL_3a31e0e65f984f6d8077f9bfbda3614f",
       "style": "IPY_MODEL_f677a5daa5fa4395b8e7c9e6d6a273d7",
       "value": false
      }
     },
     "a32fe42f62184175af0b58b2fadcd9d5": {
      "model_module": "@jupyter-widgets/controls",
      "model_module_version": "1.5.0",
      "model_name": "SliderStyleModel",
      "state": {
       "description_width": ""
      }
     },
     "a38f56a0650c4aebb130b5c332f2b7ca": {
      "model_module": "@jupyter-widgets/base",
      "model_module_version": "1.2.0",
      "model_name": "LayoutModel",
      "state": {}
     },
     "a44032ebd5074391b57b16c510f1a9ab": {
      "model_module": "@jupyter-widgets/controls",
      "model_module_version": "1.5.0",
      "model_name": "DescriptionStyleModel",
      "state": {
       "description_width": ""
      }
     },
     "ab6ce74d07f34d83b8b57c81e4d92aa3": {
      "model_module": "@jupyter-widgets/controls",
      "model_module_version": "1.5.0",
      "model_name": "IntSliderModel",
      "state": {
       "description": "Distance: ",
       "layout": "IPY_MODEL_f2ab1d0de6a4422e982a012997d98cc2",
       "max": 30,
       "style": "IPY_MODEL_4240b5dab31a4c7682350af5d0aaf788",
       "value": 10
      }
     },
     "abd09d225ec34ba9940e3c779e4802e7": {
      "model_module": "@jupyter-widgets/base",
      "model_module_version": "1.2.0",
      "model_name": "LayoutModel",
      "state": {}
     },
     "abffbf31c6a34b12bc8ac00d16709b6f": {
      "model_module": "@jupyter-widgets/controls",
      "model_module_version": "1.5.0",
      "model_name": "IntSliderModel",
      "state": {
       "description": "isairport",
       "layout": "IPY_MODEL_f22ae3bdb3f84be8bc4888fa69f7a11e",
       "max": 1,
       "style": "IPY_MODEL_c06cfacb4f1642439514a74373e340a5"
      }
     },
     "ac74d3f9107a49f0ad211535e2fceeb9": {
      "model_module": "@jupyter-widgets/base",
      "model_module_version": "1.2.0",
      "model_name": "LayoutModel",
      "state": {
       "width": "500px"
      }
     },
     "ae270e535e3b4fe2a387f0ca9fda29bb": {
      "model_module": "@jupyter-widgets/controls",
      "model_module_version": "1.5.0",
      "model_name": "SelectionRangeSliderModel",
      "state": {
       "_model_name": "SelectionRangeSliderModel",
       "_options_labels": [
        "0",
        "1",
        "2",
        "3",
        "4",
        "5",
        "6",
        "7",
        "8",
        "9",
        "10",
        "11",
        "12",
        "13",
        "14",
        "15",
        "16",
        "17",
        "18",
        "19",
        "20",
        "21",
        "22",
        "23",
        "24",
        "25",
        "26",
        "27",
        "28",
        "29"
       ],
       "_view_name": "SelectionRangeSliderView",
       "description": "Distance: ",
       "index": [
        0,
        29
       ],
       "layout": "IPY_MODEL_ac74d3f9107a49f0ad211535e2fceeb9",
       "style": "IPY_MODEL_1824484a402b4662b926ee52150fa2cb"
      }
     },
     "ae5e658de9d842a6a3551ced87f7b311": {
      "model_module": "@jupyter-widgets/controls",
      "model_module_version": "1.5.0",
      "model_name": "DropdownModel",
      "state": {
       "_options_labels": [
        "DecisionTreeRegressor(criterion='mse', max_depth=None, max_features='auto',\n           max_leaf_nodes=None, min_impurity_decrease=0.0,\n           min_impurity_split=None, min_samples_leaf=1,\n           min_samples_split=2, min_weight_fraction_leaf=0.0,\n           presort=False, random_state=691922462, splitter='best')",
        "DecisionTreeRegressor(criterion='mse', max_depth=None, max_features='auto',\n           max_leaf_nodes=None, min_impurity_decrease=0.0,\n           min_impurity_split=None, min_samples_leaf=1,\n           min_samples_split=2, min_weight_fraction_leaf=0.0,\n           presort=False, random_state=734187594, splitter='best')",
        "DecisionTreeRegressor(criterion='mse', max_depth=None, max_features='auto',\n           max_leaf_nodes=None, min_impurity_decrease=0.0,\n           min_impurity_split=None, min_samples_leaf=1,\n           min_samples_split=2, min_weight_fraction_leaf=0.0,\n           presort=False, random_state=1908590134, splitter='best')",
        "DecisionTreeRegressor(criterion='mse', max_depth=None, max_features='auto',\n           max_leaf_nodes=None, min_impurity_decrease=0.0,\n           min_impurity_split=None, min_samples_leaf=1,\n           min_samples_split=2, min_weight_fraction_leaf=0.0,\n           presort=False, random_state=1924821618, splitter='best')",
        "DecisionTreeRegressor(criterion='mse', max_depth=None, max_features='auto',\n           max_leaf_nodes=None, min_impurity_decrease=0.0,\n           min_impurity_split=None, min_samples_leaf=1,\n           min_samples_split=2, min_weight_fraction_leaf=0.0,\n           presort=False, random_state=1295901455, splitter='best')",
        "DecisionTreeRegressor(criterion='mse', max_depth=None, max_features='auto',\n           max_leaf_nodes=None, min_impurity_decrease=0.0,\n           min_impurity_split=None, min_samples_leaf=1,\n           min_samples_split=2, min_weight_fraction_leaf=0.0,\n           presort=False, random_state=1690189291, splitter='best')",
        "DecisionTreeRegressor(criterion='mse', max_depth=None, max_features='auto',\n           max_leaf_nodes=None, min_impurity_decrease=0.0,\n           min_impurity_split=None, min_samples_leaf=1,\n           min_samples_split=2, min_weight_fraction_leaf=0.0,\n           presort=False, random_state=463474780, splitter='best')",
        "DecisionTreeRegressor(criterion='mse', max_depth=None, max_features='auto',\n           max_leaf_nodes=None, min_impurity_decrease=0.0,\n           min_impurity_split=None, min_samples_leaf=1,\n           min_samples_split=2, min_weight_fraction_leaf=0.0,\n           presort=False, random_state=2118682105, splitter='best')",
        "DecisionTreeRegressor(criterion='mse', max_depth=None, max_features='auto',\n           max_leaf_nodes=None, min_impurity_decrease=0.0,\n           min_impurity_split=None, min_samples_leaf=1,\n           min_samples_split=2, min_weight_fraction_leaf=0.0,\n           presort=False, random_state=214207692, splitter='best')",
        "DecisionTreeRegressor(criterion='mse', max_depth=None, max_features='auto',\n           max_leaf_nodes=None, min_impurity_decrease=0.0,\n           min_impurity_split=None, min_samples_leaf=1,\n           min_samples_split=2, min_weight_fraction_leaf=0.0,\n           presort=False, random_state=1672789934, splitter='best')"
       ],
       "description": "model",
       "index": 0,
       "layout": "IPY_MODEL_b206df99975b4fe6906a8af6e7f791de",
       "style": "IPY_MODEL_32f3252f949445928939e6ba224127b5"
      }
     },
     "af9351ee18b24773b04d4380205c9918": {
      "model_module": "@jupyter-widgets/base",
      "model_module_version": "1.2.0",
      "model_name": "LayoutModel",
      "state": {}
     },
     "afed5c68769c4571aa523be6c631042c": {
      "model_module": "@jupyter-widgets/controls",
      "model_module_version": "1.5.0",
      "model_name": "SliderStyleModel",
      "state": {
       "description_width": ""
      }
     },
     "b0970c8ea645467b81694906470c8419": {
      "model_module": "@jupyter-widgets/controls",
      "model_module_version": "1.5.0",
      "model_name": "DropdownModel",
      "state": {
       "_options_labels": [
        "DecisionTreeRegressor(criterion='mse', max_depth=None, max_features='auto',\n           max_leaf_nodes=None, min_impurity_decrease=0.0,\n           min_impurity_split=None, min_samples_leaf=1,\n           min_samples_split=2, min_weight_fraction_leaf=0.0,\n           presort=False, random_state=691922462, splitter='best')",
        "DecisionTreeRegressor(criterion='mse', max_depth=None, max_features='auto',\n           max_leaf_nodes=None, min_impurity_decrease=0.0,\n           min_impurity_split=None, min_samples_leaf=1,\n           min_samples_split=2, min_weight_fraction_leaf=0.0,\n           presort=False, random_state=734187594, splitter='best')",
        "DecisionTreeRegressor(criterion='mse', max_depth=None, max_features='auto',\n           max_leaf_nodes=None, min_impurity_decrease=0.0,\n           min_impurity_split=None, min_samples_leaf=1,\n           min_samples_split=2, min_weight_fraction_leaf=0.0,\n           presort=False, random_state=1908590134, splitter='best')",
        "DecisionTreeRegressor(criterion='mse', max_depth=None, max_features='auto',\n           max_leaf_nodes=None, min_impurity_decrease=0.0,\n           min_impurity_split=None, min_samples_leaf=1,\n           min_samples_split=2, min_weight_fraction_leaf=0.0,\n           presort=False, random_state=1924821618, splitter='best')",
        "DecisionTreeRegressor(criterion='mse', max_depth=None, max_features='auto',\n           max_leaf_nodes=None, min_impurity_decrease=0.0,\n           min_impurity_split=None, min_samples_leaf=1,\n           min_samples_split=2, min_weight_fraction_leaf=0.0,\n           presort=False, random_state=1295901455, splitter='best')",
        "DecisionTreeRegressor(criterion='mse', max_depth=None, max_features='auto',\n           max_leaf_nodes=None, min_impurity_decrease=0.0,\n           min_impurity_split=None, min_samples_leaf=1,\n           min_samples_split=2, min_weight_fraction_leaf=0.0,\n           presort=False, random_state=1690189291, splitter='best')",
        "DecisionTreeRegressor(criterion='mse', max_depth=None, max_features='auto',\n           max_leaf_nodes=None, min_impurity_decrease=0.0,\n           min_impurity_split=None, min_samples_leaf=1,\n           min_samples_split=2, min_weight_fraction_leaf=0.0,\n           presort=False, random_state=463474780, splitter='best')",
        "DecisionTreeRegressor(criterion='mse', max_depth=None, max_features='auto',\n           max_leaf_nodes=None, min_impurity_decrease=0.0,\n           min_impurity_split=None, min_samples_leaf=1,\n           min_samples_split=2, min_weight_fraction_leaf=0.0,\n           presort=False, random_state=2118682105, splitter='best')",
        "DecisionTreeRegressor(criterion='mse', max_depth=None, max_features='auto',\n           max_leaf_nodes=None, min_impurity_decrease=0.0,\n           min_impurity_split=None, min_samples_leaf=1,\n           min_samples_split=2, min_weight_fraction_leaf=0.0,\n           presort=False, random_state=214207692, splitter='best')",
        "DecisionTreeRegressor(criterion='mse', max_depth=None, max_features='auto',\n           max_leaf_nodes=None, min_impurity_decrease=0.0,\n           min_impurity_split=None, min_samples_leaf=1,\n           min_samples_split=2, min_weight_fraction_leaf=0.0,\n           presort=False, random_state=1672789934, splitter='best')"
       ],
       "description": "model",
       "index": 0,
       "layout": "IPY_MODEL_85e3a3033bea4d83ada609384079a277",
       "style": "IPY_MODEL_dcd12fc0311944d89d9aac5e1301ba34"
      }
     },
     "b206df99975b4fe6906a8af6e7f791de": {
      "model_module": "@jupyter-widgets/base",
      "model_module_version": "1.2.0",
      "model_name": "LayoutModel",
      "state": {}
     },
     "b31394355f0c4c89b65a6e1f5135f19a": {
      "model_module": "@jupyter-widgets/base",
      "model_module_version": "1.2.0",
      "model_name": "LayoutModel",
      "state": {}
     },
     "b3e5d065d4bd407f8d5a7a7dee7f4b54": {
      "model_module": "@jupyter-widgets/base",
      "model_module_version": "1.2.0",
      "model_name": "LayoutModel",
      "state": {}
     },
     "b5f4e9d50fd94653b6f6084a905bb2c1": {
      "model_module": "@jupyter-widgets/controls",
      "model_module_version": "1.5.0",
      "model_name": "IntSliderModel",
      "state": {
       "description": "Distance: ",
       "layout": "IPY_MODEL_38feea61dcc146668e7125dfab6bbb5b",
       "max": 30,
       "style": "IPY_MODEL_1a7a77f2ebc443749f6e59f760b55071",
       "value": 1
      }
     },
     "b712f2b9f20d4546a6d2c79e609a37f8": {
      "model_module": "@jupyter-widgets/controls",
      "model_module_version": "1.5.0",
      "model_name": "IntSliderModel",
      "state": {
       "description": "Distance: ",
       "layout": "IPY_MODEL_406fd36c8990434683546ebec9b92138",
       "max": 30,
       "style": "IPY_MODEL_f773eb5f56c84a3f88786e4b9036256b",
       "value": 10
      }
     },
     "b804fe97eaad44caab8dd8d4876ce8ef": {
      "model_module": "@jupyter-widgets/controls",
      "model_module_version": "1.5.0",
      "model_name": "DescriptionStyleModel",
      "state": {
       "description_width": ""
      }
     },
     "b913ab49d81d418698ff3a6ec0c446d9": {
      "model_module": "@jupyter-widgets/base",
      "model_module_version": "1.2.0",
      "model_name": "LayoutModel",
      "state": {}
     },
     "ba41bfc5968547699ba4aba07d0e710c": {
      "model_module": "@jupyter-widgets/controls",
      "model_module_version": "1.5.0",
      "model_name": "CheckboxModel",
      "state": {
       "description": "Airport",
       "disabled": false,
       "layout": "IPY_MODEL_b31394355f0c4c89b65a6e1f5135f19a",
       "style": "IPY_MODEL_f860ca43a1d44c94af2ca75c852bab6e",
       "value": false
      }
     },
     "bb4bc0ce80954b85ae2ce6450243afc8": {
      "model_module": "@jupyter-widgets/controls",
      "model_module_version": "1.5.0",
      "model_name": "IntSliderModel",
      "state": {
       "description": "Distance: ",
       "layout": "IPY_MODEL_f524aa928d914725a91d7a265f0e0bb4",
       "max": 30,
       "style": "IPY_MODEL_7250370e81c742028af75df894e9fcd0",
       "value": 10
      }
     },
     "bb94555f045342e2b24806fd2425ce79": {
      "model_module": "@jupyter-widgets/controls",
      "model_module_version": "1.5.0",
      "model_name": "IntSliderModel",
      "state": {
       "description": "isairport",
       "layout": "IPY_MODEL_d6cef59957d3487ab2d1374ae7f94044",
       "max": 1,
       "style": "IPY_MODEL_1910f9e579d948c5839ae98efa80cfa8"
      }
     },
     "beade5eba73248d7a125ca8f418872c5": {
      "model_module": "@jupyter-widgets/controls",
      "model_module_version": "1.5.0",
      "model_name": "SliderStyleModel",
      "state": {
       "description_width": ""
      }
     },
     "c06cfacb4f1642439514a74373e340a5": {
      "model_module": "@jupyter-widgets/controls",
      "model_module_version": "1.5.0",
      "model_name": "SliderStyleModel",
      "state": {
       "description_width": ""
      }
     },
     "c1b76fb0027f4b9eb3d3ffb426a92074": {
      "model_module": "@jupyter-widgets/controls",
      "model_module_version": "1.5.0",
      "model_name": "VBoxModel",
      "state": {
       "_dom_classes": [
        "widget-interact"
       ],
       "children": [
        "IPY_MODEL_5d052c32da9c470eb9c96f223c876cc5",
        "IPY_MODEL_fb01428918fd415eb522561edf10b8ba",
        "IPY_MODEL_5fa5cfd89e92414da8e2f571a27e8fc4",
        "IPY_MODEL_b0970c8ea645467b81694906470c8419",
        "IPY_MODEL_fc25471301b34944bfe8e8bf66c45d55"
       ],
       "layout": "IPY_MODEL_af9351ee18b24773b04d4380205c9918"
      }
     },
     "c374de294d2f47e5b4b1f1f4876e35a6": {
      "model_module": "@jupyter-widgets/controls",
      "model_module_version": "1.5.0",
      "model_name": "CheckboxModel",
      "state": {
       "description": "Precipitation",
       "disabled": false,
       "layout": "IPY_MODEL_9b92e431a8e947708c0354945a1d9b88",
       "style": "IPY_MODEL_080f374254854aa788722a6ef4c276f9",
       "value": false
      }
     },
     "c4245d3a82664d85be46a5bcf68ad57f": {
      "model_module": "@jupyter-widgets/controls",
      "model_module_version": "1.5.0",
      "model_name": "DescriptionStyleModel",
      "state": {
       "description_width": ""
      }
     },
     "c5560020350a4d4d87a10d43ddb5b92d": {
      "model_module": "@jupyter-widgets/base",
      "model_module_version": "1.2.0",
      "model_name": "LayoutModel",
      "state": {}
     },
     "c6c4ed8e691a4fa693df970ce6db5f1a": {
      "model_module": "@jupyter-widgets/base",
      "model_module_version": "1.2.0",
      "model_name": "LayoutModel",
      "state": {}
     },
     "c889b83f96714fb8bfe61a32695d7fdc": {
      "model_module": "@jupyter-widgets/controls",
      "model_module_version": "1.5.0",
      "model_name": "DropdownModel",
      "state": {
       "_options_labels": [
        "DecisionTreeRegressor(criterion='mse', max_depth=None, max_features='auto',\n           max_leaf_nodes=None, min_impurity_decrease=0.0,\n           min_impurity_split=None, min_samples_leaf=1,\n           min_samples_split=2, min_weight_fraction_leaf=0.0,\n           presort=False, random_state=691922462, splitter='best')",
        "DecisionTreeRegressor(criterion='mse', max_depth=None, max_features='auto',\n           max_leaf_nodes=None, min_impurity_decrease=0.0,\n           min_impurity_split=None, min_samples_leaf=1,\n           min_samples_split=2, min_weight_fraction_leaf=0.0,\n           presort=False, random_state=734187594, splitter='best')",
        "DecisionTreeRegressor(criterion='mse', max_depth=None, max_features='auto',\n           max_leaf_nodes=None, min_impurity_decrease=0.0,\n           min_impurity_split=None, min_samples_leaf=1,\n           min_samples_split=2, min_weight_fraction_leaf=0.0,\n           presort=False, random_state=1908590134, splitter='best')",
        "DecisionTreeRegressor(criterion='mse', max_depth=None, max_features='auto',\n           max_leaf_nodes=None, min_impurity_decrease=0.0,\n           min_impurity_split=None, min_samples_leaf=1,\n           min_samples_split=2, min_weight_fraction_leaf=0.0,\n           presort=False, random_state=1924821618, splitter='best')",
        "DecisionTreeRegressor(criterion='mse', max_depth=None, max_features='auto',\n           max_leaf_nodes=None, min_impurity_decrease=0.0,\n           min_impurity_split=None, min_samples_leaf=1,\n           min_samples_split=2, min_weight_fraction_leaf=0.0,\n           presort=False, random_state=1295901455, splitter='best')",
        "DecisionTreeRegressor(criterion='mse', max_depth=None, max_features='auto',\n           max_leaf_nodes=None, min_impurity_decrease=0.0,\n           min_impurity_split=None, min_samples_leaf=1,\n           min_samples_split=2, min_weight_fraction_leaf=0.0,\n           presort=False, random_state=1690189291, splitter='best')",
        "DecisionTreeRegressor(criterion='mse', max_depth=None, max_features='auto',\n           max_leaf_nodes=None, min_impurity_decrease=0.0,\n           min_impurity_split=None, min_samples_leaf=1,\n           min_samples_split=2, min_weight_fraction_leaf=0.0,\n           presort=False, random_state=463474780, splitter='best')",
        "DecisionTreeRegressor(criterion='mse', max_depth=None, max_features='auto',\n           max_leaf_nodes=None, min_impurity_decrease=0.0,\n           min_impurity_split=None, min_samples_leaf=1,\n           min_samples_split=2, min_weight_fraction_leaf=0.0,\n           presort=False, random_state=2118682105, splitter='best')",
        "DecisionTreeRegressor(criterion='mse', max_depth=None, max_features='auto',\n           max_leaf_nodes=None, min_impurity_decrease=0.0,\n           min_impurity_split=None, min_samples_leaf=1,\n           min_samples_split=2, min_weight_fraction_leaf=0.0,\n           presort=False, random_state=214207692, splitter='best')",
        "DecisionTreeRegressor(criterion='mse', max_depth=None, max_features='auto',\n           max_leaf_nodes=None, min_impurity_decrease=0.0,\n           min_impurity_split=None, min_samples_leaf=1,\n           min_samples_split=2, min_weight_fraction_leaf=0.0,\n           presort=False, random_state=1672789934, splitter='best')"
       ],
       "description": "model",
       "index": 0,
       "layout": "IPY_MODEL_69bcfe04973e442ea833702afa2319b9",
       "style": "IPY_MODEL_96be9b4360d64189b6b85fd83d6778ea"
      }
     },
     "cbaa998c78014062b1836446e665efde": {
      "model_module": "@jupyter-widgets/base",
      "model_module_version": "1.2.0",
      "model_name": "LayoutModel",
      "state": {
       "width": "500px"
      }
     },
     "cef7181d0481490586a28e7cb27df3c1": {
      "model_module": "@jupyter-widgets/controls",
      "model_module_version": "1.5.0",
      "model_name": "DescriptionStyleModel",
      "state": {
       "description_width": ""
      }
     },
     "cf2d9c1174d042bc8825429cc6bba761": {
      "model_module": "@jupyter-widgets/base",
      "model_module_version": "1.2.0",
      "model_name": "LayoutModel",
      "state": {}
     },
     "d3223d29b7f946b0b7b84a7b516fed14": {
      "model_module": "@jupyter-widgets/base",
      "model_module_version": "1.2.0",
      "model_name": "LayoutModel",
      "state": {
       "width": "500px"
      }
     },
     "d4a352103a934f78b1637b2d33d19326": {
      "model_module": "@jupyter-widgets/controls",
      "model_module_version": "1.5.0",
      "model_name": "SliderStyleModel",
      "state": {
       "description_width": ""
      }
     },
     "d4f4bd85cd434ba8ab83b183e623dc13": {
      "model_module": "@jupyter-widgets/controls",
      "model_module_version": "1.5.0",
      "model_name": "IntSliderModel",
      "state": {
       "description": "isairport",
       "layout": "IPY_MODEL_0f052559609d4b06b4516ef2a964f638",
       "max": 1,
       "style": "IPY_MODEL_67373db6723746a8bbf64d87c8d6731b"
      }
     },
     "d5d7fe91c7a246b495e9662d1183a632": {
      "model_module": "@jupyter-widgets/controls",
      "model_module_version": "1.5.0",
      "model_name": "DropdownModel",
      "state": {
       "_options_labels": [
        "DecisionTreeRegressor(criterion='mse', max_depth=None, max_features='auto',\n           max_leaf_nodes=None, min_impurity_decrease=0.0,\n           min_impurity_split=None, min_samples_leaf=1,\n           min_samples_split=2, min_weight_fraction_leaf=0.0,\n           presort=False, random_state=691922462, splitter='best')",
        "DecisionTreeRegressor(criterion='mse', max_depth=None, max_features='auto',\n           max_leaf_nodes=None, min_impurity_decrease=0.0,\n           min_impurity_split=None, min_samples_leaf=1,\n           min_samples_split=2, min_weight_fraction_leaf=0.0,\n           presort=False, random_state=734187594, splitter='best')",
        "DecisionTreeRegressor(criterion='mse', max_depth=None, max_features='auto',\n           max_leaf_nodes=None, min_impurity_decrease=0.0,\n           min_impurity_split=None, min_samples_leaf=1,\n           min_samples_split=2, min_weight_fraction_leaf=0.0,\n           presort=False, random_state=1908590134, splitter='best')",
        "DecisionTreeRegressor(criterion='mse', max_depth=None, max_features='auto',\n           max_leaf_nodes=None, min_impurity_decrease=0.0,\n           min_impurity_split=None, min_samples_leaf=1,\n           min_samples_split=2, min_weight_fraction_leaf=0.0,\n           presort=False, random_state=1924821618, splitter='best')",
        "DecisionTreeRegressor(criterion='mse', max_depth=None, max_features='auto',\n           max_leaf_nodes=None, min_impurity_decrease=0.0,\n           min_impurity_split=None, min_samples_leaf=1,\n           min_samples_split=2, min_weight_fraction_leaf=0.0,\n           presort=False, random_state=1295901455, splitter='best')",
        "DecisionTreeRegressor(criterion='mse', max_depth=None, max_features='auto',\n           max_leaf_nodes=None, min_impurity_decrease=0.0,\n           min_impurity_split=None, min_samples_leaf=1,\n           min_samples_split=2, min_weight_fraction_leaf=0.0,\n           presort=False, random_state=1690189291, splitter='best')",
        "DecisionTreeRegressor(criterion='mse', max_depth=None, max_features='auto',\n           max_leaf_nodes=None, min_impurity_decrease=0.0,\n           min_impurity_split=None, min_samples_leaf=1,\n           min_samples_split=2, min_weight_fraction_leaf=0.0,\n           presort=False, random_state=463474780, splitter='best')",
        "DecisionTreeRegressor(criterion='mse', max_depth=None, max_features='auto',\n           max_leaf_nodes=None, min_impurity_decrease=0.0,\n           min_impurity_split=None, min_samples_leaf=1,\n           min_samples_split=2, min_weight_fraction_leaf=0.0,\n           presort=False, random_state=2118682105, splitter='best')",
        "DecisionTreeRegressor(criterion='mse', max_depth=None, max_features='auto',\n           max_leaf_nodes=None, min_impurity_decrease=0.0,\n           min_impurity_split=None, min_samples_leaf=1,\n           min_samples_split=2, min_weight_fraction_leaf=0.0,\n           presort=False, random_state=214207692, splitter='best')",
        "DecisionTreeRegressor(criterion='mse', max_depth=None, max_features='auto',\n           max_leaf_nodes=None, min_impurity_decrease=0.0,\n           min_impurity_split=None, min_samples_leaf=1,\n           min_samples_split=2, min_weight_fraction_leaf=0.0,\n           presort=False, random_state=1672789934, splitter='best')"
       ],
       "description": "model",
       "index": 0,
       "layout": "IPY_MODEL_685be4ff06a448fbae22de2483e3d142",
       "style": "IPY_MODEL_8dbba72bebc54f9d88eec180a07e0d4b"
      }
     },
     "d6cef59957d3487ab2d1374ae7f94044": {
      "model_module": "@jupyter-widgets/base",
      "model_module_version": "1.2.0",
      "model_name": "LayoutModel",
      "state": {}
     },
     "d9ce8ce119594ffd85bcba1ca430611d": {
      "model_module": "@jupyter-widgets/output",
      "model_module_version": "1.0.0",
      "model_name": "OutputModel",
      "state": {
       "layout": "IPY_MODEL_cf2d9c1174d042bc8825429cc6bba761",
       "outputs": [
        {
         "data": {
          "image/png": "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\n",
          "text/plain": "<Figure size 1080x504 with 3 Axes>"
         },
         "metadata": {},
         "output_type": "display_data"
        }
       ]
      }
     },
     "db4af5f9aede4bd1817665f23b854302": {
      "model_module": "@jupyter-widgets/base",
      "model_module_version": "1.2.0",
      "model_name": "LayoutModel",
      "state": {}
     },
     "dcd12fc0311944d89d9aac5e1301ba34": {
      "model_module": "@jupyter-widgets/controls",
      "model_module_version": "1.5.0",
      "model_name": "DescriptionStyleModel",
      "state": {
       "description_width": ""
      }
     },
     "ddce0702b78b45a6a809ae6c42a5814b": {
      "model_module": "@jupyter-widgets/base",
      "model_module_version": "1.2.0",
      "model_name": "LayoutModel",
      "state": {}
     },
     "de017d2d53d54190817b0a264bce20eb": {
      "model_module": "@jupyter-widgets/base",
      "model_module_version": "1.2.0",
      "model_name": "LayoutModel",
      "state": {}
     },
     "df8b9042eb9c412a83af37692158a01e": {
      "model_module": "@jupyter-widgets/base",
      "model_module_version": "1.2.0",
      "model_name": "LayoutModel",
      "state": {
       "width": "500px"
      }
     },
     "e12cb9e324204842b984f643b26bc6b9": {
      "model_module": "@jupyter-widgets/output",
      "model_module_version": "1.0.0",
      "model_name": "OutputModel",
      "state": {
       "layout": "IPY_MODEL_4c2e6ba4f71348bfaec014dc86f29fc9",
       "outputs": [
        {
         "ename": "ValueError",
         "evalue": "setting an array element with a sequence.",
         "output_type": "error",
         "traceback": [
          "\u001b[0;31m---------------------------------------------------------------------------\u001b[0m",
          "\u001b[0;31mValueError\u001b[0m                                Traceback (most recent call last)",
          "\u001b[0;32m~/anaconda3/lib/python3.7/site-packages/ipywidgets/widgets/interaction.py\u001b[0m in \u001b[0;36mupdate\u001b[0;34m(self, *args)\u001b[0m\n\u001b[1;32m    254\u001b[0m                     \u001b[0mvalue\u001b[0m \u001b[0;34m=\u001b[0m \u001b[0mwidget\u001b[0m\u001b[0;34m.\u001b[0m\u001b[0mget_interact_value\u001b[0m\u001b[0;34m(\u001b[0m\u001b[0;34m)\u001b[0m\u001b[0;34m\u001b[0m\u001b[0;34m\u001b[0m\u001b[0m\n\u001b[1;32m    255\u001b[0m                     \u001b[0mself\u001b[0m\u001b[0;34m.\u001b[0m\u001b[0mkwargs\u001b[0m\u001b[0;34m[\u001b[0m\u001b[0mwidget\u001b[0m\u001b[0;34m.\u001b[0m\u001b[0m_kwarg\u001b[0m\u001b[0;34m]\u001b[0m \u001b[0;34m=\u001b[0m \u001b[0mvalue\u001b[0m\u001b[0;34m\u001b[0m\u001b[0;34m\u001b[0m\u001b[0m\n\u001b[0;32m--> 256\u001b[0;31m                 \u001b[0mself\u001b[0m\u001b[0;34m.\u001b[0m\u001b[0mresult\u001b[0m \u001b[0;34m=\u001b[0m \u001b[0mself\u001b[0m\u001b[0;34m.\u001b[0m\u001b[0mf\u001b[0m\u001b[0;34m(\u001b[0m\u001b[0;34m**\u001b[0m\u001b[0mself\u001b[0m\u001b[0;34m.\u001b[0m\u001b[0mkwargs\u001b[0m\u001b[0;34m)\u001b[0m\u001b[0;34m\u001b[0m\u001b[0;34m\u001b[0m\u001b[0m\n\u001b[0m\u001b[1;32m    257\u001b[0m                 \u001b[0mshow_inline_matplotlib_plots\u001b[0m\u001b[0;34m(\u001b[0m\u001b[0;34m)\u001b[0m\u001b[0;34m\u001b[0m\u001b[0;34m\u001b[0m\u001b[0m\n\u001b[1;32m    258\u001b[0m                 \u001b[0;32mif\u001b[0m \u001b[0mself\u001b[0m\u001b[0;34m.\u001b[0m\u001b[0mauto_display\u001b[0m \u001b[0;32mand\u001b[0m \u001b[0mself\u001b[0m\u001b[0;34m.\u001b[0m\u001b[0mresult\u001b[0m \u001b[0;32mis\u001b[0m \u001b[0;32mnot\u001b[0m \u001b[0;32mNone\u001b[0m\u001b[0;34m:\u001b[0m\u001b[0;34m\u001b[0m\u001b[0;34m\u001b[0m\u001b[0m\n",
          "\u001b[0;32m<ipython-input-163-b3e51dd69308>\u001b[0m in \u001b[0;36mpredict_usage\u001b[0;34m(distance, precip, isairport, model)\u001b[0m\n\u001b[1;32m     31\u001b[0m     \u001b[0mto_predict_df\u001b[0m\u001b[0;34m[\u001b[0m\u001b[0;34m'DOW'\u001b[0m\u001b[0;34m]\u001b[0m\u001b[0;34m=\u001b[0m\u001b[0mlist\u001b[0m\u001b[0;34m(\u001b[0m\u001b[0mrange\u001b[0m\u001b[0;34m(\u001b[0m\u001b[0;36m7\u001b[0m\u001b[0;34m)\u001b[0m\u001b[0;34m)\u001b[0m\u001b[0;34m*\u001b[0m\u001b[0;36m24\u001b[0m\u001b[0;34m\u001b[0m\u001b[0;34m\u001b[0m\u001b[0m\n\u001b[1;32m     32\u001b[0m \u001b[0;34m\u001b[0m\u001b[0m\n\u001b[0;32m---> 33\u001b[0;31m     \u001b[0mto_predict_df\u001b[0m\u001b[0;34m[\u001b[0m\u001b[0;34m'result'\u001b[0m\u001b[0;34m]\u001b[0m\u001b[0;34m=\u001b[0m\u001b[0mmodel\u001b[0m\u001b[0;34m.\u001b[0m\u001b[0mpredict\u001b[0m\u001b[0;34m(\u001b[0m\u001b[0mto_predict_df\u001b[0m\u001b[0;34m)\u001b[0m\u001b[0;34m\u001b[0m\u001b[0;34m\u001b[0m\u001b[0m\n\u001b[0m\u001b[1;32m     34\u001b[0m \u001b[0;34m\u001b[0m\u001b[0m\n\u001b[1;32m     35\u001b[0m     \u001b[0;31m#heatdf0=agg_hourly_all.loc[tract][startdate:enddate]\u001b[0m\u001b[0;34m\u001b[0m\u001b[0;34m\u001b[0m\u001b[0;34m\u001b[0m\u001b[0m\n",
          "\u001b[0;32m~/anaconda3/lib/python3.7/site-packages/sklearn/tree/tree.py\u001b[0m in \u001b[0;36mpredict\u001b[0;34m(self, X, check_input)\u001b[0m\n\u001b[1;32m    414\u001b[0m         \"\"\"\n\u001b[1;32m    415\u001b[0m         \u001b[0mcheck_is_fitted\u001b[0m\u001b[0;34m(\u001b[0m\u001b[0mself\u001b[0m\u001b[0;34m,\u001b[0m \u001b[0;34m'tree_'\u001b[0m\u001b[0;34m)\u001b[0m\u001b[0;34m\u001b[0m\u001b[0;34m\u001b[0m\u001b[0m\n\u001b[0;32m--> 416\u001b[0;31m         \u001b[0mX\u001b[0m \u001b[0;34m=\u001b[0m \u001b[0mself\u001b[0m\u001b[0;34m.\u001b[0m\u001b[0m_validate_X_predict\u001b[0m\u001b[0;34m(\u001b[0m\u001b[0mX\u001b[0m\u001b[0;34m,\u001b[0m \u001b[0mcheck_input\u001b[0m\u001b[0;34m)\u001b[0m\u001b[0;34m\u001b[0m\u001b[0;34m\u001b[0m\u001b[0m\n\u001b[0m\u001b[1;32m    417\u001b[0m         \u001b[0mproba\u001b[0m \u001b[0;34m=\u001b[0m \u001b[0mself\u001b[0m\u001b[0;34m.\u001b[0m\u001b[0mtree_\u001b[0m\u001b[0;34m.\u001b[0m\u001b[0mpredict\u001b[0m\u001b[0;34m(\u001b[0m\u001b[0mX\u001b[0m\u001b[0;34m)\u001b[0m\u001b[0;34m\u001b[0m\u001b[0;34m\u001b[0m\u001b[0m\n\u001b[1;32m    418\u001b[0m         \u001b[0mn_samples\u001b[0m \u001b[0;34m=\u001b[0m \u001b[0mX\u001b[0m\u001b[0;34m.\u001b[0m\u001b[0mshape\u001b[0m\u001b[0;34m[\u001b[0m\u001b[0;36m0\u001b[0m\u001b[0;34m]\u001b[0m\u001b[0;34m\u001b[0m\u001b[0;34m\u001b[0m\u001b[0m\n",
          "\u001b[0;32m~/anaconda3/lib/python3.7/site-packages/sklearn/tree/tree.py\u001b[0m in \u001b[0;36m_validate_X_predict\u001b[0;34m(self, X, check_input)\u001b[0m\n\u001b[1;32m    375\u001b[0m         \u001b[0;34m\"\"\"Validate X whenever one tries to predict, apply, predict_proba\"\"\"\u001b[0m\u001b[0;34m\u001b[0m\u001b[0;34m\u001b[0m\u001b[0m\n\u001b[1;32m    376\u001b[0m         \u001b[0;32mif\u001b[0m \u001b[0mcheck_input\u001b[0m\u001b[0;34m:\u001b[0m\u001b[0;34m\u001b[0m\u001b[0;34m\u001b[0m\u001b[0m\n\u001b[0;32m--> 377\u001b[0;31m             \u001b[0mX\u001b[0m \u001b[0;34m=\u001b[0m \u001b[0mcheck_array\u001b[0m\u001b[0;34m(\u001b[0m\u001b[0mX\u001b[0m\u001b[0;34m,\u001b[0m \u001b[0mdtype\u001b[0m\u001b[0;34m=\u001b[0m\u001b[0mDTYPE\u001b[0m\u001b[0;34m,\u001b[0m \u001b[0maccept_sparse\u001b[0m\u001b[0;34m=\u001b[0m\u001b[0;34m\"csr\"\u001b[0m\u001b[0;34m)\u001b[0m\u001b[0;34m\u001b[0m\u001b[0;34m\u001b[0m\u001b[0m\n\u001b[0m\u001b[1;32m    378\u001b[0m             if issparse(X) and (X.indices.dtype != np.intc or\n\u001b[1;32m    379\u001b[0m                                 X.indptr.dtype != np.intc):\n",
          "\u001b[0;32m~/anaconda3/lib/python3.7/site-packages/sklearn/utils/validation.py\u001b[0m in \u001b[0;36mcheck_array\u001b[0;34m(array, accept_sparse, accept_large_sparse, dtype, order, copy, force_all_finite, ensure_2d, allow_nd, ensure_min_samples, ensure_min_features, warn_on_dtype, estimator)\u001b[0m\n\u001b[1;32m    525\u001b[0m             \u001b[0;32mtry\u001b[0m\u001b[0;34m:\u001b[0m\u001b[0;34m\u001b[0m\u001b[0;34m\u001b[0m\u001b[0m\n\u001b[1;32m    526\u001b[0m                 \u001b[0mwarnings\u001b[0m\u001b[0;34m.\u001b[0m\u001b[0msimplefilter\u001b[0m\u001b[0;34m(\u001b[0m\u001b[0;34m'error'\u001b[0m\u001b[0;34m,\u001b[0m \u001b[0mComplexWarning\u001b[0m\u001b[0;34m)\u001b[0m\u001b[0;34m\u001b[0m\u001b[0;34m\u001b[0m\u001b[0m\n\u001b[0;32m--> 527\u001b[0;31m                 \u001b[0marray\u001b[0m \u001b[0;34m=\u001b[0m \u001b[0mnp\u001b[0m\u001b[0;34m.\u001b[0m\u001b[0masarray\u001b[0m\u001b[0;34m(\u001b[0m\u001b[0marray\u001b[0m\u001b[0;34m,\u001b[0m \u001b[0mdtype\u001b[0m\u001b[0;34m=\u001b[0m\u001b[0mdtype\u001b[0m\u001b[0;34m,\u001b[0m \u001b[0morder\u001b[0m\u001b[0;34m=\u001b[0m\u001b[0morder\u001b[0m\u001b[0;34m)\u001b[0m\u001b[0;34m\u001b[0m\u001b[0;34m\u001b[0m\u001b[0m\n\u001b[0m\u001b[1;32m    528\u001b[0m             \u001b[0;32mexcept\u001b[0m \u001b[0mComplexWarning\u001b[0m\u001b[0;34m:\u001b[0m\u001b[0;34m\u001b[0m\u001b[0;34m\u001b[0m\u001b[0m\n\u001b[1;32m    529\u001b[0m                 raise ValueError(\"Complex data not supported\\n\"\n",
          "\u001b[0;32m~/anaconda3/lib/python3.7/site-packages/numpy/core/numeric.py\u001b[0m in \u001b[0;36masarray\u001b[0;34m(a, dtype, order)\u001b[0m\n\u001b[1;32m    536\u001b[0m \u001b[0;34m\u001b[0m\u001b[0m\n\u001b[1;32m    537\u001b[0m     \"\"\"\n\u001b[0;32m--> 538\u001b[0;31m     \u001b[0;32mreturn\u001b[0m \u001b[0marray\u001b[0m\u001b[0;34m(\u001b[0m\u001b[0ma\u001b[0m\u001b[0;34m,\u001b[0m \u001b[0mdtype\u001b[0m\u001b[0;34m,\u001b[0m \u001b[0mcopy\u001b[0m\u001b[0;34m=\u001b[0m\u001b[0;32mFalse\u001b[0m\u001b[0;34m,\u001b[0m \u001b[0morder\u001b[0m\u001b[0;34m=\u001b[0m\u001b[0morder\u001b[0m\u001b[0;34m)\u001b[0m\u001b[0;34m\u001b[0m\u001b[0;34m\u001b[0m\u001b[0m\n\u001b[0m\u001b[1;32m    539\u001b[0m \u001b[0;34m\u001b[0m\u001b[0m\n\u001b[1;32m    540\u001b[0m \u001b[0;34m\u001b[0m\u001b[0m\n",
          "\u001b[0;31mValueError\u001b[0m: setting an array element with a sequence."
         ]
        }
       ]
      }
     },
     "e38d6e62f0794ea98246e2ecc163219b": {
      "model_module": "@jupyter-widgets/base",
      "model_module_version": "1.2.0",
      "model_name": "LayoutModel",
      "state": {}
     },
     "e3afe31fd9e24821950172f6da6e0e86": {
      "model_module": "@jupyter-widgets/base",
      "model_module_version": "1.2.0",
      "model_name": "LayoutModel",
      "state": {}
     },
     "e3b99ef073224be8881e2709d83d0159": {
      "model_module": "@jupyter-widgets/base",
      "model_module_version": "1.2.0",
      "model_name": "LayoutModel",
      "state": {}
     },
     "e50a3c2042e04f72b15fd953d1c7e4f4": {
      "model_module": "@jupyter-widgets/controls",
      "model_module_version": "1.5.0",
      "model_name": "SliderStyleModel",
      "state": {
       "description_width": ""
      }
     },
     "e9a95d74ed344822834b100e36b89c7e": {
      "model_module": "@jupyter-widgets/output",
      "model_module_version": "1.0.0",
      "model_name": "OutputModel",
      "state": {
       "layout": "IPY_MODEL_db4af5f9aede4bd1817665f23b854302",
       "outputs": [
        {
         "data": {
          "image/png": "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\n",
          "text/plain": "<Figure size 1080x288 with 2 Axes>"
         },
         "metadata": {},
         "output_type": "display_data"
        }
       ]
      }
     },
     "ed3a4e702c3548888ec9f863b678f36d": {
      "model_module": "@jupyter-widgets/controls",
      "model_module_version": "1.5.0",
      "model_name": "DescriptionStyleModel",
      "state": {
       "description_width": ""
      }
     },
     "efd5291d17f54493a8b3d9458c4c95c6": {
      "model_module": "@jupyter-widgets/base",
      "model_module_version": "1.2.0",
      "model_name": "LayoutModel",
      "state": {}
     },
     "f05dab7c9bc844aeaf4adc0a76aa90ed": {
      "model_module": "@jupyter-widgets/base",
      "model_module_version": "1.2.0",
      "model_name": "LayoutModel",
      "state": {}
     },
     "f1b45effd2384b3aa233367ac1b6c791": {
      "model_module": "@jupyter-widgets/controls",
      "model_module_version": "1.5.0",
      "model_name": "CheckboxModel",
      "state": {
       "description": "Precipitation: ",
       "disabled": false,
       "layout": "IPY_MODEL_243032f1f3424c569a238850d600f8b5",
       "style": "IPY_MODEL_1ae3a07ce9ad496f927d96208053b240",
       "value": false
      }
     },
     "f20b88b4211c4bed8cc8f114ef015a4d": {
      "model_module": "@jupyter-widgets/controls",
      "model_module_version": "1.5.0",
      "model_name": "VBoxModel",
      "state": {
       "_dom_classes": [
        "widget-interact"
       ],
       "children": [
        "IPY_MODEL_bb4bc0ce80954b85ae2ce6450243afc8",
        "IPY_MODEL_a2d644690e85478e85535ef49a276a12",
        "IPY_MODEL_bb94555f045342e2b24806fd2425ce79",
        "IPY_MODEL_c889b83f96714fb8bfe61a32695d7fdc",
        "IPY_MODEL_0825167b36c246399707fcdb28bfefd0"
       ],
       "layout": "IPY_MODEL_f90e460c69074570a1a538dab52c15fe"
      }
     },
     "f22ae3bdb3f84be8bc4888fa69f7a11e": {
      "model_module": "@jupyter-widgets/base",
      "model_module_version": "1.2.0",
      "model_name": "LayoutModel",
      "state": {}
     },
     "f2ab1d0de6a4422e982a012997d98cc2": {
      "model_module": "@jupyter-widgets/base",
      "model_module_version": "1.2.0",
      "model_name": "LayoutModel",
      "state": {
       "width": "500px"
      }
     },
     "f524aa928d914725a91d7a265f0e0bb4": {
      "model_module": "@jupyter-widgets/base",
      "model_module_version": "1.2.0",
      "model_name": "LayoutModel",
      "state": {
       "width": "500px"
      }
     },
     "f677a5daa5fa4395b8e7c9e6d6a273d7": {
      "model_module": "@jupyter-widgets/controls",
      "model_module_version": "1.5.0",
      "model_name": "DescriptionStyleModel",
      "state": {
       "description_width": ""
      }
     },
     "f773eb5f56c84a3f88786e4b9036256b": {
      "model_module": "@jupyter-widgets/controls",
      "model_module_version": "1.5.0",
      "model_name": "SliderStyleModel",
      "state": {
       "description_width": ""
      }
     },
     "f7f132c7789340b18c533bd17b429b66": {
      "model_module": "@jupyter-widgets/base",
      "model_module_version": "1.2.0",
      "model_name": "LayoutModel",
      "state": {}
     },
     "f860ca43a1d44c94af2ca75c852bab6e": {
      "model_module": "@jupyter-widgets/controls",
      "model_module_version": "1.5.0",
      "model_name": "DescriptionStyleModel",
      "state": {
       "description_width": ""
      }
     },
     "f8b7a32bbddc4070a1e733e2aff3f0ad": {
      "model_module": "@jupyter-widgets/controls",
      "model_module_version": "1.5.0",
      "model_name": "IntSliderModel",
      "state": {
       "description": "Distance: ",
       "layout": "IPY_MODEL_5991c6ea404e4b4680e39e446d4971d9",
       "max": 30,
       "style": "IPY_MODEL_d4a352103a934f78b1637b2d33d19326",
       "value": 10
      }
     },
     "f90c880e2bf54b74b150535b71e28981": {
      "model_module": "@jupyter-widgets/base",
      "model_module_version": "1.2.0",
      "model_name": "LayoutModel",
      "state": {}
     },
     "f90e460c69074570a1a538dab52c15fe": {
      "model_module": "@jupyter-widgets/base",
      "model_module_version": "1.2.0",
      "model_name": "LayoutModel",
      "state": {}
     },
     "f9e9085b307047aab96f56d5c4fdc4a5": {
      "model_module": "@jupyter-widgets/controls",
      "model_module_version": "1.5.0",
      "model_name": "DescriptionStyleModel",
      "state": {
       "description_width": ""
      }
     },
     "fb01428918fd415eb522561edf10b8ba": {
      "model_module": "@jupyter-widgets/controls",
      "model_module_version": "1.5.0",
      "model_name": "CheckboxModel",
      "state": {
       "description": "Precipitation: ",
       "disabled": false,
       "layout": "IPY_MODEL_f90c880e2bf54b74b150535b71e28981",
       "style": "IPY_MODEL_ed3a4e702c3548888ec9f863b678f36d",
       "value": false
      }
     },
     "fb10ff12f1f9441fa54c5b903273acee": {
      "model_module": "@jupyter-widgets/base",
      "model_module_version": "1.2.0",
      "model_name": "LayoutModel",
      "state": {}
     },
     "fc25471301b34944bfe8e8bf66c45d55": {
      "model_module": "@jupyter-widgets/output",
      "model_module_version": "1.0.0",
      "model_name": "OutputModel",
      "state": {
       "layout": "IPY_MODEL_c5560020350a4d4d87a10d43ddb5b92d",
       "outputs": [
        {
         "data": {
          "image/png": "iVBORw0KGgoAAAANSUhEUgAAA54AAAGeCAYAAAD8EN7OAAAABHNCSVQICAgIfAhkiAAAAAlwSFlzAAALEgAACxIB0t1+/AAAADh0RVh0U29mdHdhcmUAbWF0cGxvdGxpYiB2ZXJzaW9uMy4xLjAsIGh0dHA6Ly9tYXRwbG90bGliLm9yZy+17YcXAAAgAElEQVR4nOzde3zPdf/H8eeXnYyWyUaZ4lLhklN+LnPOcWxmtrmcyqmIrlCuImUXcskx6UBRyaVastgM5UwH5nDhKkTSQQyNWcw2O32/n98fLt8rmbavvp/PbB732+1za5/D9/N8f/TZe3vt/TnYDMMwBAAAAACAScoUdwMAAAAAAKUbhScAAAAAwFQUngAAAAAAU1F4AgAAAABMReEJAAAAADAVhScAAAAAwFQexd2AksTDq1pxNwEokK+nt6V5WXk5lmWNuaOtZVmS9MGFA5bmVfK8xdK8c3kZluY971Pf0rz1HlmW5t0nX0vz/O2Wxim6/nFL8xYcDLIsq3O+tefKXlt5S/Pm5/9oaV6Fsj6W5iVnp1qad/yCtXn5uScszbteeak/FLqNZ+U/WdASlAQUngAAAABc57D4r2Eo0Sg8AQAAALjOnl/cLUAJQuEJAAAAwGWG4SjuJqAEofAEAAAA4Do3j3jOnTtXa9askSS1bdtWY8eOvWr98uXL5efnJ0nq1auXHnzwQbe2Aeah8AQAAADgOjfe45mUlKStW7cqISFBNptNQ4YM0YYNG9SpUyfnNgcOHNBLL72kxo0buy0X1qHwBAAAAOA6N454BgQEaNy4cfLy8pIk1apVSydPnrximwMHDmjBggU6ceKEmjZtqmeeeUbe3tY+2R/Xj/d4AgAAAHCZYTgKndLT05WcnHzVlJ6efsW+7rnnHjVq1EiSdPToUa1Zs0Zt2/7vlWqZmZmqW7euxowZo4SEBKWnp+v111+39Hjxx1B4AgAAAHCdPb/QafHixerQocNV0+LFiwvc5ZEjR/Twww9r7NixqlGjhnN5+fLl9dZbb6lWrVry8PDQww8/rM8++8yiA4U7WFp4Jicnq3bt2powYcIVyw8dOqTatWsrPj7+D++/ffv2f2gfAAAAAIrAYS90GjhwoDZt2nTVNHDgwKt2t2fPHg0aNEhPPfWUIiMjr1h38uRJLVu2zDlvGIY8PLhrsCSx/P9WxYoV9cUXX8hut6ts2bKSpE8++USVKlWyuikAAAAArlcR7vH08/NzPoX295w6dUqPP/645syZo+bNm1+13sfHR7NmzVKzZs0UFBSk2NjYKx48hBuf5Zfali9fXnXr1tW///1v57Jt27apRYsWkqQtW7YoIiJC4eHh+tvf/qbU1FRJUvv27fXyyy+rZ8+eCgsL04EDByRJBw8eVGRkpCIjIzVv3jznPr/99lv1799f0dHRateunZYsWSKHw6H27dvrxx9/lCRlZWWpbdu2ysnJserwAQAAgNLBcBQ+FdHChQuVk5Oj6dOnKyIiQhEREVqyZImGDh2q/fv3q1KlSpo8ebIee+wxdenSRYZhaPDgwSYeHNytWManu3btqnXr1ik4OFj79u1T7dq1ZRiGzp49qzlz5mjJkiUKCgrS22+/rcmTJ+vVV1+VdGm0dNmyZXrvvfe0YMECvfbaa3rmmWc0btw4tWzZUvPmzdPOnTslSR999JH+9re/qXnz5jp+/Li6d++uvn37qkePHlq5cqWeeOIJrV+/Xg888ABPwwIAAABcZNjz3LavmJgYxcTEXLW8b9++zq9DQkIUEhLitkxYq1geLtS+fXt9/vnncjgcWrNmjbp27SpJKleunBo0aKCgoCBJUu/evbVjxw7n51q3bi3p0lOvzp07p7S0NJ0+fVotW7aUJEVFRTm3HTdunHJycrRgwQK9/PLLysrKcm6zevVqSVJCQsIVnwEAAABQRG4c8UTpVyyFZ/ny5VWnTh3t2bNHO3bscF5m63BceXIahqH8/P9dO355ZNJmszn/axiGc/3le0Yl6cknn9SGDRtUq1YtPfnkk87lQUFBuuOOO7R+/XqdPXtWDRs2dP8BAgAAAKVdEZ5qC1xWbK9T6dq1q2bPnq377rvP+USq7OxsffXVV0pOTpYkLV26VM2aNbvmPvz9/XXHHXfo008/lSTnSKZ06b7RUaNGqWPHjvr8888lSXa7XZIUHR2tKVOmqHv37mYcGgAAAFD6FeGptsBlxVZ4tmvXTocOHVJoaKhzWeXKlTV58mSNGDFCYWFh2rVrl55//vnf3c+sWbM0d+5c9ejRQ8eOHXMuHzlypPr166fQ0FDt2bNH1apVcxa0nTt31vnz5xUREWHOwQEAAAClHSOecIHN+PW1qjcBwzD0+eefa8mSJZo/f75Ln/XwqmZSq4A/xtfT2gdkZeVZ9yToMXe0tSxLkj64cMDSvEqet1iady4vw9K8533qW5q33iPL0rz75Gtpnr/FgwfR9Y9bmrfgYJBlWZ3zrT1X9trKW5o3P/9HS/MqlPWxNC85O9XSvOMXrM3Lzz1had71yt6+pNBtfJr3LXQb3BxuureuTp06VVu2bNFbb71V3E0BAAAASi4HDw9C0d10hef48eM1fvz44m4GAAAAUKK583UqKP1uusITAAAAgBsw4gkXUHgCAAAAcB0PD4ILKDwBAAAAuM5gxBNFR+EJAAAAwHWMeMIFFJ5AKVDF19/SvAt51r2GIDZ9v2VZklTVp5KleQfPHSt8IzcKC2hoad52W66leZvOfWNpnv3Wey3Nu8fD2ldyfPqlda83kaS+lc9YlvXyBWv7zea51r697ufsXyzNq+4bYG2eT2VL83AN3OMJF1B4AgAAAHAdI55wAYUnAAAAANcx4gkXUHgCAAAAcB0jnnABhScAAAAA1/FUW7iAwhMAAACA6/IZ8UTRUXgCAAAAcJ1h7dOaUbJReAIAAABwHSOecAGFJwAAAADXcY8nXGBq4fn8889r7969ysvL07Fjx1SrVi1J0oABAxQdHe3WrJ07d2ru3Ll677333LpfAAAAAAWw24u7BShBTC08J06cKElKTk7WgAEDlJiYaGYcAAAAAKvwHk+4oExxhL722mt67bXXnPPt27dXcnKy7Ha7pk2bpsjISHXv3l3/+te/JEk///yzHnroIUVFRalnz5768ssvJUlbt25VWFiYoqKiFBcX59zfrl271LdvX0VGRqpDhw7auHGjMjIy1KxZM2VkZEi6VAyHhoZad9AAAABAaWLPL3wC/qtYCs9ruVw8JiQkaNmyZdq0aZN2796tZcuW6YEHHlB8fLxGjRqlPXv2KDc3V+PGjdOrr76q+Ph4+fj4OPfz/vvva8qUKUpISNCUKVP0yiuvqEKFCnrggQe0du1aSdKKFSvUo0ePYjlOAAAAoKQzHEahE3DZDVV4bt++XZs3b1ZERIT++te/6ueff9bhw4fVvHlzvfPOO3rqqad07tw5PfTQQzp8+LACAwOd941GRkY69zNr1iwdOXJE8+bN06JFi5SZmSlJio6Odl7uu3r1akVERFh/kAAAAEBp4OYRz7lz5yosLExhYWGaOXPmVesPHTqkqKgohYSEaPz48crnqbolSrEUnjabTcav3vuTl5cnSbLb7RozZowSExOVmJiopUuXqmfPnmrSpIk+/vhjtWrVSp988omGDx9+1T7Kli3r/Lpfv37at2+f7rvvPg0fPty5vGnTpjp9+rTWr1+voKAgValSxYKjBQAAAEohh1H4VERJSUnaunWrEhIStGLFCn399dfasGHDFduMGTNGEyZM0Lp162QYxhW32uHGVyyFp7+/v7777jtJ0r59+3TmzBlJUnBwsOLi4pSXl6fMzEz169dPX375pWbOnKmVK1cqMjJSEyZM0MGDB1W7dm2lpqbqm2++kSR9/PHHkqRz587p6NGjeuKJJ9SmTRtt2rRJ9v8+cctms6lHjx6aMmWKoqKiiuHIAQAAgFIiP7/wqYgCAgI0btw4eXl5ydPTU7Vq1dLJkyed60+cOKHs7Gw1atRIkhQVFeW8hQ4lQ7G8xzM0NFTr1q1TaGio6tWrpz//+c+SpD59+uinn35SZGSk8vPzFRUVpWbNmunOO+/UU089pfj4eJUtW1YzZsyQp6enXnrpJY0ZM0YeHh7OfVSsWFE9e/ZUWFiYPDw8FBwcrOzsbGVlZcnX11dhYWF655131LFjx+I4dAAAAKB0MAof0UxPT1d6evpVy/38/OTn5+ecv+eee5xfHz16VGvWrNGSJUucy06fPq2AgADnfEBAgFJSUq635SgGlhSeQUFB2rx5s3Pe399f7777boHbxsTEXLXs9ttv1wcffHDV8qZNm2rVqlVXLX/22Wf17LPPOucnTZokSXI4HPriiy8UEREhLy8vVw8DAAAAwGX5hb/Hc/HixZo7d+5Vy0eMGKGRI0detfzIkSMaNmyYxo4dqxo1ajiXOxwO2Ww257xhGFfM48ZXLCOexWXEiBE6deqUFi5cWNxNAQAAAEo2o/D3eA4cOPCKh4Be9uvRzsv27NmjUaNG6bnnnlNYWNgV66pWreq8PU+SUlNTFRgYeB2NRnG5qQrP119/vbibAAAAAJQORXh40G8vqb2WU6dO6fHHH9ecOXPUvHnzq9ZXq1ZN3t7e2rNnj5o0aaLExES1adPmupqN4nFTFZ4AAAAA3MMowqW2RbVw4ULl5ORo+vTpzmV9+vTR5s2bNWrUKNWvX18vvviiYmJilJGRoXr16mnAgAFuy4f5KDwBAAAAuK4Il9oWVUxMTIHPeunbt6/z6zp16mjZsmVuy4S1KDwBAAAAuM6NI54o/Sg8AQAAALiuCPd4ApdReAIAAABwnZ0RTxQdhacLvD08LcvKyc+zLAsl34/nf7Y078+V7rQs63xepmVZkrQ39TtL8+6ueIelefVU3tI8L8Pad6yFVfyzpXmh2da+E9pu8SvrwmbVsDQvbd4py7JeTHzKsixJOvPgOEvz7jl2u6V5uYa1BYh/2XKW5iXbyliaV1IYDvfd44nSj8ITAAAAgOvyKTxRdBSeAAAAAFznxqfaovSj8AQAAADgMoMRT7iAwhMAAACA63iqLVxA4QkAAADAdbzHEy6g8AQAAADgOkY84QIKTwAAAAAuM+zc44mio/AEAAAA4DpGPOGC330b7uDBg7Vx40bn/IwZM9S4cWPl5uY6l7Vq1UrJycmFBiUnJ6t9+/Z/oKm/Lz4+XuPGWftyZgAAAOBmZeQ7Cp2Ay3638AwODtaePXuc80lJSWrUqJFz2U8//SRfX18FBQWZ20oAAAAANxZHESbgv373UtvmzZtr6tSpkqSUlBR5eXkpJCREW7duVfPmzbV79261bNlS+/bt07Rp05SdnS1/f389//zzql69ug4ePKjx48dLkurUqePc77hx41ShQgV9/fXXSklJ0eOPP67o6GhlZmZq8uTJOnLkiOx2u4YOHapu3brpm2++0YQJE5Sfny9vb29NmzZNNWrU0IoVK/TGG2+oQoUKqlatmnx9fSVJa9as0aJFi5Sdna3c3FxNnTpVt912mwYOHKjNmzerTJky2rlzp9566y29/fbbZv3bAgAAAKUWI5pwxe+OeNarV0/Hjh1TTk6Otm7dqpYtW6ply5baunWrJGn37t1q2rSpYmJiNHv2bCUkJGjw4MH6xz/+IUl65pln9PTTTyshIeGqUdGff/5ZH3zwgd544w3NnDlTkvTGG2+oXr16io+PV2xsrObPn6/jx49r8eLFGjx4sOLj49WrVy99+eWXSklJ0YsvvqjY2FgtXbpUmZmZkiSHw6EPP/xQ8+fP18qVKzVkyBC9+eabuuuuuxQUFKSdO3dKklasWKGoqCj3/msCAAAANwtGPOGC3x3xLFu2rBo2bKj9+/dr69atevDBB1W9enVlZ2fr/Pnz+s9//qOBAwfq+PHjeuyxx5yfy8jIUFpamk6fPq2WLVtKkqKiorR8+XLnNi1btpTNZtO9996rc+fOSbp0KW92drZzu6ysLB05ckRt27bV5MmT9cUXX6h9+/Zq166dNmzYoMaNG6ty5cqSpPDwcO3YsUNlypTRvHnztHnzZv3444/atWuXypS5VF9HR0dr5cqVatSokXbs2KFJkya5718SAAAAuIkY+TxcCEVX6FNtg4ODtXfvXu3bt0+zZs2SdOkS3E2bNsnf31+SFBQUpMTEREmS3W5XamqqbDabDON/J2PZsmWv2K+3t7ckyWazOZc5HA7NmjVL9erVkySlpqbq1ltvlaenpxo3bqwtW7boX//6lz799FO1bt36iv17eFw6lMzMTPXs2VPdu3dX06ZNVbt2bcXGxkqSunTpojlz5mjdunVq06aNsw0AAAAAXGPwVFu44HcvtZUuFZmJiYm69957ncVdy5YttWjRIrVs2VJ/+tOfdP78ee3evVuStHz5cj399NPy9/fXHXfcoU8//VSStHr16kIbExwcrCVLlkiSTp8+re7du+vUqVN68skntX//fvXp00dPPPGEDh48qCZNmjgvuXU4HPrkk08kSUePHpXNZtPw4cPVrFkzbdiwQXa7XZJUrlw5tWnTRi+99BKX2QIAAAB/gJFf+ARcVuiI5+VLYfv16+dcFhwcrCeffFItWrSQl5eXXnnlFb3wwgvKyclRhQoVNGPGDEnSrFmz9Oyzz+rll19Wo0aNCm3MiBEjNGnSJHXr1k12u11jxozRnXfeqeHDh2v8+PGaN2+ePD09NWnSJFWuXFkxMTEaNGiQypUrp7vvvlvSpYcY1a1bV127dpXNZlOrVq2ueDJvWFiY9u7dq4YNG7r8jwUAAADgv7iHEy6wGb++XrWUs9vtmjNnjm677TYNHjzY5c+X963h/kZdQ05+nmVZgKv+XOlOy7LO52ValiVJJy6ctTTv7op3WJrXr9y9luZ5yVb4Rm70nS3b0rzQbC9L8+w2a/89u82qYWle2rztlmUFxE63LEuSzjxo7bvG+x6z9lzJNeyW5lXxqGBp3v6sE5bm/ZD6H0vzrldqSNtCt6m87jMLWoKSoNARz9IkOjpa/v7+euONN4q7KQAAAECJZjDiCRfcVIXnihUrirsJAAAAQKlA4QlX3FSFJwAAAAD3MOzWXtKNkq3Qp9oCAAAAwG8ZjsInV2RkZKhbt25KTk6+at3cuXPVrl07RUREKCIiwvm6RJQcjHgCAAAAcJkj330jnl999ZViYmJ09OjRAtcfOHBAL730kho3buy2TFiLEU8AAAAALjMMW6FTUcXFxWnixIkKDAwscP2BAwe0YMEChYeHa/LkycrJyXHXYcAijHi6wKNMWcuycsTrVFB01W+pbGnewbRjlmXdU7GaZVmSVL9SDUvzki+mWpq33TvN0rx6ZStamtcpx9vSvH/7WPtGshpuHF0oinPzkyzNqxQTYVnWsW7/sCxLkuwOa8/N28pa+ytepP1WS/NOWnxrYfUK5a0NLCGKMuKZnp6u9PT0q5b7+fnJz8/POf/CCy9ccx+ZmZmqW7euxowZo7vuukvjxo3T66+/rtGjR19fw1EsGPEEAAAA4DLDKHxavHixOnTocNW0ePHiIueUL19eb731lmrVqiUPDw89/PDD+uwz3g9a0jDiCQAAAMBljvzCx7AGDhyoyMjIq5b/erSzMCdPnlRSUpJ69uwpSTIMQx4elDElDf/HAAAAALjMKMLdBr+9pPZ6+Pj4aNasWWrWrJmCgoIUGxurTp06/aF9wnpcagsAAADAZQ57mUKnP2Lo0KHav3+/KlWqpMmTJ+uxxx5Tly5dZBiGBg8e7KajgFUY8QQAAADgMlff01kUmzdvdn791ltvOb8OCQlRSEiI+wNhGQpPAAAAAC6zO7h4EkVH4QkAAADAZYbD4vfaoESj8AQAAADgMoedwhNFR+EJAAAAwGUOg8ITRef2wvP555/X3r17lZeXp2PHjqlWrVqSpPT0dEVFRWnkyJHujnR67bXXJMnUDAAAAACSg0tt4QK3F54TJ06UJCUnJ2vAgAFKTEyU9L+iEAAAAEDJx4gnXGHppbb79u1Tnz59lJKS4hz9jI+P165duzR9+nRJUv/+/TVixAhJ0qxZs+RwOHTPPfeoR48emjVrliTp1ltv1ezZs1WpUiW9/fbbiouLk7+/v/z8/NSgQQNJ0vvvv6/ExERdvHhRnp6emj17tlJSUvTKK6/oww8/lCTFx8frq6++0vPPP2/lPwMAAABQ4jHiCVdY+gzks2fP6t1339Xy5cu1cOFCZWRk/O72R48e1eLFizVjxgy9/vrrmjRpkuLj49WiRQsdPHhQ+/fv1/Lly5WQkKBFixbp559/liRlZGRo48aNeu+997R69Wo98MADio2NVXBwsM6cOaNjx45JklasWKGoqCjTjxsAAAAobRyGrdAJuMzSEc/WrVvLy8tLlSpVkr+/v86fP/+729esWVO33HKLJKlDhw4aMWKEOnbsqA4dOqhly5ZauHCh2rZtq/Lly0uSunTpIofDoQoVKmj27Nn6+OOPdfToUX3xxReqW7eubDabIiMjtXLlSkVFRens2bNq2LCh6ccNAAAAlDa8xxOusLTw9PD4X5zNZpNhGM7/XpaXl+f82sfHx/n1oEGD1K5dO23ZskWzZs3Svn375O3tfcVnPTw8lJubq1OnTql///566KGH1KZNG1WuXFmHDh2SJEVGRmrIkCHy8vJSRESEmYcLAAAAlFpG4ZsATsX+Zwp/f399//33MgxDx48f1+HDhwvc7q9//asyMzM1aNAgDRo0SAcPHlTz5s21ZcsWXbhwQTk5OdqwYYMkaf/+/brrrrs0aNAg1a9fXxs3bpTdbpckVatWTVWrVtWHH35I4QkAAABcJ7ujTKETcFmxv8ezRYsWWr58ubp06aKaNWuqSZMmBW7397//XePGjZOHh4d8fX01ZcoU1ahRQwMHDlTPnj3l5+enO+64Q5LUsmVLLVmyRKGhoTIMQ02bNtWRI0ec+woNDdX69etVpUoVS44RAAAAKG0cxd0AlCg249fXqt4E8vPzNXbsWHXp0kWdO3d26bO3VqhlUquulpmbbVkWSr7qt1S2NO/4hVTLsu6pWM2yLEnyKeNpaV7yRev+LSXp//z+ZGlevbIVLc1rmmPtX9e/9Lb2R2iNfGuPr3uNE5bmVXzWuiuRToxZY1mWZP29cOOyrB1biLTfamneSYuHTpJteYVv5EZzjy61NO96fVrlr4Vu80DKRxa0BCXBTTX+bRiGWrduLZvNpo4dOxZ3cwAAAIASyyFboRNwWbFfamslm82m7du3F3czAAAAgBLPoLCEC26qwhMAAACAe9gpPOECCk8AAAAALuPhQnAFhScAAAAAlzHiCVdQeAIAAABwmYO6Ey6g8HQBrzjBjcrK15tIkp+3r2VZqTnnLcuSpFD/+yzNq+rpZ2negiq5lua9kJpvaV5OGW9L8241rP2t6yPbGUvzHgy29vz0aNbdsqzqK/7PsixJeqnTfEvzXgk8ZWnen/bttTRvWaW2luat9ThraV5JwYgnXEHhCQAAAMBl3OMJV1B4AgAAAHCZ3caIJ4qOwhMAAACAyxjxhCsoPAEAAAC4LJ8RT7igTHE3AAAAAEDJYxRhckVGRoa6deum5OTkq9YdOnRIUVFRCgkJ0fjx45Wfb+3D6/DHUXgCAAAAcFm+rfCpqL766iv17dtXR48eLXD9mDFjNGHCBK1bt06GYSguLs49BwHLUHgCAAAAcJk7Rzzj4uI0ceJEBQYGXrXuxIkTys7OVqNGjSRJUVFRWrt27R9sPazGPZ4AAAAAXFaUEc309HSlp6dftdzPz09+fv97V/ALL7xwzX2cPn1aAQEBzvmAgAClpKS41lgUuxuq8ExOTlaXLl1Uq1atK5bPnz9ft99+u3N+6NChmjJliqpUqXLFdv3799eIESPUrFkzS9oLAAAA3KyK8lTbxYsXa+7cuVctHzFihEaOHFm0HIdDtl89yMgwjCvmUTLcUIWnJAUGBioxMfF3t3nrrbcsag0AAACAgtiLUPsNHDhQkZGRVy3/9WhnYapWraozZ84451NTUwu8JBc3thuu8CzIuHHjdO7cOf30008aM2aMpkyZonfffVeBgYEaP368Dhw4oGrVqumXX36RJOXn52vSpEk6cuSIUlNTVbt2bb300kuaP3++DMPQ6NGjnftt06aNQkNDi/PwAAAAgBKnKCOev72k9npUq1ZN3t7e2rNnj5o0aaLExES1adPmD+0T1rvhHi50+vRpRUREOKe3335bklSxYkWtWbNG7du3d2773nvvSZLWrFmjmJgYHTt2TJL0n//8R56enlq6dKk2bNigCxcu6LPPPlN0dLRWrVolwzB08eJF7dixQx06dLD+IAEAAIASzm4rfPojhg4dqv3790uSXnzxRU2bNk1dunRRVlaWBgwY4IYjgJVuuBHPgi61HTdunBo0aHDVtrt27VLv3r0lSTVq1FDjxo0lSU2bNlXFihUVGxurH374QUePHlVWVpaqV6+uatWq6d///rdOnjyptm3bytvb2/yDAgAAAEqZoox4umrz5s3Or399e12dOnW0bNkyExJhlRtuxPNafHx8rlpms9lkGP97ULOHx6U6etOmTXr66afl4+OjqKgoNW3a1LlddHS0Vq9erdWrVysqKsqaxgMAAACljL0IE3BZiSk8C9K8eXOtWrVKDodDJ06c0N69eyVJ27dvV9euXRUdHS0/Pz/t3LlTdvulU79Lly7avn27UlNT1bBhw+JsPgAAAFBiOWyFT8BlN9yltq7o16+fjhw5oq5du6patWq69957JUl//etf9fTTT+vjjz+Wp6en7r//fiUnJ0u6NHLaqFEj57YAAAAAXMeIJlxxQxWeQUFBV1zXfdn06dOvmP/1NlOmTClwX6tWrbpqmWEYyszM1MGDBzV27Ng/2FoAAADg5uWQUfhGwH+V6EttXbV//361b99evXr1UkBAQHE3BwAAACixuMcTrrihRjzN1qBBA+3atau4mwEAAACUeGY81Ral101VeAIAAABwDx4eBFdQeAIAAABwmZ17POECCk8AAAAALuNSW7iCwhMAAACAyxjxhCsoPAEAAAC4jBFPuILC0wX+5SpYlvXLxQzLsiRrj02y/uHOlHAAACAASURBVPjgXhU8fSzLSsu29lxZkfqlpXnN/O+xNO8/yVUszSvjk29pXlPfNEvzxuda+2N0cr61ffXdbx+0NC/2vWcty9pYrqxlWZJ03mbt98I3x619bVynKl6W5s12pFiat+/cUUvzSgpGPOEKCk8AAAAALmPEE66g8AQAAADgMkY84QoKTwAAAAAuc1B4wgUUngAAAABcxognXEHhCQAAAMBl3OMJV1B4AgAAAHAZI55wBYUnAAAAAJcZFJ5wAYUnAAAAAJflGxSeKLoyZu147dq1ioqKUvfu3RUeHq633377d7ePi4vT6tWrrzsvOTlZ7du3v+7PAwAAACg6owgTcJkpI54pKSmaMWOG4uPj5e/vr8zMTPXv3181a9ZUhw4dCvzM3r179Ze//MWM5gAAAABwMzuPF4ILTCk8f/nlF+Xl5Sk7O1uSVL58eU2fPl3e3t5as2aNFi1apOzsbOXm5mrq1KnKzs7W5s2btWPHDgUEBOjjjz/WX/7yF0VFRUmSateurcOHD+u1117Tl19+qVOnTumhhx5So0aNNH78eElSnTp1nPnffvut/vnPfyorK0tpaWl69NFH1bt3b3Xs2FELFy5UzZo1lZWVpa5du2r9+vXy9vY2458BAAAAKLUoO+EKUy61rVOnjjp06KCOHTuqZ8+emjVrlhwOh6pXr64PP/xQ8+fP18qVKzVkyBC9+eabatGihdq3b69Ro0apdevWv7vv3NxcffLJJ+rXr5+eeeYZPf3000pISFBQUJBzm48++kh/+9vftHz5cr377ruaOXOmypQpox49emjlypWSpPXr1+uBBx6g6AQAAACug12OQifgMtPu8Xz++ee1efNm9e3bVydPnlSvXr20ceNGzZs3T1u3btUrr7yihIQEZWZmurTfBg0aSJLS0tJ0+vRptWzZUpKco6OSNG7cOOXk5GjBggV6+eWXlZWV5dzm8n2kCQkJV3wGAAAAQNE5ijC5YtWqVQoNDVXnzp0VGxt71fq5c+eqXbt2ioiIUERERIHb4MZlyqW2n376qbKyshQaGqro6GhFR0crLi5OsbGxeumll9S9e3c1bdpUtWvXLvCEsdlsMv77lKy8vLwr1vn4+Fy1jSSVLVvW+fWTTz4pPz8/tWvXTqGhoc5iMygoSHfccYfWr1+vs2fPqmHDhm4/dgAAAOBmYDfcN6KZkpKiOXPmKD4+Xl5eXurTp4+aNWumu+++27nNgQMH9NJLL6lx48Zuy4V1TBnx9PHx0ezZs5WcnCxJMgxDhw4dkpeXl2w2m4YPH65mzZppw4YNstvtki4Vjpe/rlixor777jtJ0saNGwvM8Pf31x133KFPP/1Ukq54Iu62bds0atQodezYUZ9//rkkOfcdHR2tKVOmqHv37u4/cAAAAOAm4c4Rz6SkJAUHB6tixYry9fVVSEiI1q5de8U2Bw4c0IIFCxQeHq7JkycrJyfHPQcCS5hSeAYHB2vEiBEaPny4QkJC1KVLF5UtW1bz5s1T3bp11bVrV4WFhcnf318nT56UJLVo0ULz58/X2rVr1bdvX+3cuVPh4eHau3evAgICCsyZNWuW5s6dqx49eujYsWPO5SNHjlS/fv0UGhqqPXv2qFq1as4iuHPnzjp//rwiIiLMOHQAAADgplCUezzT09OVnJx81ZSenn7Fvk6fPn3F7/yBgYFKSUlxzmdmZqpu3boaM2aMEhISlJ6ertdff92yY8UfZzOMm+fNr4Zh6PPPP9eSJUs0f/58lz8fcGttE1pVsF8uZliWJUn+5SpYmmf18cG97qhQybKstGxrz5WyZUy79b1AzfzvsTTv8Tzr/t9J0lqffEvzRnlae76MzzXljpVrejrX09K8qIsHLc2L9W5gWdbGcmUL38iNzsva74UeF63ty+Z4nbc0L8ORa2nevvNHLc07n/G9pXnXq2v1roVuEzo2VHPnzr1q+YgRIzRy5Ejn/BtvvKGcnBw9+eSTkqS4uDgdOHBAkydPLnC/Bw8e1HPPPacVK1ZcZ+thNWt/YhazqVOnasuWLXrrrbeKuykAAABAiWZX4eNXAwcOVGRk5FXL/fz8rpivWrWqdu/e7Zw/c+aMAgMDnfMnT55UUlKSevbsKenSgJKHx01VypR41v45rJiNHz9eGzduVM2aNYu7KQAAAECJ5pBR6OTn56egoKCrpt8Wni1atND27duVlpamixcvav369WrTpo1zvY+Pj2bNmqXjx4/LMAzFxsaqU6dOVh8y/gD+TAAAAADAZe68Y69KlSoaPXq0BgwYoLy8PPXs2VMNGjTQ0KFDNWrUKNWvX1+TJ0/WY489pry8PN1///0aPHiw2/JhPgpPAAAAAC6zu/ymzt8XHh6u8PDwK5b9+ha5kJAQhYSEuDUT1qHwBAAAAOAyx83zjFK4AYUnAAAAAJcV5eFCwGUUngAAAABc5qDwhAsoPF1wMc+6d0Z5lLH2/WK8VxOuOJmRVtxNMI2ft6+leTvSvrU078wtt1uaV9O4zdK8qPOplub9nGXt98KPFapYmneLp7XfD6NtxyzLutsIKHwjN7L6NQJfe/sVvpEb1Slzq6V5r6V8YWkeCmY33HuPJ0o3Ck8AAAAALjMY8YQLKDwBAAAAuIwRT7iCwhMAAACAy9z5Hk+UfhSeAAAAAFzm7vd4onSj8AQAAADgMt7jCVdQeAIAAABwGfd4whUUngAAAABcxlNt4QoKTwAAAAAuY8QTriiWwnPt2rV68803lZ+fL8MwFBERoSFDhvzh/dauXVuHDx92QwsBAAAA/B7u8YQrLC88U1JSNGPGDMXHx8vf31+ZmZnq37+/atasqQ4dOljdHAAAAADXwWHYi7sJKEHKWB34yy+/KC8vT9nZ2ZKk8uXLa/r06br77rvVvn17JScnS5J27typ/v37S5L69++vmTNnqnfv3urUqZM+++wzSVJycrL69u2riIgITZgwwZmRkpKiRx55RL169dIDDzygV155RZLUr18/bdu2TdKl9w517txZKSkplh07AAAAUFo4ZBQ6AZdZXnjWqVNHHTp0UMeOHdWzZ0/NmjVLDodDd9111+9+Li8vT0uXLtWzzz7rLCT/+c9/KioqSomJibr//vud265evVrdunVTXFycVq1apcWLFystLU3R0dFKTEyUJO3evVt33nmnqlSpYt7BAgAAAKWU3XAUOgGXWV54StLzzz+vzZs3q2/fvjp58qR69eql9evX/+5nWrduLUm65557dO7cOUnSrl271LVrV0lS9+7d5enpKUl65JFHdPvtt2vhwoV64YUXlJeXp4sXL6pr165KSkpSVlaWEhISFBUVZeJRAgAAAKWXYRiFTsBllt/j+emnnyorK0uhoaGKjo5WdHS04uLitGzZMklynqD5+flXfM7b21uSZLPZrlh+eXubzaYyZS7V0dOnT9fx48fVrVs3dezYUUlJSTIMQ76+vmrTpo3WrVunHTt2aOLEiaYeKwAAAFBaMaIJV1g+4unj46PZs2c77+U0DEOHDh1S3bp15e/vr++++06StGnTpkL31aJFC61cuVKStH79euXk5EiStm3bpkceeURdu3bVjz/+qJSUFDkcl74xoqOjNWfOHLVu3dpZzAIAAABwDSOecIXlI57BwcEaMWKEhg8frry8PEmXLqN9/PHHdf/99+uf//yn5s6dq1atWhW6rwkTJmjMmDFaunSp7rvvPpUvX16SNGzYMI0dO1Y+Pj6qWrWq7rvvPiUnJ+vOO+9UkyZNZLPZFB0dbepxAgAAAKUZI55whc24if4UYRiGvv32Wz3zzDNasWKFy5+v4FvThFYVLN9h7eOprc4DblR+3r6W5ln9vVfrltstzavpfZuleYcu/mxp3s9ZaZbm1ahg7QPxMuzZluaVK+tlWdbd3gGWZUnWX2LW0vCzNO9YmfzCN3Kj105+YWme1fJzTxR3E4qk0i33FLpN2oUjFrQEJYHlI57FafHixXr77bedT8UFAAAAcH0Y8YQrbqrCc9CgQRo0aFBxNwMAAAAo8W6iCyfhBjdV4QkAAADAPRwUnnBBsbzHEwAAAEDJZjcchU6uWLVqlUJDQ9W5c2fFxsZetf7QoUOKiopSSEiIxo8ff9XrF3Fjo/AEAAAA4DJ3vk4lJSVFc+bM0QcffKAVK1Zo6dKlztcsXjZmzBhNmDBB69atk2EYiouLc/chwUQUngAAAABc5jAchU5FlZSUpODgYFWsWFG+vr4KCQnR2rVrnetPnDih7OxsNWrUSJIUFRV1xXrc+LjHEwAAAIDLijKimZ6ervT09KuW+/n5yc/vf6/9OX36tAIC/veao8DAQO3bt++a6wMCApSSknK9TUcxoPB0QUbWj8XdBAAAgJvenOJuACRJeUV43+hrr72muXPnXrV8xIgRGjlypHPe4XDIZrM55w3DuGK+sPW48VF4AgAAADDFwIEDFRkZedXyX492SlLVqlW1e/du5/yZM2cUGBh4xfozZ84451NTU69Yjxsf93gCAAAAMIWfn5+CgoKumn5beLZo0ULbt29XWlqaLl68qPXr16tNmzbO9dWqVZO3t7f27NkjSUpMTLxiPW58NoM3vwIAAAAoZqtWrdKCBQuUl5ennj17aujQoRo6dKhGjRql+vXr65tvvlFMTIwyMjJUr149TZs2TV5eXsXdbBQRhScAAAAAwFRcagsAAAAAMBWFJwAAAADAVBSeAAAAAABTUXgCAAAAAExF4QkAAAAAMBWFp4lWrVql0NBQde7cWbGxsZZkZmRkqFu3bkpOTjY9a+7cuQoLC1NYWJhmzpxpet4rr7yi0NBQhYWFadGiRabnSdKMGTM0btw4S7L69++vsLAwRUREKCIiQl999ZVpWZs3b1ZUVJS6du2qKVOmmJYjSR999JHzmCIiItSkSRNNnjzZ1MzExETnuTljxgxTsyTpzTffVEhIiMLDw/XGG2+YlvPb7++kpCSFh4erc+fOmjNnjul5kpSXl6eBAwdq586dpuctXbpU3bp1U3h4uJ599lnl5uaalvXBBx8oLCxMoaGhmjFjhtz9wPdr9c3vv/+++vfv79asgvKeffZZde7c2fl9uGHDBlPz/vOf/6hXr14KCwvT3//+d7f+v/tt3meffXZFHxMcHKxhw4aZlidJW7duVffu3dWtWzeNHTvW1OOTpPj4eIWGhio8PFxTpkxRfn6+27IK+lluZt9yrd8dzOpbCsozs28pKM/s/gUoMQyY4ueffzbatWtn/PLLL0ZmZqYRHh5uHDlyxNTML7/80ujWrZtRr1494/jx46Zmbdu2zejdu7eRk5Nj5ObmGgMGDDDWr19vWt7OnTuNPn36GHl5ecbFixeNdu3aGd9//71peYZhGElJSUazZs2MZ555xtQcwzAMh8NhtGrVysjLyzM969ixY0arVq2MU6dOGbm5uUbfvn2NTz/91PRcwzCMb7/91ujUqZNx9uxZ0zKysrKMpk2bGmfPnjXy8vKMnj17Gtu2bTMtb9u2bUa3bt2MCxcuGPn5+cawYcOMdevWuT3nt9/fFy9eNNq2bWscO3bMyMvLMx5++GG3/n8sqD/5/vvvjd69exv169c3duzY4basgvJ++OEHo1OnTsaFCxcMh8NhjB071li0aJEpWceOHTM6depkZGZmGvn5+Ubv3r2NL774wi1ZBeVdduTIEaN169bGQw895Lasa+V169bNSElJcWvOtfIuXLhgtGzZ0jh06JBhGIYxevRoIzY21rS8Xzt9+rTRoUMH48cffzQ1r02bNsZ3331nGIZhjBw50oiLizMt7/vvvzdat27t/P83ceJE45133nFLVkE/y1etWmVa33Kt3x3M6lsKyluwYIFpfUtBeYsWLTK1fwFKEkY8TZKUlKTg4GBVrFhRvr6+CgkJ0dq1a03NjIuL08SJExUYGGhqjiQFBARo3Lhx8vLykqenp2rVqqWTJ0+alveXv/xF7777rjw8PHT27FnZ7Xb5+vqalnfu3DnNmTNHw4cPNy3j13744QdJ0sMPP6zu3bvr/fffNy1rw4YNCg0NVdWqVeXp6ak5c+aoYcOGpuX92qRJkzR69GhVqlTJtAy73S6Hw6GLFy8qPz9f+fn58vb2Ni3v4MGDatWqlSpUqKCyZcuqdevW2rhxo9tzfvv9vW/fPt11112qXr26PDw8FB4e7tY+pqD+ZNmyZRoyZIgp58tv87y8vDRx4kRVqFBBNptN9957r9v6mN9mVa9eXR9//LF8fX2Vnp6ujIwM+fn5uSWroDxJys3N1YQJEzRq1Ci35Vwr7+LFizp58qSee+45hYeH69VXX5XD4TAtb9u2bWrUqJHq1KkjSYqJiVGnTp1My/u1mTNnqk+fPqpRo4apeXa7XRkZGbLb7crJyXFrH/PbvMOHD6tRo0bO+Xbt2rmtjynoZ/nRo0dN61uu9buDWX1LQXm5ubmm9S0F5dlsNlP7F6Ak8SjuBpRWp0+fVkBAgHM+MDBQ+/btMzXzhRdeMHX/v3bPPfc4vz569KjWrFmjJUuWmJrp6empV199Ve+88466dOmiKlWqmJY1YcIEjR49WqdOnTIt49fS09PVvHlz/eMf/1BeXp4GDBigmjVrqmXLlm7P+umnn+Tp6anhw4fr1KlTeuCBB/Tkk0+6Pee3kpKSlJ2dra5du5qaU6FCBT3xxBPq2rWrypUrp6ZNm+r+++83La9evXqaOnWqhg0bpnLlymnz5s2mXEb12+/vgvqYlJQU0/IkaezYsZKkxYsXuy3nWnnVqlVTtWrVJElpaWmKjY3VtGnTTMmSLvUvcXFxmjFjhho0aOAsmszKmz17tqKjoxUUFOS2nGvlpaamKjg4WBMnTtQtt9yiYcOGadmyZerVq5cpeT/99JN8fX01evRo/fDDD7r//vvdesvCtX7WHT16VLt27XL7z8KC9jdp0iT1799fFSpUUFBQkLp06WJaXp06dTR9+nSdOnVKgYGBWrt2rVJTU92SVdDP8oceesi0vuVavztc/kOBu/uWwvLc3bdcK8/M/gUoSRjxNInD4ZDNZnPOG4ZxxXxpceTIET388MMaO3asW//CfC2jRo3S9u3bderUKcXFxZmS8dFHH+n2229X8+bNTdl/QRo3bqyZM2fqlltuUaVKldSzZ0999tlnpmTZ7XZt375dU6dO1dKlS7Vv3z4lJCSYkvVrH374oQYPHmx6zjfffKPly5dry5Yt+uKLL1SmTBktXLjQtLzmzZsrKipK/fv315AhQ9SkSRN5enqalnfZzdLHpKSkaODAgYqOjlazZs1MzerVq5d27typypUra+7cuablbNu2TadOnVJ0dLRpGb9WvXp1zZs3T4GBgSpXrpz69+9vWv8iXepjtm7dqr///e+Kj4/XxYsX9eabb5qWd9nSpUvVr18/eXl5mZpz5swZvfjii1q9erW2bt2qhg0buq1wKUjNmjX11FNP6bHHHtODDz6o2rVru72P+fXP8urVq5vet1j9u0NBeWb2LQXlWdW/ADcyCk+TVK1aVWfOnHHOnzlzxpJLYK20Z88eDRo0SE899ZQiIyNNzfr+++916NAhSVK5cuXUuXNnHT582JSsTz75RNu2bVNERIReffVVbd68WVOnTjUl67Ldu3dr+/btznnDMOThYc4FCZUrV1bz5s1VqVIl+fj4qGPHjqaPxufm5urf//632rdvb2qOdOmhH82bN9dtt90mLy8vRUVFadeuXablZWRkqHPnzlq1apXee+89eXl5qXr16qblXXYz9DHff/+9+vTpo8jISD3++OOm5Zw6dUp79uyRJHl4eCgsLMy0/kWSVq9erSNHjigiIkIxMTE6cOCAqVcdHD58WOvWrXPOm9m/SJf6mIYNG6p69eoqW7asunbtanofI0mbNm1SaGio6Tm7d+/WvffeqzvvvFNlypRRr169TO1jcnJy1KBBA61YsUIffvihqlSp4tY+5rc/y83uW6z83eFaeWb2Lb/Ns7p/AW5kFJ4madGihbZv3660tDRdvHhR69evV5s2bYq7WW5z6tQpPf7443rxxRcVFhZmel5ycrJiYmKUm5ur3Nxcbdq0SU2aNDEla9GiRVq9erUSExM1atQotW/fXs8995wpWZdduHBBM2fOVE5OjjIyMpSQkODWe6J+rV27dtq6davS09Nlt9v1xRdfqF69eqZkXXb48GHVqFHD1PtyL6tTp46SkpKUlZUlwzC0efNm1a9f37S85ORk/e1vf1N+fr4uXLigZcuWmX45sSQ1bNhQP/74o3766SfZ7XatXr26VPUxGRkZeuSRR/TEE0/o4YcfNjXrwoULGjNmjNLT02UYhtatW2da/yJJ06ZN05o1a5SYmKgpU6bovvvu08svv2xanmEYmjp1qs6fP6+8vDwtXbrUtP5Fklq1aqWvv/7aeavCli1bTO9j0tLSlJ2dbckffe69917t27fPebnrpk2bTO1jsrKyNGjQIGVkZCg3N1fvv/++2wrsgn6Wm9m3WP27Q0F5ZvYtBeVZ3b8ANzLu8TRJlSpVNHr0aA0YMEB5eXnq2bOnGjRoUNzNcpuFCxcqJydH06dPdy7r06eP+vbta0pe27ZttW/fPvXo0UNly5ZV586dLfmhZZV27drpq6++Uo8ePeRwONSvXz81btzYlKyGDRtqyJAh6tevn/Ly8tSyZUvTL/k7fvy4qlatamrGZa1atdLBgwcVFRUlT09P1a9fX48++qhpeXXq1FHnzp3VvXt32e12DRo0yJJfKry9vTV9+nSNHDlSOTk5atu2rVvvMytuy5YtU2pqqhYtWuR8fVL79u31xBNPuD3r3nvv1aOPPqo+ffqobNmy+r//+z9LLgu3Sp06dfToo4+qb9++ys/PV+fOndWtWzfT8m6//XZNnjxZw4cPV05OjurWratnnnnGtDzp0h+ArOpjatWqpSeeeEIDBgxQ2bJlddddd5n6iih/f389/vjj6t27t/Lz852vAXGHa/0sN6tvsfp3h4LyQkNDTetbrnV8pbl/AVxhM8x4CgYAAAAAAP/FpbYAAAAAAFNReAIAAAAATEXhCQAAAAAwFYUnAAAAAMBUFJ4AAAAAAFNReAIAXFK7dm2lpaVdsSw+Pl7Dhg0rphYBAIAbHYUnAAAAAMBUFJ4AALe6cOGCnn76aeeL7mfOnKn8/HxJV4+WXp7fuXOnunfvrj59+ig8PFy5ubnF1XwAAGACj+JuAACg5Bk4cKDKlPnf3y7Pnz+v2rVrS5KmTJmiihUratWqVcrLy9Njjz2md955R48++ujv7vPIkSPauHGjqlWrZmrbAQCA9Sg8AQAuW7x4sSpVquScj4+P17p16yRJn3/+uZYsWSKbzSYvLy/16dNHixcvLrTwvP322yk6AQAopbjUFgDgVg6HQzab7Yr5y5fa/tpvL6f19fU1vW0AAKB4UHgCANyqVatWev/992UYhnJzcxUXF6cWLVpIkipVqqT9+/dLklavXl2czQQAABYqdYVnRkaGunXrpuTk5KvWHTp0SFFRUQoJCdH48eML/As8AOCPiYmJUVpamsLDwxUeHq6aNWtq+PDhznWTJ09WZGSkvv/+ewUEBBRzawEAgBVshmEYxd0Id/nqq68UExOjH3/8UWvXrlVQUNAV67t166YpU6aoUaNGeu6553TfffepX79+xdRaAAAAALg5lKoRz7i4OE2cOFGBgYFXrTtx4oSys7PVqFEjSVJUVJTWrl1rdRMBAAAA4KZTqp5q+8ILL1xz3enTp6+4pCsgIEApKSlWNAsAAAAAbmqlqvD8Pb99yqJhGFfMF9Uvv2TK4Sg1VyejlLjttgo6ezajuJsBFIjzEzcqzk3cqDg3caMqU8Ymf//y1/XZm6bwrFq1qs6cOeOcT01NLfCS3MI4HAaFJ25InJe4kXF+4kbFuYkbFecmSptSdY/n76lWrZq8vb21Z88eSVJiYqLatGlTzK0CAAAAgNKv1BeeQ4cOdb4z7sUXX9S0adPUpUsXZWVlacCAAcXcOgAAAAAo/UrV61SscPZsBpc+4IYTEHCLzpy5UNzNAArE+YkbFecmblScm7hRlSlj0223Vbi+z7q5LQAAAAAAXIHCEwAAAABgKgpPAAAAAICpKDwBAAAAAKai8AQAAAAAmIrCEwAAAABgKgpPAAAAAICpKDwBAAAAAKai8AQAAAAAmIrCEwAAAABgKgpPAAAAAICpKDwBAAAAAKai8AQAAAAAmIrCEwAAAABgKgpPAAAAAICpKDwBAAAAAKai8AQAAAAAmIrCEwAAAABgKgpPAAAAAICpKDwBAAAAAKai8AQAAAAAmIrCEwAAAABgKgpPAAAAAICpKDwBAAAAAKai8AQAAAAAmKpUFZ6rVq1SaGioOnfurNjY2KvWf/3114qOjlb37t01bNgwpaenF0MrAQAAAODmUmoKz5SUFM2ZM0cffPCBVqxYoaVLl+q77767YpsXXnhBo0aN0sqVK1WzZk0tXLiwmFoLAAAAADePUlN4JiUlKTg4WBUrVpSvr69CQkK0du3aK7ZxOBzKzMyUJF28eFE+Pj7F0VQAAAAAuKmUmsLz9OnTCggIcM4HBgYqJSXlim3GjRunmJgYtWrVSklJSerTp4/VzQQAAACAm45HcTfAXRwOh2w2m3PeMIwr5rOzszV+/Hj961//UoMGDbRo0SI988wzevPNN13Kue22Cm5rM+BOAQG3FHcTgGvi/MSNinMTNyrOTZQ2pabwrFq1qnbv3u2cP3PmjAIDA53z3377rby9vdWgQQNJUu/evfXKK6+4nHP2bIYcDuOPNxhwo4CAW3TmzIXibgZQIM5P3Kg4N3Gj4tzEjapMGdt1D8SVmkttW7Rooe3btystLU0XL17U+vXr1aZNG+f6u+66Sz///LN++OEHSdKmTZtUv3794mouAAAAANw0Ss2IZ5UqVTR69GgNGDBA/9++LcIi1wAAD3dJREFU/YVmed//H3+llDryXcFi7zuBMjwZ2NUmbWGw4IbQ0iarc3b+gbWWeiJxzkmoB2ObhjkYVufGLBs9WI5KWQR7sGlzEkNXHIwI0rLhsBUnHnQrTXLbDKclQjTX7+DH8iX9Q6r18r6/9/14nH343HK/D97c8PS6Mjs7m02bNqW7uzv9/f0ZGBhIV1dX9u/fn+effz5FUWTZsmV54YUX6j02AABA02srisJ7ozfAq7Y0Iq/k0MjsJ43KbtKo7CaNyqu2AAAANCzhCQAAQKmEJwAAAKUSngAAAJRKeAIAAFAq4QkAAECphCcAAAClEp4AAACUSngCAABQKuEJAABAqYQnAAAApRKeAAAAlEp4AgAAUCrhCQAAQKmEJwAAAKUSngAAAJRKeAIAAFAq4QkAAECphCcAAAClEp4AAACUSngCAABQKuEJAABAqYQnAAAApRKeAAAAlEp4AgAAUCrhCQAAQKmaKjxHRkayZs2a9Pb2Znh4+GP3Fy5cyHPPPZd169Zl69atuXTpUh2mBAAAaC1NE56Tk5M5dOhQDh8+nKNHj+bIkSM5f/78/H1RFPn+97+f/v7+vPbaa/nKV76SoaGhOk4MAADQGpomPMfHx9PT05OlS5emvb09fX19GR0dnb8/c+ZM2tvbs3r16iTJ9u3b8+yzz9ZrXAAAgJbRNOE5NTWVSqUyf65Wq5mcnJw/v/vuu7n33nuze/furF+/Pnv37k17e3s9RgUAAGgpd9Z7gFtlbm4ubW1t8+eiKBacr127llOnTuX3v/99urq68uKLL+bAgQM5cODADX3PsmVfvGUzw61Uqdxd7xHgU9lPGpXdpFHZTZpN04RnZ2dn3nzzzflzrVZLtVqdP1cqlSxfvjxdXV1JkrVr12ZgYOCGv+eDD65kbq74/APDLVSp3J1a7XK9x4BPZD9pVHaTRmU3aVR33NF20w/imuZV21WrVuXkyZOZnp7OzMxMxsbG5v+eM0keeeSRTE9P5+zZs0mSN954IytXrqzXuAAAAC2jaZ54dnR0ZNeuXdmyZUtmZ2ezadOmdHd3p7+/PwMDA+nq6spLL72UwcHBzMzMpLOzMwcPHqz32AAAAE2vrSgK743eAK/a0oi8kkMjs580KrtJo7KbNCqv2gIAANCwhCcAAAClEp4AAACUSngCAABQKuEJAABAqYQnAAAApRKeAAAAlEp4AgAAUCrhCQAAQKmEJwAAAKUSngAAAJRKeAIAAFAq4QkAAECphCcAAAClEp4AAACUSngCAABQKuEJAABAqYQnAAAApRKeAAAAlEp4AgAAUCrhCQAAQKmEJwAAAKUSngAAAJRKeAIAAFAq4QkAAECphCcAAAClaqrwHBkZyZo1a9Lb25vh4eFP/dyJEyfy2GOP3cbJAAAAWted9R7gVpmcnMyhQ4fyhz/8IXfddVeefvrpfO1rX8uXv/zlBZ+7ePFifvGLX9RpSgAAgNbTNE88x8fH09PTk6VLl6a9vT19fX0ZHR392OcGBwezc+fOOkwIAADQmprmiefU1FQqlcr8uVqt5vTp0ws+88orr+SBBx7IQw89dNPfs2zZF2/630KZKpW76z0CfCr7SaOymzQqu0mzaZrwnJubS1tb2/y5KIoF53PnzmVsbCwvv/xyJiYmbvp7PvjgSubmis81K9xqlcrdqdUu13sM+ET2k0ZlN2lUdpNGdccdbTf9IK5pXrXt7OxMrVabP9dqtVSr1fnz6OhoarVaNm7cmG3btmVqaiqbN2+ux6gAAAAtpWnCc9WqVTl58mSmp6czMzOTsbGxrF69ev5+YGAgx48fz7FjxzI0NJRqtZrDhw/XcWIAAIDW0DTh2dHRkV27dmXLli35zne+k7Vr16a7uzv9/f35+9//Xu/xAAAAWlZbURT+YPEG+BtPGpG/BaGR2U8ald2kUdlNGpW/8QQAAKBhCU8AAABKJTwBAAAolfAEAACgVMITAACAUglPAAAASiU8AQAAKJXwBAAAoFTCEwAAgFIJTwAAAEolPAEAACiV8AQAAKBUwhMAAIBSCU8AAABKJTwBAAAolfAEAACgVMITAACAUglPAAAASiU8AQAAKJXwBAAAoFTCEwAAgFIJTwAAAEolPAEAACiV8AQAAKBUwhMAAIBSNVV4joyMZM2aNent7c3w8PDH7l9//fU89dRTWbduXXbs2JFLly7VYUoAAIDW0jThOTk5mUOHDuXw4cM5evRojhw5kvPnz8/fX7lyJT/72c8yNDSU1157LStWrMhvf/vbOk4MAADQGpomPMfHx9PT05OlS5emvb09fX19GR0dnb+fnZ3N3r1709HRkSRZsWJF3n///XqNCwAA0DKaJjynpqZSqVTmz9VqNZOTk/Pne+65J0888USS5OrVqxkaGsrjjz9+2+cEAABoNXfWe4BbZW5uLm1tbfPnoigWnP/r8uXL+cEPfpD7778/69evv+HvWbbsi59rTihLpXJ3vUeAT2U/aVR2k0ZlN2k2TROenZ2defPNN+fPtVot1Wp1wWempqaydevW9PT0ZPfu3Tf1PR98cCVzc8XnmhVutUrl7tRql+s9Bnwi+0mjsps0KrtJo7rjjrabfhDXNK/arlq1KidPnsz09HRmZmYyNjaW1atXz99fv34927dvz5NPPpk9e/Z84tNQAAAAbr2meeLZ0dGRXbt2ZcuWLZmdnc2mTZvS3d2d/v7+DAwMZGJiIm+//XauX7+e48ePJ0kefPDB7Nu3r86TAwAANLe2oii8N3oDvGpLI/JKDo3MftKo7CaNym7SqLxqCwAAQMMSngAAAJRKeAIAAFAq4QkAAECphCcAAAClEp4AAACUSngCAABQKuEJAABAqYQnAAAApRKeAAAAlEp4AgAAUCrhCQAAQKmEJwAAAKUSngAAAJRKeAIAAFAq4QkAAECphCcAAAClEp4AAACUSngCAABQKuEJAABAqYQnAAAApRKeAAAAlEp4AgAAUCrhCQAAQKmEJwAAAKUSngAAAJSqqcJzZGQka9asSW9vb4aHhz92/84772TDhg3p6+vLnj17cu3atTpMCQAA0FqaJjwnJydz6NChHD58OEePHs2RI0dy/vz5BZ/54Q9/mJ/+9Kc5fvx4iqLIq6++WqdpAQAAWsed9R7gVhkfH09PT0+WLl2aJOnr68vo6Gh27tyZJHnvvfdy9erVPPzww0mSDRs25De/+U02b958Q99zxx1tt3ZwuEXsJo3MftKo7CaNym7SiD7PXjZNeE5NTaVSqcyfq9VqTp8+/an3lUolk5OTN/w999zzP59vUCjJsmVfrPcI8KnsJ43KbtKo7CbNpmletZ2bm0tb2/8WeFEUC86L3QMAAFCOpgnPzs7O1Gq1+XOtVku1Wv3U+4sXLy64BwAAoBxNE56rVq3KyZMnMz09nZmZmYyNjWX16tXz9/fdd1+WLFmSt956K0ly7NixBfcAAACUo60oiqLeQ9wqIyMj+d3vfpfZ2dls2rQp/f396e/vz8DAQLq6unL27NkMDg7mypUrWblyZfbv35+77rqr3mMDAAA0taYKTwAAABpP07xqCwAAQGMSngAAAJRKeAIAAFAq4QkAAECphOcnGBkZyZo1a9Lb25vh4eGP3b/zzjvZsGFD+vr6smfPnly7dq0OU9KKFtvN119/PU899VTWrVuXHTt25NKlS3WYkla02G7+14kTJ/LYY4/dxslg8f28cOFCnnvuuaxbty5bt27128lts9hunjlzJhs3bsy6devyve99L//5z3/qMCWt6sqVK1m7dm3+9a9/fezupnqoYIGJiYni0UcfLf79738XH374YfHtb3+7+Mc//rHgM9/61reKv/71r0VRFMVPfvKTYnh4uB6j0mIW283Lly8XX//614uJiYmiKIrixRdfLH7+85/Xa1xayGf53SyKoqjVasU3v/nN4tFHH63DlLSqxfZzbm6u6O3tLf785z8XRVEUv/zlL4uDBw/Wa1xayGf57XzmmWeKEydOFEVRFPv37y9+/etf12NUWtDf/va3Yu3atcXKlSuLf/7znx+7v5ke8sTzI8bHx9PT05OlS5emvb09fX19GR0dnb9/7733cvXq1Tz88MNJkg0bNiy4h7Istpuzs7PZu3dvOjo6kiQrVqzI+++/X69xaSGL7eZ/DQ4OZufOnXWYkFa22H6eOXMm7e3tWb16dZJk+/btefbZZ+s1Li3ks/x2zs3N5cMPP0ySzMzM5Atf+EI9RqUFvfrqq9m7d2+q1erH7m62h4TnR0xNTaVSqcyfq9VqJicnP/W+UqksuIeyLLab99xzT5544okkydWrVzM0NJTHH3/8ts9J61lsN5PklVdeyQMPPJCHHnrodo9Hi1tsP999993ce++92b17d9avX5+9e/emvb29HqPSYj7Lb+ePf/zjDA4O5hvf+EbGx8fz9NNP3+4xaVH79u3LV7/61U+8u9keEp4fMTc3l7a2tvlzURQLzovdQ1k+6+5dvnw527Zty/3335/169ffzhFpUYvt5rlz5zI2NpYdO3bUYzxa3GL7ee3atZw6dSrPPPNM/vjHP+ZLX/pSDhw4UI9RaTGL7ebVq1ezZ8+evPzyy/nLX/6SzZs350c/+lE9RoUFbraHhOdHdHZ2plarzZ9rtdqCR8wfvb948eInPoKGW22x3Uz+//9Abd68OStWrMi+fftu94i0qMV2c3R0NLVaLRs3bsy2bdvm9xRuh8X2s1KpZPny5enq6kqSrF27NqdPn77tc9J6FtvNc+fOZcmSJenu7k6SfPe7382pU6du+5zwUTfbQ8LzI1atWpWTJ09meno6MzMzGRsbm/+7jyS57777smTJkrz11ltJkmPHji24h7IstpvXr1/P9u3b8+STT2bPnj2exHPbLLabAwMDOX78eI4dO5ahoaFUq9UcPny4jhPTShbbz0ceeSTT09M5e/ZskuSNN97IypUr6zUuLWSx3Vy+fHkmJiZy4cKFJMmf/vSn+f8ggXq62R66s+zB/q/p6OjIrl27smXLlszOzmbTpk3p7u5Of39/BgYG0tXVlV/96lcZHBzMlStXsnLlymzZsqXeY9MCFtvNiYmJvP3227l+/XqOHz+eJHnwwQc9+aR0n+V3E+rls+znSy+9lMHBwczMzKSzszMHDx6s99i0gM+ym/v378/zzz+foiiybNmyvPDCC/Uemxb2eXuorSiK4jbMCQAAQIvyqi0AAAClEp4AAACUSngCAABQKuEJAABAqYQnAAAApRKeAAAAlEp4AgAAUCrhCQAAQKn+Hy9rYnqHF2PeAAAAAElFTkSuQmCC\n",
          "text/plain": "<Figure size 1080x504 with 3 Axes>"
         },
         "metadata": {},
         "output_type": "display_data"
        }
       ]
      }
     },
     "fd73f14f9c35473ba0a7943881bfd33a": {
      "model_module": "@jupyter-widgets/base",
      "model_module_version": "1.2.0",
      "model_name": "LayoutModel",
      "state": {}
     },
     "fd85f43b278d485b9fabbc11c4826b4d": {
      "model_module": "@jupyter-widgets/controls",
      "model_module_version": "1.5.0",
      "model_name": "DropdownModel",
      "state": {
       "_options_labels": [
        "DecisionTreeRegressor(criterion='mse', max_depth=None, max_features='auto',\n           max_leaf_nodes=None, min_impurity_decrease=0.0,\n           min_impurity_split=None, min_samples_leaf=1,\n           min_samples_split=2, min_weight_fraction_leaf=0.0,\n           presort=False, random_state=691922462, splitter='best')",
        "DecisionTreeRegressor(criterion='mse', max_depth=None, max_features='auto',\n           max_leaf_nodes=None, min_impurity_decrease=0.0,\n           min_impurity_split=None, min_samples_leaf=1,\n           min_samples_split=2, min_weight_fraction_leaf=0.0,\n           presort=False, random_state=734187594, splitter='best')",
        "DecisionTreeRegressor(criterion='mse', max_depth=None, max_features='auto',\n           max_leaf_nodes=None, min_impurity_decrease=0.0,\n           min_impurity_split=None, min_samples_leaf=1,\n           min_samples_split=2, min_weight_fraction_leaf=0.0,\n           presort=False, random_state=1908590134, splitter='best')",
        "DecisionTreeRegressor(criterion='mse', max_depth=None, max_features='auto',\n           max_leaf_nodes=None, min_impurity_decrease=0.0,\n           min_impurity_split=None, min_samples_leaf=1,\n           min_samples_split=2, min_weight_fraction_leaf=0.0,\n           presort=False, random_state=1924821618, splitter='best')",
        "DecisionTreeRegressor(criterion='mse', max_depth=None, max_features='auto',\n           max_leaf_nodes=None, min_impurity_decrease=0.0,\n           min_impurity_split=None, min_samples_leaf=1,\n           min_samples_split=2, min_weight_fraction_leaf=0.0,\n           presort=False, random_state=1295901455, splitter='best')",
        "DecisionTreeRegressor(criterion='mse', max_depth=None, max_features='auto',\n           max_leaf_nodes=None, min_impurity_decrease=0.0,\n           min_impurity_split=None, min_samples_leaf=1,\n           min_samples_split=2, min_weight_fraction_leaf=0.0,\n           presort=False, random_state=1690189291, splitter='best')",
        "DecisionTreeRegressor(criterion='mse', max_depth=None, max_features='auto',\n           max_leaf_nodes=None, min_impurity_decrease=0.0,\n           min_impurity_split=None, min_samples_leaf=1,\n           min_samples_split=2, min_weight_fraction_leaf=0.0,\n           presort=False, random_state=463474780, splitter='best')",
        "DecisionTreeRegressor(criterion='mse', max_depth=None, max_features='auto',\n           max_leaf_nodes=None, min_impurity_decrease=0.0,\n           min_impurity_split=None, min_samples_leaf=1,\n           min_samples_split=2, min_weight_fraction_leaf=0.0,\n           presort=False, random_state=2118682105, splitter='best')",
        "DecisionTreeRegressor(criterion='mse', max_depth=None, max_features='auto',\n           max_leaf_nodes=None, min_impurity_decrease=0.0,\n           min_impurity_split=None, min_samples_leaf=1,\n           min_samples_split=2, min_weight_fraction_leaf=0.0,\n           presort=False, random_state=214207692, splitter='best')",
        "DecisionTreeRegressor(criterion='mse', max_depth=None, max_features='auto',\n           max_leaf_nodes=None, min_impurity_decrease=0.0,\n           min_impurity_split=None, min_samples_leaf=1,\n           min_samples_split=2, min_weight_fraction_leaf=0.0,\n           presort=False, random_state=1672789934, splitter='best')"
       ],
       "description": "model",
       "index": 0,
       "layout": "IPY_MODEL_157fb58ccdcf40d38a3f23679324ae88",
       "style": "IPY_MODEL_09eb06ec1dbb458c875089cfe852fadc"
      }
     },
     "fe41988d701d436f905d2f55b355a8fa": {
      "model_module": "@jupyter-widgets/controls",
      "model_module_version": "1.5.0",
      "model_name": "IntSliderModel",
      "state": {
       "description": "Distance: ",
       "layout": "IPY_MODEL_618e428301604661b91edc72688b9f46",
       "max": 30,
       "style": "IPY_MODEL_0617fb4197004a69abc99d3712a410b0",
       "value": 10
      }
     },
     "fe650f55dbd54f0da161ba46b049547a": {
      "model_module": "@jupyter-widgets/output",
      "model_module_version": "1.0.0",
      "model_name": "OutputModel",
      "state": {
       "layout": "IPY_MODEL_f05dab7c9bc844aeaf4adc0a76aa90ed",
       "outputs": [
        {
         "data": {
          "image/png": "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\n",
          "text/plain": "<Figure size 1080x288 with 2 Axes>"
         },
         "metadata": {},
         "output_type": "display_data"
        }
       ]
      }
     }
    },
    "version_major": 2,
    "version_minor": 0
   }
  }
 },
 "nbformat": 4,
 "nbformat_minor": 2
}
