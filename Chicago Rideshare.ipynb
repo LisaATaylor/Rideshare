{
 "cells": [
  {
   "cell_type": "markdown",
   "metadata": {},
   "source": [
    "## Investigate potential use of Chicago Rideshare dataset for Capstone 1"
   ]
  },
  {
   "cell_type": "code",
   "execution_count": 168,
   "metadata": {},
   "outputs": [],
   "source": [
    "%config IPCompleter.greedy=True\n"
   ]
  },
  {
   "cell_type": "code",
   "execution_count": 3,
   "metadata": {},
   "outputs": [],
   "source": [
    "import csv\n",
    "import os\n",
    "import matplotlib.pyplot as plt\n",
    "from datetime import datetime\n",
    "import pandas as pd\n",
    "import plotly.graph_objects as go\n",
    "import geopandas as gpd\n",
    "import seaborn as sns"
   ]
  },
  {
   "cell_type": "markdown",
   "metadata": {},
   "source": [
    "### Import subset of data for inspection"
   ]
  },
  {
   "cell_type": "code",
   "execution_count": 6,
   "metadata": {},
   "outputs": [],
   "source": [
    "datadir=r'/Users/rtaylor/Desktop/Springboard/DataSets/Rideshare'\n",
    "testdf=pd.read_csv(os.path.join(datadir,'Transportation_Network_Providers_-_Trips.csv'),nrows=10000,parse_dates=['Trip Start Timestamp','Trip End Timestamp'])\n",
    "testdf=testdf.dropna(how='any')"
   ]
  },
  {
   "cell_type": "code",
   "execution_count": 195,
   "metadata": {},
   "outputs": [
    {
     "name": "stdout",
     "output_type": "stream",
     "text": [
      "Trip ID                               object\n",
      "Trip Start Timestamp          datetime64[ns]\n",
      "Trip End Timestamp            datetime64[ns]\n",
      "Trip Seconds                         float64\n",
      "Trip Miles                           float64\n",
      "Pickup Census Tract                  float64\n",
      "Dropoff Census Tract                 float64\n",
      "Pickup Community Area                float64\n",
      "Dropoff Community Area               float64\n",
      "Fare                                 float64\n",
      "Tip                                    int64\n",
      "Additional Charges                   float64\n",
      "Trip Total                           float64\n",
      "Shared Trip Authorized                  bool\n",
      "Trips Pooled                           int64\n",
      "Pickup Centroid Latitude             float64\n",
      "Pickup Centroid Longitude            float64\n",
      "Pickup Centroid Location              object\n",
      "Dropoff Centroid Latitude            float64\n",
      "Dropoff Centroid Longitude           float64\n",
      "Dropoff Centroid Location             object\n",
      "dtype: object\n",
      "<class 'pandas.core.frame.DataFrame'>\n",
      "Int64Index: 7490 entries, 1 to 9997\n",
      "Data columns (total 21 columns):\n",
      "Trip ID                       7490 non-null object\n",
      "Trip Start Timestamp          7490 non-null datetime64[ns]\n",
      "Trip End Timestamp            7490 non-null datetime64[ns]\n",
      "Trip Seconds                  7490 non-null float64\n",
      "Trip Miles                    7490 non-null float64\n",
      "Pickup Census Tract           7490 non-null float64\n",
      "Dropoff Census Tract          7490 non-null float64\n",
      "Pickup Community Area         7490 non-null float64\n",
      "Dropoff Community Area        7490 non-null float64\n",
      "Fare                          7490 non-null float64\n",
      "Tip                           7490 non-null int64\n",
      "Additional Charges            7490 non-null float64\n",
      "Trip Total                    7490 non-null float64\n",
      "Shared Trip Authorized        7490 non-null bool\n",
      "Trips Pooled                  7490 non-null int64\n",
      "Pickup Centroid Latitude      7490 non-null float64\n",
      "Pickup Centroid Longitude     7490 non-null float64\n",
      "Pickup Centroid Location      7490 non-null object\n",
      "Dropoff Centroid Latitude     7490 non-null float64\n",
      "Dropoff Centroid Longitude    7490 non-null float64\n",
      "Dropoff Centroid Location     7490 non-null object\n",
      "dtypes: bool(1), datetime64[ns](2), float64(13), int64(2), object(3)\n",
      "memory usage: 1.2+ MB\n",
      "None\n"
     ]
    },
    {
     "data": {
      "text/html": [
       "<div>\n",
       "<style scoped>\n",
       "    .dataframe tbody tr th:only-of-type {\n",
       "        vertical-align: middle;\n",
       "    }\n",
       "\n",
       "    .dataframe tbody tr th {\n",
       "        vertical-align: top;\n",
       "    }\n",
       "\n",
       "    .dataframe thead th {\n",
       "        text-align: right;\n",
       "    }\n",
       "</style>\n",
       "<table border=\"1\" class=\"dataframe\">\n",
       "  <thead>\n",
       "    <tr style=\"text-align: right;\">\n",
       "      <th></th>\n",
       "      <th>Trip ID</th>\n",
       "      <th>Trip Start Timestamp</th>\n",
       "      <th>Trip End Timestamp</th>\n",
       "      <th>Trip Seconds</th>\n",
       "      <th>Trip Miles</th>\n",
       "      <th>Pickup Census Tract</th>\n",
       "      <th>Dropoff Census Tract</th>\n",
       "      <th>Pickup Community Area</th>\n",
       "      <th>Dropoff Community Area</th>\n",
       "      <th>Fare</th>\n",
       "      <th>...</th>\n",
       "      <th>Additional Charges</th>\n",
       "      <th>Trip Total</th>\n",
       "      <th>Shared Trip Authorized</th>\n",
       "      <th>Trips Pooled</th>\n",
       "      <th>Pickup Centroid Latitude</th>\n",
       "      <th>Pickup Centroid Longitude</th>\n",
       "      <th>Pickup Centroid Location</th>\n",
       "      <th>Dropoff Centroid Latitude</th>\n",
       "      <th>Dropoff Centroid Longitude</th>\n",
       "      <th>Dropoff Centroid Location</th>\n",
       "    </tr>\n",
       "  </thead>\n",
       "  <tbody>\n",
       "    <tr>\n",
       "      <th>1</th>\n",
       "      <td>b4154b348df31392f5df63c5ef8ebf3b2dd839f1</td>\n",
       "      <td>2018-12-15 06:45:00</td>\n",
       "      <td>2018-12-15 07:00:00</td>\n",
       "      <td>928.0</td>\n",
       "      <td>9.0</td>\n",
       "      <td>1.703133e+10</td>\n",
       "      <td>1.703183e+10</td>\n",
       "      <td>33.0</td>\n",
       "      <td>21.0</td>\n",
       "      <td>12.5</td>\n",
       "      <td>...</td>\n",
       "      <td>2.5</td>\n",
       "      <td>15.0</td>\n",
       "      <td>False</td>\n",
       "      <td>1</td>\n",
       "      <td>41.859350</td>\n",
       "      <td>-87.617358</td>\n",
       "      <td>POINT (-87.6173580061 41.859349715)</td>\n",
       "      <td>41.942859</td>\n",
       "      <td>-87.717504</td>\n",
       "      <td>POINT (-87.717503858 41.942859303)</td>\n",
       "    </tr>\n",
       "    <tr>\n",
       "      <th>2</th>\n",
       "      <td>b4154bd8a97e75b348230c92eebaf4d1f4798e34</td>\n",
       "      <td>2018-12-07 01:00:00</td>\n",
       "      <td>2018-12-07 01:15:00</td>\n",
       "      <td>680.0</td>\n",
       "      <td>4.4</td>\n",
       "      <td>1.703107e+10</td>\n",
       "      <td>1.703108e+10</td>\n",
       "      <td>7.0</td>\n",
       "      <td>8.0</td>\n",
       "      <td>7.5</td>\n",
       "      <td>...</td>\n",
       "      <td>2.5</td>\n",
       "      <td>11.0</td>\n",
       "      <td>False</td>\n",
       "      <td>1</td>\n",
       "      <td>41.928763</td>\n",
       "      <td>-87.665677</td>\n",
       "      <td>POINT (-87.665676837 41.9287630064)</td>\n",
       "      <td>41.892042</td>\n",
       "      <td>-87.631864</td>\n",
       "      <td>POINT (-87.6318639497 41.8920421365)</td>\n",
       "    </tr>\n",
       "    <tr>\n",
       "      <th>3</th>\n",
       "      <td>b4154f9ac92062155aae2a04cba41ff11fd07478</td>\n",
       "      <td>2018-11-04 12:30:00</td>\n",
       "      <td>2018-11-04 12:45:00</td>\n",
       "      <td>285.0</td>\n",
       "      <td>0.7</td>\n",
       "      <td>1.703108e+10</td>\n",
       "      <td>1.703108e+10</td>\n",
       "      <td>8.0</td>\n",
       "      <td>8.0</td>\n",
       "      <td>7.5</td>\n",
       "      <td>...</td>\n",
       "      <td>2.8</td>\n",
       "      <td>10.3</td>\n",
       "      <td>False</td>\n",
       "      <td>1</td>\n",
       "      <td>41.890922</td>\n",
       "      <td>-87.618868</td>\n",
       "      <td>POINT (-87.6188683546 41.8909220259)</td>\n",
       "      <td>41.892042</td>\n",
       "      <td>-87.631864</td>\n",
       "      <td>POINT (-87.6318639497 41.8920421365)</td>\n",
       "    </tr>\n",
       "    <tr>\n",
       "      <th>5</th>\n",
       "      <td>b41555c9be5ea23faef78395ccbb152c13d6f864</td>\n",
       "      <td>2018-11-18 21:15:00</td>\n",
       "      <td>2018-11-18 21:30:00</td>\n",
       "      <td>642.0</td>\n",
       "      <td>2.0</td>\n",
       "      <td>1.703133e+10</td>\n",
       "      <td>1.703184e+10</td>\n",
       "      <td>33.0</td>\n",
       "      <td>32.0</td>\n",
       "      <td>7.5</td>\n",
       "      <td>...</td>\n",
       "      <td>2.5</td>\n",
       "      <td>10.0</td>\n",
       "      <td>False</td>\n",
       "      <td>1</td>\n",
       "      <td>41.859350</td>\n",
       "      <td>-87.617358</td>\n",
       "      <td>POINT (-87.6173580061 41.859349715)</td>\n",
       "      <td>41.880994</td>\n",
       "      <td>-87.632746</td>\n",
       "      <td>POINT (-87.6327464887 41.8809944707)</td>\n",
       "    </tr>\n",
       "    <tr>\n",
       "      <th>6</th>\n",
       "      <td>b4155715e294bff63497ba5de5e2f43304b90c49</td>\n",
       "      <td>2018-12-16 14:15:00</td>\n",
       "      <td>2018-12-16 14:30:00</td>\n",
       "      <td>1571.0</td>\n",
       "      <td>13.4</td>\n",
       "      <td>1.703132e+10</td>\n",
       "      <td>1.703198e+10</td>\n",
       "      <td>32.0</td>\n",
       "      <td>56.0</td>\n",
       "      <td>20.0</td>\n",
       "      <td>...</td>\n",
       "      <td>7.5</td>\n",
       "      <td>27.5</td>\n",
       "      <td>False</td>\n",
       "      <td>1</td>\n",
       "      <td>41.884987</td>\n",
       "      <td>-87.620993</td>\n",
       "      <td>POINT (-87.6209929134 41.8849871918)</td>\n",
       "      <td>41.785999</td>\n",
       "      <td>-87.750934</td>\n",
       "      <td>POINT (-87.7509342894 41.785998518)</td>\n",
       "    </tr>\n",
       "  </tbody>\n",
       "</table>\n",
       "<p>5 rows × 21 columns</p>\n",
       "</div>"
      ],
      "text/plain": [
       "                                    Trip ID Trip Start Timestamp  \\\n",
       "1  b4154b348df31392f5df63c5ef8ebf3b2dd839f1  2018-12-15 06:45:00   \n",
       "2  b4154bd8a97e75b348230c92eebaf4d1f4798e34  2018-12-07 01:00:00   \n",
       "3  b4154f9ac92062155aae2a04cba41ff11fd07478  2018-11-04 12:30:00   \n",
       "5  b41555c9be5ea23faef78395ccbb152c13d6f864  2018-11-18 21:15:00   \n",
       "6  b4155715e294bff63497ba5de5e2f43304b90c49  2018-12-16 14:15:00   \n",
       "\n",
       "   Trip End Timestamp  Trip Seconds  Trip Miles  Pickup Census Tract  \\\n",
       "1 2018-12-15 07:00:00         928.0         9.0         1.703133e+10   \n",
       "2 2018-12-07 01:15:00         680.0         4.4         1.703107e+10   \n",
       "3 2018-11-04 12:45:00         285.0         0.7         1.703108e+10   \n",
       "5 2018-11-18 21:30:00         642.0         2.0         1.703133e+10   \n",
       "6 2018-12-16 14:30:00        1571.0        13.4         1.703132e+10   \n",
       "\n",
       "   Dropoff Census Tract  Pickup Community Area  Dropoff Community Area  Fare  \\\n",
       "1          1.703183e+10                   33.0                    21.0  12.5   \n",
       "2          1.703108e+10                    7.0                     8.0   7.5   \n",
       "3          1.703108e+10                    8.0                     8.0   7.5   \n",
       "5          1.703184e+10                   33.0                    32.0   7.5   \n",
       "6          1.703198e+10                   32.0                    56.0  20.0   \n",
       "\n",
       "                   ...                   Additional Charges  Trip Total  \\\n",
       "1                  ...                                  2.5        15.0   \n",
       "2                  ...                                  2.5        11.0   \n",
       "3                  ...                                  2.8        10.3   \n",
       "5                  ...                                  2.5        10.0   \n",
       "6                  ...                                  7.5        27.5   \n",
       "\n",
       "   Shared Trip Authorized  Trips Pooled  Pickup Centroid Latitude  \\\n",
       "1                   False             1                 41.859350   \n",
       "2                   False             1                 41.928763   \n",
       "3                   False             1                 41.890922   \n",
       "5                   False             1                 41.859350   \n",
       "6                   False             1                 41.884987   \n",
       "\n",
       "   Pickup Centroid Longitude              Pickup Centroid Location  \\\n",
       "1                 -87.617358   POINT (-87.6173580061 41.859349715)   \n",
       "2                 -87.665677   POINT (-87.665676837 41.9287630064)   \n",
       "3                 -87.618868  POINT (-87.6188683546 41.8909220259)   \n",
       "5                 -87.617358   POINT (-87.6173580061 41.859349715)   \n",
       "6                 -87.620993  POINT (-87.6209929134 41.8849871918)   \n",
       "\n",
       "  Dropoff Centroid Latitude  Dropoff Centroid Longitude  \\\n",
       "1                 41.942859                  -87.717504   \n",
       "2                 41.892042                  -87.631864   \n",
       "3                 41.892042                  -87.631864   \n",
       "5                 41.880994                  -87.632746   \n",
       "6                 41.785999                  -87.750934   \n",
       "\n",
       "              Dropoff Centroid Location  \n",
       "1    POINT (-87.717503858 41.942859303)  \n",
       "2  POINT (-87.6318639497 41.8920421365)  \n",
       "3  POINT (-87.6318639497 41.8920421365)  \n",
       "5  POINT (-87.6327464887 41.8809944707)  \n",
       "6   POINT (-87.7509342894 41.785998518)  \n",
       "\n",
       "[5 rows x 21 columns]"
      ]
     },
     "execution_count": 195,
     "metadata": {},
     "output_type": "execute_result"
    }
   ],
   "source": [
    "print(testdf.dtypes)\n",
    "print(testdf.info())\n",
    "testdf.head()"
   ]
  },
  {
   "cell_type": "code",
   "execution_count": 172,
   "metadata": {
    "scrolled": true
   },
   "outputs": [
    {
     "data": {
      "text/html": [
       "<div>\n",
       "<style scoped>\n",
       "    .dataframe tbody tr th:only-of-type {\n",
       "        vertical-align: middle;\n",
       "    }\n",
       "\n",
       "    .dataframe tbody tr th {\n",
       "        vertical-align: top;\n",
       "    }\n",
       "\n",
       "    .dataframe thead th {\n",
       "        text-align: right;\n",
       "    }\n",
       "</style>\n",
       "<table border=\"1\" class=\"dataframe\">\n",
       "  <thead>\n",
       "    <tr style=\"text-align: right;\">\n",
       "      <th></th>\n",
       "      <th>Trip Miles</th>\n",
       "      <th>Fare</th>\n",
       "      <th>Tip</th>\n",
       "      <th>Additional Charges</th>\n",
       "      <th>Trip Total</th>\n",
       "    </tr>\n",
       "  </thead>\n",
       "  <tbody>\n",
       "    <tr>\n",
       "      <th>0</th>\n",
       "      <td>11.3</td>\n",
       "      <td>10.0</td>\n",
       "      <td>0</td>\n",
       "      <td>7.5</td>\n",
       "      <td>17.5</td>\n",
       "    </tr>\n",
       "    <tr>\n",
       "      <th>1</th>\n",
       "      <td>9.0</td>\n",
       "      <td>12.5</td>\n",
       "      <td>0</td>\n",
       "      <td>2.5</td>\n",
       "      <td>15.0</td>\n",
       "    </tr>\n",
       "    <tr>\n",
       "      <th>2</th>\n",
       "      <td>4.4</td>\n",
       "      <td>7.5</td>\n",
       "      <td>1</td>\n",
       "      <td>2.5</td>\n",
       "      <td>11.0</td>\n",
       "    </tr>\n",
       "    <tr>\n",
       "      <th>3</th>\n",
       "      <td>0.7</td>\n",
       "      <td>7.5</td>\n",
       "      <td>0</td>\n",
       "      <td>2.8</td>\n",
       "      <td>10.3</td>\n",
       "    </tr>\n",
       "    <tr>\n",
       "      <th>4</th>\n",
       "      <td>9.0</td>\n",
       "      <td>5.0</td>\n",
       "      <td>0</td>\n",
       "      <td>2.5</td>\n",
       "      <td>7.5</td>\n",
       "    </tr>\n",
       "  </tbody>\n",
       "</table>\n",
       "</div>"
      ],
      "text/plain": [
       "   Trip Miles  Fare  Tip  Additional Charges  Trip Total\n",
       "0        11.3  10.0    0                 7.5        17.5\n",
       "1         9.0  12.5    0                 2.5        15.0\n",
       "2         4.4   7.5    1                 2.5        11.0\n",
       "3         0.7   7.5    0                 2.8        10.3\n",
       "4         9.0   5.0    0                 2.5         7.5"
      ]
     },
     "execution_count": 172,
     "metadata": {},
     "output_type": "execute_result"
    }
   ],
   "source": [
    " testdf[['Trip Miles','Fare','Tip','Additional Charges','Trip Total']].head()"
   ]
  },
  {
   "cell_type": "code",
   "execution_count": 174,
   "metadata": {},
   "outputs": [
    {
     "data": {
      "text/plain": [
       "('11/01/2018 01:00:00 PM', '12/31/2018 04:00:00 PM')"
      ]
     },
     "execution_count": 174,
     "metadata": {},
     "output_type": "execute_result"
    }
   ],
   "source": [
    "(testdf['Trip Start Timestamp'].min(),testdf['Trip Start Timestamp'].max())"
   ]
  },
  {
   "cell_type": "code",
   "execution_count": 175,
   "metadata": {},
   "outputs": [
    {
     "data": {
      "text/plain": [
       "array([23., 33.,  7.,  8., 31., 32., 77., nan,  6., 28.,  1., 24., 25.,\n",
       "       67., 34., 76., 10., 48., 22., 63., 56., 13., 41., 43., 29.,  4.,\n",
       "       11., 60., 16., 30., 68., 42.,  5.,  2., 38., 21., 35., 15., 49.,\n",
       "       26., 14., 65., 27., 19., 58., 66., 20., 17., 39., 59., 62.,  3.,\n",
       "       44., 73., 57., 46., 61., 71., 51.,  9., 75., 72., 70., 69., 40.,\n",
       "       45., 50., 47., 64., 12., 54., 36., 74., 18., 37., 55.])"
      ]
     },
     "execution_count": 175,
     "metadata": {},
     "output_type": "execute_result"
    }
   ],
   "source": [
    "testdf['Pickup Community Area'].unique()"
   ]
  },
  {
   "cell_type": "code",
   "execution_count": 176,
   "metadata": {},
   "outputs": [
    {
     "data": {
      "text/plain": [
       "Index(['Trip ID', 'Trip Start Timestamp', 'Trip End Timestamp', 'Trip Seconds',\n",
       "       'Trip Miles', 'Pickup Census Tract', 'Dropoff Census Tract',\n",
       "       'Pickup Community Area', 'Dropoff Community Area', 'Fare', 'Tip',\n",
       "       'Additional Charges', 'Trip Total', 'Shared Trip Authorized',\n",
       "       'Trips Pooled', 'Pickup Centroid Latitude', 'Pickup Centroid Longitude',\n",
       "       'Pickup Centroid Location', 'Dropoff Centroid Latitude',\n",
       "       'Dropoff Centroid Longitude', 'Dropoff Centroid Location'],\n",
       "      dtype='object')"
      ]
     },
     "execution_count": 176,
     "metadata": {},
     "output_type": "execute_result"
    }
   ],
   "source": [
    "testdf.columns\n"
   ]
  },
  {
   "cell_type": "code",
   "execution_count": 218,
   "metadata": {},
   "outputs": [],
   "source": [
    "iterdf=pd.read_csv(os.path.join(datadir,'Transportation_Network_Providers_-_Trips.csv'),chunksize=200000)\n",
    "#dataset has 40 million records"
   ]
  },
  {
   "cell_type": "code",
   "execution_count": 219,
   "metadata": {},
   "outputs": [
    {
     "name": "stdout",
     "output_type": "stream",
     "text": [
      "CPU times: user 8min 29s, sys: 43.4 s, total: 9min 13s\n",
      "Wall time: 7min 56s\n"
     ]
    }
   ],
   "source": [
    "firstrun=False\n",
    "if firstrun:%%time\n",
    "    samp_df=pd.DataFrame()\n",
    "    #sample 1% of df and make new df\n",
    "    for chunk in iterdf:\n",
    "        #df=chunk.reset_index()\n",
    "        #df=df.dropna(how='any')\n",
    "        samp_df=samp_df.append(chunk.sample(frac=0.01))#=df.sample(frac=0.1)\n",
    "    \n",
    "    "
   ]
  },
  {
   "cell_type": "code",
   "execution_count": 220,
   "metadata": {},
   "outputs": [
    {
     "data": {
      "text/html": [
       "<div>\n",
       "<style scoped>\n",
       "    .dataframe tbody tr th:only-of-type {\n",
       "        vertical-align: middle;\n",
       "    }\n",
       "\n",
       "    .dataframe tbody tr th {\n",
       "        vertical-align: top;\n",
       "    }\n",
       "\n",
       "    .dataframe thead th {\n",
       "        text-align: right;\n",
       "    }\n",
       "</style>\n",
       "<table border=\"1\" class=\"dataframe\">\n",
       "  <thead>\n",
       "    <tr style=\"text-align: right;\">\n",
       "      <th></th>\n",
       "      <th>TripID</th>\n",
       "      <th>TripStart</th>\n",
       "      <th>TripEnd</th>\n",
       "      <th>TripSeconds</th>\n",
       "      <th>TripMiles</th>\n",
       "      <th>PUCensusTract</th>\n",
       "      <th>DOCensusTract</th>\n",
       "      <th>PUCommunityArea</th>\n",
       "      <th>DOCommunityArea</th>\n",
       "      <th>Fare</th>\n",
       "      <th>...</th>\n",
       "      <th>AdditionalCharges</th>\n",
       "      <th>TripTotal</th>\n",
       "      <th>SharedTripAuth</th>\n",
       "      <th>TripsPooled</th>\n",
       "      <th>PU_Lat</th>\n",
       "      <th>PU_Long</th>\n",
       "      <th>PU_Geo</th>\n",
       "      <th>DO_Lat</th>\n",
       "      <th>DO_Long</th>\n",
       "      <th>DO_Geo</th>\n",
       "    </tr>\n",
       "  </thead>\n",
       "  <tbody>\n",
       "    <tr>\n",
       "      <th>11555</th>\n",
       "      <td>b46758240c543a357569323e0cd58314c781e6c0</td>\n",
       "      <td>2018-12-14 09:45:00</td>\n",
       "      <td>2018-12-14 10:15:00</td>\n",
       "      <td>1833.0</td>\n",
       "      <td>17.1</td>\n",
       "      <td>1.703175e+10</td>\n",
       "      <td>1.703183e+10</td>\n",
       "      <td>75.0</td>\n",
       "      <td>28.0</td>\n",
       "      <td>25.0</td>\n",
       "      <td>...</td>\n",
       "      <td>2.5</td>\n",
       "      <td>27.5</td>\n",
       "      <td>False</td>\n",
       "      <td>1</td>\n",
       "      <td>41.695834</td>\n",
       "      <td>-87.652031</td>\n",
       "      <td>POINT (-87.652031202 41.6958343746)</td>\n",
       "      <td>41.885281</td>\n",
       "      <td>-87.657233</td>\n",
       "      <td>POINT (-87.6572331997 41.8852813201)</td>\n",
       "    </tr>\n",
       "    <tr>\n",
       "      <th>174078</th>\n",
       "      <td>b8f5bc1793ded809c6bb80770ebaaef9cc18bece</td>\n",
       "      <td>2018-12-03 12:45:00</td>\n",
       "      <td>2018-12-03 13:00:00</td>\n",
       "      <td>501.0</td>\n",
       "      <td>2.1</td>\n",
       "      <td>1.703124e+10</td>\n",
       "      <td>1.703183e+10</td>\n",
       "      <td>24.0</td>\n",
       "      <td>28.0</td>\n",
       "      <td>5.0</td>\n",
       "      <td>...</td>\n",
       "      <td>2.5</td>\n",
       "      <td>8.5</td>\n",
       "      <td>True</td>\n",
       "      <td>1</td>\n",
       "      <td>41.892355</td>\n",
       "      <td>-87.674507</td>\n",
       "      <td>POINT (-87.674506788 41.8923550478)</td>\n",
       "      <td>41.879067</td>\n",
       "      <td>-87.657005</td>\n",
       "      <td>POINT (-87.657005027 41.8790669938)</td>\n",
       "    </tr>\n",
       "    <tr>\n",
       "      <th>150566</th>\n",
       "      <td>b84d6aef12360c1e0cb895eb589a3954c25459a5</td>\n",
       "      <td>2018-11-18 02:45:00</td>\n",
       "      <td>2018-11-18 03:00:00</td>\n",
       "      <td>180.0</td>\n",
       "      <td>0.0</td>\n",
       "      <td>1.703183e+10</td>\n",
       "      <td>1.703183e+10</td>\n",
       "      <td>6.0</td>\n",
       "      <td>6.0</td>\n",
       "      <td>2.5</td>\n",
       "      <td>...</td>\n",
       "      <td>2.5</td>\n",
       "      <td>5.0</td>\n",
       "      <td>False</td>\n",
       "      <td>1</td>\n",
       "      <td>41.946295</td>\n",
       "      <td>-87.654298</td>\n",
       "      <td>POINT (-87.6542980837 41.9462945357)</td>\n",
       "      <td>41.946295</td>\n",
       "      <td>-87.654298</td>\n",
       "      <td>POINT (-87.6542980837 41.9462945357)</td>\n",
       "    </tr>\n",
       "    <tr>\n",
       "      <th>164862</th>\n",
       "      <td>b8b396b7b6c92998329dcc3613b095cce52f968a</td>\n",
       "      <td>2018-12-01 01:15:00</td>\n",
       "      <td>2018-12-01 01:30:00</td>\n",
       "      <td>530.0</td>\n",
       "      <td>2.5</td>\n",
       "      <td>1.703124e+10</td>\n",
       "      <td>1.703105e+10</td>\n",
       "      <td>24.0</td>\n",
       "      <td>5.0</td>\n",
       "      <td>7.5</td>\n",
       "      <td>...</td>\n",
       "      <td>2.5</td>\n",
       "      <td>10.0</td>\n",
       "      <td>False</td>\n",
       "      <td>1</td>\n",
       "      <td>41.906026</td>\n",
       "      <td>-87.675312</td>\n",
       "      <td>POINT (-87.6753116216 41.906025969)</td>\n",
       "      <td>41.941312</td>\n",
       "      <td>-87.685616</td>\n",
       "      <td>POINT (-87.6856158172 41.9413116172)</td>\n",
       "    </tr>\n",
       "    <tr>\n",
       "      <th>169883</th>\n",
       "      <td>b8d73a5b2ec392bbd2ee648ea363cd74e8d797ab</td>\n",
       "      <td>2018-11-28 14:00:00</td>\n",
       "      <td>2018-11-28 14:30:00</td>\n",
       "      <td>1339.0</td>\n",
       "      <td>5.9</td>\n",
       "      <td>1.703108e+10</td>\n",
       "      <td>1.703122e+10</td>\n",
       "      <td>8.0</td>\n",
       "      <td>22.0</td>\n",
       "      <td>12.5</td>\n",
       "      <td>...</td>\n",
       "      <td>2.5</td>\n",
       "      <td>15.0</td>\n",
       "      <td>False</td>\n",
       "      <td>1</td>\n",
       "      <td>41.898332</td>\n",
       "      <td>-87.620763</td>\n",
       "      <td>POINT (-87.6207628651 41.8983317935)</td>\n",
       "      <td>41.928391</td>\n",
       "      <td>-87.704907</td>\n",
       "      <td>POINT (-87.7049072355 41.9283913974)</td>\n",
       "    </tr>\n",
       "  </tbody>\n",
       "</table>\n",
       "<p>5 rows × 21 columns</p>\n",
       "</div>"
      ],
      "text/plain": [
       "                                          TripID           TripStart  \\\n",
       "11555   b46758240c543a357569323e0cd58314c781e6c0 2018-12-14 09:45:00   \n",
       "174078  b8f5bc1793ded809c6bb80770ebaaef9cc18bece 2018-12-03 12:45:00   \n",
       "150566  b84d6aef12360c1e0cb895eb589a3954c25459a5 2018-11-18 02:45:00   \n",
       "164862  b8b396b7b6c92998329dcc3613b095cce52f968a 2018-12-01 01:15:00   \n",
       "169883  b8d73a5b2ec392bbd2ee648ea363cd74e8d797ab 2018-11-28 14:00:00   \n",
       "\n",
       "                   TripEnd  TripSeconds  TripMiles  PUCensusTract  \\\n",
       "11555  2018-12-14 10:15:00       1833.0       17.1   1.703175e+10   \n",
       "174078 2018-12-03 13:00:00        501.0        2.1   1.703124e+10   \n",
       "150566 2018-11-18 03:00:00        180.0        0.0   1.703183e+10   \n",
       "164862 2018-12-01 01:30:00        530.0        2.5   1.703124e+10   \n",
       "169883 2018-11-28 14:30:00       1339.0        5.9   1.703108e+10   \n",
       "\n",
       "        DOCensusTract  PUCommunityArea  DOCommunityArea  Fare  \\\n",
       "11555    1.703183e+10             75.0             28.0  25.0   \n",
       "174078   1.703183e+10             24.0             28.0   5.0   \n",
       "150566   1.703183e+10              6.0              6.0   2.5   \n",
       "164862   1.703105e+10             24.0              5.0   7.5   \n",
       "169883   1.703122e+10              8.0             22.0  12.5   \n",
       "\n",
       "                        ...                   AdditionalCharges  TripTotal  \\\n",
       "11555                   ...                                 2.5       27.5   \n",
       "174078                  ...                                 2.5        8.5   \n",
       "150566                  ...                                 2.5        5.0   \n",
       "164862                  ...                                 2.5       10.0   \n",
       "169883                  ...                                 2.5       15.0   \n",
       "\n",
       "        SharedTripAuth  TripsPooled     PU_Lat    PU_Long  \\\n",
       "11555            False            1  41.695834 -87.652031   \n",
       "174078            True            1  41.892355 -87.674507   \n",
       "150566           False            1  41.946295 -87.654298   \n",
       "164862           False            1  41.906026 -87.675312   \n",
       "169883           False            1  41.898332 -87.620763   \n",
       "\n",
       "                                      PU_Geo     DO_Lat    DO_Long  \\\n",
       "11555    POINT (-87.652031202 41.6958343746)  41.885281 -87.657233   \n",
       "174078   POINT (-87.674506788 41.8923550478)  41.879067 -87.657005   \n",
       "150566  POINT (-87.6542980837 41.9462945357)  41.946295 -87.654298   \n",
       "164862   POINT (-87.6753116216 41.906025969)  41.941312 -87.685616   \n",
       "169883  POINT (-87.6207628651 41.8983317935)  41.928391 -87.704907   \n",
       "\n",
       "                                      DO_Geo  \n",
       "11555   POINT (-87.6572331997 41.8852813201)  \n",
       "174078   POINT (-87.657005027 41.8790669938)  \n",
       "150566  POINT (-87.6542980837 41.9462945357)  \n",
       "164862  POINT (-87.6856158172 41.9413116172)  \n",
       "169883  POINT (-87.7049072355 41.9283913974)  \n",
       "\n",
       "[5 rows x 21 columns]"
      ]
     },
     "execution_count": 220,
     "metadata": {},
     "output_type": "execute_result"
    }
   ],
   "source": [
    "samp_df=samp_df.dropna(how='any')\n",
    "samp_df.columns = ['TripID', 'TripStart', 'TripEnd', 'TripSeconds',\n",
    "       'TripMiles', 'PUCensusTract', 'DOCensusTract',\n",
    "       'PUCommunityArea', 'DOCommunityArea', 'Fare', 'Tip',\n",
    "       'AdditionalCharges', 'TripTotal', 'SharedTripAuth',\n",
    "       'TripsPooled', 'PU_Lat', 'PU_Long',\n",
    "       'PU_Geo', 'DO_Lat',\n",
    "       'DO_Long', 'DO_Geo']\n",
    "samp_df['TripStart']=pd.to_datetime(samp_df['TripStart'],infer_datetime_format=True)\n",
    "samp_df['TripEnd']=pd.to_datetime(samp_df['TripEnd'],infer_datetime_format=True)\n",
    "samp_df.head()"
   ]
  },
  {
   "cell_type": "code",
   "execution_count": 221,
   "metadata": {},
   "outputs": [],
   "source": [
    "#this took a long time, saving output\n",
    "samp_df.to_pickle(os.path.join(datadir,'chicago_pickle'))"
   ]
  },
  {
   "cell_type": "code",
   "execution_count": 223,
   "metadata": {},
   "outputs": [
    {
     "data": {
      "text/html": [
       "<div>\n",
       "<style scoped>\n",
       "    .dataframe tbody tr th:only-of-type {\n",
       "        vertical-align: middle;\n",
       "    }\n",
       "\n",
       "    .dataframe tbody tr th {\n",
       "        vertical-align: top;\n",
       "    }\n",
       "\n",
       "    .dataframe thead th {\n",
       "        text-align: right;\n",
       "    }\n",
       "</style>\n",
       "<table border=\"1\" class=\"dataframe\">\n",
       "  <thead>\n",
       "    <tr style=\"text-align: right;\">\n",
       "      <th></th>\n",
       "      <th>TripID</th>\n",
       "      <th>TripStart</th>\n",
       "      <th>TripEnd</th>\n",
       "      <th>TripSeconds</th>\n",
       "      <th>TripMiles</th>\n",
       "      <th>PUCensusTract</th>\n",
       "      <th>DOCensusTract</th>\n",
       "      <th>PUCommunityArea</th>\n",
       "      <th>DOCommunityArea</th>\n",
       "      <th>Fare</th>\n",
       "      <th>...</th>\n",
       "      <th>AdditionalCharges</th>\n",
       "      <th>TripTotal</th>\n",
       "      <th>SharedTripAuth</th>\n",
       "      <th>TripsPooled</th>\n",
       "      <th>PU_Lat</th>\n",
       "      <th>PU_Long</th>\n",
       "      <th>PU_Geo</th>\n",
       "      <th>DO_Lat</th>\n",
       "      <th>DO_Long</th>\n",
       "      <th>DO_Geo</th>\n",
       "    </tr>\n",
       "  </thead>\n",
       "  <tbody>\n",
       "    <tr>\n",
       "      <th>11555</th>\n",
       "      <td>b46758240c543a357569323e0cd58314c781e6c0</td>\n",
       "      <td>2018-12-14 09:45:00</td>\n",
       "      <td>2018-12-14 10:15:00</td>\n",
       "      <td>1833.0</td>\n",
       "      <td>17.1</td>\n",
       "      <td>1.703175e+10</td>\n",
       "      <td>1.703183e+10</td>\n",
       "      <td>75.0</td>\n",
       "      <td>28.0</td>\n",
       "      <td>25.0</td>\n",
       "      <td>...</td>\n",
       "      <td>2.5</td>\n",
       "      <td>27.5</td>\n",
       "      <td>False</td>\n",
       "      <td>1</td>\n",
       "      <td>41.695834</td>\n",
       "      <td>-87.652031</td>\n",
       "      <td>POINT (-87.652031202 41.6958343746)</td>\n",
       "      <td>41.885281</td>\n",
       "      <td>-87.657233</td>\n",
       "      <td>POINT (-87.6572331997 41.8852813201)</td>\n",
       "    </tr>\n",
       "    <tr>\n",
       "      <th>174078</th>\n",
       "      <td>b8f5bc1793ded809c6bb80770ebaaef9cc18bece</td>\n",
       "      <td>2018-12-03 12:45:00</td>\n",
       "      <td>2018-12-03 13:00:00</td>\n",
       "      <td>501.0</td>\n",
       "      <td>2.1</td>\n",
       "      <td>1.703124e+10</td>\n",
       "      <td>1.703183e+10</td>\n",
       "      <td>24.0</td>\n",
       "      <td>28.0</td>\n",
       "      <td>5.0</td>\n",
       "      <td>...</td>\n",
       "      <td>2.5</td>\n",
       "      <td>8.5</td>\n",
       "      <td>True</td>\n",
       "      <td>1</td>\n",
       "      <td>41.892355</td>\n",
       "      <td>-87.674507</td>\n",
       "      <td>POINT (-87.674506788 41.8923550478)</td>\n",
       "      <td>41.879067</td>\n",
       "      <td>-87.657005</td>\n",
       "      <td>POINT (-87.657005027 41.8790669938)</td>\n",
       "    </tr>\n",
       "    <tr>\n",
       "      <th>150566</th>\n",
       "      <td>b84d6aef12360c1e0cb895eb589a3954c25459a5</td>\n",
       "      <td>2018-11-18 02:45:00</td>\n",
       "      <td>2018-11-18 03:00:00</td>\n",
       "      <td>180.0</td>\n",
       "      <td>0.0</td>\n",
       "      <td>1.703183e+10</td>\n",
       "      <td>1.703183e+10</td>\n",
       "      <td>6.0</td>\n",
       "      <td>6.0</td>\n",
       "      <td>2.5</td>\n",
       "      <td>...</td>\n",
       "      <td>2.5</td>\n",
       "      <td>5.0</td>\n",
       "      <td>False</td>\n",
       "      <td>1</td>\n",
       "      <td>41.946295</td>\n",
       "      <td>-87.654298</td>\n",
       "      <td>POINT (-87.6542980837 41.9462945357)</td>\n",
       "      <td>41.946295</td>\n",
       "      <td>-87.654298</td>\n",
       "      <td>POINT (-87.6542980837 41.9462945357)</td>\n",
       "    </tr>\n",
       "    <tr>\n",
       "      <th>164862</th>\n",
       "      <td>b8b396b7b6c92998329dcc3613b095cce52f968a</td>\n",
       "      <td>2018-12-01 01:15:00</td>\n",
       "      <td>2018-12-01 01:30:00</td>\n",
       "      <td>530.0</td>\n",
       "      <td>2.5</td>\n",
       "      <td>1.703124e+10</td>\n",
       "      <td>1.703105e+10</td>\n",
       "      <td>24.0</td>\n",
       "      <td>5.0</td>\n",
       "      <td>7.5</td>\n",
       "      <td>...</td>\n",
       "      <td>2.5</td>\n",
       "      <td>10.0</td>\n",
       "      <td>False</td>\n",
       "      <td>1</td>\n",
       "      <td>41.906026</td>\n",
       "      <td>-87.675312</td>\n",
       "      <td>POINT (-87.6753116216 41.906025969)</td>\n",
       "      <td>41.941312</td>\n",
       "      <td>-87.685616</td>\n",
       "      <td>POINT (-87.6856158172 41.9413116172)</td>\n",
       "    </tr>\n",
       "    <tr>\n",
       "      <th>169883</th>\n",
       "      <td>b8d73a5b2ec392bbd2ee648ea363cd74e8d797ab</td>\n",
       "      <td>2018-11-28 14:00:00</td>\n",
       "      <td>2018-11-28 14:30:00</td>\n",
       "      <td>1339.0</td>\n",
       "      <td>5.9</td>\n",
       "      <td>1.703108e+10</td>\n",
       "      <td>1.703122e+10</td>\n",
       "      <td>8.0</td>\n",
       "      <td>22.0</td>\n",
       "      <td>12.5</td>\n",
       "      <td>...</td>\n",
       "      <td>2.5</td>\n",
       "      <td>15.0</td>\n",
       "      <td>False</td>\n",
       "      <td>1</td>\n",
       "      <td>41.898332</td>\n",
       "      <td>-87.620763</td>\n",
       "      <td>POINT (-87.6207628651 41.8983317935)</td>\n",
       "      <td>41.928391</td>\n",
       "      <td>-87.704907</td>\n",
       "      <td>POINT (-87.7049072355 41.9283913974)</td>\n",
       "    </tr>\n",
       "  </tbody>\n",
       "</table>\n",
       "<p>5 rows × 21 columns</p>\n",
       "</div>"
      ],
      "text/plain": [
       "                                          TripID           TripStart  \\\n",
       "11555   b46758240c543a357569323e0cd58314c781e6c0 2018-12-14 09:45:00   \n",
       "174078  b8f5bc1793ded809c6bb80770ebaaef9cc18bece 2018-12-03 12:45:00   \n",
       "150566  b84d6aef12360c1e0cb895eb589a3954c25459a5 2018-11-18 02:45:00   \n",
       "164862  b8b396b7b6c92998329dcc3613b095cce52f968a 2018-12-01 01:15:00   \n",
       "169883  b8d73a5b2ec392bbd2ee648ea363cd74e8d797ab 2018-11-28 14:00:00   \n",
       "\n",
       "                   TripEnd  TripSeconds  TripMiles  PUCensusTract  \\\n",
       "11555  2018-12-14 10:15:00       1833.0       17.1   1.703175e+10   \n",
       "174078 2018-12-03 13:00:00        501.0        2.1   1.703124e+10   \n",
       "150566 2018-11-18 03:00:00        180.0        0.0   1.703183e+10   \n",
       "164862 2018-12-01 01:30:00        530.0        2.5   1.703124e+10   \n",
       "169883 2018-11-28 14:30:00       1339.0        5.9   1.703108e+10   \n",
       "\n",
       "        DOCensusTract  PUCommunityArea  DOCommunityArea  Fare  \\\n",
       "11555    1.703183e+10             75.0             28.0  25.0   \n",
       "174078   1.703183e+10             24.0             28.0   5.0   \n",
       "150566   1.703183e+10              6.0              6.0   2.5   \n",
       "164862   1.703105e+10             24.0              5.0   7.5   \n",
       "169883   1.703122e+10              8.0             22.0  12.5   \n",
       "\n",
       "                        ...                   AdditionalCharges  TripTotal  \\\n",
       "11555                   ...                                 2.5       27.5   \n",
       "174078                  ...                                 2.5        8.5   \n",
       "150566                  ...                                 2.5        5.0   \n",
       "164862                  ...                                 2.5       10.0   \n",
       "169883                  ...                                 2.5       15.0   \n",
       "\n",
       "        SharedTripAuth  TripsPooled     PU_Lat    PU_Long  \\\n",
       "11555            False            1  41.695834 -87.652031   \n",
       "174078            True            1  41.892355 -87.674507   \n",
       "150566           False            1  41.946295 -87.654298   \n",
       "164862           False            1  41.906026 -87.675312   \n",
       "169883           False            1  41.898332 -87.620763   \n",
       "\n",
       "                                      PU_Geo     DO_Lat    DO_Long  \\\n",
       "11555    POINT (-87.652031202 41.6958343746)  41.885281 -87.657233   \n",
       "174078   POINT (-87.674506788 41.8923550478)  41.879067 -87.657005   \n",
       "150566  POINT (-87.6542980837 41.9462945357)  41.946295 -87.654298   \n",
       "164862   POINT (-87.6753116216 41.906025969)  41.941312 -87.685616   \n",
       "169883  POINT (-87.6207628651 41.8983317935)  41.928391 -87.704907   \n",
       "\n",
       "                                      DO_Geo  \n",
       "11555   POINT (-87.6572331997 41.8852813201)  \n",
       "174078   POINT (-87.657005027 41.8790669938)  \n",
       "150566  POINT (-87.6542980837 41.9462945357)  \n",
       "164862  POINT (-87.6856158172 41.9413116172)  \n",
       "169883  POINT (-87.7049072355 41.9283913974)  \n",
       "\n",
       "[5 rows x 21 columns]"
      ]
     },
     "execution_count": 223,
     "metadata": {},
     "output_type": "execute_result"
    }
   ],
   "source": [
    "samp_df.head()"
   ]
  },
  {
   "cell_type": "code",
   "execution_count": 234,
   "metadata": {},
   "outputs": [
    {
     "name": "stdout",
     "output_type": "stream",
     "text": [
      "2018-11-01 00:00:00 2019-03-31 23:45:00\n"
     ]
    }
   ],
   "source": [
    "print(samp_df.TripStart.min(),samp_df.TripStart.max())\n",
    "mdf=samp_df.groupby(samp_df.TripStart.dt.to_period(\"M\")).size()\n"
   ]
  },
  {
   "cell_type": "code",
   "execution_count": 235,
   "metadata": {},
   "outputs": [
    {
     "data": {
      "text/plain": [
       "<matplotlib.axes._subplots.AxesSubplot at 0x132de5588>"
      ]
     },
     "execution_count": 235,
     "metadata": {},
     "output_type": "execute_result"
    },
    {
     "data": {
      "image/png": "[encoded data removed]",
      "text/plain": [
       "<Figure size 432x288 with 1 Axes>"
      ]
     },
     "metadata": {
      "needs_background": "light"
     },
     "output_type": "display_data"
    }
   ],
   "source": [
    "mdf.plot(kind='bar')"
   ]
  },
  {
   "cell_type": "code",
   "execution_count": 268,
   "metadata": {},
   "outputs": [
    {
     "data": {
      "text/html": [
       "<div>\n",
       "<style scoped>\n",
       "    .dataframe tbody tr th:only-of-type {\n",
       "        vertical-align: middle;\n",
       "    }\n",
       "\n",
       "    .dataframe tbody tr th {\n",
       "        vertical-align: top;\n",
       "    }\n",
       "\n",
       "    .dataframe thead th {\n",
       "        text-align: right;\n",
       "    }\n",
       "</style>\n",
       "<table border=\"1\" class=\"dataframe\">\n",
       "  <thead>\n",
       "    <tr style=\"text-align: right;\">\n",
       "      <th>Hour</th>\n",
       "      <th>0</th>\n",
       "      <th>1</th>\n",
       "      <th>2</th>\n",
       "      <th>3</th>\n",
       "      <th>4</th>\n",
       "      <th>5</th>\n",
       "      <th>6</th>\n",
       "      <th>7</th>\n",
       "      <th>8</th>\n",
       "      <th>9</th>\n",
       "      <th>...</th>\n",
       "      <th>14</th>\n",
       "      <th>15</th>\n",
       "      <th>16</th>\n",
       "      <th>17</th>\n",
       "      <th>18</th>\n",
       "      <th>19</th>\n",
       "      <th>20</th>\n",
       "      <th>21</th>\n",
       "      <th>22</th>\n",
       "      <th>23</th>\n",
       "    </tr>\n",
       "  </thead>\n",
       "  <tbody>\n",
       "    <tr>\n",
       "      <th>Monday</th>\n",
       "      <td>74</td>\n",
       "      <td>25</td>\n",
       "      <td>11</td>\n",
       "      <td>5</td>\n",
       "      <td>22</td>\n",
       "      <td>59</td>\n",
       "      <td>172</td>\n",
       "      <td>286</td>\n",
       "      <td>387</td>\n",
       "      <td>346</td>\n",
       "      <td>...</td>\n",
       "      <td>178</td>\n",
       "      <td>220</td>\n",
       "      <td>261</td>\n",
       "      <td>388</td>\n",
       "      <td>444</td>\n",
       "      <td>328</td>\n",
       "      <td>273</td>\n",
       "      <td>226</td>\n",
       "      <td>169</td>\n",
       "      <td>98</td>\n",
       "    </tr>\n",
       "    <tr>\n",
       "      <th>Tuesday</th>\n",
       "      <td>47</td>\n",
       "      <td>16</td>\n",
       "      <td>7</td>\n",
       "      <td>2</td>\n",
       "      <td>12</td>\n",
       "      <td>50</td>\n",
       "      <td>123</td>\n",
       "      <td>311</td>\n",
       "      <td>421</td>\n",
       "      <td>307</td>\n",
       "      <td>...</td>\n",
       "      <td>187</td>\n",
       "      <td>219</td>\n",
       "      <td>301</td>\n",
       "      <td>404</td>\n",
       "      <td>438</td>\n",
       "      <td>387</td>\n",
       "      <td>304</td>\n",
       "      <td>275</td>\n",
       "      <td>245</td>\n",
       "      <td>154</td>\n",
       "    </tr>\n",
       "    <tr>\n",
       "      <th>Wednesday</th>\n",
       "      <td>69</td>\n",
       "      <td>28</td>\n",
       "      <td>12</td>\n",
       "      <td>5</td>\n",
       "      <td>14</td>\n",
       "      <td>54</td>\n",
       "      <td>153</td>\n",
       "      <td>313</td>\n",
       "      <td>404</td>\n",
       "      <td>312</td>\n",
       "      <td>...</td>\n",
       "      <td>214</td>\n",
       "      <td>223</td>\n",
       "      <td>307</td>\n",
       "      <td>470</td>\n",
       "      <td>477</td>\n",
       "      <td>439</td>\n",
       "      <td>351</td>\n",
       "      <td>321</td>\n",
       "      <td>314</td>\n",
       "      <td>174</td>\n",
       "    </tr>\n",
       "    <tr>\n",
       "      <th>Thursday</th>\n",
       "      <td>111</td>\n",
       "      <td>40</td>\n",
       "      <td>11</td>\n",
       "      <td>14</td>\n",
       "      <td>17</td>\n",
       "      <td>47</td>\n",
       "      <td>135</td>\n",
       "      <td>325</td>\n",
       "      <td>411</td>\n",
       "      <td>328</td>\n",
       "      <td>...</td>\n",
       "      <td>216</td>\n",
       "      <td>276</td>\n",
       "      <td>338</td>\n",
       "      <td>506</td>\n",
       "      <td>601</td>\n",
       "      <td>580</td>\n",
       "      <td>428</td>\n",
       "      <td>450</td>\n",
       "      <td>427</td>\n",
       "      <td>324</td>\n",
       "    </tr>\n",
       "    <tr>\n",
       "      <th>Friday</th>\n",
       "      <td>145</td>\n",
       "      <td>70</td>\n",
       "      <td>34</td>\n",
       "      <td>9</td>\n",
       "      <td>13</td>\n",
       "      <td>35</td>\n",
       "      <td>107</td>\n",
       "      <td>214</td>\n",
       "      <td>282</td>\n",
       "      <td>213</td>\n",
       "      <td>...</td>\n",
       "      <td>194</td>\n",
       "      <td>246</td>\n",
       "      <td>308</td>\n",
       "      <td>381</td>\n",
       "      <td>493</td>\n",
       "      <td>500</td>\n",
       "      <td>422</td>\n",
       "      <td>383</td>\n",
       "      <td>409</td>\n",
       "      <td>367</td>\n",
       "    </tr>\n",
       "    <tr>\n",
       "      <th>Saturday</th>\n",
       "      <td>449</td>\n",
       "      <td>365</td>\n",
       "      <td>240</td>\n",
       "      <td>94</td>\n",
       "      <td>38</td>\n",
       "      <td>29</td>\n",
       "      <td>43</td>\n",
       "      <td>92</td>\n",
       "      <td>165</td>\n",
       "      <td>252</td>\n",
       "      <td>...</td>\n",
       "      <td>389</td>\n",
       "      <td>435</td>\n",
       "      <td>473</td>\n",
       "      <td>572</td>\n",
       "      <td>713</td>\n",
       "      <td>710</td>\n",
       "      <td>630</td>\n",
       "      <td>564</td>\n",
       "      <td>607</td>\n",
       "      <td>624</td>\n",
       "    </tr>\n",
       "    <tr>\n",
       "      <th>Sunday</th>\n",
       "      <td>588</td>\n",
       "      <td>428</td>\n",
       "      <td>313</td>\n",
       "      <td>147</td>\n",
       "      <td>63</td>\n",
       "      <td>41</td>\n",
       "      <td>42</td>\n",
       "      <td>69</td>\n",
       "      <td>80</td>\n",
       "      <td>159</td>\n",
       "      <td>...</td>\n",
       "      <td>275</td>\n",
       "      <td>327</td>\n",
       "      <td>371</td>\n",
       "      <td>368</td>\n",
       "      <td>361</td>\n",
       "      <td>292</td>\n",
       "      <td>239</td>\n",
       "      <td>222</td>\n",
       "      <td>197</td>\n",
       "      <td>133</td>\n",
       "    </tr>\n",
       "  </tbody>\n",
       "</table>\n",
       "<p>7 rows × 24 columns</p>\n",
       "</div>"
      ],
      "text/plain": [
       "Hour        0    1    2    3   4   5    6    7    8    9  ...    14   15   16  \\\n",
       "Monday      74   25   11    5  22  59  172  286  387  346 ...   178  220  261   \n",
       "Tuesday     47   16    7    2  12  50  123  311  421  307 ...   187  219  301   \n",
       "Wednesday   69   28   12    5  14  54  153  313  404  312 ...   214  223  307   \n",
       "Thursday   111   40   11   14  17  47  135  325  411  328 ...   216  276  338   \n",
       "Friday     145   70   34    9  13  35  107  214  282  213 ...   194  246  308   \n",
       "Saturday   449  365  240   94  38  29   43   92  165  252 ...   389  435  473   \n",
       "Sunday     588  428  313  147  63  41   42   69   80  159 ...   275  327  371   \n",
       "\n",
       "Hour        17   18   19   20   21   22   23  \n",
       "Monday     388  444  328  273  226  169   98  \n",
       "Tuesday    404  438  387  304  275  245  154  \n",
       "Wednesday  470  477  439  351  321  314  174  \n",
       "Thursday   506  601  580  428  450  427  324  \n",
       "Friday     381  493  500  422  383  409  367  \n",
       "Saturday   572  713  710  630  564  607  624  \n",
       "Sunday     368  361  292  239  222  197  133  \n",
       "\n",
       "[7 rows x 24 columns]"
      ]
     },
     "execution_count": 268,
     "metadata": {},
     "output_type": "execute_result"
    }
   ],
   "source": [
    "#Try to plot hourly utilization by weekday\n",
    "plt.rcParams['figure.figsize'] = [15, 5]\n",
    "ddf=samp_df.loc[(samp_df.TripStart>'20181201')&(samp_df.TripStart<'20181221')]#before christmas holiday\n",
    "ddf.index=ddf.TripStart\n",
    "ddf=ddf.sort_index()\n",
    "ddf['Hour']=ddf.index.hour\n",
    "ddf['DOW']=ddf.index.dayofweek\n",
    "hdf=ddf.groupby(['DOW','Hour']).size()\n",
    "hdf=hdf.unstack()\n",
    "hdf.index=['Monday','Tuesday','Wednesday','Thursday','Friday','Saturday','Sunday']\n",
    "hdf"
   ]
  },
  {
   "cell_type": "code",
   "execution_count": 269,
   "metadata": {},
   "outputs": [
    {
     "data": {
      "text/plain": [
       "<matplotlib.axes._subplots.AxesSubplot at 0x132d12ba8>"
      ]
     },
     "execution_count": 269,
     "metadata": {},
     "output_type": "execute_result"
    },
    {
     "data": {
      "image/png": "[encoded data removed]",
      "text/plain": [
       "<Figure size 1080x360 with 1 Axes>"
      ]
     },
     "metadata": {
      "needs_background": "light"
     },
     "output_type": "display_data"
    }
   ],
   "source": [
    "#Barchart is sortof useful\n",
    "hdf.plot(kind='bar')"
   ]
  },
  {
   "cell_type": "code",
   "execution_count": 270,
   "metadata": {},
   "outputs": [
    {
     "data": {
      "text/plain": [
       "<matplotlib.axes._subplots.AxesSubplot at 0x132cfbc50>"
      ]
     },
     "execution_count": 270,
     "metadata": {},
     "output_type": "execute_result"
    },
    {
     "data": {
      "image/png": "[encoded data removed]",
      "text/plain": [
       "<Figure size 1080x360 with 2 Axes>"
      ]
     },
     "metadata": {
      "needs_background": "light"
     },
     "output_type": "display_data"
    }
   ],
   "source": [
    "#heatmap is more useful\n",
    "import seaborn as sns\n",
    "\n",
    "sns.heatmap(hdf)"
   ]
  },
  {
   "cell_type": "markdown",
   "metadata": {},
   "source": [
    "### Look at the driver datasets"
   ]
  },
  {
   "cell_type": "code",
   "execution_count": 16,
   "metadata": {},
   "outputs": [
    {
     "name": "stderr",
     "output_type": "stream",
     "text": [
      "/Users/rtaylor/anaconda3/lib/python3.7/site-packages/IPython/core/interactiveshell.py:3020: DtypeWarning:\n",
      "\n",
      "Columns (4) have mixed types. Specify dtype option on import or set low_memory=False.\n",
      "\n"
     ]
    }
   ],
   "source": [
    "drivers=pd.read_csv(os.path.join(datadir,'Transportation_Network_Providers_-_Drivers.csv'))"
   ]
  },
  {
   "cell_type": "code",
   "execution_count": 17,
   "metadata": {},
   "outputs": [
    {
     "data": {
      "text/plain": [
       "Index(['MONTH_REPORTED', 'DRIVER_START_MONTH', 'CITY', 'STATE', 'ZIP',\n",
       "       'NUMBER_OF_TRIPS', 'MULTIPLE_TNPS'],\n",
       "      dtype='object')"
      ]
     },
     "execution_count": 17,
     "metadata": {},
     "output_type": "execute_result"
    }
   ],
   "source": [
    "drivers.columns"
   ]
  },
  {
   "cell_type": "code",
   "execution_count": 18,
   "metadata": {},
   "outputs": [
    {
     "data": {
      "text/html": [
       "<div>\n",
       "<style scoped>\n",
       "    .dataframe tbody tr th:only-of-type {\n",
       "        vertical-align: middle;\n",
       "    }\n",
       "\n",
       "    .dataframe tbody tr th {\n",
       "        vertical-align: top;\n",
       "    }\n",
       "\n",
       "    .dataframe thead th {\n",
       "        text-align: right;\n",
       "    }\n",
       "</style>\n",
       "<table border=\"1\" class=\"dataframe\">\n",
       "  <thead>\n",
       "    <tr style=\"text-align: right;\">\n",
       "      <th></th>\n",
       "      <th>MONTH_REPORTED</th>\n",
       "      <th>DRIVER_START_MONTH</th>\n",
       "      <th>CITY</th>\n",
       "      <th>STATE</th>\n",
       "      <th>ZIP</th>\n",
       "      <th>NUMBER_OF_TRIPS</th>\n",
       "      <th>MULTIPLE_TNPS</th>\n",
       "    </tr>\n",
       "  </thead>\n",
       "  <tbody>\n",
       "    <tr>\n",
       "      <th>0</th>\n",
       "      <td>2016-08</td>\n",
       "      <td>2015-12</td>\n",
       "      <td>Aurora</td>\n",
       "      <td>IL</td>\n",
       "      <td>60505</td>\n",
       "      <td>342.0</td>\n",
       "      <td>False</td>\n",
       "    </tr>\n",
       "    <tr>\n",
       "      <th>1</th>\n",
       "      <td>2018-01</td>\n",
       "      <td>2017-02</td>\n",
       "      <td>Chicago</td>\n",
       "      <td>IL</td>\n",
       "      <td>60612</td>\n",
       "      <td>391.0</td>\n",
       "      <td>True</td>\n",
       "    </tr>\n",
       "    <tr>\n",
       "      <th>2</th>\n",
       "      <td>2018-01</td>\n",
       "      <td>2015-03</td>\n",
       "      <td>Dolton</td>\n",
       "      <td>IL</td>\n",
       "      <td>60419</td>\n",
       "      <td>371.0</td>\n",
       "      <td>True</td>\n",
       "    </tr>\n",
       "    <tr>\n",
       "      <th>3</th>\n",
       "      <td>2017-09</td>\n",
       "      <td>2017-07</td>\n",
       "      <td>Eilmette</td>\n",
       "      <td>IL</td>\n",
       "      <td>60091</td>\n",
       "      <td>251.0</td>\n",
       "      <td>False</td>\n",
       "    </tr>\n",
       "    <tr>\n",
       "      <th>4</th>\n",
       "      <td>2018-06</td>\n",
       "      <td>2018-02</td>\n",
       "      <td>Chicago</td>\n",
       "      <td>IL</td>\n",
       "      <td>60606</td>\n",
       "      <td>332.0</td>\n",
       "      <td>False</td>\n",
       "    </tr>\n",
       "  </tbody>\n",
       "</table>\n",
       "</div>"
      ],
      "text/plain": [
       "  MONTH_REPORTED DRIVER_START_MONTH      CITY STATE    ZIP  NUMBER_OF_TRIPS  \\\n",
       "0        2016-08            2015-12    Aurora    IL  60505            342.0   \n",
       "1        2018-01            2017-02   Chicago    IL  60612            391.0   \n",
       "2        2018-01            2015-03    Dolton    IL  60419            371.0   \n",
       "3        2017-09            2017-07  Eilmette    IL  60091            251.0   \n",
       "4        2018-06            2018-02   Chicago    IL  60606            332.0   \n",
       "\n",
       "   MULTIPLE_TNPS  \n",
       "0          False  \n",
       "1           True  \n",
       "2           True  \n",
       "3          False  \n",
       "4          False  "
      ]
     },
     "execution_count": 18,
     "metadata": {},
     "output_type": "execute_result"
    }
   ],
   "source": [
    "drivers.head()"
   ]
  },
  {
   "cell_type": "code",
   "execution_count": 19,
   "metadata": {},
   "outputs": [],
   "source": [
    "vehic=pd.read_csv(os.path.join(datadir,'Transportation_Network_Providers_-_Vehicles.csv'))"
   ]
  },
  {
   "cell_type": "code",
   "execution_count": 21,
   "metadata": {},
   "outputs": [
    {
     "data": {
      "text/plain": [
       "(5176624, 9)"
      ]
     },
     "execution_count": 21,
     "metadata": {},
     "output_type": "execute_result"
    }
   ],
   "source": [
    "vehic.head()\n",
    "vehic.shape"
   ]
  },
  {
   "cell_type": "code",
   "execution_count": 105,
   "metadata": {},
   "outputs": [
    {
     "data": {
      "text/plain": [
       "array([<matplotlib.axes._subplots.AxesSubplot object at 0x124e042b0>,\n",
       "       <matplotlib.axes._subplots.AxesSubplot object at 0x128983c18>],\n",
       "      dtype=object)"
      ]
     },
     "execution_count": 105,
     "metadata": {},
     "output_type": "execute_result"
    },
    {
     "data": {
      "image/png": "[encoded data removed]",
      "text/plain": [
       "<Figure size 432x288 with 2 Axes>"
      ]
     },
     "metadata": {
      "needs_background": "light"
     },
     "output_type": "display_data"
    }
   ],
   "source": [
    "vehic=vehic.loc[(vehic.YEAR>1979)&(vehic.YEAR<2021)]\n",
    "use_by_year=vehic.groupby('YEAR')['NUMBER_OF_TRIPS'].agg(['mean','size'])\n",
    "use_by_year.columns=['AvgTripsPerVehicle','TotalVehicles']\n",
    "use_by_year.plot(subplots=True)"
   ]
  },
  {
   "cell_type": "markdown",
   "metadata": {},
   "source": [
    "### Back to rides"
   ]
  },
  {
   "cell_type": "code",
   "execution_count": 24,
   "metadata": {},
   "outputs": [],
   "source": [
    "#cleanup column names\n",
    "testdf.columns = ['TripID', 'TripStart', 'TripEnd', 'TripSeconds',\n",
    "       'TripMiles', 'PUCensusTract', 'DOCensusTract',\n",
    "       'PUCommunityArea', 'DOCommunityArea', 'Fare', 'Tip',\n",
    "       'AdditionalCharges', 'TripTotal', 'SharedTripAuth',\n",
    "       'TripsPooled', 'PU_Lat', 'PU_Long',\n",
    "       'PU_Geo', 'DO_Lat',\n",
    "       'DO_Long', 'DO_Geo']\n"
   ]
  },
  {
   "cell_type": "code",
   "execution_count": 25,
   "metadata": {},
   "outputs": [
    {
     "data": {
      "text/html": [
       "<div>\n",
       "<style scoped>\n",
       "    .dataframe tbody tr th:only-of-type {\n",
       "        vertical-align: middle;\n",
       "    }\n",
       "\n",
       "    .dataframe tbody tr th {\n",
       "        vertical-align: top;\n",
       "    }\n",
       "\n",
       "    .dataframe thead th {\n",
       "        text-align: right;\n",
       "    }\n",
       "</style>\n",
       "<table border=\"1\" class=\"dataframe\">\n",
       "  <thead>\n",
       "    <tr style=\"text-align: right;\">\n",
       "      <th></th>\n",
       "      <th>TripID</th>\n",
       "      <th>TripStart</th>\n",
       "      <th>TripEnd</th>\n",
       "      <th>TripSeconds</th>\n",
       "      <th>TripMiles</th>\n",
       "      <th>PUCensusTract</th>\n",
       "      <th>DOCensusTract</th>\n",
       "      <th>PUCommunityArea</th>\n",
       "      <th>DOCommunityArea</th>\n",
       "      <th>Fare</th>\n",
       "      <th>...</th>\n",
       "      <th>AdditionalCharges</th>\n",
       "      <th>TripTotal</th>\n",
       "      <th>SharedTripAuth</th>\n",
       "      <th>TripsPooled</th>\n",
       "      <th>PU_Lat</th>\n",
       "      <th>PU_Long</th>\n",
       "      <th>PU_Geo</th>\n",
       "      <th>DO_Lat</th>\n",
       "      <th>DO_Long</th>\n",
       "      <th>DO_Geo</th>\n",
       "    </tr>\n",
       "  </thead>\n",
       "  <tbody>\n",
       "    <tr>\n",
       "      <th>0</th>\n",
       "      <td>b4154abebae4eedc5a23efd203bcb3e819c1f79e</td>\n",
       "      <td>12/30/2018 06:30:00 AM</td>\n",
       "      <td>12/30/2018 07:00:00 AM</td>\n",
       "      <td>1691.0</td>\n",
       "      <td>11.3</td>\n",
       "      <td>NaN</td>\n",
       "      <td>NaN</td>\n",
       "      <td>23.0</td>\n",
       "      <td>33.0</td>\n",
       "      <td>10.0</td>\n",
       "      <td>...</td>\n",
       "      <td>7.5</td>\n",
       "      <td>17.5</td>\n",
       "      <td>True</td>\n",
       "      <td>4</td>\n",
       "      <td>41.900070</td>\n",
       "      <td>-87.720918</td>\n",
       "      <td>POINT (-87.7209182385 41.9000696026)</td>\n",
       "      <td>41.857184</td>\n",
       "      <td>-87.620335</td>\n",
       "      <td>POINT (-87.6203346241 41.8571838585)</td>\n",
       "    </tr>\n",
       "    <tr>\n",
       "      <th>1</th>\n",
       "      <td>b4154b348df31392f5df63c5ef8ebf3b2dd839f1</td>\n",
       "      <td>12/15/2018 06:45:00 AM</td>\n",
       "      <td>12/15/2018 07:00:00 AM</td>\n",
       "      <td>928.0</td>\n",
       "      <td>9.0</td>\n",
       "      <td>1.703133e+10</td>\n",
       "      <td>1.703183e+10</td>\n",
       "      <td>33.0</td>\n",
       "      <td>21.0</td>\n",
       "      <td>12.5</td>\n",
       "      <td>...</td>\n",
       "      <td>2.5</td>\n",
       "      <td>15.0</td>\n",
       "      <td>False</td>\n",
       "      <td>1</td>\n",
       "      <td>41.859350</td>\n",
       "      <td>-87.617358</td>\n",
       "      <td>POINT (-87.6173580061 41.859349715)</td>\n",
       "      <td>41.942859</td>\n",
       "      <td>-87.717504</td>\n",
       "      <td>POINT (-87.717503858 41.942859303)</td>\n",
       "    </tr>\n",
       "    <tr>\n",
       "      <th>2</th>\n",
       "      <td>b4154bd8a97e75b348230c92eebaf4d1f4798e34</td>\n",
       "      <td>12/07/2018 01:00:00 AM</td>\n",
       "      <td>12/07/2018 01:15:00 AM</td>\n",
       "      <td>680.0</td>\n",
       "      <td>4.4</td>\n",
       "      <td>1.703107e+10</td>\n",
       "      <td>1.703108e+10</td>\n",
       "      <td>7.0</td>\n",
       "      <td>8.0</td>\n",
       "      <td>7.5</td>\n",
       "      <td>...</td>\n",
       "      <td>2.5</td>\n",
       "      <td>11.0</td>\n",
       "      <td>False</td>\n",
       "      <td>1</td>\n",
       "      <td>41.928763</td>\n",
       "      <td>-87.665677</td>\n",
       "      <td>POINT (-87.665676837 41.9287630064)</td>\n",
       "      <td>41.892042</td>\n",
       "      <td>-87.631864</td>\n",
       "      <td>POINT (-87.6318639497 41.8920421365)</td>\n",
       "    </tr>\n",
       "    <tr>\n",
       "      <th>3</th>\n",
       "      <td>b4154f9ac92062155aae2a04cba41ff11fd07478</td>\n",
       "      <td>11/04/2018 12:30:00 PM</td>\n",
       "      <td>11/04/2018 12:45:00 PM</td>\n",
       "      <td>285.0</td>\n",
       "      <td>0.7</td>\n",
       "      <td>1.703108e+10</td>\n",
       "      <td>1.703108e+10</td>\n",
       "      <td>8.0</td>\n",
       "      <td>8.0</td>\n",
       "      <td>7.5</td>\n",
       "      <td>...</td>\n",
       "      <td>2.8</td>\n",
       "      <td>10.3</td>\n",
       "      <td>False</td>\n",
       "      <td>1</td>\n",
       "      <td>41.890922</td>\n",
       "      <td>-87.618868</td>\n",
       "      <td>POINT (-87.6188683546 41.8909220259)</td>\n",
       "      <td>41.892042</td>\n",
       "      <td>-87.631864</td>\n",
       "      <td>POINT (-87.6318639497 41.8920421365)</td>\n",
       "    </tr>\n",
       "    <tr>\n",
       "      <th>4</th>\n",
       "      <td>b41553dc7bec43614e395bcda6cbdb00d76aca54</td>\n",
       "      <td>11/24/2018 11:00:00 AM</td>\n",
       "      <td>11/24/2018 11:30:00 AM</td>\n",
       "      <td>1607.0</td>\n",
       "      <td>9.0</td>\n",
       "      <td>NaN</td>\n",
       "      <td>NaN</td>\n",
       "      <td>31.0</td>\n",
       "      <td>23.0</td>\n",
       "      <td>5.0</td>\n",
       "      <td>...</td>\n",
       "      <td>2.5</td>\n",
       "      <td>7.5</td>\n",
       "      <td>True</td>\n",
       "      <td>3</td>\n",
       "      <td>41.850266</td>\n",
       "      <td>-87.667569</td>\n",
       "      <td>POINT (-87.667569312 41.8502663663)</td>\n",
       "      <td>41.900070</td>\n",
       "      <td>-87.720918</td>\n",
       "      <td>POINT (-87.7209182385 41.9000696026)</td>\n",
       "    </tr>\n",
       "  </tbody>\n",
       "</table>\n",
       "<p>5 rows × 21 columns</p>\n",
       "</div>"
      ],
      "text/plain": [
       "                                     TripID               TripStart  \\\n",
       "0  b4154abebae4eedc5a23efd203bcb3e819c1f79e  12/30/2018 06:30:00 AM   \n",
       "1  b4154b348df31392f5df63c5ef8ebf3b2dd839f1  12/15/2018 06:45:00 AM   \n",
       "2  b4154bd8a97e75b348230c92eebaf4d1f4798e34  12/07/2018 01:00:00 AM   \n",
       "3  b4154f9ac92062155aae2a04cba41ff11fd07478  11/04/2018 12:30:00 PM   \n",
       "4  b41553dc7bec43614e395bcda6cbdb00d76aca54  11/24/2018 11:00:00 AM   \n",
       "\n",
       "                  TripEnd  TripSeconds  TripMiles  PUCensusTract  \\\n",
       "0  12/30/2018 07:00:00 AM       1691.0       11.3            NaN   \n",
       "1  12/15/2018 07:00:00 AM        928.0        9.0   1.703133e+10   \n",
       "2  12/07/2018 01:15:00 AM        680.0        4.4   1.703107e+10   \n",
       "3  11/04/2018 12:45:00 PM        285.0        0.7   1.703108e+10   \n",
       "4  11/24/2018 11:30:00 AM       1607.0        9.0            NaN   \n",
       "\n",
       "   DOCensusTract  PUCommunityArea  DOCommunityArea  Fare  \\\n",
       "0            NaN             23.0             33.0  10.0   \n",
       "1   1.703183e+10             33.0             21.0  12.5   \n",
       "2   1.703108e+10              7.0              8.0   7.5   \n",
       "3   1.703108e+10              8.0              8.0   7.5   \n",
       "4            NaN             31.0             23.0   5.0   \n",
       "\n",
       "                   ...                   AdditionalCharges  TripTotal  \\\n",
       "0                  ...                                 7.5       17.5   \n",
       "1                  ...                                 2.5       15.0   \n",
       "2                  ...                                 2.5       11.0   \n",
       "3                  ...                                 2.8       10.3   \n",
       "4                  ...                                 2.5        7.5   \n",
       "\n",
       "   SharedTripAuth  TripsPooled     PU_Lat    PU_Long  \\\n",
       "0            True            4  41.900070 -87.720918   \n",
       "1           False            1  41.859350 -87.617358   \n",
       "2           False            1  41.928763 -87.665677   \n",
       "3           False            1  41.890922 -87.618868   \n",
       "4            True            3  41.850266 -87.667569   \n",
       "\n",
       "                                 PU_Geo     DO_Lat    DO_Long  \\\n",
       "0  POINT (-87.7209182385 41.9000696026)  41.857184 -87.620335   \n",
       "1   POINT (-87.6173580061 41.859349715)  41.942859 -87.717504   \n",
       "2   POINT (-87.665676837 41.9287630064)  41.892042 -87.631864   \n",
       "3  POINT (-87.6188683546 41.8909220259)  41.892042 -87.631864   \n",
       "4   POINT (-87.667569312 41.8502663663)  41.900070 -87.720918   \n",
       "\n",
       "                                 DO_Geo  \n",
       "0  POINT (-87.6203346241 41.8571838585)  \n",
       "1    POINT (-87.717503858 41.942859303)  \n",
       "2  POINT (-87.6318639497 41.8920421365)  \n",
       "3  POINT (-87.6318639497 41.8920421365)  \n",
       "4  POINT (-87.7209182385 41.9000696026)  \n",
       "\n",
       "[5 rows x 21 columns]"
      ]
     },
     "execution_count": 25,
     "metadata": {},
     "output_type": "execute_result"
    }
   ],
   "source": [
    "samp_df.head()"
   ]
  },
  {
   "cell_type": "markdown",
   "metadata": {},
   "source": [
    "### Attempt to view data in plotly"
   ]
  },
  {
   "cell_type": "code",
   "execution_count": 27,
   "metadata": {},
   "outputs": [],
   "source": [
    "import plotly.graph_objects as go"
   ]
  },
  {
   "cell_type": "code",
   "execution_count": 46,
   "metadata": {},
   "outputs": [
    {
     "data": {
      "text/plain": [
       "8.0     2076\n",
       "32.0    1124\n",
       "28.0    1029\n",
       "6.0      660\n",
       "7.0      633\n",
       "24.0     561\n",
       "76.0     345\n",
       "22.0     306\n",
       "33.0     191\n",
       "3.0      143\n",
       "56.0     132\n",
       "31.0     107\n",
       "5.0       91\n",
       "41.0      90\n",
       "77.0      87\n",
       "35.0      80\n",
       "25.0      72\n",
       "4.0       72\n",
       "1.0       72\n",
       "21.0      67\n",
       "Name: PUCommunityArea, dtype: int64"
      ]
     },
     "execution_count": 46,
     "metadata": {},
     "output_type": "execute_result"
    }
   ],
   "source": [
    "data=testdf['PUCommunityArea'].value_counts()\n",
    "data=data.iloc[:20]\n",
    "data"
   ]
  },
  {
   "cell_type": "code",
   "execution_count": 47,
   "metadata": {},
   "outputs": [
    {
     "data": {
      "application/vnd.plotly.v1+json": {
       "config": {
        "plotlyServerURL": "https://plot.ly"
       },
       "data": [
        {
         "type": "bar",
         "x": [
          8,
          32,
          28,
          6,
          7,
          24,
          76,
          22,
          33,
          3,
          56,
          31,
          5,
          41,
          77,
          35,
          25,
          4,
          1,
          21
         ],
         "y": [
          2076,
          1124,
          1029,
          660,
          633,
          561,
          345,
          306,
          191,
          143,
          132,
          107,
          91,
          90,
          87,
          80,
          72,
          72,
          72,
          67
         ]
        }
       ],
       "layout": {
        "template": {
         "data": {
          "bar": [
           {
            "error_x": {
             "color": "#2a3f5f"
            },
            "error_y": {
             "color": "#2a3f5f"
            },
            "marker": {
             "line": {
              "color": "#E5ECF6",
              "width": 0.5
             }
            },
            "type": "bar"
           }
          ],
          "barpolar": [
           {
            "marker": {
             "line": {
              "color": "#E5ECF6",
              "width": 0.5
             }
            },
            "type": "barpolar"
           }
          ],
          "carpet": [
           {
            "aaxis": {
             "endlinecolor": "#2a3f5f",
             "gridcolor": "white",
             "linecolor": "white",
             "minorgridcolor": "white",
             "startlinecolor": "#2a3f5f"
            },
            "baxis": {
             "endlinecolor": "#2a3f5f",
             "gridcolor": "white",
             "linecolor": "white",
             "minorgridcolor": "white",
             "startlinecolor": "#2a3f5f"
            },
            "type": "carpet"
           }
          ],
          "choropleth": [
           {
            "colorbar": {
             "outlinewidth": 0,
             "ticks": ""
            },
            "type": "choropleth"
           }
          ],
          "contour": [
           {
            "colorbar": {
             "outlinewidth": 0,
             "ticks": ""
            },
            "colorscale": [
             [
              0,
              "#0d0887"
             ],
             [
              0.1111111111111111,
              "#46039f"
             ],
             [
              0.2222222222222222,
              "#7201a8"
             ],
             [
              0.3333333333333333,
              "#9c179e"
             ],
             [
              0.4444444444444444,
              "#bd3786"
             ],
             [
              0.5555555555555556,
              "#d8576b"
             ],
             [
              0.6666666666666666,
              "#ed7953"
             ],
             [
              0.7777777777777778,
              "#fb9f3a"
             ],
             [
              0.8888888888888888,
              "#fdca26"
             ],
             [
              1,
              "#f0f921"
             ]
            ],
            "type": "contour"
           }
          ],
          "contourcarpet": [
           {
            "colorbar": {
             "outlinewidth": 0,
             "ticks": ""
            },
            "type": "contourcarpet"
           }
          ],
          "heatmap": [
           {
            "colorbar": {
             "outlinewidth": 0,
             "ticks": ""
            },
            "colorscale": [
             [
              0,
              "#0d0887"
             ],
             [
              0.1111111111111111,
              "#46039f"
             ],
             [
              0.2222222222222222,
              "#7201a8"
             ],
             [
              0.3333333333333333,
              "#9c179e"
             ],
             [
              0.4444444444444444,
              "#bd3786"
             ],
             [
              0.5555555555555556,
              "#d8576b"
             ],
             [
              0.6666666666666666,
              "#ed7953"
             ],
             [
              0.7777777777777778,
              "#fb9f3a"
             ],
             [
              0.8888888888888888,
              "#fdca26"
             ],
             [
              1,
              "#f0f921"
             ]
            ],
            "type": "heatmap"
           }
          ],
          "heatmapgl": [
           {
            "colorbar": {
             "outlinewidth": 0,
             "ticks": ""
            },
            "colorscale": [
             [
              0,
              "#0d0887"
             ],
             [
              0.1111111111111111,
              "#46039f"
             ],
             [
              0.2222222222222222,
              "#7201a8"
             ],
             [
              0.3333333333333333,
              "#9c179e"
             ],
             [
              0.4444444444444444,
              "#bd3786"
             ],
             [
              0.5555555555555556,
              "#d8576b"
             ],
             [
              0.6666666666666666,
              "#ed7953"
             ],
             [
              0.7777777777777778,
              "#fb9f3a"
             ],
             [
              0.8888888888888888,
              "#fdca26"
             ],
             [
              1,
              "#f0f921"
             ]
            ],
            "type": "heatmapgl"
           }
          ],
          "histogram": [
           {
            "marker": {
             "colorbar": {
              "outlinewidth": 0,
              "ticks": ""
             }
            },
            "type": "histogram"
           }
          ],
          "histogram2d": [
           {
            "colorbar": {
             "outlinewidth": 0,
             "ticks": ""
            },
            "colorscale": [
             [
              0,
              "#0d0887"
             ],
             [
              0.1111111111111111,
              "#46039f"
             ],
             [
              0.2222222222222222,
              "#7201a8"
             ],
             [
              0.3333333333333333,
              "#9c179e"
             ],
             [
              0.4444444444444444,
              "#bd3786"
             ],
             [
              0.5555555555555556,
              "#d8576b"
             ],
             [
              0.6666666666666666,
              "#ed7953"
             ],
             [
              0.7777777777777778,
              "#fb9f3a"
             ],
             [
              0.8888888888888888,
              "#fdca26"
             ],
             [
              1,
              "#f0f921"
             ]
            ],
            "type": "histogram2d"
           }
          ],
          "histogram2dcontour": [
           {
            "colorbar": {
             "outlinewidth": 0,
             "ticks": ""
            },
            "colorscale": [
             [
              0,
              "#0d0887"
             ],
             [
              0.1111111111111111,
              "#46039f"
             ],
             [
              0.2222222222222222,
              "#7201a8"
             ],
             [
              0.3333333333333333,
              "#9c179e"
             ],
             [
              0.4444444444444444,
              "#bd3786"
             ],
             [
              0.5555555555555556,
              "#d8576b"
             ],
             [
              0.6666666666666666,
              "#ed7953"
             ],
             [
              0.7777777777777778,
              "#fb9f3a"
             ],
             [
              0.8888888888888888,
              "#fdca26"
             ],
             [
              1,
              "#f0f921"
             ]
            ],
            "type": "histogram2dcontour"
           }
          ],
          "mesh3d": [
           {
            "colorbar": {
             "outlinewidth": 0,
             "ticks": ""
            },
            "type": "mesh3d"
           }
          ],
          "parcoords": [
           {
            "line": {
             "colorbar": {
              "outlinewidth": 0,
              "ticks": ""
             }
            },
            "type": "parcoords"
           }
          ],
          "scatter": [
           {
            "marker": {
             "colorbar": {
              "outlinewidth": 0,
              "ticks": ""
             }
            },
            "type": "scatter"
           }
          ],
          "scatter3d": [
           {
            "line": {
             "colorbar": {
              "outlinewidth": 0,
              "ticks": ""
             }
            },
            "marker": {
             "colorbar": {
              "outlinewidth": 0,
              "ticks": ""
             }
            },
            "type": "scatter3d"
           }
          ],
          "scattercarpet": [
           {
            "marker": {
             "colorbar": {
              "outlinewidth": 0,
              "ticks": ""
             }
            },
            "type": "scattercarpet"
           }
          ],
          "scattergeo": [
           {
            "marker": {
             "colorbar": {
              "outlinewidth": 0,
              "ticks": ""
             }
            },
            "type": "scattergeo"
           }
          ],
          "scattergl": [
           {
            "marker": {
             "colorbar": {
              "outlinewidth": 0,
              "ticks": ""
             }
            },
            "type": "scattergl"
           }
          ],
          "scattermapbox": [
           {
            "marker": {
             "colorbar": {
              "outlinewidth": 0,
              "ticks": ""
             }
            },
            "type": "scattermapbox"
           }
          ],
          "scatterpolar": [
           {
            "marker": {
             "colorbar": {
              "outlinewidth": 0,
              "ticks": ""
             }
            },
            "type": "scatterpolar"
           }
          ],
          "scatterpolargl": [
           {
            "marker": {
             "colorbar": {
              "outlinewidth": 0,
              "ticks": ""
             }
            },
            "type": "scatterpolargl"
           }
          ],
          "scatterternary": [
           {
            "marker": {
             "colorbar": {
              "outlinewidth": 0,
              "ticks": ""
             }
            },
            "type": "scatterternary"
           }
          ],
          "surface": [
           {
            "colorbar": {
             "outlinewidth": 0,
             "ticks": ""
            },
            "colorscale": [
             [
              0,
              "#0d0887"
             ],
             [
              0.1111111111111111,
              "#46039f"
             ],
             [
              0.2222222222222222,
              "#7201a8"
             ],
             [
              0.3333333333333333,
              "#9c179e"
             ],
             [
              0.4444444444444444,
              "#bd3786"
             ],
             [
              0.5555555555555556,
              "#d8576b"
             ],
             [
              0.6666666666666666,
              "#ed7953"
             ],
             [
              0.7777777777777778,
              "#fb9f3a"
             ],
             [
              0.8888888888888888,
              "#fdca26"
             ],
             [
              1,
              "#f0f921"
             ]
            ],
            "type": "surface"
           }
          ],
          "table": [
           {
            "cells": {
             "fill": {
              "color": "#EBF0F8"
             },
             "line": {
              "color": "white"
             }
            },
            "header": {
             "fill": {
              "color": "#C8D4E3"
             },
             "line": {
              "color": "white"
             }
            },
            "type": "table"
           }
          ]
         },
         "layout": {
          "annotationdefaults": {
           "arrowcolor": "#2a3f5f",
           "arrowhead": 0,
           "arrowwidth": 1
          },
          "colorscale": {
           "diverging": [
            [
             0,
             "#8e0152"
            ],
            [
             0.1,
             "#c51b7d"
            ],
            [
             0.2,
             "#de77ae"
            ],
            [
             0.3,
             "#f1b6da"
            ],
            [
             0.4,
             "#fde0ef"
            ],
            [
             0.5,
             "#f7f7f7"
            ],
            [
             0.6,
             "#e6f5d0"
            ],
            [
             0.7,
             "#b8e186"
            ],
            [
             0.8,
             "#7fbc41"
            ],
            [
             0.9,
             "#4d9221"
            ],
            [
             1,
             "#276419"
            ]
           ],
           "sequential": [
            [
             0,
             "#0d0887"
            ],
            [
             0.1111111111111111,
             "#46039f"
            ],
            [
             0.2222222222222222,
             "#7201a8"
            ],
            [
             0.3333333333333333,
             "#9c179e"
            ],
            [
             0.4444444444444444,
             "#bd3786"
            ],
            [
             0.5555555555555556,
             "#d8576b"
            ],
            [
             0.6666666666666666,
             "#ed7953"
            ],
            [
             0.7777777777777778,
             "#fb9f3a"
            ],
            [
             0.8888888888888888,
             "#fdca26"
            ],
            [
             1,
             "#f0f921"
            ]
           ],
           "sequentialminus": [
            [
             0,
             "#0d0887"
            ],
            [
             0.1111111111111111,
             "#46039f"
            ],
            [
             0.2222222222222222,
             "#7201a8"
            ],
            [
             0.3333333333333333,
             "#9c179e"
            ],
            [
             0.4444444444444444,
             "#bd3786"
            ],
            [
             0.5555555555555556,
             "#d8576b"
            ],
            [
             0.6666666666666666,
             "#ed7953"
            ],
            [
             0.7777777777777778,
             "#fb9f3a"
            ],
            [
             0.8888888888888888,
             "#fdca26"
            ],
            [
             1,
             "#f0f921"
            ]
           ]
          },
          "colorway": [
           "#636efa",
           "#EF553B",
           "#00cc96",
           "#ab63fa",
           "#FFA15A",
           "#19d3f3",
           "#FF6692",
           "#B6E880",
           "#FF97FF",
           "#FECB52"
          ],
          "font": {
           "color": "#2a3f5f"
          },
          "geo": {
           "bgcolor": "white",
           "lakecolor": "white",
           "landcolor": "#E5ECF6",
           "showlakes": true,
           "showland": true,
           "subunitcolor": "white"
          },
          "hoverlabel": {
           "align": "left"
          },
          "hovermode": "closest",
          "mapbox": {
           "style": "light"
          },
          "paper_bgcolor": "white",
          "plot_bgcolor": "#E5ECF6",
          "polar": {
           "angularaxis": {
            "gridcolor": "white",
            "linecolor": "white",
            "ticks": ""
           },
           "bgcolor": "#E5ECF6",
           "radialaxis": {
            "gridcolor": "white",
            "linecolor": "white",
            "ticks": ""
           }
          },
          "scene": {
           "xaxis": {
            "backgroundcolor": "#E5ECF6",
            "gridcolor": "white",
            "gridwidth": 2,
            "linecolor": "white",
            "showbackground": true,
            "ticks": "",
            "zerolinecolor": "white"
           },
           "yaxis": {
            "backgroundcolor": "#E5ECF6",
            "gridcolor": "white",
            "gridwidth": 2,
            "linecolor": "white",
            "showbackground": true,
            "ticks": "",
            "zerolinecolor": "white"
           },
           "zaxis": {
            "backgroundcolor": "#E5ECF6",
            "gridcolor": "white",
            "gridwidth": 2,
            "linecolor": "white",
            "showbackground": true,
            "ticks": "",
            "zerolinecolor": "white"
           }
          },
          "shapedefaults": {
           "line": {
            "color": "#2a3f5f"
           }
          },
          "ternary": {
           "aaxis": {
            "gridcolor": "white",
            "linecolor": "white",
            "ticks": ""
           },
           "baxis": {
            "gridcolor": "white",
            "linecolor": "white",
            "ticks": ""
           },
           "bgcolor": "#E5ECF6",
           "caxis": {
            "gridcolor": "white",
            "linecolor": "white",
            "ticks": ""
           }
          },
          "title": {
           "x": 0.05
          },
          "xaxis": {
           "automargin": true,
           "gridcolor": "white",
           "linecolor": "white",
           "ticks": "",
           "zerolinecolor": "white",
           "zerolinewidth": 2
          },
          "yaxis": {
           "automargin": true,
           "gridcolor": "white",
           "linecolor": "white",
           "ticks": "",
           "zerolinecolor": "white",
           "zerolinewidth": 2
          }
         }
        }
       }
      },
      "text/html": [
       "<div>\n",
       "        \n",
       "        \n",
       "            <div id=\"74dd578e-7006-4a9e-a537-6da204a9514d\" class=\"plotly-graph-div\" style=\"height:525px; width:100%;\"></div>\n",
       "            <script type=\"text/javascript\">\n",
       "                require([\"plotly\"], function(Plotly) {\n",
       "                    window.PLOTLYENV=window.PLOTLYENV || {};\n",
       "                    \n",
       "                if (document.getElementById(\"74dd578e-7006-4a9e-a537-6da204a9514d\")) {\n",
       "                    Plotly.newPlot(\n",
       "                        '74dd578e-7006-4a9e-a537-6da204a9514d',\n",
       "                        [{\"type\": \"bar\", \"x\": [8.0, 32.0, 28.0, 6.0, 7.0, 24.0, 76.0, 22.0, 33.0, 3.0, 56.0, 31.0, 5.0, 41.0, 77.0, 35.0, 25.0, 4.0, 1.0, 21.0], \"y\": [2076, 1124, 1029, 660, 633, 561, 345, 306, 191, 143, 132, 107, 91, 90, 87, 80, 72, 72, 72, 67]}],\n",
       "                        {\"template\": {\"data\": {\"bar\": [{\"error_x\": {\"color\": \"#2a3f5f\"}, \"error_y\": {\"color\": \"#2a3f5f\"}, \"marker\": {\"line\": {\"color\": \"#E5ECF6\", \"width\": 0.5}}, \"type\": \"bar\"}], \"barpolar\": [{\"marker\": {\"line\": {\"color\": \"#E5ECF6\", \"width\": 0.5}}, \"type\": \"barpolar\"}], \"carpet\": [{\"aaxis\": {\"endlinecolor\": \"#2a3f5f\", \"gridcolor\": \"white\", \"linecolor\": \"white\", \"minorgridcolor\": \"white\", \"startlinecolor\": \"#2a3f5f\"}, \"baxis\": {\"endlinecolor\": \"#2a3f5f\", \"gridcolor\": \"white\", \"linecolor\": \"white\", \"minorgridcolor\": \"white\", \"startlinecolor\": \"#2a3f5f\"}, \"type\": \"carpet\"}], \"choropleth\": [{\"colorbar\": {\"outlinewidth\": 0, \"ticks\": \"\"}, \"type\": \"choropleth\"}], \"contour\": [{\"colorbar\": {\"outlinewidth\": 0, \"ticks\": \"\"}, \"colorscale\": [[0.0, \"#0d0887\"], [0.1111111111111111, \"#46039f\"], [0.2222222222222222, \"#7201a8\"], [0.3333333333333333, \"#9c179e\"], [0.4444444444444444, \"#bd3786\"], [0.5555555555555556, \"#d8576b\"], [0.6666666666666666, \"#ed7953\"], [0.7777777777777778, \"#fb9f3a\"], [0.8888888888888888, \"#fdca26\"], [1.0, \"#f0f921\"]], \"type\": \"contour\"}], \"contourcarpet\": [{\"colorbar\": {\"outlinewidth\": 0, \"ticks\": \"\"}, \"type\": \"contourcarpet\"}], \"heatmap\": [{\"colorbar\": {\"outlinewidth\": 0, \"ticks\": \"\"}, \"colorscale\": [[0.0, \"#0d0887\"], [0.1111111111111111, \"#46039f\"], [0.2222222222222222, \"#7201a8\"], [0.3333333333333333, \"#9c179e\"], [0.4444444444444444, \"#bd3786\"], [0.5555555555555556, \"#d8576b\"], [0.6666666666666666, \"#ed7953\"], [0.7777777777777778, \"#fb9f3a\"], [0.8888888888888888, \"#fdca26\"], [1.0, \"#f0f921\"]], \"type\": \"heatmap\"}], \"heatmapgl\": [{\"colorbar\": {\"outlinewidth\": 0, \"ticks\": \"\"}, \"colorscale\": [[0.0, \"#0d0887\"], [0.1111111111111111, \"#46039f\"], [0.2222222222222222, \"#7201a8\"], [0.3333333333333333, \"#9c179e\"], [0.4444444444444444, \"#bd3786\"], [0.5555555555555556, \"#d8576b\"], [0.6666666666666666, \"#ed7953\"], [0.7777777777777778, \"#fb9f3a\"], [0.8888888888888888, \"#fdca26\"], [1.0, \"#f0f921\"]], \"type\": \"heatmapgl\"}], \"histogram\": [{\"marker\": {\"colorbar\": {\"outlinewidth\": 0, \"ticks\": \"\"}}, \"type\": \"histogram\"}], \"histogram2d\": [{\"colorbar\": {\"outlinewidth\": 0, \"ticks\": \"\"}, \"colorscale\": [[0.0, \"#0d0887\"], [0.1111111111111111, \"#46039f\"], [0.2222222222222222, \"#7201a8\"], [0.3333333333333333, \"#9c179e\"], [0.4444444444444444, \"#bd3786\"], [0.5555555555555556, \"#d8576b\"], [0.6666666666666666, \"#ed7953\"], [0.7777777777777778, \"#fb9f3a\"], [0.8888888888888888, \"#fdca26\"], [1.0, \"#f0f921\"]], \"type\": \"histogram2d\"}], \"histogram2dcontour\": [{\"colorbar\": {\"outlinewidth\": 0, \"ticks\": \"\"}, \"colorscale\": [[0.0, \"#0d0887\"], [0.1111111111111111, \"#46039f\"], [0.2222222222222222, \"#7201a8\"], [0.3333333333333333, \"#9c179e\"], [0.4444444444444444, \"#bd3786\"], [0.5555555555555556, \"#d8576b\"], [0.6666666666666666, \"#ed7953\"], [0.7777777777777778, \"#fb9f3a\"], [0.8888888888888888, \"#fdca26\"], [1.0, \"#f0f921\"]], \"type\": \"histogram2dcontour\"}], \"mesh3d\": [{\"colorbar\": {\"outlinewidth\": 0, \"ticks\": \"\"}, \"type\": \"mesh3d\"}], \"parcoords\": [{\"line\": {\"colorbar\": {\"outlinewidth\": 0, \"ticks\": \"\"}}, \"type\": \"parcoords\"}], \"scatter\": [{\"marker\": {\"colorbar\": {\"outlinewidth\": 0, \"ticks\": \"\"}}, \"type\": \"scatter\"}], \"scatter3d\": [{\"line\": {\"colorbar\": {\"outlinewidth\": 0, \"ticks\": \"\"}}, \"marker\": {\"colorbar\": {\"outlinewidth\": 0, \"ticks\": \"\"}}, \"type\": \"scatter3d\"}], \"scattercarpet\": [{\"marker\": {\"colorbar\": {\"outlinewidth\": 0, \"ticks\": \"\"}}, \"type\": \"scattercarpet\"}], \"scattergeo\": [{\"marker\": {\"colorbar\": {\"outlinewidth\": 0, \"ticks\": \"\"}}, \"type\": \"scattergeo\"}], \"scattergl\": [{\"marker\": {\"colorbar\": {\"outlinewidth\": 0, \"ticks\": \"\"}}, \"type\": \"scattergl\"}], \"scattermapbox\": [{\"marker\": {\"colorbar\": {\"outlinewidth\": 0, \"ticks\": \"\"}}, \"type\": \"scattermapbox\"}], \"scatterpolar\": [{\"marker\": {\"colorbar\": {\"outlinewidth\": 0, \"ticks\": \"\"}}, \"type\": \"scatterpolar\"}], \"scatterpolargl\": [{\"marker\": {\"colorbar\": {\"outlinewidth\": 0, \"ticks\": \"\"}}, \"type\": \"scatterpolargl\"}], \"scatterternary\": [{\"marker\": {\"colorbar\": {\"outlinewidth\": 0, \"ticks\": \"\"}}, \"type\": \"scatterternary\"}], \"surface\": [{\"colorbar\": {\"outlinewidth\": 0, \"ticks\": \"\"}, \"colorscale\": [[0.0, \"#0d0887\"], [0.1111111111111111, \"#46039f\"], [0.2222222222222222, \"#7201a8\"], [0.3333333333333333, \"#9c179e\"], [0.4444444444444444, \"#bd3786\"], [0.5555555555555556, \"#d8576b\"], [0.6666666666666666, \"#ed7953\"], [0.7777777777777778, \"#fb9f3a\"], [0.8888888888888888, \"#fdca26\"], [1.0, \"#f0f921\"]], \"type\": \"surface\"}], \"table\": [{\"cells\": {\"fill\": {\"color\": \"#EBF0F8\"}, \"line\": {\"color\": \"white\"}}, \"header\": {\"fill\": {\"color\": \"#C8D4E3\"}, \"line\": {\"color\": \"white\"}}, \"type\": \"table\"}]}, \"layout\": {\"annotationdefaults\": {\"arrowcolor\": \"#2a3f5f\", \"arrowhead\": 0, \"arrowwidth\": 1}, \"colorscale\": {\"diverging\": [[0, \"#8e0152\"], [0.1, \"#c51b7d\"], [0.2, \"#de77ae\"], [0.3, \"#f1b6da\"], [0.4, \"#fde0ef\"], [0.5, \"#f7f7f7\"], [0.6, \"#e6f5d0\"], [0.7, \"#b8e186\"], [0.8, \"#7fbc41\"], [0.9, \"#4d9221\"], [1, \"#276419\"]], \"sequential\": [[0.0, \"#0d0887\"], [0.1111111111111111, \"#46039f\"], [0.2222222222222222, \"#7201a8\"], [0.3333333333333333, \"#9c179e\"], [0.4444444444444444, \"#bd3786\"], [0.5555555555555556, \"#d8576b\"], [0.6666666666666666, \"#ed7953\"], [0.7777777777777778, \"#fb9f3a\"], [0.8888888888888888, \"#fdca26\"], [1.0, \"#f0f921\"]], \"sequentialminus\": [[0.0, \"#0d0887\"], [0.1111111111111111, \"#46039f\"], [0.2222222222222222, \"#7201a8\"], [0.3333333333333333, \"#9c179e\"], [0.4444444444444444, \"#bd3786\"], [0.5555555555555556, \"#d8576b\"], [0.6666666666666666, \"#ed7953\"], [0.7777777777777778, \"#fb9f3a\"], [0.8888888888888888, \"#fdca26\"], [1.0, \"#f0f921\"]]}, \"colorway\": [\"#636efa\", \"#EF553B\", \"#00cc96\", \"#ab63fa\", \"#FFA15A\", \"#19d3f3\", \"#FF6692\", \"#B6E880\", \"#FF97FF\", \"#FECB52\"], \"font\": {\"color\": \"#2a3f5f\"}, \"geo\": {\"bgcolor\": \"white\", \"lakecolor\": \"white\", \"landcolor\": \"#E5ECF6\", \"showlakes\": true, \"showland\": true, \"subunitcolor\": \"white\"}, \"hoverlabel\": {\"align\": \"left\"}, \"hovermode\": \"closest\", \"mapbox\": {\"style\": \"light\"}, \"paper_bgcolor\": \"white\", \"plot_bgcolor\": \"#E5ECF6\", \"polar\": {\"angularaxis\": {\"gridcolor\": \"white\", \"linecolor\": \"white\", \"ticks\": \"\"}, \"bgcolor\": \"#E5ECF6\", \"radialaxis\": {\"gridcolor\": \"white\", \"linecolor\": \"white\", \"ticks\": \"\"}}, \"scene\": {\"xaxis\": {\"backgroundcolor\": \"#E5ECF6\", \"gridcolor\": \"white\", \"gridwidth\": 2, \"linecolor\": \"white\", \"showbackground\": true, \"ticks\": \"\", \"zerolinecolor\": \"white\"}, \"yaxis\": {\"backgroundcolor\": \"#E5ECF6\", \"gridcolor\": \"white\", \"gridwidth\": 2, \"linecolor\": \"white\", \"showbackground\": true, \"ticks\": \"\", \"zerolinecolor\": \"white\"}, \"zaxis\": {\"backgroundcolor\": \"#E5ECF6\", \"gridcolor\": \"white\", \"gridwidth\": 2, \"linecolor\": \"white\", \"showbackground\": true, \"ticks\": \"\", \"zerolinecolor\": \"white\"}}, \"shapedefaults\": {\"line\": {\"color\": \"#2a3f5f\"}}, \"ternary\": {\"aaxis\": {\"gridcolor\": \"white\", \"linecolor\": \"white\", \"ticks\": \"\"}, \"baxis\": {\"gridcolor\": \"white\", \"linecolor\": \"white\", \"ticks\": \"\"}, \"bgcolor\": \"#E5ECF6\", \"caxis\": {\"gridcolor\": \"white\", \"linecolor\": \"white\", \"ticks\": \"\"}}, \"title\": {\"x\": 0.05}, \"xaxis\": {\"automargin\": true, \"gridcolor\": \"white\", \"linecolor\": \"white\", \"ticks\": \"\", \"zerolinecolor\": \"white\", \"zerolinewidth\": 2}, \"yaxis\": {\"automargin\": true, \"gridcolor\": \"white\", \"linecolor\": \"white\", \"ticks\": \"\", \"zerolinecolor\": \"white\", \"zerolinewidth\": 2}}}},\n",
       "                        {\"responsive\": true}\n",
       "                    ).then(function(){\n",
       "                            \n",
       "var gd = document.getElementById('74dd578e-7006-4a9e-a537-6da204a9514d');\n",
       "var x = new MutationObserver(function (mutations, observer) {{\n",
       "        var display = window.getComputedStyle(gd).display;\n",
       "        if (!display || display === 'none') {{\n",
       "            console.log([gd, 'removed!']);\n",
       "            Plotly.purge(gd);\n",
       "            observer.disconnect();\n",
       "        }}\n",
       "}});\n",
       "\n",
       "// Listen for the removal of the full notebook cells\n",
       "var notebookContainer = gd.closest('#notebook-container');\n",
       "if (notebookContainer) {{\n",
       "    x.observe(notebookContainer, {childList: true});\n",
       "}}\n",
       "\n",
       "// Listen for the clearing of the current output cell\n",
       "var outputEl = gd.closest('.output');\n",
       "if (outputEl) {{\n",
       "    x.observe(outputEl, {childList: true});\n",
       "}}\n",
       "\n",
       "                        })\n",
       "                };\n",
       "                });\n",
       "            </script>\n",
       "        </div>"
      ]
     },
     "metadata": {},
     "output_type": "display_data"
    }
   ],
   "source": [
    "fig=go.Figure(data=go.Bar(x=data.index,y=data.values))\n",
    "fig.show()"
   ]
  },
  {
   "cell_type": "markdown",
   "metadata": {},
   "source": [
    "### Try mapping"
   ]
  },
  {
   "cell_type": "code",
   "execution_count": 54,
   "metadata": {},
   "outputs": [
    {
     "data": {
      "text/html": [
       "<div>\n",
       "<style scoped>\n",
       "    .dataframe tbody tr th:only-of-type {\n",
       "        vertical-align: middle;\n",
       "    }\n",
       "\n",
       "    .dataframe tbody tr th {\n",
       "        vertical-align: top;\n",
       "    }\n",
       "\n",
       "    .dataframe thead th {\n",
       "        text-align: right;\n",
       "    }\n",
       "</style>\n",
       "<table border=\"1\" class=\"dataframe\">\n",
       "  <thead>\n",
       "    <tr style=\"text-align: right;\">\n",
       "      <th></th>\n",
       "      <th>PU_Geo</th>\n",
       "      <th>TripTotal</th>\n",
       "      <th>TripMiles</th>\n",
       "    </tr>\n",
       "  </thead>\n",
       "  <tbody>\n",
       "    <tr>\n",
       "      <th>0</th>\n",
       "      <td>POINT (-87.5409355129 41.6636706517)</td>\n",
       "      <td>10.370000</td>\n",
       "      <td>3.800000</td>\n",
       "    </tr>\n",
       "    <tr>\n",
       "      <th>1</th>\n",
       "      <td>POINT (-87.551428197 41.7412427285)</td>\n",
       "      <td>12.323158</td>\n",
       "      <td>5.678947</td>\n",
       "    </tr>\n",
       "    <tr>\n",
       "      <th>2</th>\n",
       "      <td>POINT (-87.551994147 41.7559614313)</td>\n",
       "      <td>12.592500</td>\n",
       "      <td>6.375000</td>\n",
       "    </tr>\n",
       "    <tr>\n",
       "      <th>3</th>\n",
       "      <td>POINT (-87.5590602859 41.727560391)</td>\n",
       "      <td>20.000000</td>\n",
       "      <td>10.800000</td>\n",
       "    </tr>\n",
       "    <tr>\n",
       "      <th>4</th>\n",
       "      <td>POINT (-87.5601889949 41.7535307093)</td>\n",
       "      <td>52.500000</td>\n",
       "      <td>29.200000</td>\n",
       "    </tr>\n",
       "  </tbody>\n",
       "</table>\n",
       "</div>"
      ],
      "text/plain": [
       "                                 PU_Geo  TripTotal  TripMiles\n",
       "0  POINT (-87.5409355129 41.6636706517)  10.370000   3.800000\n",
       "1   POINT (-87.551428197 41.7412427285)  12.323158   5.678947\n",
       "2   POINT (-87.551994147 41.7559614313)  12.592500   6.375000\n",
       "3   POINT (-87.5590602859 41.727560391)  20.000000  10.800000\n",
       "4  POINT (-87.5601889949 41.7535307093)  52.500000  29.200000"
      ]
     },
     "execution_count": 54,
     "metadata": {},
     "output_type": "execute_result"
    }
   ],
   "source": [
    "\n",
    "gdf=testdf.groupby('PU_Geo')['TripTotal','TripMiles'].mean().reset_index()\n",
    "gdf.head()"
   ]
  },
  {
   "cell_type": "code",
   "execution_count": 58,
   "metadata": {},
   "outputs": [],
   "source": [
    "import geopandas as gpd\n",
    "from shapely import wkt\n",
    "\n",
    "gdf['PU_Geo'] = gdf['PU_Geo'].apply(wkt.loads)\n",
    "gdf = gpd.GeoDataFrame(gdf, geometry='PU_Geo')"
   ]
  },
  {
   "cell_type": "code",
   "execution_count": 60,
   "metadata": {},
   "outputs": [
    {
     "data": {
      "text/plain": [
       "<matplotlib.axes._subplots.AxesSubplot at 0x1285b6f98>"
      ]
     },
     "execution_count": 60,
     "metadata": {},
     "output_type": "execute_result"
    },
    {
     "data": {
      "image/png": "[encoded data removed]",
      "text/plain": [
       "<Figure size 432x288 with 1 Axes>"
      ]
     },
     "metadata": {
      "needs_background": "light"
     },
     "output_type": "display_data"
    }
   ],
   "source": [
    "gdf.plot()"
   ]
  },
  {
   "cell_type": "code",
   "execution_count": 68,
   "metadata": {},
   "outputs": [
    {
     "data": {
      "text/html": [
       "<div>\n",
       "<style scoped>\n",
       "    .dataframe tbody tr th:only-of-type {\n",
       "        vertical-align: middle;\n",
       "    }\n",
       "\n",
       "    .dataframe tbody tr th {\n",
       "        vertical-align: top;\n",
       "    }\n",
       "\n",
       "    .dataframe thead th {\n",
       "        text-align: right;\n",
       "    }\n",
       "</style>\n",
       "<table border=\"1\" class=\"dataframe\">\n",
       "  <thead>\n",
       "    <tr style=\"text-align: right;\">\n",
       "      <th></th>\n",
       "      <th>PU_Lat</th>\n",
       "      <th>PU_Long</th>\n",
       "      <th>TripTotal</th>\n",
       "      <th>TripMiles</th>\n",
       "    </tr>\n",
       "  </thead>\n",
       "  <tbody>\n",
       "    <tr>\n",
       "      <th>0</th>\n",
       "      <td>41.650222</td>\n",
       "      <td>-87.599463</td>\n",
       "      <td>12.50</td>\n",
       "      <td>10.5</td>\n",
       "    </tr>\n",
       "    <tr>\n",
       "      <th>1</th>\n",
       "      <td>41.660136</td>\n",
       "      <td>-87.602848</td>\n",
       "      <td>5.00</td>\n",
       "      <td>1.9</td>\n",
       "    </tr>\n",
       "    <tr>\n",
       "      <th>2</th>\n",
       "      <td>41.663671</td>\n",
       "      <td>-87.540936</td>\n",
       "      <td>10.37</td>\n",
       "      <td>3.8</td>\n",
       "    </tr>\n",
       "    <tr>\n",
       "      <th>3</th>\n",
       "      <td>41.684615</td>\n",
       "      <td>-87.671250</td>\n",
       "      <td>7.50</td>\n",
       "      <td>2.8</td>\n",
       "    </tr>\n",
       "    <tr>\n",
       "      <th>4</th>\n",
       "      <td>41.687239</td>\n",
       "      <td>-87.719313</td>\n",
       "      <td>10.00</td>\n",
       "      <td>3.0</td>\n",
       "    </tr>\n",
       "  </tbody>\n",
       "</table>\n",
       "</div>"
      ],
      "text/plain": [
       "      PU_Lat    PU_Long  TripTotal  TripMiles\n",
       "0  41.650222 -87.599463      12.50       10.5\n",
       "1  41.660136 -87.602848       5.00        1.9\n",
       "2  41.663671 -87.540936      10.37        3.8\n",
       "3  41.684615 -87.671250       7.50        2.8\n",
       "4  41.687239 -87.719313      10.00        3.0"
      ]
     },
     "execution_count": 68,
     "metadata": {},
     "output_type": "execute_result"
    }
   ],
   "source": [
    "pdf=testdf.groupby(['PU_Lat','PU_Long'])['TripTotal','TripMiles'].mean().reset_index()\n",
    "pdf.head()"
   ]
  },
  {
   "cell_type": "code",
   "execution_count": 85,
   "metadata": {},
   "outputs": [],
   "source": [
    "ycenter=(testdf.PU_Lat.min()+testdf.PU_Lat.max())/2\n",
    "xcenter=(testdf.PU_Long.min()+testdf.PU_Long.max())/2"
   ]
  },
  {
   "cell_type": "code",
   "execution_count": 100,
   "metadata": {},
   "outputs": [
    {
     "data": {
      "application/vnd.plotly.v1+json": {
       "config": {
        "plotlyServerURL": "https://plot.ly"
       },
       "data": [
        {
         "lat": [
          41.6502216756,
          41.660136050700004,
          41.6636706517,
          41.6846149678,
          41.6872385828,
          41.6888979791,
          41.6897299145,
          41.6906333472,
          41.6948789661,
          41.6972691922,
          41.6997566852,
          41.7008887972,
          41.7028338734,
          41.7032802648,
          41.706125752300004,
          41.7065878819,
          41.7107155901,
          41.713148612,
          41.713903063000004,
          41.7157609069,
          41.7174930361,
          41.7179672564,
          41.7238212509,
          41.7268354017,
          41.727560391,
          41.728182061,
          41.7281820611,
          41.7296764229,
          41.7383553205,
          41.7402057565,
          41.7409601584,
          41.740997711,
          41.7412427285,
          41.7419428604,
          41.7424875717,
          41.7441995348,
          41.744205146300004,
          41.7457577128,
          41.7458424102,
          41.7468832529,
          41.7478369814,
          41.7482105124,
          41.748623179,
          41.7513371286,
          41.7535307093,
          41.7536365322,
          41.7544341714,
          41.7555681774,
          41.7559614313,
          41.7584079022,
          41.7606410373,
          41.7608185316,
          41.7611057444,
          41.7615779081,
          41.761612865500005,
          41.7617023786,
          41.7619610796,
          41.7622466529,
          41.763246798800004,
          41.7646425154,
          41.7653303702,
          41.7666524081,
          41.7681062939,
          41.7686672562,
          41.7687668368,
          41.7692450579,
          41.7696482642,
          41.7696904664,
          41.7697780588,
          41.7697847237,
          41.7718485152,
          41.7736412828,
          41.774931265300005,
          41.7750932671,
          41.775928827399994,
          41.7766915396,
          41.776943780799996,
          41.7769506664,
          41.7771962546,
          41.7772872248,
          41.7788768603,
          41.7795828877,
          41.7822169695,
          41.782376766999995,
          41.7828634535,
          41.7831007248,
          41.7832245177,
          41.7834599172,
          41.7835960152,
          41.785998518,
          41.7872788781,
          41.7895012715,
          41.7897875353,
          41.789965748200004,
          41.7904478989,
          41.7905062613,
          41.7905666284,
          41.7911260852,
          41.7921360843,
          41.7923572233,
          41.7925923603,
          41.7929819032,
          41.794090253,
          41.7949721677,
          41.795430631,
          41.7957602563,
          41.7964631061,
          41.7971534246,
          41.7972547246,
          41.7977434103,
          41.7978270187,
          41.7979652088,
          41.797971191100004,
          41.7980417164,
          41.7986054047,
          41.7987971043,
          41.8002600946,
          41.8015328005,
          41.801654368600005,
          41.8016710371,
          41.8038507848,
          41.804147373,
          41.8048929045,
          41.8049360821,
          41.8049842842,
          41.8059116993,
          41.8059249688,
          41.8060217045,
          41.8067652712,
          41.807617617300004,
          41.8089162826,
          41.8090182499,
          41.809084430300004,
          41.810879007800004,
          41.8129489392,
          41.8130413823,
          41.813200941,
          41.8140038222,
          41.8145620008,
          41.8162234797,
          41.8173662079,
          41.817397869000004,
          41.8174924901,
          41.8199863127,
          41.8201666062,
          41.8201978877,
          41.8205743953,
          41.823712809499995,
          41.8266634583,
          41.8268319106,
          41.8268330147,
          41.8277887624,
          41.8299223039,
          41.8301172027,
          41.8311571825,
          41.8329371807,
          41.8335178865,
          41.83380026,
          41.8340973906,
          41.8346735981,
          41.8349623252,
          41.8350679168,
          41.8351179863,
          41.8361501547,
          41.836510321599995,
          41.8382957974,
          41.839086905900004,
          41.8408329604,
          41.841691118600004,
          41.8417186095,
          41.8418752811,
          41.8419280262,
          41.8420111804,
          41.8420761168,
          41.8423039419,
          41.8441449609,
          41.8446607763,
          41.8462576853,
          41.847431547199996,
          41.8479905727,
          41.8481112196,
          41.848411595500004,
          41.8502663663,
          41.8510178239,
          41.8533354466,
          41.853834685,
          41.855238198,
          41.8552500875,
          41.855501352800005,
          41.8558061709,
          41.8559898728,
          41.8561441046,
          41.856309816999996,
          41.8563332167,
          41.8565067379,
          41.8566586145,
          41.8571838585,
          41.859349715,
          41.8601900192,
          41.860762262399994,
          41.8612808467,
          41.8625777773,
          41.863118103299996,
          41.8634226841,
          41.8637871234,
          41.8679024175,
          41.8681324282,
          41.86911914,
          41.8692744531,
          41.8695838595,
          41.8702687225,
          41.8704150003,
          41.870607372399995,
          41.8710158803,
          41.8712250372,
          41.871351400500004,
          41.87161966,
          41.871689474499995,
          41.874005383000004,
          41.8741766252,
          41.875966299999995,
          41.876592882800004,
          41.8766962871,
          41.8773599627,
          41.8774061234,
          41.8785943576,
          41.8786674201,
          41.8788655841,
          41.8789144956,
          41.8790669938,
          41.8792550844,
          41.8809944707,
          41.88366198,
          41.884144669899996,
          41.8847677845,
          41.8849871918,
          41.8850752975,
          41.8852813201,
          41.885300022399996,
          41.885621155,
          41.8860057857,
          41.8906088526,
          41.890922025900004,
          41.8909693802,
          41.8910854233,
          41.8916970451,
          41.8919483818,
          41.8919715078,
          41.8920421365,
          41.8920726347,
          41.8921964292,
          41.8922767078,
          41.8923550478,
          41.8924331563,
          41.8924931672,
          41.892507780900004,
          41.8926581076,
          41.893216359499995,
          41.8950334495,
          41.895257642800004,
          41.8974257653,
          41.897983898,
          41.8983058696,
          41.8983317935,
          41.898549363600004,
          41.8986254245,
          41.8986992296,
          41.899155613400005,
          41.8994222543,
          41.8994457693,
          41.899506547600005,
          41.8995897957,
          41.899602111,
          41.8997373884,
          41.900069602600006,
          41.9002212967,
          41.9002656868,
          41.9005603836,
          41.9015669095,
          41.902788047600005,
          41.904712000399996,
          41.9049353016,
          41.9056934239,
          41.905820977,
          41.905857768800004,
          41.906025969,
          41.9061678698,
          41.9061861044,
          41.9063227109,
          41.9066385418,
          41.9066507664,
          41.9066839592,
          41.9067077917,
          41.9074128162,
          41.907491930300004,
          41.9079652463,
          41.9083786693,
          41.9094956686,
          41.9116665881,
          41.911788858499996,
          41.9118565923,
          41.9119723006,
          41.9120734929,
          41.9120843819,
          41.91213208,
          41.9123643542,
          41.9124318691,
          41.9128367835,
          41.9128689225,
          41.912925370399996,
          41.914585709099995,
          41.9146023652,
          41.9146162864,
          41.9147473049,
          41.9152908359,
          41.915496209000004,
          41.9155404081,
          41.9157411934,
          41.9159097884,
          41.9160052737,
          41.9164733164,
          41.919181736999995,
          41.9192250505,
          41.9196352314,
          41.920126404,
          41.9201527839,
          41.920265120799996,
          41.9204515116,
          41.9208017043,
          41.9209608656,
          41.9210196071,
          41.9210845826,
          41.9211259143,
          41.9217014922,
          41.921778187600005,
          41.9217783562,
          41.9218549112,
          41.9218774613,
          41.922082541,
          41.9226862843,
          41.9227117587,
          41.9243470769,
          41.9255672296,
          41.9255880881,
          41.9261558167,
          41.9261631049,
          41.9268111821,
          41.9272609555,
          41.9274148582,
          41.927560895300005,
          41.9275798469,
          41.927819073,
          41.9278531896,
          41.9279207294,
          41.9283913974,
          41.9284315635,
          41.9284649843,
          41.928619050900004,
          41.9287630064,
          41.9289459041,
          41.9289672664,
          41.929046936599995,
          41.9290776551,
          41.9292629902,
          41.9293297134,
          41.9297590466,
          41.930578569699996,
          41.9336759885,
          41.9337850524,
          41.9344868721,
          41.9346504482,
          41.9346591566,
          41.9347624564,
          41.9348600057,
          41.935113934899995,
          41.9357064711,
          41.935983574,
          41.9360865352,
          41.936159071,
          41.9362371791,
          41.9363101308,
          41.9374017942,
          41.9374939696,
          41.938232293,
          41.9412904432,
          41.9413116172,
          41.941365660100004,
          41.9414224785,
          41.9414882338,
          41.941555829,
          41.9416281,
          41.9418076152,
          41.9422905548,
          41.942488155300005,
          41.942577185,
          41.942585179699996,
          41.9426918444,
          41.9426995777,
          41.942859303,
          41.9428725376,
          41.9431550855,
          41.9442266014,
          41.9448137543,
          41.9450101512,
          41.9450692053,
          41.9451704528,
          41.9452823311,
          41.946294535700005,
          41.946489764,
          41.9465114202,
          41.9477915865,
          41.948641656999996,
          41.9489087714,
          41.9490605256,
          41.949139770900004,
          41.9492209135,
          41.949473218899996,
          41.9497090767,
          41.949829346,
          41.9498764323,
          41.9499744545,
          41.9502120955,
          41.9504425991,
          41.9506052324,
          41.9506733576,
          41.9526648947,
          41.952719111,
          41.952822915700004,
          41.9534000435,
          41.9535821253,
          41.9540276487,
          41.957264108400004,
          41.9573606908,
          41.957530922,
          41.9576519161,
          41.957735565,
          41.9578433752,
          41.9579038971,
          41.958154875700004,
          41.958797862800004,
          41.9592101847,
          41.9595267906,
          41.9605182177,
          41.960675696799996,
          41.962178629,
          41.9631157548,
          41.9631533106,
          41.9631849658,
          41.9636331692,
          41.9645069548,
          41.9645680449,
          41.964636199299996,
          41.9646477329,
          41.964652354,
          41.965141708699996,
          41.9653625868,
          41.9654457842,
          41.96581197,
          41.966806346300004,
          41.9668340674,
          41.967011760700004,
          41.968069,
          41.969205937,
          41.9702449819,
          41.970288894,
          41.97153938,
          41.972437081100004,
          41.9725625375,
          41.972580800100005,
          41.9725977673,
          41.9726679555,
          41.9727095466,
          41.9729293173,
          41.976811750500005,
          41.978068291999996,
          41.9782942489,
          41.9788295262,
          41.9788750584,
          41.979070820100006,
          41.9797955506,
          41.9798553089,
          41.9799124453,
          41.9801575735,
          41.9802643146,
          41.980506821700004,
          41.980606166,
          41.9808436155,
          41.982272928899995,
          41.9827455952,
          41.982775009099996,
          41.9833308063,
          41.9836363072,
          41.9850151008,
          41.9854724225,
          41.985476499099995,
          41.985916382,
          41.986558180799996,
          41.9867117999,
          41.986808626300004,
          41.9868950432,
          41.9869530579,
          41.9872255578,
          41.9887026463,
          41.9887040216,
          41.9895838002,
          41.9900642527,
          41.9912345323,
          41.9934409461,
          41.9939301285,
          41.994059824000004,
          41.9941436461,
          41.9942252345,
          41.994266094299995,
          41.9943810196,
          41.9944422482,
          41.9956031347,
          41.997153942800004,
          42.000320305900004,
          42.0008748252,
          42.0013132491,
          42.0013159243,
          42.001571027,
          42.0016981937,
          42.0045174875,
          42.004764559,
          42.0056080233,
          42.0076125931,
          42.0084870082,
          42.0085407611,
          42.009018226900004,
          42.0094125471,
          42.0156967498,
          42.0157199072,
          42.0159343756,
          42.0160105638,
          42.0160464924,
          42.0212235931
         ],
         "lon": [
          -87.59946299479999,
          -87.60284764,
          -87.5409355129,
          -87.6712503529,
          -87.7193128934,
          -87.6278050029,
          -87.6690544032,
          -87.57005826860001,
          -87.7131924966,
          -87.69858205370001,
          -87.6280852818,
          -87.60009268600001,
          -87.6891070244,
          -87.6153264942,
          -87.5982558383,
          -87.6233665115,
          -87.6152853223,
          -87.6750753124,
          -87.67714347200001,
          -87.57488816680001,
          -87.64889507209999,
          -87.6132286335,
          -87.61184598530001,
          -87.65789929209998,
          -87.5590602859,
          -87.5964755956,
          -87.5964755956,
          -87.5727171342,
          -87.7313088248,
          -87.6159695226,
          -87.6097621427,
          -87.6011081642,
          -87.551428197,
          -87.5790888158,
          -87.6300448953,
          -87.5863483178,
          -87.65630598620001,
          -87.70836570430001,
          -87.5917077725,
          -87.57260730520001,
          -87.6488131191,
          -87.61007496629999,
          -87.6013151779,
          -87.7268701739,
          -87.5601889949,
          -87.6954008836,
          -87.63218455399999,
          -87.5836072899,
          -87.551994147,
          -87.56284738379999,
          -87.5811855611,
          -87.70270084120001,
          -87.68558966180001,
          -87.5727819867,
          -87.6492088283,
          -87.6298717446,
          -87.6200146997,
          -87.73205902549999,
          -87.61613411120001,
          -87.5635848124,
          -87.71720734370001,
          -87.67115481340001,
          -87.69800080389999,
          -87.6289833139,
          -87.6493598032,
          -87.6201776393,
          -87.5893233661,
          -87.58134950870001,
          -87.7269298425,
          -87.5739519554,
          -87.69566634200001,
          -87.69326510229999,
          -87.7299764859,
          -87.71776197,
          -87.6665962653,
          -87.6106933,
          -87.62322002879999,
          -87.5963032107,
          -87.64249752709999,
          -87.693341249,
          -87.5949254391,
          -87.768510849,
          -87.7301873353,
          -87.71785545690001,
          -87.6205583422,
          -87.6084265019,
          -87.5986973707,
          -87.5935368954,
          -87.69839230870001,
          -87.7509342894,
          -87.6343417807,
          -87.7303971516,
          -87.7084167286,
          -87.6985727117,
          -87.5904311285,
          -87.58314371690001,
          -87.5940154442,
          -87.6183216222,
          -87.61093934870001,
          -87.6179313803,
          -87.76961545280001,
          -87.7242081939,
          -87.592310855,
          -87.73052511799999,
          -87.6964352325,
          -87.79158835049999,
          -87.75751986469999,
          -87.5823657023,
          -87.698781345,
          -87.65982286319999,
          -87.6037457654,
          -87.5896070309,
          -87.5989445134,
          -87.5941966274,
          -87.73242804270001,
          -87.7086378647,
          -87.6175761725,
          -87.6017598207,
          -87.6405079844,
          -87.59426569850001,
          -87.6212199892,
          -87.73082848959999,
          -87.6721661068,
          -87.66730425709999,
          -87.7191065101,
          -87.58747925809999,
          -87.60405862489999,
          -87.59434798459999,
          -87.6089492784,
          -87.6214361442,
          -87.5961833442,
          -87.6591665992,
          -87.63242452450001,
          -87.72636332459999,
          -87.6178596758,
          -87.59947660200001,
          -87.6042092221,
          -87.6116848803,
          -87.699310391,
          -87.6516929533,
          -87.6988607973,
          -87.6920317308,
          -87.686845262,
          -87.69949669719999,
          -87.62149920600001,
          -87.6101001049,
          -87.6149864759,
          -87.60235043719999,
          -87.6799067059,
          -87.6637988716,
          -87.67292553940001,
          -87.6141870291,
          -87.67250264639999,
          -87.72380413299999,
          -87.638333371,
          -87.6535834197,
          -87.6813558293,
          -87.6675715595,
          -87.61928951879999,
          -87.6108347373,
          -87.62515412719999,
          -87.6431623703,
          -87.6186777673,
          -87.6487879519,
          -87.65315870010001,
          -87.69675633950001,
          -87.71400380700001,
          -87.7073712344,
          -87.61256394709999,
          -87.6439324936,
          -87.63202859270001,
          -87.62836651030001,
          -87.62203646120001,
          -87.63397342219999,
          -87.65551628889999,
          -87.68299620959999,
          -87.64907224379999,
          -87.6975319159,
          -87.6635286858,
          -87.7173345017,
          -87.70758182809999,
          -87.69143048069999,
          -87.66756931200001,
          -87.6350918563,
          -87.7143824837,
          -87.6935387966,
          -87.7224042748,
          -87.6547394924,
          -87.68322716799999,
          -87.6746905879,
          -87.6649068859,
          -87.6489783241,
          -87.64420928700001,
          -87.65956423909999,
          -87.65226129610001,
          -87.71573263299999,
          -87.6203346241,
          -87.6173580061,
          -87.71722009999999,
          -87.7006919027,
          -87.6305800611,
          -87.7201851765,
          -87.672920435,
          -87.6537566193,
          -87.6925159284,
          -87.6429586652,
          -87.71421470770001,
          -87.75606770450001,
          -87.66404724120001,
          -87.6592046708,
          -87.68491392610001,
          -87.6750856208,
          -87.6221729369,
          -87.6314065252,
          -87.72895809479999,
          -87.6886749004,
          -87.7055526328,
          -87.6540926517,
          -87.66351754979999,
          -87.6618611238,
          -87.6937939017,
          -87.7598126285,
          -87.7521052352,
          -87.7035622954,
          -87.62197165190001,
          -87.7302324284,
          -87.6716536214,
          -87.6251921424,
          -87.70589713049999,
          -87.65700502700001,
          -87.642648998,
          -87.63274648870001,
          -87.7698815509,
          -87.7478743394,
          -87.6841474493,
          -87.6209929134,
          -87.7138533806,
          -87.65723319969999,
          -87.6428084655,
          -87.6988915914,
          -87.671873941,
          -87.75604671110001,
          -87.6188683546,
          -87.770122842,
          -87.7603493864,
          -87.7021052472,
          -87.6891259086,
          -87.6129454143,
          -87.63186394969999,
          -87.62887415719999,
          -87.68428940049999,
          -87.6793974791,
          -87.67450678799999,
          -87.6696239301,
          -87.6647458359,
          -87.6262149064,
          -87.6525344838,
          -87.6378442095,
          -87.6197106717,
          -87.73351805120001,
          -87.6993744036,
          -87.6414915334,
          -87.6536139825,
          -87.6207628651,
          -87.7606043246,
          -87.7520115624,
          -87.7088084239,
          -87.6262105324,
          -87.68449012200001,
          -87.68931919010001,
          -87.6796002867,
          -87.67471913450001,
          -87.6333080367,
          -87.6649539167,
          -87.7209182385,
          -87.6291051864,
          -87.6321092196,
          -87.6941973701,
          -87.6384040116,
          -87.62614558959999,
          -87.7018845586,
          -87.64990722639999,
          -87.7706325599,
          -87.76081298940001,
          -87.63086502659999,
          -87.6753116216,
          -87.7338570193,
          -87.75147433229999,
          -87.7215382944,
          -87.6895798343,
          -87.66533765959998,
          -87.7103539349,
          -87.6846859492,
          -87.6409015248,
          -87.6357600901,
          -87.6945342821,
          -87.67094507520001,
          -87.630963601,
          -87.7339509975,
          -87.7215097031,
          -87.7100873222,
          -87.6836429218,
          -87.6994797204,
          -87.6945983,
          -87.68971127479999,
          -87.6750627566,
          -87.6701891476,
          -87.7608843709,
          -87.64107074620001,
          -87.7753675003,
          -87.6459662069,
          -87.79681551780001,
          -87.6317173661,
          -87.6540070286,
          -87.73228691979999,
          -87.7101956338,
          -87.7200993558,
          -87.69225632620001,
          -87.6838259399,
          -87.67509511549999,
          -87.6411836567,
          -87.72124855540001,
          -87.671445766,
          -87.72967913389999,
          -87.76078891120001,
          -87.780270163,
          -87.7705377644,
          -87.67995476780001,
          -87.6945323419,
          -87.7152528177,
          -87.7103591445,
          -87.704648384,
          -87.69975440649999,
          -87.6559118484,
          -87.6510618838,
          -87.6414597588,
          -87.64621097690001,
          -87.66407823950001,
          -87.63415609309999,
          -87.6494887289,
          -87.7218357934,
          -87.73473975360001,
          -87.7123276017,
          -87.7976006842,
          -87.7215645012,
          -87.7610398751,
          -87.6426052473,
          -87.7655016086,
          -87.7804606984,
          -87.7707373282,
          -87.7880088189,
          -87.7513626916,
          -87.7356259487,
          -87.7441073767,
          -87.70490723549999,
          -87.6999685912,
          -87.6950866748,
          -87.685362024,
          -87.665676837,
          -87.6608925701,
          -87.6561568309,
          -87.6513108767,
          -87.64629347620001,
          -87.63589095389999,
          -87.7119742544,
          -87.724267094,
          -87.64220631270001,
          -87.7123574755,
          -87.7220523299,
          -87.79863595270001,
          -87.6346478774,
          -87.64672972860001,
          -87.63985385870001,
          -87.77123192459999,
          -87.7516489576,
          -87.7038545435,
          -87.6758219283,
          -87.6661106945,
          -87.6612652184,
          -87.6564115308,
          -87.6515625922,
          -87.7223302976,
          -87.7099873375,
          -87.64678208129999,
          -87.8307079799,
          -87.68561581719999,
          -87.6808269032,
          -87.67595393190001,
          -87.671107656,
          -87.6662888874,
          -87.6614433685,
          -87.79652377629999,
          -87.76171772139999,
          -87.7471543225,
          -87.6470785093,
          -87.6566440918,
          -87.6517705068,
          -87.7310024842,
          -87.71750385799999,
          -87.701330291,
          -87.640698076,
          -87.6559981815,
          -87.69077500979999,
          -87.6809282247,
          -87.67606273950001,
          -87.6687944391,
          -87.6615450961,
          -87.65429808370001,
          -87.647113634,
          -87.8060200025,
          -87.6838349425,
          -87.8273819062,
          -87.8127108296,
          -87.66164290389999,
          -87.65680390879999,
          -87.65197039530001,
          -87.77175822299999,
          -87.75211841469999,
          -87.64396537030001,
          -87.73814189059999,
          -87.7306842554,
          -87.71281423149999,
          -87.68350623049999,
          -87.67133248799999,
          -87.6665362813,
          -87.74524320479999,
          -87.66050350190001,
          -87.6532439924,
          -87.64600706639999,
          -87.72345239049999,
          -87.7633990316,
          -87.73089878489999,
          -87.72282225129999,
          -87.66661144049999,
          -87.6915302475,
          -87.68371810200001,
          -87.67637328100001,
          -87.671518011,
          -87.6530217894,
          -87.7383939059,
          -87.7129731725,
          -87.7020985409,
          -87.7622859818,
          -87.7524091367,
          -87.6453787624,
          -87.71322933479999,
          -87.6922587601,
          -87.6838545561,
          -87.6523653588,
          -87.7027334697,
          -87.77226499049999,
          -87.74278787690001,
          -87.72589101540001,
          -87.72101676870001,
          -87.67657807139999,
          -87.7318327391,
          -87.66319584950001,
          -87.6558787862,
          -87.6940200973,
          -87.68401837120001,
          -87.6706210432,
          -87.72155906270001,
          -87.72316897420001,
          -87.7134353285,
          -87.759857019,
          -87.7389372047,
          -87.67110952629999,
          -87.67884596620002,
          -87.69400106120001,
          -87.7237819658,
          -87.66386549559999,
          -87.6573411073,
          -87.6502900743,
          -87.70194107399999,
          -87.81978911379998,
          -87.7164304157,
          -87.77116670299999,
          -87.6578712629,
          -87.90303966110001,
          -87.6714455473,
          -87.6940960217,
          -87.6641882421,
          -87.6522740174,
          -87.913624596,
          -87.82667618229999,
          -87.6545378676,
          -87.7360839271,
          -87.84158643190001,
          -87.65796634700001,
          -87.87730539959999,
          -87.681993542,
          -87.7235831853,
          -87.8045320063,
          -87.6537935286,
          -87.6583976702,
          -87.7689702414,
          -87.7133688039,
          -87.66341640540001,
          -87.6944151909,
          -87.7036682732,
          -87.6720809941,
          -87.6649377243,
          -87.8044048124,
          -87.6572348282,
          -87.78301327969999,
          -87.7239678299,
          -87.6573042698,
          -87.6574177422,
          -87.7583535876,
          -87.69463071940001,
          -87.7048934862,
          -87.68607688120001,
          -87.6786882109,
          -87.672538401,
          -87.6652247765,
          -87.79426929590001,
          -87.6574987907,
          -87.6631267998,
          -87.70180290399999,
          -87.684198195,
          -87.69363749360001,
          -87.6950125892,
          -87.6735740325,
          -87.66332785879999,
          -87.65912242700001,
          -87.8130981301,
          -87.8137810343,
          -87.6859131333,
          -87.6949637498,
          -87.6727239593,
          -87.66395821440001,
          -87.69966304190001,
          -87.6871159899,
          -87.66653627790001,
          -87.680162272,
          -87.6733337784,
          -87.66982477209999
         ],
         "marker": {
          "size": [
           12.5,
           5,
           10.37,
           7.5,
           10,
           10,
           13.732222222222223,
           9.642857142857142,
           22.324,
           10.15,
           25.33,
           19.445,
           12.8,
           9.166666666666666,
           9.49,
           11.916666666666666,
           10,
           15,
           22.5,
           7.5600000000000005,
           11.05235294117647,
           12.5,
           20,
           15.732,
           20,
           10,
           12.5,
           14.041666666666666,
           10,
           9.05,
           5,
           8.75,
           12.323157894736841,
           22.5,
           11.93,
           8.928571428571429,
           12.873437500000001,
           12.995454545454544,
           22.5,
           10,
           12.5,
           14.166666666666666,
           17.5,
           15,
           52.5,
           2.5,
           9.375,
           15,
           12.5925,
           7.5,
           20,
           5,
           11.19,
           14.164230769230768,
           7.5,
           8.75,
           16.666666666666668,
           20,
           9.81111111111111,
           24.9,
           38.55,
           20,
           10,
           14.75,
           12.5,
           5,
           21.25,
           16.75,
           10.681818181818182,
           15.25,
           10.040909090909091,
           17.5,
           10,
           10,
           9.291363636363636,
           14.166666666666666,
           2.5,
           10,
           11.477272727272727,
           5,
           11.25,
           16.80090909090909,
           10,
           10,
           15,
           15,
           8.75,
           17.5,
           18.75,
           34.583853211009185,
           10,
           7.5,
           23.75,
           7.5,
           23.75,
           14.857142857142858,
           20.928571428571427,
           10,
           7.5,
           8.4375,
           14.507619047619047,
           7.535454545454545,
           14.053478260869564,
           17.5,
           9.071428571428571,
           10,
           12.5,
           15.625,
           11.16,
           12.5,
           10.642857142857142,
           11.30952380952381,
           14.43,
           18.75,
           11.75,
           10,
           47.5,
           7.5,
           17.7,
           17.5,
           11.25,
           10.833333333333334,
           10,
           15,
           7.5,
           12.770666666666667,
           8,
           18.75,
           10.071428571428571,
           10,
           11.5,
           9.608260869565218,
           7.083333333333333,
           10.227272727272727,
           12.055714285714286,
           10,
           5,
           10.833333333333334,
           10,
           16.25,
           9.03,
           17.75,
           5,
           5,
           13.333333333333334,
           12.5,
           18.5,
           12.5,
           9.25,
           14.166666666666666,
           17.5,
           12.5,
           10.742727272727272,
           16,
           17.5,
           14.408333333333335,
           15.2,
           10,
           10,
           11.605263157894736,
           17.258333333333333,
           10.833333333333334,
           12.595238095238095,
           9.977272727272727,
           14.583333333333334,
           5,
           10.7875,
           17.5,
           10.8,
           9.166666666666666,
           15,
           22.5,
           12.510625000000001,
           10.666666666666666,
           5,
           13.85,
           12.5,
           11.25,
           14.27125,
           27.5,
           12.5,
           10,
           13.052727272727271,
           13.471794871794874,
           10.55,
           12.5,
           8.5,
           10,
           13.492727272727272,
           9.257142857142856,
           11.785714285714286,
           10.625,
           8.571428571428571,
           11.552631578947368,
           11,
           13.75,
           13.75,
           12.71079096045198,
           11.339285714285714,
           22.5,
           12.65,
           5,
           9.5,
           11.059999999999999,
           19.216666666666665,
           9.748,
           10,
           13.214285714285714,
           13.1625,
           7,
           7.5,
           11.255666666666666,
           13.187395833333332,
           10.644459459459458,
           35,
           10,
           11.25,
           10.823529411764707,
           13.434313725490195,
           11.5,
           10,
           17.5,
           2.5,
           2.5,
           13.543972602739727,
           10.338666666666665,
           13.194444444444445,
           15.070833333333333,
           11.583461538461538,
           13.16247619047619,
           11.912500000000001,
           12.948347107438025,
           15,
           15,
           9.727272727272727,
           13.039500000000004,
           7.5,
           11.478909090909092,
           11.491796407185626,
           6.25,
           12.031578947368422,
           11.220930232558139,
           14.466171428571428,
           10.666666666666666,
           15,
           5,
           9.167142857142858,
           13.640810810810809,
           12.549618320610692,
           12.052056074766355,
           8.25,
           10.226428571428572,
           10.470588235294118,
           12.254117647058823,
           10.764,
           14.110041152263383,
           10.13322033898305,
           11.098577075098817,
           13.396074074074072,
           12.5,
           6.25,
           9.882352941176471,
           11.037868852459015,
           11.684653465346532,
           17.62,
           5,
           7.125,
           13.00251748251748,
           20,
           13.636363636363637,
           11.55655172413793,
           10.2788,
           16.90685714285714,
           10.54814814814815,
           11.947916666666666,
           11.775588235294116,
           10.980535714285717,
           13.63,
           10.676111111111112,
           14.0209375,
           7.2925,
           11.0415873015873,
           14.833333333333334,
           7.5,
           10.800363636363636,
           12.578831168831169,
           18.8,
           13.75,
           10,
           11.764761904761905,
           13.672,
           13.8,
           14.892857142857142,
           12.332500000000001,
           11.068521739130434,
           9.583333333333334,
           11.465000000000002,
           8.9536,
           20,
           10,
           6.25,
           12.14,
           14.375,
           10,
           8.75,
           13.103684210526318,
           10.1,
           7.5,
           8.76,
           30.485,
           14.176111111111112,
           12.6,
           10.371785714285712,
           11.620892857142858,
           10,
           9.4,
           7.5,
           13.9625,
           12.675,
           12.45607142857143,
           21.788,
           8.75,
           11.26,
           14.375,
           10,
           12.5,
           10,
           12.704,
           10.594347826086956,
           12.5,
           14.955,
           10.70875,
           12.172727272727274,
           12.666666666666666,
           10.838627450980391,
           12.362380952380953,
           12.169032258064519,
           10.684411764705883,
           12.750363636363634,
           12.916666666666666,
           10,
           9.46888888888889,
           13.666666666666666,
           9.625,
           35.5,
           15,
           9.6,
           11.758620689655173,
           15,
           5,
           18.9,
           7.5,
           11.227142857142857,
           8.75,
           10.039411764705884,
           13.2,
           12.142857142857142,
           10.583333333333334,
           11.018888888888888,
           10.32,
           12.015909090909092,
           10.614250000000002,
           12.74531914893617,
           15.711785714285714,
           12.957083333333335,
           15.559999999999999,
           10.496486486486486,
           11.25,
           26.599999999999998,
           11.25,
           11.25,
           10.175277777777778,
           11.775,
           10,
           10,
           10.686666666666667,
           11.23857142857143,
           11.818181818181818,
           11.966999999999999,
           11.822727272727274,
           12.840652173913043,
           14.559999999999999,
           9.4,
           12.445454545454545,
           12.5,
           11.25,
           18.75,
           14.064285714285715,
           14.133529411764705,
           11.107777777777777,
           12.966666666666667,
           20.475,
           13.75,
           10,
           13.079655172413792,
           18.367307692307694,
           12.89698113207547,
           12.666666666666666,
           11.557692307692308,
           11.222222222222221,
           13.051666666666666,
           12.938999999999998,
           13.5,
           15.3,
           9.166666666666666,
           12.057142857142857,
           10.208333333333334,
           11.782608695652174,
           11.75,
           16.01111111111111,
           13.410769230769231,
           23.45,
           17.5,
           14.833333333333334,
           13.907142857142858,
           11.371666666666668,
           7.5,
           15.625,
           10.918536585365855,
           12.5,
           12.5,
           14.605,
           17.742727272727276,
           13.055555555555555,
           14.873333333333333,
           11.666666666666666,
           28.433333333333334,
           16.453181818181818,
           11.148333333333333,
           13.733499999999998,
           12.297916666666666,
           22.5,
           12.5,
           14.954545454545455,
           19.166666666666668,
           12.2375,
           13.1875,
           15.05875,
           12.396153846153847,
           15.928571428571429,
           13.75,
           20.75,
           11.875,
           6.666666666666667,
           15.538000000000002,
           18.666666666666668,
           10,
           10.25,
           12.5,
           10.428571428571429,
           5,
           14.583333333333334,
           8.5,
           12.5,
           11.6875,
           5,
           15.151875,
           13.555555555555555,
           11.4,
           9.875,
           10,
           10.904761904761905,
           18.333333333333332,
           11.3625,
           16.038,
           15,
           13.166666666666666,
           12.87909090909091,
           15.36923076923077,
           22.5,
           12.590714285714284,
           16.045,
           11.5,
           12.5,
           17.0625,
           21.2875,
           12.590909090909092,
           10,
           38.494515151515195,
           13.090000000000002,
           14.2,
           12.5,
           8.625,
           23.829,
           10,
           7.5,
           30,
           16.9,
           12,
           18.075,
           10.135,
           15.1875,
           13.071428571428571,
           26.25,
           12.5,
           16.666666666666668,
           7.5,
           13.863636363636363,
           13.333333333333334,
           10,
           11.875,
           15.13,
           7.5,
           21.215,
           12.5,
           11.25,
           11.666666666666666,
           18.75,
           12.8,
           16.891666666666666,
           7.5,
           10.083333333333334,
           8.916666666666666,
           22.5,
           13.333333333333334,
           14.5,
           27.5,
           16.166666666666668,
           7.5,
           16.1,
           17.65,
           12.833333333333334,
           9.7,
           12.8125,
           21.5,
           11.7,
           10.598,
           12.666666666666666,
           46.25,
           8.055555555555555,
           12.714285714285714,
           10.625,
           13.5,
           12.1875,
           7.5,
           7.25,
           11.875
          ]
         },
         "mode": "markers",
         "type": "scattergeo"
        }
       ],
       "layout": {
        "autosize": true,
        "geo": {
         "center": {
          "lat": 41.83572263435,
          "lon": -87.72728005445
         },
         "projection": {
          "scale": 120
         }
        },
        "hovermode": "closest",
        "template": {
         "data": {
          "bar": [
           {
            "error_x": {
             "color": "#2a3f5f"
            },
            "error_y": {
             "color": "#2a3f5f"
            },
            "marker": {
             "line": {
              "color": "#E5ECF6",
              "width": 0.5
             }
            },
            "type": "bar"
           }
          ],
          "barpolar": [
           {
            "marker": {
             "line": {
              "color": "#E5ECF6",
              "width": 0.5
             }
            },
            "type": "barpolar"
           }
          ],
          "carpet": [
           {
            "aaxis": {
             "endlinecolor": "#2a3f5f",
             "gridcolor": "white",
             "linecolor": "white",
             "minorgridcolor": "white",
             "startlinecolor": "#2a3f5f"
            },
            "baxis": {
             "endlinecolor": "#2a3f5f",
             "gridcolor": "white",
             "linecolor": "white",
             "minorgridcolor": "white",
             "startlinecolor": "#2a3f5f"
            },
            "type": "carpet"
           }
          ],
          "choropleth": [
           {
            "colorbar": {
             "outlinewidth": 0,
             "ticks": ""
            },
            "type": "choropleth"
           }
          ],
          "contour": [
           {
            "colorbar": {
             "outlinewidth": 0,
             "ticks": ""
            },
            "colorscale": [
             [
              0,
              "#0d0887"
             ],
             [
              0.1111111111111111,
              "#46039f"
             ],
             [
              0.2222222222222222,
              "#7201a8"
             ],
             [
              0.3333333333333333,
              "#9c179e"
             ],
             [
              0.4444444444444444,
              "#bd3786"
             ],
             [
              0.5555555555555556,
              "#d8576b"
             ],
             [
              0.6666666666666666,
              "#ed7953"
             ],
             [
              0.7777777777777778,
              "#fb9f3a"
             ],
             [
              0.8888888888888888,
              "#fdca26"
             ],
             [
              1,
              "#f0f921"
             ]
            ],
            "type": "contour"
           }
          ],
          "contourcarpet": [
           {
            "colorbar": {
             "outlinewidth": 0,
             "ticks": ""
            },
            "type": "contourcarpet"
           }
          ],
          "heatmap": [
           {
            "colorbar": {
             "outlinewidth": 0,
             "ticks": ""
            },
            "colorscale": [
             [
              0,
              "#0d0887"
             ],
             [
              0.1111111111111111,
              "#46039f"
             ],
             [
              0.2222222222222222,
              "#7201a8"
             ],
             [
              0.3333333333333333,
              "#9c179e"
             ],
             [
              0.4444444444444444,
              "#bd3786"
             ],
             [
              0.5555555555555556,
              "#d8576b"
             ],
             [
              0.6666666666666666,
              "#ed7953"
             ],
             [
              0.7777777777777778,
              "#fb9f3a"
             ],
             [
              0.8888888888888888,
              "#fdca26"
             ],
             [
              1,
              "#f0f921"
             ]
            ],
            "type": "heatmap"
           }
          ],
          "heatmapgl": [
           {
            "colorbar": {
             "outlinewidth": 0,
             "ticks": ""
            },
            "colorscale": [
             [
              0,
              "#0d0887"
             ],
             [
              0.1111111111111111,
              "#46039f"
             ],
             [
              0.2222222222222222,
              "#7201a8"
             ],
             [
              0.3333333333333333,
              "#9c179e"
             ],
             [
              0.4444444444444444,
              "#bd3786"
             ],
             [
              0.5555555555555556,
              "#d8576b"
             ],
             [
              0.6666666666666666,
              "#ed7953"
             ],
             [
              0.7777777777777778,
              "#fb9f3a"
             ],
             [
              0.8888888888888888,
              "#fdca26"
             ],
             [
              1,
              "#f0f921"
             ]
            ],
            "type": "heatmapgl"
           }
          ],
          "histogram": [
           {
            "marker": {
             "colorbar": {
              "outlinewidth": 0,
              "ticks": ""
             }
            },
            "type": "histogram"
           }
          ],
          "histogram2d": [
           {
            "colorbar": {
             "outlinewidth": 0,
             "ticks": ""
            },
            "colorscale": [
             [
              0,
              "#0d0887"
             ],
             [
              0.1111111111111111,
              "#46039f"
             ],
             [
              0.2222222222222222,
              "#7201a8"
             ],
             [
              0.3333333333333333,
              "#9c179e"
             ],
             [
              0.4444444444444444,
              "#bd3786"
             ],
             [
              0.5555555555555556,
              "#d8576b"
             ],
             [
              0.6666666666666666,
              "#ed7953"
             ],
             [
              0.7777777777777778,
              "#fb9f3a"
             ],
             [
              0.8888888888888888,
              "#fdca26"
             ],
             [
              1,
              "#f0f921"
             ]
            ],
            "type": "histogram2d"
           }
          ],
          "histogram2dcontour": [
           {
            "colorbar": {
             "outlinewidth": 0,
             "ticks": ""
            },
            "colorscale": [
             [
              0,
              "#0d0887"
             ],
             [
              0.1111111111111111,
              "#46039f"
             ],
             [
              0.2222222222222222,
              "#7201a8"
             ],
             [
              0.3333333333333333,
              "#9c179e"
             ],
             [
              0.4444444444444444,
              "#bd3786"
             ],
             [
              0.5555555555555556,
              "#d8576b"
             ],
             [
              0.6666666666666666,
              "#ed7953"
             ],
             [
              0.7777777777777778,
              "#fb9f3a"
             ],
             [
              0.8888888888888888,
              "#fdca26"
             ],
             [
              1,
              "#f0f921"
             ]
            ],
            "type": "histogram2dcontour"
           }
          ],
          "mesh3d": [
           {
            "colorbar": {
             "outlinewidth": 0,
             "ticks": ""
            },
            "type": "mesh3d"
           }
          ],
          "parcoords": [
           {
            "line": {
             "colorbar": {
              "outlinewidth": 0,
              "ticks": ""
             }
            },
            "type": "parcoords"
           }
          ],
          "scatter": [
           {
            "marker": {
             "colorbar": {
              "outlinewidth": 0,
              "ticks": ""
             }
            },
            "type": "scatter"
           }
          ],
          "scatter3d": [
           {
            "line": {
             "colorbar": {
              "outlinewidth": 0,
              "ticks": ""
             }
            },
            "marker": {
             "colorbar": {
              "outlinewidth": 0,
              "ticks": ""
             }
            },
            "type": "scatter3d"
           }
          ],
          "scattercarpet": [
           {
            "marker": {
             "colorbar": {
              "outlinewidth": 0,
              "ticks": ""
             }
            },
            "type": "scattercarpet"
           }
          ],
          "scattergeo": [
           {
            "marker": {
             "colorbar": {
              "outlinewidth": 0,
              "ticks": ""
             }
            },
            "type": "scattergeo"
           }
          ],
          "scattergl": [
           {
            "marker": {
             "colorbar": {
              "outlinewidth": 0,
              "ticks": ""
             }
            },
            "type": "scattergl"
           }
          ],
          "scattermapbox": [
           {
            "marker": {
             "colorbar": {
              "outlinewidth": 0,
              "ticks": ""
             }
            },
            "type": "scattermapbox"
           }
          ],
          "scatterpolar": [
           {
            "marker": {
             "colorbar": {
              "outlinewidth": 0,
              "ticks": ""
             }
            },
            "type": "scatterpolar"
           }
          ],
          "scatterpolargl": [
           {
            "marker": {
             "colorbar": {
              "outlinewidth": 0,
              "ticks": ""
             }
            },
            "type": "scatterpolargl"
           }
          ],
          "scatterternary": [
           {
            "marker": {
             "colorbar": {
              "outlinewidth": 0,
              "ticks": ""
             }
            },
            "type": "scatterternary"
           }
          ],
          "surface": [
           {
            "colorbar": {
             "outlinewidth": 0,
             "ticks": ""
            },
            "colorscale": [
             [
              0,
              "#0d0887"
             ],
             [
              0.1111111111111111,
              "#46039f"
             ],
             [
              0.2222222222222222,
              "#7201a8"
             ],
             [
              0.3333333333333333,
              "#9c179e"
             ],
             [
              0.4444444444444444,
              "#bd3786"
             ],
             [
              0.5555555555555556,
              "#d8576b"
             ],
             [
              0.6666666666666666,
              "#ed7953"
             ],
             [
              0.7777777777777778,
              "#fb9f3a"
             ],
             [
              0.8888888888888888,
              "#fdca26"
             ],
             [
              1,
              "#f0f921"
             ]
            ],
            "type": "surface"
           }
          ],
          "table": [
           {
            "cells": {
             "fill": {
              "color": "#EBF0F8"
             },
             "line": {
              "color": "white"
             }
            },
            "header": {
             "fill": {
              "color": "#C8D4E3"
             },
             "line": {
              "color": "white"
             }
            },
            "type": "table"
           }
          ]
         },
         "layout": {
          "annotationdefaults": {
           "arrowcolor": "#2a3f5f",
           "arrowhead": 0,
           "arrowwidth": 1
          },
          "colorscale": {
           "diverging": [
            [
             0,
             "#8e0152"
            ],
            [
             0.1,
             "#c51b7d"
            ],
            [
             0.2,
             "#de77ae"
            ],
            [
             0.3,
             "#f1b6da"
            ],
            [
             0.4,
             "#fde0ef"
            ],
            [
             0.5,
             "#f7f7f7"
            ],
            [
             0.6,
             "#e6f5d0"
            ],
            [
             0.7,
             "#b8e186"
            ],
            [
             0.8,
             "#7fbc41"
            ],
            [
             0.9,
             "#4d9221"
            ],
            [
             1,
             "#276419"
            ]
           ],
           "sequential": [
            [
             0,
             "#0d0887"
            ],
            [
             0.1111111111111111,
             "#46039f"
            ],
            [
             0.2222222222222222,
             "#7201a8"
            ],
            [
             0.3333333333333333,
             "#9c179e"
            ],
            [
             0.4444444444444444,
             "#bd3786"
            ],
            [
             0.5555555555555556,
             "#d8576b"
            ],
            [
             0.6666666666666666,
             "#ed7953"
            ],
            [
             0.7777777777777778,
             "#fb9f3a"
            ],
            [
             0.8888888888888888,
             "#fdca26"
            ],
            [
             1,
             "#f0f921"
            ]
           ],
           "sequentialminus": [
            [
             0,
             "#0d0887"
            ],
            [
             0.1111111111111111,
             "#46039f"
            ],
            [
             0.2222222222222222,
             "#7201a8"
            ],
            [
             0.3333333333333333,
             "#9c179e"
            ],
            [
             0.4444444444444444,
             "#bd3786"
            ],
            [
             0.5555555555555556,
             "#d8576b"
            ],
            [
             0.6666666666666666,
             "#ed7953"
            ],
            [
             0.7777777777777778,
             "#fb9f3a"
            ],
            [
             0.8888888888888888,
             "#fdca26"
            ],
            [
             1,
             "#f0f921"
            ]
           ]
          },
          "colorway": [
           "#636efa",
           "#EF553B",
           "#00cc96",
           "#ab63fa",
           "#FFA15A",
           "#19d3f3",
           "#FF6692",
           "#B6E880",
           "#FF97FF",
           "#FECB52"
          ],
          "font": {
           "color": "#2a3f5f"
          },
          "geo": {
           "bgcolor": "white",
           "lakecolor": "white",
           "landcolor": "#E5ECF6",
           "showlakes": true,
           "showland": true,
           "subunitcolor": "white"
          },
          "hoverlabel": {
           "align": "left"
          },
          "hovermode": "closest",
          "mapbox": {
           "style": "light"
          },
          "paper_bgcolor": "white",
          "plot_bgcolor": "#E5ECF6",
          "polar": {
           "angularaxis": {
            "gridcolor": "white",
            "linecolor": "white",
            "ticks": ""
           },
           "bgcolor": "#E5ECF6",
           "radialaxis": {
            "gridcolor": "white",
            "linecolor": "white",
            "ticks": ""
           }
          },
          "scene": {
           "xaxis": {
            "backgroundcolor": "#E5ECF6",
            "gridcolor": "white",
            "gridwidth": 2,
            "linecolor": "white",
            "showbackground": true,
            "ticks": "",
            "zerolinecolor": "white"
           },
           "yaxis": {
            "backgroundcolor": "#E5ECF6",
            "gridcolor": "white",
            "gridwidth": 2,
            "linecolor": "white",
            "showbackground": true,
            "ticks": "",
            "zerolinecolor": "white"
           },
           "zaxis": {
            "backgroundcolor": "#E5ECF6",
            "gridcolor": "white",
            "gridwidth": 2,
            "linecolor": "white",
            "showbackground": true,
            "ticks": "",
            "zerolinecolor": "white"
           }
          },
          "shapedefaults": {
           "line": {
            "color": "#2a3f5f"
           }
          },
          "ternary": {
           "aaxis": {
            "gridcolor": "white",
            "linecolor": "white",
            "ticks": ""
           },
           "baxis": {
            "gridcolor": "white",
            "linecolor": "white",
            "ticks": ""
           },
           "bgcolor": "#E5ECF6",
           "caxis": {
            "gridcolor": "white",
            "linecolor": "white",
            "ticks": ""
           }
          },
          "title": {
           "x": 0.05
          },
          "xaxis": {
           "automargin": true,
           "gridcolor": "white",
           "linecolor": "white",
           "ticks": "",
           "zerolinecolor": "white",
           "zerolinewidth": 2
          },
          "yaxis": {
           "automargin": true,
           "gridcolor": "white",
           "linecolor": "white",
           "ticks": "",
           "zerolinecolor": "white",
           "zerolinewidth": 2
          }
         }
        },
        "title": {
         "text": "Usage"
        }
       }
      },
      "text/html": [
       "<div>\n",
       "        \n",
       "        \n",
       "            <div id=\"9574d132-c3cb-42cc-b680-e54fd6071f62\" class=\"plotly-graph-div\" style=\"height:525px; width:100%;\"></div>\n",
       "            <script type=\"text/javascript\">\n",
       "                require([\"plotly\"], function(Plotly) {\n",
       "                    window.PLOTLYENV=window.PLOTLYENV || {};\n",
       "                    \n",
       "                if (document.getElementById(\"9574d132-c3cb-42cc-b680-e54fd6071f62\")) {\n",
       "                    Plotly.newPlot(\n",
       "                        '9574d132-c3cb-42cc-b680-e54fd6071f62',\n",
       "                        [{\"lat\": [41.6502216756, 41.660136050700004, 41.6636706517, 41.6846149678, 41.6872385828, 41.6888979791, 41.6897299145, 41.6906333472, 41.6948789661, 41.6972691922, 41.6997566852, 41.7008887972, 41.7028338734, 41.7032802648, 41.706125752300004, 41.7065878819, 41.7107155901, 41.713148612, 41.713903063000004, 41.7157609069, 41.7174930361, 41.7179672564, 41.7238212509, 41.7268354017, 41.727560391, 41.728182061, 41.7281820611, 41.7296764229, 41.7383553205, 41.7402057565, 41.7409601584, 41.740997711, 41.7412427285, 41.7419428604, 41.7424875717, 41.7441995348, 41.744205146300004, 41.7457577128, 41.7458424102, 41.7468832529, 41.7478369814, 41.7482105124, 41.748623179, 41.7513371286, 41.7535307093, 41.7536365322, 41.7544341714, 41.7555681774, 41.7559614313, 41.7584079022, 41.7606410373, 41.7608185316, 41.7611057444, 41.7615779081, 41.761612865500005, 41.7617023786, 41.7619610796, 41.7622466529, 41.763246798800004, 41.7646425154, 41.7653303702, 41.7666524081, 41.7681062939, 41.7686672562, 41.7687668368, 41.7692450579, 41.7696482642, 41.7696904664, 41.7697780588, 41.7697847237, 41.7718485152, 41.7736412828, 41.774931265300005, 41.7750932671, 41.775928827399994, 41.7766915396, 41.776943780799996, 41.7769506664, 41.7771962546, 41.7772872248, 41.7788768603, 41.7795828877, 41.7822169695, 41.782376766999995, 41.7828634535, 41.7831007248, 41.7832245177, 41.7834599172, 41.7835960152, 41.785998518, 41.7872788781, 41.7895012715, 41.7897875353, 41.789965748200004, 41.7904478989, 41.7905062613, 41.7905666284, 41.7911260852, 41.7921360843, 41.7923572233, 41.7925923603, 41.7929819032, 41.794090253, 41.7949721677, 41.795430631, 41.7957602563, 41.7964631061, 41.7971534246, 41.7972547246, 41.7977434103, 41.7978270187, 41.7979652088, 41.797971191100004, 41.7980417164, 41.7986054047, 41.7987971043, 41.8002600946, 41.8015328005, 41.801654368600005, 41.8016710371, 41.8038507848, 41.804147373, 41.8048929045, 41.8049360821, 41.8049842842, 41.8059116993, 41.8059249688, 41.8060217045, 41.8067652712, 41.807617617300004, 41.8089162826, 41.8090182499, 41.809084430300004, 41.810879007800004, 41.8129489392, 41.8130413823, 41.813200941, 41.8140038222, 41.8145620008, 41.8162234797, 41.8173662079, 41.817397869000004, 41.8174924901, 41.8199863127, 41.8201666062, 41.8201978877, 41.8205743953, 41.823712809499995, 41.8266634583, 41.8268319106, 41.8268330147, 41.8277887624, 41.8299223039, 41.8301172027, 41.8311571825, 41.8329371807, 41.8335178865, 41.83380026, 41.8340973906, 41.8346735981, 41.8349623252, 41.8350679168, 41.8351179863, 41.8361501547, 41.836510321599995, 41.8382957974, 41.839086905900004, 41.8408329604, 41.841691118600004, 41.8417186095, 41.8418752811, 41.8419280262, 41.8420111804, 41.8420761168, 41.8423039419, 41.8441449609, 41.8446607763, 41.8462576853, 41.847431547199996, 41.8479905727, 41.8481112196, 41.848411595500004, 41.8502663663, 41.8510178239, 41.8533354466, 41.853834685, 41.855238198, 41.8552500875, 41.855501352800005, 41.8558061709, 41.8559898728, 41.8561441046, 41.856309816999996, 41.8563332167, 41.8565067379, 41.8566586145, 41.8571838585, 41.859349715, 41.8601900192, 41.860762262399994, 41.8612808467, 41.8625777773, 41.863118103299996, 41.8634226841, 41.8637871234, 41.8679024175, 41.8681324282, 41.86911914, 41.8692744531, 41.8695838595, 41.8702687225, 41.8704150003, 41.870607372399995, 41.8710158803, 41.8712250372, 41.871351400500004, 41.87161966, 41.871689474499995, 41.874005383000004, 41.8741766252, 41.875966299999995, 41.876592882800004, 41.8766962871, 41.8773599627, 41.8774061234, 41.8785943576, 41.8786674201, 41.8788655841, 41.8789144956, 41.8790669938, 41.8792550844, 41.8809944707, 41.88366198, 41.884144669899996, 41.8847677845, 41.8849871918, 41.8850752975, 41.8852813201, 41.885300022399996, 41.885621155, 41.8860057857, 41.8906088526, 41.890922025900004, 41.8909693802, 41.8910854233, 41.8916970451, 41.8919483818, 41.8919715078, 41.8920421365, 41.8920726347, 41.8921964292, 41.8922767078, 41.8923550478, 41.8924331563, 41.8924931672, 41.892507780900004, 41.8926581076, 41.893216359499995, 41.8950334495, 41.895257642800004, 41.8974257653, 41.897983898, 41.8983058696, 41.8983317935, 41.898549363600004, 41.8986254245, 41.8986992296, 41.899155613400005, 41.8994222543, 41.8994457693, 41.899506547600005, 41.8995897957, 41.899602111, 41.8997373884, 41.900069602600006, 41.9002212967, 41.9002656868, 41.9005603836, 41.9015669095, 41.902788047600005, 41.904712000399996, 41.9049353016, 41.9056934239, 41.905820977, 41.905857768800004, 41.906025969, 41.9061678698, 41.9061861044, 41.9063227109, 41.9066385418, 41.9066507664, 41.9066839592, 41.9067077917, 41.9074128162, 41.907491930300004, 41.9079652463, 41.9083786693, 41.9094956686, 41.9116665881, 41.911788858499996, 41.9118565923, 41.9119723006, 41.9120734929, 41.9120843819, 41.91213208, 41.9123643542, 41.9124318691, 41.9128367835, 41.9128689225, 41.912925370399996, 41.914585709099995, 41.9146023652, 41.9146162864, 41.9147473049, 41.9152908359, 41.915496209000004, 41.9155404081, 41.9157411934, 41.9159097884, 41.9160052737, 41.9164733164, 41.919181736999995, 41.9192250505, 41.9196352314, 41.920126404, 41.9201527839, 41.920265120799996, 41.9204515116, 41.9208017043, 41.9209608656, 41.9210196071, 41.9210845826, 41.9211259143, 41.9217014922, 41.921778187600005, 41.9217783562, 41.9218549112, 41.9218774613, 41.922082541, 41.9226862843, 41.9227117587, 41.9243470769, 41.9255672296, 41.9255880881, 41.9261558167, 41.9261631049, 41.9268111821, 41.9272609555, 41.9274148582, 41.927560895300005, 41.9275798469, 41.927819073, 41.9278531896, 41.9279207294, 41.9283913974, 41.9284315635, 41.9284649843, 41.928619050900004, 41.9287630064, 41.9289459041, 41.9289672664, 41.929046936599995, 41.9290776551, 41.9292629902, 41.9293297134, 41.9297590466, 41.930578569699996, 41.9336759885, 41.9337850524, 41.9344868721, 41.9346504482, 41.9346591566, 41.9347624564, 41.9348600057, 41.935113934899995, 41.9357064711, 41.935983574, 41.9360865352, 41.936159071, 41.9362371791, 41.9363101308, 41.9374017942, 41.9374939696, 41.938232293, 41.9412904432, 41.9413116172, 41.941365660100004, 41.9414224785, 41.9414882338, 41.941555829, 41.9416281, 41.9418076152, 41.9422905548, 41.942488155300005, 41.942577185, 41.942585179699996, 41.9426918444, 41.9426995777, 41.942859303, 41.9428725376, 41.9431550855, 41.9442266014, 41.9448137543, 41.9450101512, 41.9450692053, 41.9451704528, 41.9452823311, 41.946294535700005, 41.946489764, 41.9465114202, 41.9477915865, 41.948641656999996, 41.9489087714, 41.9490605256, 41.949139770900004, 41.9492209135, 41.949473218899996, 41.9497090767, 41.949829346, 41.9498764323, 41.9499744545, 41.9502120955, 41.9504425991, 41.9506052324, 41.9506733576, 41.9526648947, 41.952719111, 41.952822915700004, 41.9534000435, 41.9535821253, 41.9540276487, 41.957264108400004, 41.9573606908, 41.957530922, 41.9576519161, 41.957735565, 41.9578433752, 41.9579038971, 41.958154875700004, 41.958797862800004, 41.9592101847, 41.9595267906, 41.9605182177, 41.960675696799996, 41.962178629, 41.9631157548, 41.9631533106, 41.9631849658, 41.9636331692, 41.9645069548, 41.9645680449, 41.964636199299996, 41.9646477329, 41.964652354, 41.965141708699996, 41.9653625868, 41.9654457842, 41.96581197, 41.966806346300004, 41.9668340674, 41.967011760700004, 41.968069, 41.969205937, 41.9702449819, 41.970288894, 41.97153938, 41.972437081100004, 41.9725625375, 41.972580800100005, 41.9725977673, 41.9726679555, 41.9727095466, 41.9729293173, 41.976811750500005, 41.978068291999996, 41.9782942489, 41.9788295262, 41.9788750584, 41.979070820100006, 41.9797955506, 41.9798553089, 41.9799124453, 41.9801575735, 41.9802643146, 41.980506821700004, 41.980606166, 41.9808436155, 41.982272928899995, 41.9827455952, 41.982775009099996, 41.9833308063, 41.9836363072, 41.9850151008, 41.9854724225, 41.985476499099995, 41.985916382, 41.986558180799996, 41.9867117999, 41.986808626300004, 41.9868950432, 41.9869530579, 41.9872255578, 41.9887026463, 41.9887040216, 41.9895838002, 41.9900642527, 41.9912345323, 41.9934409461, 41.9939301285, 41.994059824000004, 41.9941436461, 41.9942252345, 41.994266094299995, 41.9943810196, 41.9944422482, 41.9956031347, 41.997153942800004, 42.000320305900004, 42.0008748252, 42.0013132491, 42.0013159243, 42.001571027, 42.0016981937, 42.0045174875, 42.004764559, 42.0056080233, 42.0076125931, 42.0084870082, 42.0085407611, 42.009018226900004, 42.0094125471, 42.0156967498, 42.0157199072, 42.0159343756, 42.0160105638, 42.0160464924, 42.0212235931], \"lon\": [-87.59946299479999, -87.60284764, -87.5409355129, -87.6712503529, -87.7193128934, -87.6278050029, -87.6690544032, -87.57005826860001, -87.7131924966, -87.69858205370001, -87.6280852818, -87.60009268600001, -87.6891070244, -87.6153264942, -87.5982558383, -87.6233665115, -87.6152853223, -87.6750753124, -87.67714347200001, -87.57488816680001, -87.64889507209999, -87.6132286335, -87.61184598530001, -87.65789929209998, -87.5590602859, -87.5964755956, -87.5964755956, -87.5727171342, -87.7313088248, -87.6159695226, -87.6097621427, -87.6011081642, -87.551428197, -87.5790888158, -87.6300448953, -87.5863483178, -87.65630598620001, -87.70836570430001, -87.5917077725, -87.57260730520001, -87.6488131191, -87.61007496629999, -87.6013151779, -87.7268701739, -87.5601889949, -87.6954008836, -87.63218455399999, -87.5836072899, -87.551994147, -87.56284738379999, -87.5811855611, -87.70270084120001, -87.68558966180001, -87.5727819867, -87.6492088283, -87.6298717446, -87.6200146997, -87.73205902549999, -87.61613411120001, -87.5635848124, -87.71720734370001, -87.67115481340001, -87.69800080389999, -87.6289833139, -87.6493598032, -87.6201776393, -87.5893233661, -87.58134950870001, -87.7269298425, -87.5739519554, -87.69566634200001, -87.69326510229999, -87.7299764859, -87.71776197, -87.6665962653, -87.6106933, -87.62322002879999, -87.5963032107, -87.64249752709999, -87.693341249, -87.5949254391, -87.768510849, -87.7301873353, -87.71785545690001, -87.6205583422, -87.6084265019, -87.5986973707, -87.5935368954, -87.69839230870001, -87.7509342894, -87.6343417807, -87.7303971516, -87.7084167286, -87.6985727117, -87.5904311285, -87.58314371690001, -87.5940154442, -87.6183216222, -87.61093934870001, -87.6179313803, -87.76961545280001, -87.7242081939, -87.592310855, -87.73052511799999, -87.6964352325, -87.79158835049999, -87.75751986469999, -87.5823657023, -87.698781345, -87.65982286319999, -87.6037457654, -87.5896070309, -87.5989445134, -87.5941966274, -87.73242804270001, -87.7086378647, -87.6175761725, -87.6017598207, -87.6405079844, -87.59426569850001, -87.6212199892, -87.73082848959999, -87.6721661068, -87.66730425709999, -87.7191065101, -87.58747925809999, -87.60405862489999, -87.59434798459999, -87.6089492784, -87.6214361442, -87.5961833442, -87.6591665992, -87.63242452450001, -87.72636332459999, -87.6178596758, -87.59947660200001, -87.6042092221, -87.6116848803, -87.699310391, -87.6516929533, -87.6988607973, -87.6920317308, -87.686845262, -87.69949669719999, -87.62149920600001, -87.6101001049, -87.6149864759, -87.60235043719999, -87.6799067059, -87.6637988716, -87.67292553940001, -87.6141870291, -87.67250264639999, -87.72380413299999, -87.638333371, -87.6535834197, -87.6813558293, -87.6675715595, -87.61928951879999, -87.6108347373, -87.62515412719999, -87.6431623703, -87.6186777673, -87.6487879519, -87.65315870010001, -87.69675633950001, -87.71400380700001, -87.7073712344, -87.61256394709999, -87.6439324936, -87.63202859270001, -87.62836651030001, -87.62203646120001, -87.63397342219999, -87.65551628889999, -87.68299620959999, -87.64907224379999, -87.6975319159, -87.6635286858, -87.7173345017, -87.70758182809999, -87.69143048069999, -87.66756931200001, -87.6350918563, -87.7143824837, -87.6935387966, -87.7224042748, -87.6547394924, -87.68322716799999, -87.6746905879, -87.6649068859, -87.6489783241, -87.64420928700001, -87.65956423909999, -87.65226129610001, -87.71573263299999, -87.6203346241, -87.6173580061, -87.71722009999999, -87.7006919027, -87.6305800611, -87.7201851765, -87.672920435, -87.6537566193, -87.6925159284, -87.6429586652, -87.71421470770001, -87.75606770450001, -87.66404724120001, -87.6592046708, -87.68491392610001, -87.6750856208, -87.6221729369, -87.6314065252, -87.72895809479999, -87.6886749004, -87.7055526328, -87.6540926517, -87.66351754979999, -87.6618611238, -87.6937939017, -87.7598126285, -87.7521052352, -87.7035622954, -87.62197165190001, -87.7302324284, -87.6716536214, -87.6251921424, -87.70589713049999, -87.65700502700001, -87.642648998, -87.63274648870001, -87.7698815509, -87.7478743394, -87.6841474493, -87.6209929134, -87.7138533806, -87.65723319969999, -87.6428084655, -87.6988915914, -87.671873941, -87.75604671110001, -87.6188683546, -87.770122842, -87.7603493864, -87.7021052472, -87.6891259086, -87.6129454143, -87.63186394969999, -87.62887415719999, -87.68428940049999, -87.6793974791, -87.67450678799999, -87.6696239301, -87.6647458359, -87.6262149064, -87.6525344838, -87.6378442095, -87.6197106717, -87.73351805120001, -87.6993744036, -87.6414915334, -87.6536139825, -87.6207628651, -87.7606043246, -87.7520115624, -87.7088084239, -87.6262105324, -87.68449012200001, -87.68931919010001, -87.6796002867, -87.67471913450001, -87.6333080367, -87.6649539167, -87.7209182385, -87.6291051864, -87.6321092196, -87.6941973701, -87.6384040116, -87.62614558959999, -87.7018845586, -87.64990722639999, -87.7706325599, -87.76081298940001, -87.63086502659999, -87.6753116216, -87.7338570193, -87.75147433229999, -87.7215382944, -87.6895798343, -87.66533765959998, -87.7103539349, -87.6846859492, -87.6409015248, -87.6357600901, -87.6945342821, -87.67094507520001, -87.630963601, -87.7339509975, -87.7215097031, -87.7100873222, -87.6836429218, -87.6994797204, -87.6945983, -87.68971127479999, -87.6750627566, -87.6701891476, -87.7608843709, -87.64107074620001, -87.7753675003, -87.6459662069, -87.79681551780001, -87.6317173661, -87.6540070286, -87.73228691979999, -87.7101956338, -87.7200993558, -87.69225632620001, -87.6838259399, -87.67509511549999, -87.6411836567, -87.72124855540001, -87.671445766, -87.72967913389999, -87.76078891120001, -87.780270163, -87.7705377644, -87.67995476780001, -87.6945323419, -87.7152528177, -87.7103591445, -87.704648384, -87.69975440649999, -87.6559118484, -87.6510618838, -87.6414597588, -87.64621097690001, -87.66407823950001, -87.63415609309999, -87.6494887289, -87.7218357934, -87.73473975360001, -87.7123276017, -87.7976006842, -87.7215645012, -87.7610398751, -87.6426052473, -87.7655016086, -87.7804606984, -87.7707373282, -87.7880088189, -87.7513626916, -87.7356259487, -87.7441073767, -87.70490723549999, -87.6999685912, -87.6950866748, -87.685362024, -87.665676837, -87.6608925701, -87.6561568309, -87.6513108767, -87.64629347620001, -87.63589095389999, -87.7119742544, -87.724267094, -87.64220631270001, -87.7123574755, -87.7220523299, -87.79863595270001, -87.6346478774, -87.64672972860001, -87.63985385870001, -87.77123192459999, -87.7516489576, -87.7038545435, -87.6758219283, -87.6661106945, -87.6612652184, -87.6564115308, -87.6515625922, -87.7223302976, -87.7099873375, -87.64678208129999, -87.8307079799, -87.68561581719999, -87.6808269032, -87.67595393190001, -87.671107656, -87.6662888874, -87.6614433685, -87.79652377629999, -87.76171772139999, -87.7471543225, -87.6470785093, -87.6566440918, -87.6517705068, -87.7310024842, -87.71750385799999, -87.701330291, -87.640698076, -87.6559981815, -87.69077500979999, -87.6809282247, -87.67606273950001, -87.6687944391, -87.6615450961, -87.65429808370001, -87.647113634, -87.8060200025, -87.6838349425, -87.8273819062, -87.8127108296, -87.66164290389999, -87.65680390879999, -87.65197039530001, -87.77175822299999, -87.75211841469999, -87.64396537030001, -87.73814189059999, -87.7306842554, -87.71281423149999, -87.68350623049999, -87.67133248799999, -87.6665362813, -87.74524320479999, -87.66050350190001, -87.6532439924, -87.64600706639999, -87.72345239049999, -87.7633990316, -87.73089878489999, -87.72282225129999, -87.66661144049999, -87.6915302475, -87.68371810200001, -87.67637328100001, -87.671518011, -87.6530217894, -87.7383939059, -87.7129731725, -87.7020985409, -87.7622859818, -87.7524091367, -87.6453787624, -87.71322933479999, -87.6922587601, -87.6838545561, -87.6523653588, -87.7027334697, -87.77226499049999, -87.74278787690001, -87.72589101540001, -87.72101676870001, -87.67657807139999, -87.7318327391, -87.66319584950001, -87.6558787862, -87.6940200973, -87.68401837120001, -87.6706210432, -87.72155906270001, -87.72316897420001, -87.7134353285, -87.759857019, -87.7389372047, -87.67110952629999, -87.67884596620002, -87.69400106120001, -87.7237819658, -87.66386549559999, -87.6573411073, -87.6502900743, -87.70194107399999, -87.81978911379998, -87.7164304157, -87.77116670299999, -87.6578712629, -87.90303966110001, -87.6714455473, -87.6940960217, -87.6641882421, -87.6522740174, -87.913624596, -87.82667618229999, -87.6545378676, -87.7360839271, -87.84158643190001, -87.65796634700001, -87.87730539959999, -87.681993542, -87.7235831853, -87.8045320063, -87.6537935286, -87.6583976702, -87.7689702414, -87.7133688039, -87.66341640540001, -87.6944151909, -87.7036682732, -87.6720809941, -87.6649377243, -87.8044048124, -87.6572348282, -87.78301327969999, -87.7239678299, -87.6573042698, -87.6574177422, -87.7583535876, -87.69463071940001, -87.7048934862, -87.68607688120001, -87.6786882109, -87.672538401, -87.6652247765, -87.79426929590001, -87.6574987907, -87.6631267998, -87.70180290399999, -87.684198195, -87.69363749360001, -87.6950125892, -87.6735740325, -87.66332785879999, -87.65912242700001, -87.8130981301, -87.8137810343, -87.6859131333, -87.6949637498, -87.6727239593, -87.66395821440001, -87.69966304190001, -87.6871159899, -87.66653627790001, -87.680162272, -87.6733337784, -87.66982477209999], \"marker\": {\"size\": [12.5, 5.0, 10.37, 7.5, 10.0, 10.0, 13.732222222222223, 9.642857142857142, 22.324, 10.15, 25.33, 19.445, 12.8, 9.166666666666666, 9.49, 11.916666666666666, 10.0, 15.0, 22.5, 7.5600000000000005, 11.05235294117647, 12.5, 20.0, 15.732, 20.0, 10.0, 12.5, 14.041666666666666, 10.0, 9.05, 5.0, 8.75, 12.323157894736841, 22.5, 11.93, 8.928571428571429, 12.873437500000001, 12.995454545454544, 22.5, 10.0, 12.5, 14.166666666666666, 17.5, 15.0, 52.5, 2.5, 9.375, 15.0, 12.5925, 7.5, 20.0, 5.0, 11.19, 14.164230769230768, 7.5, 8.75, 16.666666666666668, 20.0, 9.81111111111111, 24.9, 38.55, 20.0, 10.0, 14.75, 12.5, 5.0, 21.25, 16.75, 10.681818181818182, 15.25, 10.040909090909091, 17.5, 10.0, 10.0, 9.291363636363636, 14.166666666666666, 2.5, 10.0, 11.477272727272727, 5.0, 11.25, 16.80090909090909, 10.0, 10.0, 15.0, 15.0, 8.75, 17.5, 18.75, 34.583853211009185, 10.0, 7.5, 23.75, 7.5, 23.75, 14.857142857142858, 20.928571428571427, 10.0, 7.5, 8.4375, 14.507619047619047, 7.535454545454545, 14.053478260869564, 17.5, 9.071428571428571, 10.0, 12.5, 15.625, 11.16, 12.5, 10.642857142857142, 11.30952380952381, 14.43, 18.75, 11.75, 10.0, 47.5, 7.5, 17.7, 17.5, 11.25, 10.833333333333334, 10.0, 15.0, 7.5, 12.770666666666667, 8.0, 18.75, 10.071428571428571, 10.0, 11.5, 9.608260869565218, 7.083333333333333, 10.227272727272727, 12.055714285714286, 10.0, 5.0, 10.833333333333334, 10.0, 16.25, 9.03, 17.75, 5.0, 5.0, 13.333333333333334, 12.5, 18.5, 12.5, 9.25, 14.166666666666666, 17.5, 12.5, 10.742727272727272, 16.0, 17.5, 14.408333333333335, 15.2, 10.0, 10.0, 11.605263157894736, 17.258333333333333, 10.833333333333334, 12.595238095238095, 9.977272727272727, 14.583333333333334, 5.0, 10.7875, 17.5, 10.8, 9.166666666666666, 15.0, 22.5, 12.510625000000001, 10.666666666666666, 5.0, 13.85, 12.5, 11.25, 14.27125, 27.5, 12.5, 10.0, 13.052727272727271, 13.471794871794874, 10.55, 12.5, 8.5, 10.0, 13.492727272727272, 9.257142857142856, 11.785714285714286, 10.625, 8.571428571428571, 11.552631578947368, 11.0, 13.75, 13.75, 12.71079096045198, 11.339285714285714, 22.5, 12.65, 5.0, 9.5, 11.059999999999999, 19.216666666666665, 9.748, 10.0, 13.214285714285714, 13.1625, 7.0, 7.5, 11.255666666666666, 13.187395833333332, 10.644459459459458, 35.0, 10.0, 11.25, 10.823529411764707, 13.434313725490195, 11.5, 10.0, 17.5, 2.5, 2.5, 13.543972602739727, 10.338666666666665, 13.194444444444445, 15.070833333333333, 11.583461538461538, 13.16247619047619, 11.912500000000001, 12.948347107438025, 15.0, 15.0, 9.727272727272727, 13.039500000000004, 7.5, 11.478909090909092, 11.491796407185626, 6.25, 12.031578947368422, 11.220930232558139, 14.466171428571428, 10.666666666666666, 15.0, 5.0, 9.167142857142858, 13.640810810810809, 12.549618320610692, 12.052056074766355, 8.25, 10.226428571428572, 10.470588235294118, 12.254117647058823, 10.764, 14.110041152263383, 10.13322033898305, 11.098577075098817, 13.396074074074072, 12.5, 6.25, 9.882352941176471, 11.037868852459015, 11.684653465346532, 17.62, 5.0, 7.125, 13.00251748251748, 20.0, 13.636363636363637, 11.55655172413793, 10.2788, 16.90685714285714, 10.54814814814815, 11.947916666666666, 11.775588235294116, 10.980535714285717, 13.63, 10.676111111111112, 14.0209375, 7.2925, 11.0415873015873, 14.833333333333334, 7.5, 10.800363636363636, 12.578831168831169, 18.8, 13.75, 10.0, 11.764761904761905, 13.672, 13.8, 14.892857142857142, 12.332500000000001, 11.068521739130434, 9.583333333333334, 11.465000000000002, 8.9536, 20.0, 10.0, 6.25, 12.14, 14.375, 10.0, 8.75, 13.103684210526318, 10.1, 7.5, 8.76, 30.485, 14.176111111111112, 12.6, 10.371785714285712, 11.620892857142858, 10.0, 9.4, 7.5, 13.9625, 12.675, 12.45607142857143, 21.788, 8.75, 11.26, 14.375, 10.0, 12.5, 10.0, 12.704, 10.594347826086956, 12.5, 14.955, 10.70875, 12.172727272727274, 12.666666666666666, 10.838627450980391, 12.362380952380953, 12.169032258064519, 10.684411764705883, 12.750363636363634, 12.916666666666666, 10.0, 9.46888888888889, 13.666666666666666, 9.625, 35.5, 15.0, 9.6, 11.758620689655173, 15.0, 5.0, 18.9, 7.5, 11.227142857142857, 8.75, 10.039411764705884, 13.2, 12.142857142857142, 10.583333333333334, 11.018888888888888, 10.32, 12.015909090909092, 10.614250000000002, 12.74531914893617, 15.711785714285714, 12.957083333333335, 15.559999999999999, 10.496486486486486, 11.25, 26.599999999999998, 11.25, 11.25, 10.175277777777778, 11.775, 10.0, 10.0, 10.686666666666667, 11.23857142857143, 11.818181818181818, 11.966999999999999, 11.822727272727274, 12.840652173913043, 14.559999999999999, 9.4, 12.445454545454545, 12.5, 11.25, 18.75, 14.064285714285715, 14.133529411764705, 11.107777777777777, 12.966666666666667, 20.475, 13.75, 10.0, 13.079655172413792, 18.367307692307694, 12.89698113207547, 12.666666666666666, 11.557692307692308, 11.222222222222221, 13.051666666666666, 12.938999999999998, 13.5, 15.3, 9.166666666666666, 12.057142857142857, 10.208333333333334, 11.782608695652174, 11.75, 16.01111111111111, 13.410769230769231, 23.45, 17.5, 14.833333333333334, 13.907142857142858, 11.371666666666668, 7.5, 15.625, 10.918536585365855, 12.5, 12.5, 14.605, 17.742727272727276, 13.055555555555555, 14.873333333333333, 11.666666666666666, 28.433333333333334, 16.453181818181818, 11.148333333333333, 13.733499999999998, 12.297916666666666, 22.5, 12.5, 14.954545454545455, 19.166666666666668, 12.2375, 13.1875, 15.05875, 12.396153846153847, 15.928571428571429, 13.75, 20.75, 11.875, 6.666666666666667, 15.538000000000002, 18.666666666666668, 10.0, 10.25, 12.5, 10.428571428571429, 5.0, 14.583333333333334, 8.5, 12.5, 11.6875, 5.0, 15.151875, 13.555555555555555, 11.4, 9.875, 10.0, 10.904761904761905, 18.333333333333332, 11.3625, 16.038, 15.0, 13.166666666666666, 12.87909090909091, 15.36923076923077, 22.5, 12.590714285714284, 16.045, 11.5, 12.5, 17.0625, 21.2875, 12.590909090909092, 10.0, 38.494515151515195, 13.090000000000002, 14.2, 12.5, 8.625, 23.829, 10.0, 7.5, 30.0, 16.9, 12.0, 18.075, 10.135, 15.1875, 13.071428571428571, 26.25, 12.5, 16.666666666666668, 7.5, 13.863636363636363, 13.333333333333334, 10.0, 11.875, 15.13, 7.5, 21.215, 12.5, 11.25, 11.666666666666666, 18.75, 12.8, 16.891666666666666, 7.5, 10.083333333333334, 8.916666666666666, 22.5, 13.333333333333334, 14.5, 27.5, 16.166666666666668, 7.5, 16.1, 17.65, 12.833333333333334, 9.7, 12.8125, 21.5, 11.7, 10.598, 12.666666666666666, 46.25, 8.055555555555555, 12.714285714285714, 10.625, 13.5, 12.1875, 7.5, 7.25, 11.875]}, \"mode\": \"markers\", \"type\": \"scattergeo\"}],\n",
       "                        {\"autosize\": true, \"geo\": {\"center\": {\"lat\": 41.83572263435, \"lon\": -87.72728005445}, \"projection\": {\"scale\": 120}}, \"hovermode\": \"closest\", \"template\": {\"data\": {\"bar\": [{\"error_x\": {\"color\": \"#2a3f5f\"}, \"error_y\": {\"color\": \"#2a3f5f\"}, \"marker\": {\"line\": {\"color\": \"#E5ECF6\", \"width\": 0.5}}, \"type\": \"bar\"}], \"barpolar\": [{\"marker\": {\"line\": {\"color\": \"#E5ECF6\", \"width\": 0.5}}, \"type\": \"barpolar\"}], \"carpet\": [{\"aaxis\": {\"endlinecolor\": \"#2a3f5f\", \"gridcolor\": \"white\", \"linecolor\": \"white\", \"minorgridcolor\": \"white\", \"startlinecolor\": \"#2a3f5f\"}, \"baxis\": {\"endlinecolor\": \"#2a3f5f\", \"gridcolor\": \"white\", \"linecolor\": \"white\", \"minorgridcolor\": \"white\", \"startlinecolor\": \"#2a3f5f\"}, \"type\": \"carpet\"}], \"choropleth\": [{\"colorbar\": {\"outlinewidth\": 0, \"ticks\": \"\"}, \"type\": \"choropleth\"}], \"contour\": [{\"colorbar\": {\"outlinewidth\": 0, \"ticks\": \"\"}, \"colorscale\": [[0.0, \"#0d0887\"], [0.1111111111111111, \"#46039f\"], [0.2222222222222222, \"#7201a8\"], [0.3333333333333333, \"#9c179e\"], [0.4444444444444444, \"#bd3786\"], [0.5555555555555556, \"#d8576b\"], [0.6666666666666666, \"#ed7953\"], [0.7777777777777778, \"#fb9f3a\"], [0.8888888888888888, \"#fdca26\"], [1.0, \"#f0f921\"]], \"type\": \"contour\"}], \"contourcarpet\": [{\"colorbar\": {\"outlinewidth\": 0, \"ticks\": \"\"}, \"type\": \"contourcarpet\"}], \"heatmap\": [{\"colorbar\": {\"outlinewidth\": 0, \"ticks\": \"\"}, \"colorscale\": [[0.0, \"#0d0887\"], [0.1111111111111111, \"#46039f\"], [0.2222222222222222, \"#7201a8\"], [0.3333333333333333, \"#9c179e\"], [0.4444444444444444, \"#bd3786\"], [0.5555555555555556, \"#d8576b\"], [0.6666666666666666, \"#ed7953\"], [0.7777777777777778, \"#fb9f3a\"], [0.8888888888888888, \"#fdca26\"], [1.0, \"#f0f921\"]], \"type\": \"heatmap\"}], \"heatmapgl\": [{\"colorbar\": {\"outlinewidth\": 0, \"ticks\": \"\"}, \"colorscale\": [[0.0, \"#0d0887\"], [0.1111111111111111, \"#46039f\"], [0.2222222222222222, \"#7201a8\"], [0.3333333333333333, \"#9c179e\"], [0.4444444444444444, \"#bd3786\"], [0.5555555555555556, \"#d8576b\"], [0.6666666666666666, \"#ed7953\"], [0.7777777777777778, \"#fb9f3a\"], [0.8888888888888888, \"#fdca26\"], [1.0, \"#f0f921\"]], \"type\": \"heatmapgl\"}], \"histogram\": [{\"marker\": {\"colorbar\": {\"outlinewidth\": 0, \"ticks\": \"\"}}, \"type\": \"histogram\"}], \"histogram2d\": [{\"colorbar\": {\"outlinewidth\": 0, \"ticks\": \"\"}, \"colorscale\": [[0.0, \"#0d0887\"], [0.1111111111111111, \"#46039f\"], [0.2222222222222222, \"#7201a8\"], [0.3333333333333333, \"#9c179e\"], [0.4444444444444444, \"#bd3786\"], [0.5555555555555556, \"#d8576b\"], [0.6666666666666666, \"#ed7953\"], [0.7777777777777778, \"#fb9f3a\"], [0.8888888888888888, \"#fdca26\"], [1.0, \"#f0f921\"]], \"type\": \"histogram2d\"}], \"histogram2dcontour\": [{\"colorbar\": {\"outlinewidth\": 0, \"ticks\": \"\"}, \"colorscale\": [[0.0, \"#0d0887\"], [0.1111111111111111, \"#46039f\"], [0.2222222222222222, \"#7201a8\"], [0.3333333333333333, \"#9c179e\"], [0.4444444444444444, \"#bd3786\"], [0.5555555555555556, \"#d8576b\"], [0.6666666666666666, \"#ed7953\"], [0.7777777777777778, \"#fb9f3a\"], [0.8888888888888888, \"#fdca26\"], [1.0, \"#f0f921\"]], \"type\": \"histogram2dcontour\"}], \"mesh3d\": [{\"colorbar\": {\"outlinewidth\": 0, \"ticks\": \"\"}, \"type\": \"mesh3d\"}], \"parcoords\": [{\"line\": {\"colorbar\": {\"outlinewidth\": 0, \"ticks\": \"\"}}, \"type\": \"parcoords\"}], \"scatter\": [{\"marker\": {\"colorbar\": {\"outlinewidth\": 0, \"ticks\": \"\"}}, \"type\": \"scatter\"}], \"scatter3d\": [{\"line\": {\"colorbar\": {\"outlinewidth\": 0, \"ticks\": \"\"}}, \"marker\": {\"colorbar\": {\"outlinewidth\": 0, \"ticks\": \"\"}}, \"type\": \"scatter3d\"}], \"scattercarpet\": [{\"marker\": {\"colorbar\": {\"outlinewidth\": 0, \"ticks\": \"\"}}, \"type\": \"scattercarpet\"}], \"scattergeo\": [{\"marker\": {\"colorbar\": {\"outlinewidth\": 0, \"ticks\": \"\"}}, \"type\": \"scattergeo\"}], \"scattergl\": [{\"marker\": {\"colorbar\": {\"outlinewidth\": 0, \"ticks\": \"\"}}, \"type\": \"scattergl\"}], \"scattermapbox\": [{\"marker\": {\"colorbar\": {\"outlinewidth\": 0, \"ticks\": \"\"}}, \"type\": \"scattermapbox\"}], \"scatterpolar\": [{\"marker\": {\"colorbar\": {\"outlinewidth\": 0, \"ticks\": \"\"}}, \"type\": \"scatterpolar\"}], \"scatterpolargl\": [{\"marker\": {\"colorbar\": {\"outlinewidth\": 0, \"ticks\": \"\"}}, \"type\": \"scatterpolargl\"}], \"scatterternary\": [{\"marker\": {\"colorbar\": {\"outlinewidth\": 0, \"ticks\": \"\"}}, \"type\": \"scatterternary\"}], \"surface\": [{\"colorbar\": {\"outlinewidth\": 0, \"ticks\": \"\"}, \"colorscale\": [[0.0, \"#0d0887\"], [0.1111111111111111, \"#46039f\"], [0.2222222222222222, \"#7201a8\"], [0.3333333333333333, \"#9c179e\"], [0.4444444444444444, \"#bd3786\"], [0.5555555555555556, \"#d8576b\"], [0.6666666666666666, \"#ed7953\"], [0.7777777777777778, \"#fb9f3a\"], [0.8888888888888888, \"#fdca26\"], [1.0, \"#f0f921\"]], \"type\": \"surface\"}], \"table\": [{\"cells\": {\"fill\": {\"color\": \"#EBF0F8\"}, \"line\": {\"color\": \"white\"}}, \"header\": {\"fill\": {\"color\": \"#C8D4E3\"}, \"line\": {\"color\": \"white\"}}, \"type\": \"table\"}]}, \"layout\": {\"annotationdefaults\": {\"arrowcolor\": \"#2a3f5f\", \"arrowhead\": 0, \"arrowwidth\": 1}, \"colorscale\": {\"diverging\": [[0, \"#8e0152\"], [0.1, \"#c51b7d\"], [0.2, \"#de77ae\"], [0.3, \"#f1b6da\"], [0.4, \"#fde0ef\"], [0.5, \"#f7f7f7\"], [0.6, \"#e6f5d0\"], [0.7, \"#b8e186\"], [0.8, \"#7fbc41\"], [0.9, \"#4d9221\"], [1, \"#276419\"]], \"sequential\": [[0.0, \"#0d0887\"], [0.1111111111111111, \"#46039f\"], [0.2222222222222222, \"#7201a8\"], [0.3333333333333333, \"#9c179e\"], [0.4444444444444444, \"#bd3786\"], [0.5555555555555556, \"#d8576b\"], [0.6666666666666666, \"#ed7953\"], [0.7777777777777778, \"#fb9f3a\"], [0.8888888888888888, \"#fdca26\"], [1.0, \"#f0f921\"]], \"sequentialminus\": [[0.0, \"#0d0887\"], [0.1111111111111111, \"#46039f\"], [0.2222222222222222, \"#7201a8\"], [0.3333333333333333, \"#9c179e\"], [0.4444444444444444, \"#bd3786\"], [0.5555555555555556, \"#d8576b\"], [0.6666666666666666, \"#ed7953\"], [0.7777777777777778, \"#fb9f3a\"], [0.8888888888888888, \"#fdca26\"], [1.0, \"#f0f921\"]]}, \"colorway\": [\"#636efa\", \"#EF553B\", \"#00cc96\", \"#ab63fa\", \"#FFA15A\", \"#19d3f3\", \"#FF6692\", \"#B6E880\", \"#FF97FF\", \"#FECB52\"], \"font\": {\"color\": \"#2a3f5f\"}, \"geo\": {\"bgcolor\": \"white\", \"lakecolor\": \"white\", \"landcolor\": \"#E5ECF6\", \"showlakes\": true, \"showland\": true, \"subunitcolor\": \"white\"}, \"hoverlabel\": {\"align\": \"left\"}, \"hovermode\": \"closest\", \"mapbox\": {\"style\": \"light\"}, \"paper_bgcolor\": \"white\", \"plot_bgcolor\": \"#E5ECF6\", \"polar\": {\"angularaxis\": {\"gridcolor\": \"white\", \"linecolor\": \"white\", \"ticks\": \"\"}, \"bgcolor\": \"#E5ECF6\", \"radialaxis\": {\"gridcolor\": \"white\", \"linecolor\": \"white\", \"ticks\": \"\"}}, \"scene\": {\"xaxis\": {\"backgroundcolor\": \"#E5ECF6\", \"gridcolor\": \"white\", \"gridwidth\": 2, \"linecolor\": \"white\", \"showbackground\": true, \"ticks\": \"\", \"zerolinecolor\": \"white\"}, \"yaxis\": {\"backgroundcolor\": \"#E5ECF6\", \"gridcolor\": \"white\", \"gridwidth\": 2, \"linecolor\": \"white\", \"showbackground\": true, \"ticks\": \"\", \"zerolinecolor\": \"white\"}, \"zaxis\": {\"backgroundcolor\": \"#E5ECF6\", \"gridcolor\": \"white\", \"gridwidth\": 2, \"linecolor\": \"white\", \"showbackground\": true, \"ticks\": \"\", \"zerolinecolor\": \"white\"}}, \"shapedefaults\": {\"line\": {\"color\": \"#2a3f5f\"}}, \"ternary\": {\"aaxis\": {\"gridcolor\": \"white\", \"linecolor\": \"white\", \"ticks\": \"\"}, \"baxis\": {\"gridcolor\": \"white\", \"linecolor\": \"white\", \"ticks\": \"\"}, \"bgcolor\": \"#E5ECF6\", \"caxis\": {\"gridcolor\": \"white\", \"linecolor\": \"white\", \"ticks\": \"\"}}, \"title\": {\"x\": 0.05}, \"xaxis\": {\"automargin\": true, \"gridcolor\": \"white\", \"linecolor\": \"white\", \"ticks\": \"\", \"zerolinecolor\": \"white\", \"zerolinewidth\": 2}, \"yaxis\": {\"automargin\": true, \"gridcolor\": \"white\", \"linecolor\": \"white\", \"ticks\": \"\", \"zerolinecolor\": \"white\", \"zerolinewidth\": 2}}}, \"title\": {\"text\": \"Usage\"}},\n",
       "                        {\"responsive\": true}\n",
       "                    ).then(function(){\n",
       "                            \n",
       "var gd = document.getElementById('9574d132-c3cb-42cc-b680-e54fd6071f62');\n",
       "var x = new MutationObserver(function (mutations, observer) {{\n",
       "        var display = window.getComputedStyle(gd).display;\n",
       "        if (!display || display === 'none') {{\n",
       "            console.log([gd, 'removed!']);\n",
       "            Plotly.purge(gd);\n",
       "            observer.disconnect();\n",
       "        }}\n",
       "}});\n",
       "\n",
       "// Listen for the removal of the full notebook cells\n",
       "var notebookContainer = gd.closest('#notebook-container');\n",
       "if (notebookContainer) {{\n",
       "    x.observe(notebookContainer, {childList: true});\n",
       "}}\n",
       "\n",
       "// Listen for the clearing of the current output cell\n",
       "var outputEl = gd.closest('.output');\n",
       "if (outputEl) {{\n",
       "    x.observe(outputEl, {childList: true});\n",
       "}}\n",
       "\n",
       "                        })\n",
       "                };\n",
       "                });\n",
       "            </script>\n",
       "        </div>"
      ]
     },
     "metadata": {},
     "output_type": "display_data"
    }
   ],
   "source": [
    "fig = go.Figure(\n",
    "    data=go.Scattergeo(\n",
    "        lon = pdf['PU_Long'],\n",
    "        lat = pdf['PU_Lat'],\n",
    "        mode = 'markers',\n",
    "        marker_size = pdf['TripTotal']\n",
    "        ),\n",
    "    layout = go.Layout(\n",
    "    autosize=True,\n",
    "    hovermode='closest',\n",
    "    title = go.layout.Title(\n",
    "        text = 'Usage'\n",
    "    ),\n",
    "    geo = go.layout.Geo(\n",
    "        #scope = 'north america',\n",
    "        projection = go.layout.geo.Projection(\n",
    "            #type = 'azimuthal equal area',\n",
    "            scale=120),\n",
    "        center={'lat': ycenter, 'lon': xcenter},\n",
    "\n",
    "    ))\n",
    ")\n",
    "    \n",
    "fig.show()"
   ]
  },
  {
   "cell_type": "code",
   "execution_count": 7,
   "metadata": {},
   "outputs": [],
   "source": [
    "censtracts=gpd.read_file(os.path.join(datadir,'Boundaries - Census Blocks - 2010','geo_export_112f5653-9c3c-40d8-b280-058717fbd72f.shp')\n",
    "                        )"
   ]
  },
  {
   "cell_type": "code",
   "execution_count": 8,
   "metadata": {},
   "outputs": [
    {
     "data": {
      "text/plain": [
       "<matplotlib.axes._subplots.AxesSubplot at 0x119ef88d0>"
      ]
     },
     "execution_count": 8,
     "metadata": {},
     "output_type": "execute_result"
    },
    {
     "data": {
      "image/png": "[encoded data removed]",
      "text/plain": [
       "<Figure size 432x288 with 1 Axes>"
      ]
     },
     "metadata": {
      "needs_background": "light"
     },
     "output_type": "display_data"
    }
   ],
   "source": [
    "censtracts.plot()"
   ]
  },
  {
   "cell_type": "code",
   "execution_count": 9,
   "metadata": {},
   "outputs": [
    {
     "data": {
      "text/html": [
       "<div>\n",
       "<style scoped>\n",
       "    .dataframe tbody tr th:only-of-type {\n",
       "        vertical-align: middle;\n",
       "    }\n",
       "\n",
       "    .dataframe tbody tr th {\n",
       "        vertical-align: top;\n",
       "    }\n",
       "\n",
       "    .dataframe thead th {\n",
       "        text-align: right;\n",
       "    }\n",
       "</style>\n",
       "<table border=\"1\" class=\"dataframe\">\n",
       "  <thead>\n",
       "    <tr style=\"text-align: right;\">\n",
       "      <th></th>\n",
       "      <th>blockce10</th>\n",
       "      <th>countyfp10</th>\n",
       "      <th>geoid10</th>\n",
       "      <th>name10</th>\n",
       "      <th>statefp10</th>\n",
       "      <th>tract_bloc</th>\n",
       "      <th>tractce10</th>\n",
       "      <th>geometry</th>\n",
       "    </tr>\n",
       "  </thead>\n",
       "  <tbody>\n",
       "    <tr>\n",
       "      <th>0</th>\n",
       "      <td>2010</td>\n",
       "      <td>031</td>\n",
       "      <td>170316903002010</td>\n",
       "      <td>Block 2010</td>\n",
       "      <td>17</td>\n",
       "      <td>6903002010</td>\n",
       "      <td>690300</td>\n",
       "      <td>POLYGON ((-87.62906799941059 41.76908600007152...</td>\n",
       "    </tr>\n",
       "    <tr>\n",
       "      <th>1</th>\n",
       "      <td>3007</td>\n",
       "      <td>031</td>\n",
       "      <td>170316809003007</td>\n",
       "      <td>Block 3007</td>\n",
       "      <td>17</td>\n",
       "      <td>6809003007</td>\n",
       "      <td>680900</td>\n",
       "      <td>POLYGON ((-87.6341179992764 41.77446599958471,...</td>\n",
       "    </tr>\n",
       "    <tr>\n",
       "      <th>2</th>\n",
       "      <td>3013</td>\n",
       "      <td>031</td>\n",
       "      <td>170316809003013</td>\n",
       "      <td>Block 3013</td>\n",
       "      <td>17</td>\n",
       "      <td>6809003013</td>\n",
       "      <td>680900</td>\n",
       "      <td>POLYGON ((-87.63485400018324 41.77263300022619...</td>\n",
       "    </tr>\n",
       "    <tr>\n",
       "      <th>3</th>\n",
       "      <td>4019</td>\n",
       "      <td>031</td>\n",
       "      <td>170312909004019</td>\n",
       "      <td>Block 4019</td>\n",
       "      <td>17</td>\n",
       "      <td>2909004019</td>\n",
       "      <td>290900</td>\n",
       "      <td>POLYGON ((-87.73841099998789 41.85913100037079...</td>\n",
       "    </tr>\n",
       "    <tr>\n",
       "      <th>4</th>\n",
       "      <td>4016</td>\n",
       "      <td>031</td>\n",
       "      <td>170312925004016</td>\n",
       "      <td>Block 4016</td>\n",
       "      <td>17</td>\n",
       "      <td>2925004016</td>\n",
       "      <td>292500</td>\n",
       "      <td>POLYGON ((-87.73217300001724 41.85476400046529...</td>\n",
       "    </tr>\n",
       "  </tbody>\n",
       "</table>\n",
       "</div>"
      ],
      "text/plain": [
       "  blockce10 countyfp10          geoid10      name10 statefp10  tract_bloc  \\\n",
       "0      2010        031  170316903002010  Block 2010        17  6903002010   \n",
       "1      3007        031  170316809003007  Block 3007        17  6809003007   \n",
       "2      3013        031  170316809003013  Block 3013        17  6809003013   \n",
       "3      4019        031  170312909004019  Block 4019        17  2909004019   \n",
       "4      4016        031  170312925004016  Block 4016        17  2925004016   \n",
       "\n",
       "  tractce10                                           geometry  \n",
       "0    690300  POLYGON ((-87.62906799941059 41.76908600007152...  \n",
       "1    680900  POLYGON ((-87.6341179992764 41.77446599958471,...  \n",
       "2    680900  POLYGON ((-87.63485400018324 41.77263300022619...  \n",
       "3    290900  POLYGON ((-87.73841099998789 41.85913100037079...  \n",
       "4    292500  POLYGON ((-87.73217300001724 41.85476400046529...  "
      ]
     },
     "execution_count": 9,
     "metadata": {},
     "output_type": "execute_result"
    }
   ],
   "source": [
    "censtracts.head()\n",
    "#censtracts.dtypes"
   ]
  },
  {
   "cell_type": "code",
   "execution_count": 10,
   "metadata": {},
   "outputs": [
    {
     "ename": "AttributeError",
     "evalue": "'DataFrame' object has no attribute 'PUCensusTract'",
     "output_type": "error",
     "traceback": [
      "\u001b[0;31m---------------------------------------------------------------------------\u001b[0m",
      "\u001b[0;31mAttributeError\u001b[0m                            Traceback (most recent call last)",
      "\u001b[0;32m<ipython-input-10-8ec773ad45d0>\u001b[0m in \u001b[0;36m<module>\u001b[0;34m\u001b[0m\n\u001b[1;32m      1\u001b[0m \u001b[0;31m#testdf.groupby('PUCensusTract')['TripID'].count()\u001b[0m\u001b[0;34m\u001b[0m\u001b[0;34m\u001b[0m\u001b[0;34m\u001b[0m\u001b[0m\n\u001b[0;32m----> 2\u001b[0;31m \u001b[0mtestdf\u001b[0m\u001b[0;34m.\u001b[0m\u001b[0mPUCensusTract\u001b[0m\u001b[0;34m.\u001b[0m\u001b[0mapply\u001b[0m\u001b[0;34m(\u001b[0m\u001b[0;32mlambda\u001b[0m \u001b[0mx\u001b[0m\u001b[0;34m:\u001b[0m \u001b[0;34m'{:0.0f}'\u001b[0m\u001b[0;34m.\u001b[0m\u001b[0mformat\u001b[0m\u001b[0;34m(\u001b[0m\u001b[0mx\u001b[0m\u001b[0;34m)\u001b[0m\u001b[0;34m)\u001b[0m\u001b[0;34m\u001b[0m\u001b[0;34m\u001b[0m\u001b[0m\n\u001b[0m",
      "\u001b[0;32m~/anaconda3/lib/python3.7/site-packages/pandas/core/generic.py\u001b[0m in \u001b[0;36m__getattr__\u001b[0;34m(self, name)\u001b[0m\n\u001b[1;32m   4374\u001b[0m             \u001b[0;32mif\u001b[0m \u001b[0mself\u001b[0m\u001b[0;34m.\u001b[0m\u001b[0m_info_axis\u001b[0m\u001b[0;34m.\u001b[0m\u001b[0m_can_hold_identifiers_and_holds_name\u001b[0m\u001b[0;34m(\u001b[0m\u001b[0mname\u001b[0m\u001b[0;34m)\u001b[0m\u001b[0;34m:\u001b[0m\u001b[0;34m\u001b[0m\u001b[0;34m\u001b[0m\u001b[0m\n\u001b[1;32m   4375\u001b[0m                 \u001b[0;32mreturn\u001b[0m \u001b[0mself\u001b[0m\u001b[0;34m[\u001b[0m\u001b[0mname\u001b[0m\u001b[0;34m]\u001b[0m\u001b[0;34m\u001b[0m\u001b[0;34m\u001b[0m\u001b[0m\n\u001b[0;32m-> 4376\u001b[0;31m             \u001b[0;32mreturn\u001b[0m \u001b[0mobject\u001b[0m\u001b[0;34m.\u001b[0m\u001b[0m__getattribute__\u001b[0m\u001b[0;34m(\u001b[0m\u001b[0mself\u001b[0m\u001b[0;34m,\u001b[0m \u001b[0mname\u001b[0m\u001b[0;34m)\u001b[0m\u001b[0;34m\u001b[0m\u001b[0;34m\u001b[0m\u001b[0m\n\u001b[0m\u001b[1;32m   4377\u001b[0m \u001b[0;34m\u001b[0m\u001b[0m\n\u001b[1;32m   4378\u001b[0m     \u001b[0;32mdef\u001b[0m \u001b[0m__setattr__\u001b[0m\u001b[0;34m(\u001b[0m\u001b[0mself\u001b[0m\u001b[0;34m,\u001b[0m \u001b[0mname\u001b[0m\u001b[0;34m,\u001b[0m \u001b[0mvalue\u001b[0m\u001b[0;34m)\u001b[0m\u001b[0;34m:\u001b[0m\u001b[0;34m\u001b[0m\u001b[0;34m\u001b[0m\u001b[0m\n",
      "\u001b[0;31mAttributeError\u001b[0m: 'DataFrame' object has no attribute 'PUCensusTract'"
     ]
    }
   ],
   "source": [
    "#testdf.groupby('PUCensusTract')['TripID'].count()\n",
    "testdf.PUCensusTract.apply(lambda x: '{:0.0f}'.format(x))"
   ]
  },
  {
   "cell_type": "code",
   "execution_count": 11,
   "metadata": {},
   "outputs": [
    {
     "data": {
      "text/html": [
       "<div>\n",
       "<style scoped>\n",
       "    .dataframe tbody tr th:only-of-type {\n",
       "        vertical-align: middle;\n",
       "    }\n",
       "\n",
       "    .dataframe tbody tr th {\n",
       "        vertical-align: top;\n",
       "    }\n",
       "\n",
       "    .dataframe thead th {\n",
       "        text-align: right;\n",
       "    }\n",
       "</style>\n",
       "<table border=\"1\" class=\"dataframe\">\n",
       "  <thead>\n",
       "    <tr style=\"text-align: right;\">\n",
       "      <th></th>\n",
       "      <th>blockce10</th>\n",
       "      <th>countyfp10</th>\n",
       "      <th>geoid10</th>\n",
       "      <th>name10</th>\n",
       "      <th>statefp10</th>\n",
       "      <th>tract_bloc</th>\n",
       "      <th>tractce10</th>\n",
       "      <th>geometry</th>\n",
       "      <th>blgrp</th>\n",
       "    </tr>\n",
       "  </thead>\n",
       "  <tbody>\n",
       "    <tr>\n",
       "      <th>0</th>\n",
       "      <td>2010</td>\n",
       "      <td>031</td>\n",
       "      <td>170316903002010</td>\n",
       "      <td>Block 2010</td>\n",
       "      <td>17</td>\n",
       "      <td>6903002010</td>\n",
       "      <td>690300</td>\n",
       "      <td>POLYGON ((-87.62906799941059 41.76908600007152...</td>\n",
       "      <td>17031690300</td>\n",
       "    </tr>\n",
       "    <tr>\n",
       "      <th>1</th>\n",
       "      <td>3007</td>\n",
       "      <td>031</td>\n",
       "      <td>170316809003007</td>\n",
       "      <td>Block 3007</td>\n",
       "      <td>17</td>\n",
       "      <td>6809003007</td>\n",
       "      <td>680900</td>\n",
       "      <td>POLYGON ((-87.6341179992764 41.77446599958471,...</td>\n",
       "      <td>17031680900</td>\n",
       "    </tr>\n",
       "    <tr>\n",
       "      <th>2</th>\n",
       "      <td>3013</td>\n",
       "      <td>031</td>\n",
       "      <td>170316809003013</td>\n",
       "      <td>Block 3013</td>\n",
       "      <td>17</td>\n",
       "      <td>6809003013</td>\n",
       "      <td>680900</td>\n",
       "      <td>POLYGON ((-87.63485400018324 41.77263300022619...</td>\n",
       "      <td>17031680900</td>\n",
       "    </tr>\n",
       "    <tr>\n",
       "      <th>3</th>\n",
       "      <td>4019</td>\n",
       "      <td>031</td>\n",
       "      <td>170312909004019</td>\n",
       "      <td>Block 4019</td>\n",
       "      <td>17</td>\n",
       "      <td>2909004019</td>\n",
       "      <td>290900</td>\n",
       "      <td>POLYGON ((-87.73841099998789 41.85913100037079...</td>\n",
       "      <td>17031290900</td>\n",
       "    </tr>\n",
       "    <tr>\n",
       "      <th>4</th>\n",
       "      <td>4016</td>\n",
       "      <td>031</td>\n",
       "      <td>170312925004016</td>\n",
       "      <td>Block 4016</td>\n",
       "      <td>17</td>\n",
       "      <td>2925004016</td>\n",
       "      <td>292500</td>\n",
       "      <td>POLYGON ((-87.73217300001724 41.85476400046529...</td>\n",
       "      <td>17031292500</td>\n",
       "    </tr>\n",
       "  </tbody>\n",
       "</table>\n",
       "</div>"
      ],
      "text/plain": [
       "  blockce10 countyfp10          geoid10      name10 statefp10  tract_bloc  \\\n",
       "0      2010        031  170316903002010  Block 2010        17  6903002010   \n",
       "1      3007        031  170316809003007  Block 3007        17  6809003007   \n",
       "2      3013        031  170316809003013  Block 3013        17  6809003013   \n",
       "3      4019        031  170312909004019  Block 4019        17  2909004019   \n",
       "4      4016        031  170312925004016  Block 4016        17  2925004016   \n",
       "\n",
       "  tractce10                                           geometry        blgrp  \n",
       "0    690300  POLYGON ((-87.62906799941059 41.76908600007152...  17031690300  \n",
       "1    680900  POLYGON ((-87.6341179992764 41.77446599958471,...  17031680900  \n",
       "2    680900  POLYGON ((-87.63485400018324 41.77263300022619...  17031680900  \n",
       "3    290900  POLYGON ((-87.73841099998789 41.85913100037079...  17031290900  \n",
       "4    292500  POLYGON ((-87.73217300001724 41.85476400046529...  17031292500  "
      ]
     },
     "execution_count": 11,
     "metadata": {},
     "output_type": "execute_result"
    }
   ],
   "source": [
    "censtracts['blgrp']=censtracts.geoid10.str[0:11]\n",
    "censtracts.head()"
   ]
  },
  {
   "cell_type": "code",
   "execution_count": 19,
   "metadata": {},
   "outputs": [],
   "source": [
    "blgrp=censtracts.dissolve(by='blgrp')"
   ]
  },
  {
   "cell_type": "code",
   "execution_count": 21,
   "metadata": {},
   "outputs": [],
   "source": [
    "blgrp.to_file(\"Chicago_BlockGroups.shp\")"
   ]
  },
  {
   "cell_type": "code",
   "execution_count": 25,
   "metadata": {},
   "outputs": [],
   "source": [
    "btest=gpd.read_file(\"Chicago_BlockGroups.shp\")"
   ]
  },
  {
   "cell_type": "code",
   "execution_count": 26,
   "metadata": {},
   "outputs": [
    {
     "data": {
      "text/plain": [
       "<matplotlib.axes._subplots.AxesSubplot at 0x1a2346a9e8>"
      ]
     },
     "execution_count": 26,
     "metadata": {},
     "output_type": "execute_result"
    },
    {
     "data": {
      "image/png": "[encoded data removed]",
      "text/plain": [
       "<Figure size 432x288 with 1 Axes>"
      ]
     },
     "metadata": {
      "needs_background": "light"
     },
     "output_type": "display_data"
    }
   ],
   "source": [
    "btest.plot()"
   ]
  },
  {
   "cell_type": "code",
   "execution_count": null,
   "metadata": {},
   "outputs": [],
   "source": []
  }
 ],
 "metadata": {
  "kernelspec": {
   "display_name": "Python 3",
   "language": "python",
   "name": "python3"
  },
  "language_info": {
   "codemirror_mode": {
    "name": "ipython",
    "version": 3
   },
   "file_extension": ".py",
   "mimetype": "text/x-python",
   "name": "python",
   "nbconvert_exporter": "python",
   "pygments_lexer": "ipython3",
   "version": "3.7.1"
  }
 },
 "nbformat": 4,
 "nbformat_minor": 2
}
